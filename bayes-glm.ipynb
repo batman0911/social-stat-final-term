{
 "cells": [
  {
   "cell_type": "code",
   "execution_count": 5,
   "metadata": {},
   "outputs": [
    {
     "name": "stdout",
     "output_type": "stream",
     "text": [
      "Index(['educ_center',\n",
      "       'harass5_Does_not_apply_(i_do_not_have_a_job/superior/co-worker)',\n",
      "       'harass5_No', 'harass5_Yes', 'polviews_Conservative',\n",
      "       'polviews_Extremely_liberal', 'polviews_Extrmly_conservative',\n",
      "       'polviews_Liberal', 'polviews_Moderate',\n",
      "       'polviews_Slghtly_conservative', 'polviews_Slightly_liberal',\n",
      "       'advfront_Agree', 'advfront_Disagree', 'advfront_Dont_know',\n",
      "       'advfront_Strongly_agree', 'advfront_Strongly_disagree', 'snapchat_No',\n",
      "       'snapchat_Yes', 'instagrm_No', 'instagrm_Yes', 'wrkstat_Keeping_house',\n",
      "       'wrkstat_Other', 'wrkstat_Retired', 'wrkstat_School',\n",
      "       'wrkstat_Temp_not_working', 'wrkstat_Unempl,_laid_off',\n",
      "       'wrkstat_Working_fulltime', 'wrkstat_Working_parttime'],\n",
      "      dtype='object')\n",
      "       Formula: email_time_center ~ educ_center + wrkstat_Working_fulltime\n",
      "        Family: gamma\n",
      "          Link: mu = log\n",
      "  Observations: 1236\n",
      "        Priors: \n",
      "    target = mu\n",
      "        Common-level effects\n",
      "            Intercept ~ Normal(mu: 0.0, sigma: 11.5518)\n",
      "            educ_center ~ Normal(mu: 0.0, sigma: 16.4431)\n",
      "            wrkstat_Working_fulltime ~ Normal(mu: 0.0, sigma: 5.0007)\n",
      "        \n",
      "        Auxiliary parameters\n",
      "            alpha ~ HalfCauchy(beta: 1.0)\n"
     ]
    },
    {
     "name": "stderr",
     "output_type": "stream",
     "text": [
      "Auto-assigning NUTS sampler...\n",
      "Initializing NUTS using jitter+adapt_diag...\n",
      "Sequential sampling (2 chains in 1 job)\n",
      "NUTS: [email_time_center_alpha, Intercept, educ_center, wrkstat_Working_fulltime]\n"
     ]
    },
    {
     "data": {
      "text/html": [
       "\n",
       "<style>\n",
       "    /* Turns off some styling */\n",
       "    progress {\n",
       "        /* gets rid of default border in Firefox and Opera. */\n",
       "        border: none;\n",
       "        /* Needs to be in here for Safari polyfill so background images work as expected. */\n",
       "        background-size: auto;\n",
       "    }\n",
       "    progress:not([value]), progress:not([value])::-webkit-progress-bar {\n",
       "        background: repeating-linear-gradient(45deg, #7e7e7e, #7e7e7e 10px, #5c5c5c 10px, #5c5c5c 20px);\n",
       "    }\n",
       "    .progress-bar-interrupted, .progress-bar-interrupted::-webkit-progress-bar {\n",
       "        background: #F44336;\n",
       "    }\n",
       "</style>\n"
      ],
      "text/plain": [
       "<IPython.core.display.HTML object>"
      ]
     },
     "metadata": {},
     "output_type": "display_data"
    },
    {
     "data": {
      "text/html": [
       "\n",
       "    <div>\n",
       "      <progress value='2000' class='' max='2000' style='width:300px; height:20px; vertical-align: middle;'></progress>\n",
       "      100.00% [2000/2000 00:06&lt;00:00 Sampling chain 0, 0 divergences]\n",
       "    </div>\n",
       "    "
      ],
      "text/plain": [
       "<IPython.core.display.HTML object>"
      ]
     },
     "metadata": {},
     "output_type": "display_data"
    },
    {
     "data": {
      "text/html": [
       "\n",
       "<style>\n",
       "    /* Turns off some styling */\n",
       "    progress {\n",
       "        /* gets rid of default border in Firefox and Opera. */\n",
       "        border: none;\n",
       "        /* Needs to be in here for Safari polyfill so background images work as expected. */\n",
       "        background-size: auto;\n",
       "    }\n",
       "    progress:not([value]), progress:not([value])::-webkit-progress-bar {\n",
       "        background: repeating-linear-gradient(45deg, #7e7e7e, #7e7e7e 10px, #5c5c5c 10px, #5c5c5c 20px);\n",
       "    }\n",
       "    .progress-bar-interrupted, .progress-bar-interrupted::-webkit-progress-bar {\n",
       "        background: #F44336;\n",
       "    }\n",
       "</style>\n"
      ],
      "text/plain": [
       "<IPython.core.display.HTML object>"
      ]
     },
     "metadata": {},
     "output_type": "display_data"
    },
    {
     "data": {
      "text/html": [
       "\n",
       "    <div>\n",
       "      <progress value='2000' class='' max='2000' style='width:300px; height:20px; vertical-align: middle;'></progress>\n",
       "      100.00% [2000/2000 00:06&lt;00:00 Sampling chain 1, 0 divergences]\n",
       "    </div>\n",
       "    "
      ],
      "text/plain": [
       "<IPython.core.display.HTML object>"
      ]
     },
     "metadata": {},
     "output_type": "display_data"
    },
    {
     "name": "stderr",
     "output_type": "stream",
     "text": [
      "Sampling 2 chains for 1_000 tune and 1_000 draw iterations (2_000 + 2_000 draws total) took 14 seconds.\n",
      "We recommend running at least 4 chains for robust computation of convergence diagnostics\n"
     ]
    },
    {
     "name": "stdout",
     "output_type": "stream",
     "text": [
      "                           mean     sd  hdi_3%  hdi_97%  mcse_mean  mcse_sd   \n",
      "Intercept                -4.316  0.179  -4.665   -3.989      0.003    0.002  \\\n",
      "educ_center               1.676  0.264   1.141    2.141      0.005    0.003   \n",
      "wrkstat_Working_fulltime  0.794  0.079   0.639    0.930      0.001    0.001   \n",
      "email_time_center_alpha   0.579  0.021   0.539    0.616      0.000    0.000   \n",
      "\n",
      "                          ess_bulk  ess_tail  r_hat  \n",
      "Intercept                   3127.0    1684.0    1.0  \n",
      "educ_center                 3292.0    1661.0    1.0  \n",
      "wrkstat_Working_fulltime    3223.0    1679.0    1.0  \n",
      "email_time_center_alpha     4466.0    1764.0    1.0  \n",
      "<xarray.Dataset>\n",
      "Dimensions:                   (chain: 2, draw: 1000, email_time_center_obs: 413)\n",
      "Coordinates:\n",
      "  * chain                     (chain) int64 0 1\n",
      "  * draw                      (draw) int64 0 1 2 3 4 5 ... 995 996 997 998 999\n",
      "  * email_time_center_obs     (email_time_center_obs) int64 0 1 2 ... 411 412\n",
      "Data variables:\n",
      "    Intercept                 (chain, draw) float64 -4.488 -4.209 ... -4.586\n",
      "    educ_center               (chain, draw) float64 1.914 1.388 ... 0.8597 2.07\n",
      "    wrkstat_Working_fulltime  (chain, draw) float64 0.8203 0.8785 ... 0.7854\n",
      "    email_time_center_alpha   (chain, draw) float64 0.5659 0.5894 ... 0.5654\n",
      "    email_time_center_mean    (chain, draw, email_time_center_obs) float64 0....\n",
      "Attributes:\n",
      "    created_at:                  2023-08-12T08:17:08.130568\n",
      "    arviz_version:               0.15.1\n",
      "    inference_library:           pymc\n",
      "    inference_library_version:   5.6.1\n",
      "    sampling_time:               13.689512252807617\n",
      "    tuning_steps:                1000\n",
      "    modeling_interface:          bambi\n",
      "    modeling_interface_version:  0.12.0\n",
      "(413,)\n",
      "Test MSE: 0.012321137687978467\n",
      "Test RMSE: 0.11100062021438649\n"
     ]
    },
    {
     "data": {
      "text/plain": [
       "'\\nX_train[\"email_time_center\"] = pd.Series(y_train)\\nX_train[\"log_email_time_center\"] = X_train[\"email_time_center\"].apply(lambda x: log(x, 10))\\nX_train_fulltime = X_train[X_train[\"wrkstat_Working_fulltime\"] == 1]\\nX_train_not_fulltime = X_train[X_train[\"wrkstat_Working_fulltime\"] == 0]\\nsns.scatterplot(data=X_train_fulltime, y=\"log_email_time_center\", x=\"educ_center\", hue=\"wrkstat_Working_fulltime\")\\nplt.show()\\nsns.scatterplot(data=X_train_not_fulltime, y=\"log_email_time_center\", x=\"educ_center\", hue=\"wrkstat_Working_fulltime\")\\nplt.show()\\n'"
      ]
     },
     "execution_count": 5,
     "metadata": {},
     "output_type": "execute_result"
    },
    {
     "data": {
      "image/png": "[encoded data removed]",
      "text/plain": [
       "<Figure size 600x600 with 1 Axes>"
      ]
     },
     "metadata": {},
     "output_type": "display_data"
    }
   ],
   "source": [
    "from math import log\n",
    "import re\n",
    "import bambi as bmb\n",
    "from matplotlib import pyplot as plt\n",
    "import pandas as pd\n",
    "import arviz as az\n",
    "import numpy as np\n",
    "from sklearn.experimental import enable_iterative_imputer\n",
    "from sklearn.ensemble import RandomForestClassifier\n",
    "from sklearn.impute import IterativeImputer\n",
    "from sklearn.metrics import mean_squared_error\n",
    "from sklearn.model_selection import train_test_split\n",
    "import seaborn as sns\n",
    "\n",
    "def final_model(X_train, y_train, X_test, y_test, features, seed: int):\n",
    "    X_train[\"email_time_center\"] = pd.Series(y_train)\n",
    "    X_test[\"email_time_center\"] = pd.Series(y_test)\n",
    "    model = bmb.Model(\n",
    "        \"\"\"email_time_center ~ educ_center + wrkstat_Working_fulltime\"\"\",\n",
    "        X_train, dropna=True, family=\"gamma\", link=\"log\")\n",
    "    print(model)\n",
    "\n",
    "    _, ax = plt.subplots(1, 1, sharex=True, sharey=True, figsize=(6, 6))\n",
    "    ax.set_xlim(xmin=0, xmax=1)\n",
    "    ax.set_ylim(ymin=0, ymax=1)\n",
    "    \n",
    "    results = model.fit(draws=1000, chains=2)\n",
    "    print(az.summary(results))\n",
    "\n",
    "    # Diagnostics\n",
    "    model.predict(results, data=X_test, kind=\"pps\")\n",
    "    az.plot_ppc(results, ax=ax)\n",
    "    \n",
    "    # predict\n",
    "    model.predict(results, data=X_test, kind=\"mean\")\n",
    "    print(results.posterior)\n",
    "    y_predict = np.array(results.posterior.email_time_center_mean[0, 0, :])\n",
    "    print(y_predict.shape)\n",
    "    \n",
    "    mse = mean_squared_error(y_test, y_predict)\n",
    "    rmse = mean_squared_error(y_test, y_predict, squared=False)\n",
    "    print(f\"Test MSE: {mse}\")\n",
    "    print(f\"Test RMSE: {rmse}\")\n",
    "\n",
    "feature_choice = [\n",
    "    [\"wrkstat_Working_fulltime\", \"educ_center\", \"polviews_Conservative\"]\n",
    "]\n",
    "X = pd.read_csv(\"data/preprocessing/X.csv\")\n",
    "y = pd.read_csv(\"data/preprocessing/y.csv\")[\"email_time_center\"].apply(lambda x: x+0.001)\n",
    "f = lambda x: re.sub(' ','_', x, flags = re.IGNORECASE)\n",
    "X.rename(columns = f, inplace = True)\n",
    "print(X.columns)\n",
    "X_train, X_test, y_train, y_test = train_test_split(X, y, random_state=42)\n",
    "for index, choice in enumerate(feature_choice):\n",
    "    final_model(X_train, y_train, X_test, y_test, choice, index)\n",
    "\n",
    "\"\"\"\n",
    "X_train[\"email_time_center\"] = pd.Series(y_train)\n",
    "X_train[\"log_email_time_center\"] = X_train[\"email_time_center\"].apply(lambda x: log(x, 10))\n",
    "X_train_fulltime = X_train[X_train[\"wrkstat_Working_fulltime\"] == 1]\n",
    "X_train_not_fulltime = X_train[X_train[\"wrkstat_Working_fulltime\"] == 0]\n",
    "sns.scatterplot(data=X_train_fulltime, y=\"log_email_time_center\", x=\"educ_center\", hue=\"wrkstat_Working_fulltime\")\n",
    "plt.show()\n",
    "sns.scatterplot(data=X_train_not_fulltime, y=\"log_email_time_center\", x=\"educ_center\", hue=\"wrkstat_Working_fulltime\")\n",
    "plt.show()\n",
    "\"\"\""
   ]
  }
 ],
 "metadata": {
  "kernelspec": {
   "display_name": ".venv",
   "language": "python",
   "name": "python3"
  },
  "language_info": {
   "codemirror_mode": {
    "name": "ipython",
    "version": 3
   },
   "file_extension": ".py",
   "mimetype": "text/x-python",
   "name": "python",
   "nbconvert_exporter": "python",
   "pygments_lexer": "ipython3",
   "version": "3.10.12"
  },
  "orig_nbformat": 4
 },
 "nbformat": 4,
 "nbformat_minor": 2
}
