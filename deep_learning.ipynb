{
 "cells": [
  {
   "cell_type": "code",
   "execution_count": 1,
   "metadata": {},
   "outputs": [],
   "source": [
    "import copy\n",
    "import pandas as pd \n",
    "import numpy as np\n",
    "import matplotlib.pyplot as plt\n",
    "import torch \n",
    "import torch.nn as nn \n",
    "import torch.optim as optim\n",
    "import tqdm\n",
    "from sklearn.model_selection import train_test_split\n",
    "from sklearn.metrics import r2_score, mean_squared_error"
   ]
  },
  {
   "cell_type": "code",
   "execution_count": 2,
   "metadata": {},
   "outputs": [
    {
     "data": {
      "text/plain": [
       "False"
      ]
     },
     "execution_count": 2,
     "metadata": {},
     "output_type": "execute_result"
    }
   ],
   "source": [
    "torch.cuda.is_available()"
   ]
  },
  {
   "cell_type": "code",
   "execution_count": 3,
   "metadata": {},
   "outputs": [],
   "source": [
    "X = pd.read_csv('./data/preprocessing/X_fill.csv')\n",
    "y = pd.read_csv('./data/preprocessing/y.csv')"
   ]
  },
  {
   "cell_type": "code",
   "execution_count": 4,
   "metadata": {},
   "outputs": [],
   "source": [
    "X_train, X_test, y_train, y_test = train_test_split(X, y, test_size=0.2, random_state=42, shuffle=True)"
   ]
  },
  {
   "cell_type": "code",
   "execution_count": 5,
   "metadata": {},
   "outputs": [],
   "source": [
    "# top_feature_choice = [\n",
    "#     \"wrkstat_Working fulltime\",\n",
    "#     \"polviews_Conservative\",\n",
    "#     \"educ_center\",\n",
    "#     \"polviews_Slightly liberal\",\n",
    "#     \"polviews_Moderate\",\n",
    "#     \"polviews_unknown\"\n",
    "# ]\n",
    "\n",
    "# X_train = X_train[X_train.columns.intersection(top_feature_choice)]\n",
    "# X_test = X_test[X_test.columns.intersection(top_feature_choice)]"
   ]
  },
  {
   "cell_type": "code",
   "execution_count": 6,
   "metadata": {},
   "outputs": [
    {
     "name": "stdout",
     "output_type": "stream",
     "text": [
      "<class 'pandas.core.frame.DataFrame'>\n",
      "Index: 1319 entries, 584 to 1126\n",
      "Data columns (total 34 columns):\n",
      " #   Column                                                           Non-Null Count  Dtype  \n",
      "---  ------                                                           --------------  -----  \n",
      " 0   educ_center                                                      1319 non-null   float64\n",
      " 1   harass5_Does not apply (i do not have a job/superior/co-worker)  1319 non-null   int64  \n",
      " 2   harass5_No                                                       1319 non-null   int64  \n",
      " 3   harass5_Yes                                                      1319 non-null   int64  \n",
      " 4   harass5_unknown                                                  1319 non-null   int64  \n",
      " 5   polviews_Conservative                                            1319 non-null   int64  \n",
      " 6   polviews_Extremely liberal                                       1319 non-null   int64  \n",
      " 7   polviews_Extrmly conservative                                    1319 non-null   int64  \n",
      " 8   polviews_Liberal                                                 1319 non-null   int64  \n",
      " 9   polviews_Moderate                                                1319 non-null   int64  \n",
      " 10  polviews_Slghtly conservative                                    1319 non-null   int64  \n",
      " 11  polviews_Slightly liberal                                        1319 non-null   int64  \n",
      " 12  polviews_unknown                                                 1319 non-null   int64  \n",
      " 13  advfront_Agree                                                   1319 non-null   int64  \n",
      " 14  advfront_Disagree                                                1319 non-null   int64  \n",
      " 15  advfront_Dont know                                               1319 non-null   int64  \n",
      " 16  advfront_Strongly agree                                          1319 non-null   int64  \n",
      " 17  advfront_Strongly disagree                                       1319 non-null   int64  \n",
      " 18  advfront_unknown                                                 1319 non-null   int64  \n",
      " 19  snapchat_No                                                      1319 non-null   int64  \n",
      " 20  snapchat_Yes                                                     1319 non-null   int64  \n",
      " 21  snapchat_unknown                                                 1319 non-null   int64  \n",
      " 22  instagrm_No                                                      1319 non-null   int64  \n",
      " 23  instagrm_Yes                                                     1319 non-null   int64  \n",
      " 24  instagrm_unknown                                                 1319 non-null   int64  \n",
      " 25  wrkstat_Keeping house                                            1319 non-null   int64  \n",
      " 26  wrkstat_Other                                                    1319 non-null   int64  \n",
      " 27  wrkstat_Retired                                                  1319 non-null   int64  \n",
      " 28  wrkstat_School                                                   1319 non-null   int64  \n",
      " 29  wrkstat_Temp not working                                         1319 non-null   int64  \n",
      " 30  wrkstat_Unempl, laid off                                         1319 non-null   int64  \n",
      " 31  wrkstat_Working fulltime                                         1319 non-null   int64  \n",
      " 32  wrkstat_Working parttime                                         1319 non-null   int64  \n",
      " 33  wrkstat_unknown                                                  1319 non-null   int64  \n",
      "dtypes: float64(1), int64(33)\n",
      "memory usage: 360.7 KB\n",
      "(1319, 34)\n"
     ]
    }
   ],
   "source": [
    "X_train.info()\n",
    "print(X_train.shape)"
   ]
  },
  {
   "cell_type": "code",
   "execution_count": 7,
   "metadata": {},
   "outputs": [],
   "source": [
    "model = nn.Sequential(\n",
    "  nn.Linear(34, 64),\n",
    "  nn.ReLU(),\n",
    "  nn.Sigmoid(),\n",
    "  nn.Linear(64, 1)\n",
    ")\n",
    "\n",
    "loss_fn = nn.MSELoss()\n",
    "optimizer = optim.Adam(model.parameters(), lr=0.0001)"
   ]
  },
  {
   "cell_type": "code",
   "execution_count": 8,
   "metadata": {},
   "outputs": [],
   "source": [
    "X_train = torch.tensor(X_train.to_numpy(), dtype=torch.float32)\n",
    "y_train = torch.tensor(y_train['email_time_center'].to_numpy(), dtype=torch.float32).reshape(-1, 1)\n",
    "X_test = torch.tensor(X_test.to_numpy(), dtype=torch.float32)\n",
    "y_test = torch.tensor(y_test['email_time_center'].to_numpy(), dtype=torch.float32).reshape(-1, 1)"
   ]
  },
  {
   "cell_type": "code",
   "execution_count": 9,
   "metadata": {},
   "outputs": [],
   "source": [
    "# training parameters\n",
    "n_epochs = 100   # number of epochs to run\n",
    "batch_size = 10  # size of each batch\n",
    "batch_start = torch.arange(0, len(X_train), batch_size)"
   ]
  },
  {
   "cell_type": "code",
   "execution_count": 10,
   "metadata": {},
   "outputs": [],
   "source": [
    "\n",
    "# Hold the best model\n",
    "best_mse = np.inf   # init to infinity\n",
    "best_weights = None\n",
    "history = []\n",
    "early_stopping_epoches = 10"
   ]
  },
  {
   "cell_type": "code",
   "execution_count": 11,
   "metadata": {},
   "outputs": [
    {
     "name": "stdout",
     "output_type": "stream",
     "text": [
      "process epoch: 0\n",
      "complete epoch 0 with mse 0.014355035498738289\n",
      "process epoch: 1\n"
     ]
    },
    {
     "name": "stdout",
     "output_type": "stream",
     "text": [
      "complete epoch 1 with mse 0.014243549667298794\n",
      "process epoch: 2\n",
      "complete epoch 2 with mse 0.014143603853881359\n",
      "process epoch: 3\n",
      "complete epoch 3 with mse 0.014055009000003338\n",
      "process epoch: 4\n",
      "complete epoch 4 with mse 0.013977435417473316\n",
      "process epoch: 5\n",
      "complete epoch 5 with mse 0.01391196995973587\n",
      "process epoch: 6\n",
      "complete epoch 6 with mse 0.013856269419193268\n",
      "process epoch: 7\n",
      "complete epoch 7 with mse 0.01380995288491249\n",
      "process epoch: 8\n",
      "complete epoch 8 with mse 0.013769944198429585\n",
      "process epoch: 9\n",
      "complete epoch 9 with mse 0.013736061751842499\n",
      "process epoch: 10\n",
      "complete epoch 10 with mse 0.013706301338970661\n",
      "process epoch: 11\n",
      "complete epoch 11 with mse 0.013678665272891521\n",
      "process epoch: 12\n",
      "complete epoch 12 with mse 0.013655783608555794\n",
      "process epoch: 13\n",
      "complete epoch 13 with mse 0.013634485192596912\n",
      "process epoch: 14\n",
      "complete epoch 14 with mse 0.013615278527140617\n",
      "process epoch: 15\n",
      "complete epoch 15 with mse 0.013597137294709682\n",
      "process epoch: 16\n",
      "complete epoch 16 with mse 0.013581863604485989\n",
      "process epoch: 17\n",
      "complete epoch 17 with mse 0.013570214621722698\n",
      "process epoch: 18\n",
      "complete epoch 18 with mse 0.013558558188378811\n",
      "process epoch: 19\n",
      "complete epoch 19 with mse 0.013547229580581188\n",
      "process epoch: 20\n",
      "complete epoch 20 with mse 0.013538041152060032\n",
      "process epoch: 21\n",
      "complete epoch 21 with mse 0.013528968207538128\n",
      "process epoch: 22\n",
      "complete epoch 22 with mse 0.013519298285245895\n",
      "process epoch: 23\n",
      "complete epoch 23 with mse 0.013513017445802689\n",
      "process epoch: 24\n",
      "complete epoch 24 with mse 0.01350527536123991\n",
      "process epoch: 25\n",
      "complete epoch 25 with mse 0.013499943539500237\n",
      "process epoch: 26\n",
      "complete epoch 26 with mse 0.013492390513420105\n",
      "process epoch: 27\n",
      "complete epoch 27 with mse 0.013487483374774456\n",
      "process epoch: 28\n",
      "complete epoch 28 with mse 0.013480806723237038\n",
      "process epoch: 29\n",
      "complete epoch 29 with mse 0.013475419953465462\n",
      "process epoch: 30\n",
      "complete epoch 30 with mse 0.013469992205500603\n",
      "process epoch: 31\n",
      "complete epoch 31 with mse 0.013465696014463902\n",
      "process epoch: 32\n",
      "complete epoch 32 with mse 0.01346045732498169\n",
      "process epoch: 33\n",
      "complete epoch 33 with mse 0.013457379303872585\n",
      "process epoch: 34\n",
      "complete epoch 34 with mse 0.013451746664941311\n",
      "process epoch: 35\n",
      "complete epoch 35 with mse 0.013448030687868595\n",
      "process epoch: 36\n",
      "complete epoch 36 with mse 0.0134431766346097\n",
      "process epoch: 37\n",
      "complete epoch 37 with mse 0.013441178016364574\n",
      "process epoch: 38\n",
      "complete epoch 38 with mse 0.013435122556984425\n",
      "process epoch: 39\n",
      "complete epoch 39 with mse 0.013432607054710388\n",
      "process epoch: 40\n",
      "complete epoch 40 with mse 0.013429162092506886\n",
      "process epoch: 41\n",
      "complete epoch 41 with mse 0.013426913879811764\n",
      "process epoch: 42\n",
      "complete epoch 42 with mse 0.013422645628452301\n",
      "process epoch: 43\n",
      "complete epoch 43 with mse 0.013421207666397095\n",
      "process epoch: 44\n",
      "complete epoch 44 with mse 0.013417060486972332\n",
      "process epoch: 45\n",
      "complete epoch 45 with mse 0.01341366209089756\n",
      "process epoch: 46\n",
      "complete epoch 46 with mse 0.013411089777946472\n",
      "process epoch: 47\n",
      "complete epoch 47 with mse 0.01340983435511589\n",
      "process epoch: 48\n",
      "complete epoch 48 with mse 0.013407064601778984\n",
      "process epoch: 49\n",
      "complete epoch 49 with mse 0.01340541522949934\n",
      "process epoch: 50\n",
      "complete epoch 50 with mse 0.013402272947132587\n",
      "process epoch: 51\n",
      "complete epoch 51 with mse 0.013401628471910954\n",
      "process epoch: 52\n",
      "complete epoch 52 with mse 0.013399705290794373\n",
      "process epoch: 53\n",
      "complete epoch 53 with mse 0.013400602154433727\n",
      "process epoch: 54\n",
      "complete epoch 54 with mse 0.013399048708379269\n",
      "process epoch: 55\n",
      "complete epoch 55 with mse 0.013397390022873878\n",
      "process epoch: 56\n",
      "complete epoch 56 with mse 0.013396792113780975\n",
      "process epoch: 57\n",
      "complete epoch 57 with mse 0.013395581394433975\n",
      "process epoch: 58\n",
      "complete epoch 58 with mse 0.013393399305641651\n",
      "process epoch: 59\n",
      "complete epoch 59 with mse 0.013394670560956001\n",
      "process epoch: 60\n",
      "complete epoch 60 with mse 0.013393578119575977\n",
      "process epoch: 61\n",
      "complete epoch 61 with mse 0.013390685431659222\n",
      "process epoch: 62\n",
      "complete epoch 62 with mse 0.013390952721238136\n",
      "process epoch: 63\n",
      "complete epoch 63 with mse 0.013388055376708508\n",
      "process epoch: 64\n",
      "complete epoch 64 with mse 0.013387813232839108\n",
      "process epoch: 65\n",
      "complete epoch 65 with mse 0.013386302627623081\n",
      "process epoch: 66\n",
      "complete epoch 66 with mse 0.013385272584855556\n",
      "process epoch: 67\n",
      "complete epoch 67 with mse 0.013386028818786144\n",
      "process epoch: 68\n",
      "complete epoch 68 with mse 0.013386109843850136\n",
      "process epoch: 69\n",
      "complete epoch 69 with mse 0.013385102152824402\n",
      "process epoch: 70\n",
      "complete epoch 70 with mse 0.013384641148149967\n",
      "process epoch: 71\n",
      "complete epoch 71 with mse 0.0133841373026371\n",
      "process epoch: 72\n",
      "complete epoch 72 with mse 0.013384570367634296\n",
      "process epoch: 73\n",
      "complete epoch 73 with mse 0.013385131023824215\n",
      "process epoch: 74\n",
      "complete epoch 74 with mse 0.013383090496063232\n",
      "process epoch: 75\n",
      "complete epoch 75 with mse 0.013381507247686386\n",
      "process epoch: 76\n",
      "complete epoch 76 with mse 0.013381878845393658\n",
      "process epoch: 77\n",
      "complete epoch 77 with mse 0.01338155660778284\n",
      "process epoch: 78\n",
      "complete epoch 78 with mse 0.01337897963821888\n",
      "process epoch: 79\n",
      "complete epoch 79 with mse 0.013379920274019241\n",
      "early stopping\n"
     ]
    }
   ],
   "source": [
    "# training loop\n",
    "early = 0\n",
    "for epoch in range(n_epochs):\n",
    "    print(f'process epoch: {epoch}')\n",
    "    model.train()\n",
    "    with tqdm.tqdm(batch_start, unit=\"batch\", mininterval=0, disable=True) as bar:\n",
    "        bar.set_description(f\"Epoch {epoch}\")\n",
    "        for start in bar:\n",
    "            # take a batch\n",
    "            X_batch = X_train[start:start+batch_size]\n",
    "            y_batch = y_train[start:start+batch_size]\n",
    "            # forward pass\n",
    "            y_pred = model(X_batch)\n",
    "            loss = loss_fn(y_pred, y_batch)\n",
    "            # backward pass\n",
    "            optimizer.zero_grad()\n",
    "            loss.backward()\n",
    "            # update weights\n",
    "            optimizer.step()\n",
    "            # print progress\n",
    "            bar.set_postfix(mse=float(loss))\n",
    "    # evaluate accuracy at end of each epoch\n",
    "    model.eval()\n",
    "    y_pred = model(X_test)\n",
    "    mse = loss_fn(y_pred, y_test)\n",
    "    mse = float(mse)\n",
    "    history.append(mse)\n",
    "    \n",
    "    print(f'complete epoch {epoch} with mse {mse}')\n",
    "    if mse > best_mse:\n",
    "        early += 1\n",
    "        if early > early_stopping_epoches:\n",
    "            print(f'early stopping')\n",
    "            break\n",
    "    \n",
    "    if mse < best_mse:\n",
    "        best_mse = mse\n",
    "        best_weights = copy.deepcopy(model.state_dict())"
   ]
  },
  {
   "cell_type": "code",
   "execution_count": 12,
   "metadata": {},
   "outputs": [
    {
     "name": "stdout",
     "output_type": "stream",
     "text": [
      "MSE: 0.013379\n",
      "RMSE: 0.115668\n"
     ]
    },
    {
     "data": {
      "image/png": "[encoded data removed]",
      "text/plain": [
       "<Figure size 640x480 with 1 Axes>"
      ]
     },
     "metadata": {},
     "output_type": "display_data"
    }
   ],
   "source": [
    "# restore model and return best accuracy\n",
    "model.load_state_dict(best_weights)\n",
    "print(\"MSE: %.6f\" % best_mse)\n",
    "print(\"RMSE: %.6f\" % np.sqrt(best_mse))\n",
    "plt.plot(history)\n",
    "plt.show()"
   ]
  },
  {
   "cell_type": "code",
   "execution_count": 13,
   "metadata": {},
   "outputs": [],
   "source": [
    "y_pred = model(X_test)"
   ]
  },
  {
   "cell_type": "code",
   "execution_count": 14,
   "metadata": {},
   "outputs": [
    {
     "data": {
      "text/plain": [
       "torch.Tensor"
      ]
     },
     "execution_count": 14,
     "metadata": {},
     "output_type": "execute_result"
    }
   ],
   "source": [
    "type(y_pred)"
   ]
  },
  {
   "cell_type": "code",
   "execution_count": 15,
   "metadata": {},
   "outputs": [],
   "source": [
    "y_pred_df = pd.DataFrame(y_pred.detach().numpy())\n",
    "y_test_df = pd.DataFrame(y_test.detach().numpy())"
   ]
  },
  {
   "cell_type": "code",
   "execution_count": 16,
   "metadata": {},
   "outputs": [
    {
     "name": "stdout",
     "output_type": "stream",
     "text": [
      "MSE: 0.013378978706896305\n",
      "RMSE: 0.11566753685474396\n",
      "R2: 0.06943622035726826\n"
     ]
    }
   ],
   "source": [
    "mse = mean_squared_error(y_test_df, y_pred_df)\n",
    "r2 = r2_score(y_test_df, y_pred_df)\n",
    "\n",
    "print(f'MSE: {mse}')\n",
    "print(f'RMSE: {np.sqrt(mse)}')\n",
    "print(f'R2: {r2}')"
   ]
  },
  {
   "cell_type": "code",
   "execution_count": 17,
   "metadata": {},
   "outputs": [
    {
     "name": "stdout",
     "output_type": "stream",
     "text": [
      "tensor(-11.1955)\n"
     ]
    }
   ],
   "source": [
    "from torcheval.metrics import R2Score\n",
    "\n",
    "metric = R2Score()\n",
    "\n",
    "metric.update(y_test, y_pred)\n",
    "r2 = metric.compute()\n",
    "print(r2)"
   ]
  },
  {
   "cell_type": "code",
   "execution_count": 18,
   "metadata": {},
   "outputs": [
    {
     "data": {
      "text/plain": [
       "array([[<Axes: title={'center': '0'}>]], dtype=object)"
      ]
     },
     "execution_count": 18,
     "metadata": {},
     "output_type": "execute_result"
    },
    {
     "data": {
      "image/png": "[encoded data removed]",
      "text/plain": [
       "<Figure size 640x480 with 1 Axes>"
      ]
     },
     "metadata": {},
     "output_type": "display_data"
    },
    {
     "data": {
      "image/png": "[encoded data removed]",
      "text/plain": [
       "<Figure size 640x480 with 1 Axes>"
      ]
     },
     "metadata": {},
     "output_type": "display_data"
    }
   ],
   "source": [
    "y_pred_df.hist()\n",
    "y_test_df.hist()"
   ]
  },
  {
   "cell_type": "code",
   "execution_count": null,
   "metadata": {},
   "outputs": [],
   "source": []
  }
 ],
 "metadata": {
  "kernelspec": {
   "display_name": "venv",
   "language": "python",
   "name": "python3"
  },
  "language_info": {
   "codemirror_mode": {
    "name": "ipython",
    "version": 3
   },
   "file_extension": ".py",
   "mimetype": "text/x-python",
   "name": "python",
   "nbconvert_exporter": "python",
   "pygments_lexer": "ipython3",
   "version": "3.10.10"
  },
  "orig_nbformat": 4
 },
 "nbformat": 4,
 "nbformat_minor": 2
}
