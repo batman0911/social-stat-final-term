{
 "cells": [
  {
   "cell_type": "code",
   "execution_count": 1,
   "metadata": {},
   "outputs": [],
   "source": [
    "import copy\n",
    "import pandas as pd \n",
    "import numpy as np\n",
    "import matplotlib.pyplot as plt\n",
    "import torch \n",
    "import torch.nn as nn \n",
    "import torch.optim as optim\n",
    "import tqdm\n",
    "from sklearn.model_selection import train_test_split\n",
    "from sklearn.metrics import r2_score, mean_squared_error"
   ]
  },
  {
   "cell_type": "code",
   "execution_count": 2,
   "metadata": {},
   "outputs": [
    {
     "data": {
      "text/plain": [
       "True"
      ]
     },
     "execution_count": 2,
     "metadata": {},
     "output_type": "execute_result"
    }
   ],
   "source": [
    "torch.cuda.is_available()"
   ]
  },
  {
   "cell_type": "code",
   "execution_count": 3,
   "metadata": {},
   "outputs": [],
   "source": [
    "X = pd.read_csv('./data/preprocessing/X_fill.csv')\n",
    "y = pd.read_csv('./data/preprocessing/y.csv')"
   ]
  },
  {
   "cell_type": "code",
   "execution_count": 4,
   "metadata": {},
   "outputs": [],
   "source": [
    "X_train, X_test, y_train, y_test = train_test_split(X, y, test_size=0.2, random_state=42, shuffle=True)"
   ]
  },
  {
   "cell_type": "code",
   "execution_count": 5,
   "metadata": {},
   "outputs": [],
   "source": [
    "# top_feature_choice = [\n",
    "#     \"wrkstat_Working fulltime\",\n",
    "#     \"polviews_Conservative\",\n",
    "#     \"educ_center\",\n",
    "#     \"polviews_Slightly liberal\",\n",
    "#     \"polviews_Moderate\",\n",
    "#     \"polviews_unknown\"\n",
    "# ]\n",
    "\n",
    "# X_train = X_train[X_train.columns.intersection(top_feature_choice)]\n",
    "# X_test = X_test[X_test.columns.intersection(top_feature_choice)]"
   ]
  },
  {
   "cell_type": "code",
   "execution_count": 6,
   "metadata": {},
   "outputs": [
    {
     "name": "stdout",
     "output_type": "stream",
     "text": [
      "<class 'pandas.core.frame.DataFrame'>\n",
      "Index: 1319 entries, 584 to 1126\n",
      "Data columns (total 34 columns):\n",
      " #   Column                                                           Non-Null Count  Dtype  \n",
      "---  ------                                                           --------------  -----  \n",
      " 0   educ_center                                                      1319 non-null   float64\n",
      " 1   harass5_Does not apply (i do not have a job/superior/co-worker)  1319 non-null   int64  \n",
      " 2   harass5_No                                                       1319 non-null   int64  \n",
      " 3   harass5_Yes                                                      1319 non-null   int64  \n",
      " 4   harass5_unknown                                                  1319 non-null   int64  \n",
      " 5   polviews_Conservative                                            1319 non-null   int64  \n",
      " 6   polviews_Extremely liberal                                       1319 non-null   int64  \n",
      " 7   polviews_Extrmly conservative                                    1319 non-null   int64  \n",
      " 8   polviews_Liberal                                                 1319 non-null   int64  \n",
      " 9   polviews_Moderate                                                1319 non-null   int64  \n",
      " 10  polviews_Slghtly conservative                                    1319 non-null   int64  \n",
      " 11  polviews_Slightly liberal                                        1319 non-null   int64  \n",
      " 12  polviews_unknown                                                 1319 non-null   int64  \n",
      " 13  advfront_Agree                                                   1319 non-null   int64  \n",
      " 14  advfront_Disagree                                                1319 non-null   int64  \n",
      " 15  advfront_Dont know                                               1319 non-null   int64  \n",
      " 16  advfront_Strongly agree                                          1319 non-null   int64  \n",
      " 17  advfront_Strongly disagree                                       1319 non-null   int64  \n",
      " 18  advfront_unknown                                                 1319 non-null   int64  \n",
      " 19  snapchat_No                                                      1319 non-null   int64  \n",
      " 20  snapchat_Yes                                                     1319 non-null   int64  \n",
      " 21  snapchat_unknown                                                 1319 non-null   int64  \n",
      " 22  instagrm_No                                                      1319 non-null   int64  \n",
      " 23  instagrm_Yes                                                     1319 non-null   int64  \n",
      " 24  instagrm_unknown                                                 1319 non-null   int64  \n",
      " 25  wrkstat_Keeping house                                            1319 non-null   int64  \n",
      " 26  wrkstat_Other                                                    1319 non-null   int64  \n",
      " 27  wrkstat_Retired                                                  1319 non-null   int64  \n",
      " 28  wrkstat_School                                                   1319 non-null   int64  \n",
      " 29  wrkstat_Temp not working                                         1319 non-null   int64  \n",
      " 30  wrkstat_Unempl, laid off                                         1319 non-null   int64  \n",
      " 31  wrkstat_Working fulltime                                         1319 non-null   int64  \n",
      " 32  wrkstat_Working parttime                                         1319 non-null   int64  \n",
      " 33  wrkstat_unknown                                                  1319 non-null   int64  \n",
      "dtypes: float64(1), int64(33)\n",
      "memory usage: 360.7 KB\n",
      "(1319, 34)\n"
     ]
    }
   ],
   "source": [
    "X_train.info()\n",
    "print(X_train.shape)"
   ]
  },
  {
   "cell_type": "code",
   "execution_count": 7,
   "metadata": {},
   "outputs": [],
   "source": [
    "model = nn.Sequential(\n",
    "  nn.Linear(34, 64),\n",
    "  nn.ReLU(),\n",
    "  nn.Sigmoid(),\n",
    "  nn.Linear(64, 1)\n",
    ")\n",
    "\n",
    "loss_fn = nn.MSELoss()\n",
    "optimizer = optim.Adam(model.parameters(), lr=0.0001)"
   ]
  },
  {
   "cell_type": "code",
   "execution_count": 8,
   "metadata": {},
   "outputs": [],
   "source": [
    "X_train = torch.tensor(X_train.to_numpy(), dtype=torch.float32)\n",
    "y_train = torch.tensor(y_train['email_time_center'].to_numpy(), dtype=torch.float32).reshape(-1, 1)\n",
    "X_test = torch.tensor(X_test.to_numpy(), dtype=torch.float32)\n",
    "y_test = torch.tensor(y_test['email_time_center'].to_numpy(), dtype=torch.float32).reshape(-1, 1)"
   ]
  },
  {
   "cell_type": "code",
   "execution_count": 9,
   "metadata": {},
   "outputs": [],
   "source": [
    "# training parameters\n",
    "n_epochs = 100   # number of epochs to run\n",
    "batch_size = 10  # size of each batch\n",
    "batch_start = torch.arange(0, len(X_train), batch_size)"
   ]
  },
  {
   "cell_type": "code",
   "execution_count": 10,
   "metadata": {},
   "outputs": [],
   "source": [
    "# Hold the best model\n",
    "best_mse = np.inf   # init to infinity\n",
    "best_weights = None\n",
    "history = []\n",
    "early_stopping_epoches = 10"
   ]
  },
  {
   "cell_type": "code",
   "execution_count": 11,
   "metadata": {},
   "outputs": [
    {
     "name": "stdout",
     "output_type": "stream",
     "text": [
      "process epoch: 0\n",
      "complete epoch 0 with mse 0.01528396736830473\n",
      "process epoch: 1\n",
      "complete epoch 1 with mse 0.014922108501195908\n",
      "process epoch: 2\n",
      "complete epoch 2 with mse 0.014646108262240887\n",
      "process epoch: 3\n",
      "complete epoch 3 with mse 0.014431268908083439\n",
      "process epoch: 4\n",
      "complete epoch 4 with mse 0.014254815876483917\n",
      "process epoch: 5\n",
      "complete epoch 5 with mse 0.014111277647316456\n",
      "process epoch: 6\n",
      "complete epoch 6 with mse 0.013996687717735767\n",
      "process epoch: 7\n",
      "complete epoch 7 with mse 0.013902129605412483\n",
      "process epoch: 8\n",
      "complete epoch 8 with mse 0.013823003508150578\n",
      "process epoch: 9\n",
      "complete epoch 9 with mse 0.013754968531429768\n",
      "process epoch: 10\n",
      "complete epoch 10 with mse 0.013698307797312737\n",
      "process epoch: 11\n",
      "complete epoch 11 with mse 0.013651006855070591\n",
      "process epoch: 12\n",
      "complete epoch 12 with mse 0.013611452654004097\n",
      "process epoch: 13\n",
      "complete epoch 13 with mse 0.013579952530562878\n",
      "process epoch: 14\n",
      "complete epoch 14 with mse 0.013553428463637829\n",
      "process epoch: 15\n",
      "complete epoch 15 with mse 0.013530861586332321\n",
      "process epoch: 16\n",
      "complete epoch 16 with mse 0.013510151766240597\n",
      "process epoch: 17\n",
      "complete epoch 17 with mse 0.013494321145117283\n",
      "process epoch: 18\n",
      "complete epoch 18 with mse 0.013480440713465214\n",
      "process epoch: 19\n",
      "complete epoch 19 with mse 0.013467985205352306\n",
      "process epoch: 20\n",
      "complete epoch 20 with mse 0.013456800952553749\n",
      "process epoch: 21\n",
      "complete epoch 21 with mse 0.013447077944874763\n",
      "process epoch: 22\n",
      "complete epoch 22 with mse 0.013438031077384949\n",
      "process epoch: 23\n",
      "complete epoch 23 with mse 0.013429907150566578\n",
      "process epoch: 24\n",
      "complete epoch 24 with mse 0.013423261232674122\n",
      "process epoch: 25\n",
      "complete epoch 25 with mse 0.013418502174317837\n",
      "process epoch: 26\n",
      "complete epoch 26 with mse 0.013414131477475166\n",
      "process epoch: 27\n",
      "complete epoch 27 with mse 0.013410702347755432\n",
      "process epoch: 28\n",
      "complete epoch 28 with mse 0.01340759638696909\n",
      "process epoch: 29\n",
      "complete epoch 29 with mse 0.013404139317572117\n",
      "process epoch: 30\n",
      "complete epoch 30 with mse 0.013401990756392479\n",
      "process epoch: 31\n",
      "complete epoch 31 with mse 0.013400719501078129\n",
      "process epoch: 32\n",
      "complete epoch 32 with mse 0.013399943709373474\n",
      "process epoch: 33\n",
      "complete epoch 33 with mse 0.013400206342339516\n",
      "process epoch: 34\n",
      "complete epoch 34 with mse 0.013398254290223122\n",
      "process epoch: 35\n",
      "complete epoch 35 with mse 0.013398225419223309\n",
      "process epoch: 36\n",
      "complete epoch 36 with mse 0.013398203998804092\n",
      "process epoch: 37\n",
      "complete epoch 37 with mse 0.01339634507894516\n",
      "process epoch: 38\n",
      "complete epoch 38 with mse 0.013394332490861416\n",
      "process epoch: 39\n",
      "complete epoch 39 with mse 0.013393624685704708\n",
      "process epoch: 40\n",
      "complete epoch 40 with mse 0.013391196727752686\n",
      "process epoch: 41\n",
      "complete epoch 41 with mse 0.013389629311859608\n",
      "process epoch: 42\n",
      "complete epoch 42 with mse 0.0133891636505723\n",
      "process epoch: 43\n",
      "complete epoch 43 with mse 0.01338833849877119\n",
      "process epoch: 44\n",
      "complete epoch 44 with mse 0.013386907987296581\n",
      "process epoch: 45\n",
      "complete epoch 45 with mse 0.013386187143623829\n",
      "process epoch: 46\n",
      "complete epoch 46 with mse 0.013385594822466373\n",
      "process epoch: 47\n",
      "complete epoch 47 with mse 0.013384032994508743\n",
      "process epoch: 48\n",
      "complete epoch 48 with mse 0.013382372446358204\n",
      "process epoch: 49\n",
      "complete epoch 49 with mse 0.013381890021264553\n",
      "process epoch: 50\n",
      "complete epoch 50 with mse 0.013381443917751312\n",
      "process epoch: 51\n",
      "complete epoch 51 with mse 0.01338014006614685\n",
      "process epoch: 52\n",
      "complete epoch 52 with mse 0.013379723764955997\n",
      "process epoch: 53\n",
      "complete epoch 53 with mse 0.01337959710508585\n",
      "process epoch: 54\n",
      "complete epoch 54 with mse 0.013378617353737354\n",
      "process epoch: 55\n",
      "complete epoch 55 with mse 0.013378025032579899\n",
      "process epoch: 56\n",
      "complete epoch 56 with mse 0.01337659452110529\n",
      "process epoch: 57\n",
      "complete epoch 57 with mse 0.013377516530454159\n",
      "process epoch: 58\n",
      "complete epoch 58 with mse 0.013376649469137192\n",
      "process epoch: 59\n",
      "complete epoch 59 with mse 0.013375653885304928\n",
      "process epoch: 60\n",
      "complete epoch 60 with mse 0.013376010581851006\n",
      "process epoch: 61\n",
      "complete epoch 61 with mse 0.013374765403568745\n",
      "process epoch: 62\n",
      "complete epoch 62 with mse 0.01337529718875885\n",
      "process epoch: 63\n",
      "complete epoch 63 with mse 0.0133754787966609\n",
      "process epoch: 64\n",
      "complete epoch 64 with mse 0.013375737704336643\n",
      "process epoch: 65\n",
      "complete epoch 65 with mse 0.013375409878790379\n",
      "process epoch: 66\n",
      "complete epoch 66 with mse 0.013375939801335335\n",
      "process epoch: 67\n",
      "complete epoch 67 with mse 0.013375572860240936\n",
      "process epoch: 68\n",
      "complete epoch 68 with mse 0.0133749358355999\n",
      "early stopping\n"
     ]
    }
   ],
   "source": [
    "# training loop\n",
    "early = 0\n",
    "for epoch in range(n_epochs):\n",
    "    print(f'process epoch: {epoch}')\n",
    "    model.train()\n",
    "    with tqdm.tqdm(batch_start, unit=\"batch\", mininterval=0, disable=True) as bar:\n",
    "        bar.set_description(f\"Epoch {epoch}\")\n",
    "        for start in bar:\n",
    "            # take a batch\n",
    "            X_batch = X_train[start:start+batch_size]\n",
    "            y_batch = y_train[start:start+batch_size]\n",
    "            # forward pass\n",
    "            y_pred = model(X_batch)\n",
    "            loss = loss_fn(y_pred, y_batch)\n",
    "            # backward pass\n",
    "            optimizer.zero_grad()\n",
    "            loss.backward()\n",
    "            # update weights\n",
    "            optimizer.step()\n",
    "            # print progress\n",
    "            bar.set_postfix(mse=float(loss))\n",
    "    # evaluate accuracy at end of each epoch\n",
    "    model.eval()\n",
    "    y_pred = model(X_test)\n",
    "    mse = loss_fn(y_pred, y_test)\n",
    "    mse = float(mse)\n",
    "    history.append(mse)\n",
    "    \n",
    "    print(f'complete epoch {epoch} with mse {mse}')\n",
    "    if mse > best_mse:\n",
    "        early += 1\n",
    "        if early > early_stopping_epoches:\n",
    "            print(f'early stopping')\n",
    "            break\n",
    "    \n",
    "    if mse < best_mse:\n",
    "        best_mse = mse\n",
    "        best_weights = copy.deepcopy(model.state_dict())"
   ]
  },
  {
   "cell_type": "code",
   "execution_count": 18,
   "metadata": {},
   "outputs": [
    {
     "name": "stdout",
     "output_type": "stream",
     "text": [
      "MSE: 0.013375\n",
      "RMSE: 0.115649\n"
     ]
    },
    {
     "data": {
      "image/png": "[encoded data removed]",
      "text/plain": [
       "<Figure size 640x480 with 1 Axes>"
      ]
     },
     "metadata": {},
     "output_type": "display_data"
    }
   ],
   "source": [
    "# restore model and return best accuracy\n",
    "model.load_state_dict(best_weights)\n",
    "print(\"MSE: %.6f\" % best_mse)\n",
    "print(\"RMSE: %.6f\" % np.sqrt(best_mse))\n",
    "plt.xlabel('epoch')\n",
    "plt.ylabel('loss')\n",
    "plt.title('loss by epoch')\n",
    "plt.plot(history)\n",
    "plt.show()"
   ]
  },
  {
   "cell_type": "code",
   "execution_count": 13,
   "metadata": {},
   "outputs": [],
   "source": [
    "y_pred = model(X_test)"
   ]
  },
  {
   "cell_type": "code",
   "execution_count": 14,
   "metadata": {},
   "outputs": [
    {
     "data": {
      "text/plain": [
       "torch.Tensor"
      ]
     },
     "execution_count": 14,
     "metadata": {},
     "output_type": "execute_result"
    }
   ],
   "source": [
    "type(y_pred)"
   ]
  },
  {
   "cell_type": "code",
   "execution_count": 15,
   "metadata": {},
   "outputs": [],
   "source": [
    "y_pred_df = pd.DataFrame(y_pred.detach().numpy())\n",
    "y_test_df = pd.DataFrame(y_test.detach().numpy())"
   ]
  },
  {
   "cell_type": "code",
   "execution_count": 16,
   "metadata": {},
   "outputs": [
    {
     "name": "stdout",
     "output_type": "stream",
     "text": [
      "MSE: 0.013374765403568745\n",
      "RMSE: 0.11564932018518448\n",
      "R2: 0.06972935920132162\n"
     ]
    }
   ],
   "source": [
    "mse = mean_squared_error(y_test_df, y_pred_df)\n",
    "r2 = r2_score(y_test_df, y_pred_df)\n",
    "\n",
    "print(f'MSE: {mse}')\n",
    "print(f'RMSE: {np.sqrt(mse)}')\n",
    "print(f'R2: {r2}')"
   ]
  },
  {
   "cell_type": "code",
   "execution_count": null,
   "metadata": {},
   "outputs": [],
   "source": []
  }
 ],
 "metadata": {
  "kernelspec": {
   "display_name": "venv",
   "language": "python",
   "name": "python3"
  },
  "language_info": {
   "codemirror_mode": {
    "name": "ipython",
    "version": 3
   },
   "file_extension": ".py",
   "mimetype": "text/x-python",
   "name": "python",
   "nbconvert_exporter": "python",
   "pygments_lexer": "ipython3",
   "version": "3.10.8"
  },
  "orig_nbformat": 4
 },
 "nbformat": 4,
 "nbformat_minor": 2
}
