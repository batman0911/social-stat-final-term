{
 "cells": [
  {
   "cell_type": "code",
   "execution_count": 126,
   "metadata": {},
   "outputs": [],
   "source": [
    "import copy\n",
    "import pandas as pd \n",
    "import numpy as np\n",
    "import matplotlib.pyplot as plt\n",
    "import torch \n",
    "import torch.nn as nn \n",
    "import torch.optim as optim\n",
    "import tqdm\n",
    "from sklearn.model_selection import train_test_split\n",
    "from sklearn.metrics import r2_score, mean_squared_error"
   ]
  },
  {
   "cell_type": "code",
   "execution_count": 108,
   "metadata": {},
   "outputs": [
    {
     "data": {
      "text/plain": [
       "True"
      ]
     },
     "execution_count": 108,
     "metadata": {},
     "output_type": "execute_result"
    }
   ],
   "source": [
    "torch.cuda.is_available()"
   ]
  },
  {
   "cell_type": "code",
   "execution_count": 109,
   "metadata": {},
   "outputs": [],
   "source": [
    "X = pd.read_csv('./data/preprocessing/X_fill.csv')\n",
    "y = pd.read_csv('./data/preprocessing/y.csv')"
   ]
  },
  {
   "cell_type": "code",
   "execution_count": 110,
   "metadata": {},
   "outputs": [],
   "source": [
    "X_train, X_test, y_train, y_test = train_test_split(X, y, test_size=0.2, random_state=42, shuffle=True)"
   ]
  },
  {
   "cell_type": "code",
   "execution_count": 111,
   "metadata": {},
   "outputs": [],
   "source": [
    "# top_feature_choice = [\n",
    "#     \"wrkstat_Working fulltime\",\n",
    "#     \"polviews_Conservative\",\n",
    "#     \"educ_center\",\n",
    "#     \"polviews_Slightly liberal\",\n",
    "#     \"polviews_Moderate\",\n",
    "#     \"polviews_unknown\"\n",
    "# ]\n",
    "\n",
    "# X_train = X_train[X_train.columns.intersection(top_feature_choice)]\n",
    "# X_test = X_test[X_test.columns.intersection(top_feature_choice)]"
   ]
  },
  {
   "cell_type": "code",
   "execution_count": 112,
   "metadata": {},
   "outputs": [
    {
     "name": "stdout",
     "output_type": "stream",
     "text": [
      "<class 'pandas.core.frame.DataFrame'>\n",
      "Index: 1319 entries, 584 to 1126\n",
      "Data columns (total 34 columns):\n",
      " #   Column                                                           Non-Null Count  Dtype  \n",
      "---  ------                                                           --------------  -----  \n",
      " 0   educ_center                                                      1319 non-null   float64\n",
      " 1   harass5_Does not apply (i do not have a job/superior/co-worker)  1319 non-null   int64  \n",
      " 2   harass5_No                                                       1319 non-null   int64  \n",
      " 3   harass5_Yes                                                      1319 non-null   int64  \n",
      " 4   harass5_unknown                                                  1319 non-null   int64  \n",
      " 5   polviews_Conservative                                            1319 non-null   int64  \n",
      " 6   polviews_Extremely liberal                                       1319 non-null   int64  \n",
      " 7   polviews_Extrmly conservative                                    1319 non-null   int64  \n",
      " 8   polviews_Liberal                                                 1319 non-null   int64  \n",
      " 9   polviews_Moderate                                                1319 non-null   int64  \n",
      " 10  polviews_Slghtly conservative                                    1319 non-null   int64  \n",
      " 11  polviews_Slightly liberal                                        1319 non-null   int64  \n",
      " 12  polviews_unknown                                                 1319 non-null   int64  \n",
      " 13  advfront_Agree                                                   1319 non-null   int64  \n",
      " 14  advfront_Disagree                                                1319 non-null   int64  \n",
      " 15  advfront_Dont know                                               1319 non-null   int64  \n",
      " 16  advfront_Strongly agree                                          1319 non-null   int64  \n",
      " 17  advfront_Strongly disagree                                       1319 non-null   int64  \n",
      " 18  advfront_unknown                                                 1319 non-null   int64  \n",
      " 19  snapchat_No                                                      1319 non-null   int64  \n",
      " 20  snapchat_Yes                                                     1319 non-null   int64  \n",
      " 21  snapchat_unknown                                                 1319 non-null   int64  \n",
      " 22  instagrm_No                                                      1319 non-null   int64  \n",
      " 23  instagrm_Yes                                                     1319 non-null   int64  \n",
      " 24  instagrm_unknown                                                 1319 non-null   int64  \n",
      " 25  wrkstat_Keeping house                                            1319 non-null   int64  \n",
      " 26  wrkstat_Other                                                    1319 non-null   int64  \n",
      " 27  wrkstat_Retired                                                  1319 non-null   int64  \n",
      " 28  wrkstat_School                                                   1319 non-null   int64  \n",
      " 29  wrkstat_Temp not working                                         1319 non-null   int64  \n",
      " 30  wrkstat_Unempl, laid off                                         1319 non-null   int64  \n",
      " 31  wrkstat_Working fulltime                                         1319 non-null   int64  \n",
      " 32  wrkstat_Working parttime                                         1319 non-null   int64  \n",
      " 33  wrkstat_unknown                                                  1319 non-null   int64  \n",
      "dtypes: float64(1), int64(33)\n",
      "memory usage: 360.7 KB\n",
      "(1319, 34)\n"
     ]
    }
   ],
   "source": [
    "X_train.info()\n",
    "print(X_train.shape)"
   ]
  },
  {
   "cell_type": "code",
   "execution_count": 113,
   "metadata": {},
   "outputs": [],
   "source": [
    "model = nn.Sequential(\n",
    "  nn.Linear(34, 64),\n",
    "  nn.ReLU(),\n",
    "  nn.Sigmoid(),\n",
    "  nn.Linear(64, 1)\n",
    ")\n",
    "\n",
    "loss_fn = nn.MSELoss()\n",
    "optimizer = optim.Adam(model.parameters(), lr=0.0001)"
   ]
  },
  {
   "cell_type": "code",
   "execution_count": 114,
   "metadata": {},
   "outputs": [],
   "source": [
    "X_train = torch.tensor(X_train.to_numpy(), dtype=torch.float32)\n",
    "y_train = torch.tensor(y_train['email_time_center'].to_numpy(), dtype=torch.float32).reshape(-1, 1)\n",
    "X_test = torch.tensor(X_test.to_numpy(), dtype=torch.float32)\n",
    "y_test = torch.tensor(y_test['email_time_center'].to_numpy(), dtype=torch.float32).reshape(-1, 1)"
   ]
  },
  {
   "cell_type": "code",
   "execution_count": 115,
   "metadata": {},
   "outputs": [],
   "source": [
    "# training parameters\n",
    "n_epochs = 100   # number of epochs to run\n",
    "batch_size = 10  # size of each batch\n",
    "batch_start = torch.arange(0, len(X_train), batch_size)"
   ]
  },
  {
   "cell_type": "code",
   "execution_count": 116,
   "metadata": {},
   "outputs": [],
   "source": [
    "\n",
    "# Hold the best model\n",
    "best_mse = np.inf   # init to infinity\n",
    "best_weights = None\n",
    "history = []\n",
    "early_stopping_epoches = 10"
   ]
  },
  {
   "cell_type": "code",
   "execution_count": 117,
   "metadata": {},
   "outputs": [
    {
     "name": "stdout",
     "output_type": "stream",
     "text": [
      "process epoch: 0\n",
      "complete epoch 0 with mse 0.015451289713382721\n",
      "process epoch: 1\n",
      "complete epoch 1 with mse 0.014820841141045094\n",
      "process epoch: 2\n",
      "complete epoch 2 with mse 0.014668095856904984\n",
      "process epoch: 3\n",
      "complete epoch 3 with mse 0.014519051648676395\n",
      "process epoch: 4\n",
      "complete epoch 4 with mse 0.014378488063812256\n",
      "process epoch: 5\n",
      "complete epoch 5 with mse 0.014251756481826305\n",
      "process epoch: 6\n",
      "complete epoch 6 with mse 0.014137255027890205\n",
      "process epoch: 7\n",
      "complete epoch 7 with mse 0.014035606756806374\n",
      "process epoch: 8\n",
      "complete epoch 8 with mse 0.013945037499070168\n",
      "process epoch: 9\n",
      "complete epoch 9 with mse 0.013862859457731247\n",
      "process epoch: 10\n",
      "complete epoch 10 with mse 0.013791299425065517\n",
      "process epoch: 11\n",
      "complete epoch 11 with mse 0.013727876357734203\n",
      "process epoch: 12\n",
      "complete epoch 12 with mse 0.013672818429768085\n",
      "process epoch: 13\n",
      "complete epoch 13 with mse 0.01362707931548357\n",
      "process epoch: 14\n",
      "complete epoch 14 with mse 0.013587548397481441\n",
      "process epoch: 15\n",
      "complete epoch 15 with mse 0.013551856391131878\n",
      "process epoch: 16\n",
      "complete epoch 16 with mse 0.013521595858037472\n",
      "process epoch: 17\n",
      "complete epoch 17 with mse 0.013494988903403282\n",
      "process epoch: 18\n",
      "complete epoch 18 with mse 0.013472436927258968\n",
      "process epoch: 19\n",
      "complete epoch 19 with mse 0.013452096842229366\n",
      "process epoch: 20\n",
      "complete epoch 20 with mse 0.013434803113341331\n",
      "process epoch: 21\n",
      "complete epoch 21 with mse 0.01341892872005701\n",
      "process epoch: 22\n",
      "complete epoch 22 with mse 0.013408293947577477\n",
      "process epoch: 23\n",
      "complete epoch 23 with mse 0.013397164642810822\n",
      "process epoch: 24\n",
      "complete epoch 24 with mse 0.013386759907007217\n",
      "process epoch: 25\n",
      "complete epoch 25 with mse 0.013378782197833061\n",
      "process epoch: 26\n",
      "complete epoch 26 with mse 0.013371160253882408\n",
      "process epoch: 27\n",
      "complete epoch 27 with mse 0.013363675214350224\n",
      "process epoch: 28\n",
      "complete epoch 28 with mse 0.013356954790651798\n",
      "process epoch: 29\n",
      "complete epoch 29 with mse 0.013350636698305607\n",
      "process epoch: 30\n",
      "complete epoch 30 with mse 0.013343965634703636\n",
      "process epoch: 31\n",
      "complete epoch 31 with mse 0.01333925686776638\n",
      "process epoch: 32\n",
      "complete epoch 32 with mse 0.013333618640899658\n",
      "process epoch: 33\n",
      "complete epoch 33 with mse 0.01332955900579691\n",
      "process epoch: 34\n",
      "complete epoch 34 with mse 0.013326230458915234\n",
      "process epoch: 35\n",
      "complete epoch 35 with mse 0.013322154060006142\n",
      "process epoch: 36\n",
      "complete epoch 36 with mse 0.013319311663508415\n",
      "process epoch: 37\n",
      "complete epoch 37 with mse 0.013316288590431213\n",
      "process epoch: 38\n",
      "complete epoch 38 with mse 0.01331400591880083\n",
      "process epoch: 39\n",
      "complete epoch 39 with mse 0.013311229646205902\n",
      "process epoch: 40\n",
      "complete epoch 40 with mse 0.013308391906321049\n",
      "process epoch: 41\n",
      "complete epoch 41 with mse 0.013305834494531155\n",
      "process epoch: 42\n",
      "complete epoch 42 with mse 0.013303278014063835\n",
      "process epoch: 43\n",
      "complete epoch 43 with mse 0.013301709666848183\n",
      "process epoch: 44\n",
      "complete epoch 44 with mse 0.013299304991960526\n",
      "process epoch: 45\n",
      "complete epoch 45 with mse 0.01329810731112957\n",
      "process epoch: 46\n",
      "complete epoch 46 with mse 0.013296921737492085\n",
      "process epoch: 47\n",
      "complete epoch 47 with mse 0.01329528633505106\n",
      "process epoch: 48\n",
      "complete epoch 48 with mse 0.013293000869452953\n",
      "process epoch: 49\n",
      "complete epoch 49 with mse 0.013291188515722752\n",
      "process epoch: 50\n",
      "complete epoch 50 with mse 0.013288440182805061\n",
      "process epoch: 51\n",
      "complete epoch 51 with mse 0.013287345878779888\n",
      "process epoch: 52\n",
      "complete epoch 52 with mse 0.013285940513014793\n",
      "process epoch: 53\n",
      "complete epoch 53 with mse 0.013283354230225086\n",
      "process epoch: 54\n",
      "complete epoch 54 with mse 0.013282455503940582\n",
      "process epoch: 55\n",
      "complete epoch 55 with mse 0.013281699270009995\n",
      "process epoch: 56\n",
      "complete epoch 56 with mse 0.01327869575470686\n",
      "process epoch: 57\n",
      "complete epoch 57 with mse 0.013278508558869362\n",
      "process epoch: 58\n",
      "complete epoch 58 with mse 0.01327711995691061\n",
      "process epoch: 59\n",
      "complete epoch 59 with mse 0.013276980258524418\n",
      "process epoch: 60\n",
      "complete epoch 60 with mse 0.01327702309936285\n",
      "process epoch: 61\n",
      "complete epoch 61 with mse 0.013276742771267891\n",
      "process epoch: 62\n",
      "complete epoch 62 with mse 0.01327548734843731\n",
      "process epoch: 63\n",
      "complete epoch 63 with mse 0.013274800032377243\n",
      "process epoch: 64\n",
      "complete epoch 64 with mse 0.01327520702034235\n",
      "process epoch: 65\n",
      "complete epoch 65 with mse 0.013274951837956905\n",
      "process epoch: 66\n",
      "complete epoch 66 with mse 0.013274986296892166\n",
      "process epoch: 67\n",
      "complete epoch 67 with mse 0.01327499933540821\n",
      "process epoch: 68\n",
      "complete epoch 68 with mse 0.013276094570755959\n",
      "process epoch: 69\n",
      "complete epoch 69 with mse 0.013276319950819016\n",
      "process epoch: 70\n",
      "complete epoch 70 with mse 0.013275984674692154\n",
      "process epoch: 71\n",
      "complete epoch 71 with mse 0.013276561163365841\n",
      "process epoch: 72\n",
      "complete epoch 72 with mse 0.01327690202742815\n",
      "process epoch: 73\n",
      "complete epoch 73 with mse 0.013277069665491581\n",
      "early stopping\n"
     ]
    }
   ],
   "source": [
    "# training loop\n",
    "early = 0\n",
    "for epoch in range(n_epochs):\n",
    "    print(f'process epoch: {epoch}')\n",
    "    model.train()\n",
    "    with tqdm.tqdm(batch_start, unit=\"batch\", mininterval=0, disable=True) as bar:\n",
    "        bar.set_description(f\"Epoch {epoch}\")\n",
    "        for start in bar:\n",
    "            # take a batch\n",
    "            X_batch = X_train[start:start+batch_size]\n",
    "            y_batch = y_train[start:start+batch_size]\n",
    "            # forward pass\n",
    "            y_pred = model(X_batch)\n",
    "            loss = loss_fn(y_pred, y_batch)\n",
    "            # backward pass\n",
    "            optimizer.zero_grad()\n",
    "            loss.backward()\n",
    "            # update weights\n",
    "            optimizer.step()\n",
    "            # print progress\n",
    "            bar.set_postfix(mse=float(loss))\n",
    "    # evaluate accuracy at end of each epoch\n",
    "    model.eval()\n",
    "    y_pred = model(X_test)\n",
    "    mse = loss_fn(y_pred, y_test)\n",
    "    mse = float(mse)\n",
    "    history.append(mse)\n",
    "    \n",
    "    print(f'complete epoch {epoch} with mse {mse}')\n",
    "    if mse > best_mse:\n",
    "        early += 1\n",
    "        if early > early_stopping_epoches:\n",
    "            print(f'early stopping')\n",
    "            break\n",
    "    \n",
    "    if mse < best_mse:\n",
    "        best_mse = mse\n",
    "        best_weights = copy.deepcopy(model.state_dict())"
   ]
  },
  {
   "cell_type": "code",
   "execution_count": 118,
   "metadata": {},
   "outputs": [
    {
     "name": "stdout",
     "output_type": "stream",
     "text": [
      "MSE: 0.013275\n",
      "RMSE: 0.115216\n"
     ]
    },
    {
     "data": {
      "image/png": "[encoded data removed]",
      "text/plain": [
       "<Figure size 640x480 with 1 Axes>"
      ]
     },
     "metadata": {},
     "output_type": "display_data"
    }
   ],
   "source": [
    "# restore model and return best accuracy\n",
    "model.load_state_dict(best_weights)\n",
    "print(\"MSE: %.6f\" % best_mse)\n",
    "print(\"RMSE: %.6f\" % np.sqrt(best_mse))\n",
    "plt.plot(history)\n",
    "plt.show()"
   ]
  },
  {
   "cell_type": "code",
   "execution_count": 119,
   "metadata": {},
   "outputs": [],
   "source": [
    "y_pred = model(X_test)"
   ]
  },
  {
   "cell_type": "code",
   "execution_count": 121,
   "metadata": {},
   "outputs": [
    {
     "data": {
      "text/plain": [
       "torch.Tensor"
      ]
     },
     "execution_count": 121,
     "metadata": {},
     "output_type": "execute_result"
    }
   ],
   "source": [
    "type(y_pred)"
   ]
  },
  {
   "cell_type": "code",
   "execution_count": 124,
   "metadata": {},
   "outputs": [],
   "source": [
    "y_pred_df = pd.DataFrame(y_pred.detach().numpy())\n",
    "y_test_df = pd.DataFrame(y_test.detach().numpy())"
   ]
  },
  {
   "cell_type": "code",
   "execution_count": 132,
   "metadata": {},
   "outputs": [
    {
     "name": "stdout",
     "output_type": "stream",
     "text": [
      "MSE: 0.013274800032377243\n",
      "RMSE: 0.11521631479263306\n",
      "R2: 0.07668234880936087\n"
     ]
    }
   ],
   "source": [
    "mse = mean_squared_error(y_test_df, y_pred_df)\n",
    "r2 = r2_score(y_test_df, y_pred_df)\n",
    "\n",
    "print(f'MSE: {mse}')\n",
    "print(f'RMSE: {np.sqrt(mse)}')\n",
    "print(f'R2: {r2}')"
   ]
  },
  {
   "cell_type": "code",
   "execution_count": 120,
   "metadata": {},
   "outputs": [
    {
     "name": "stdout",
     "output_type": "stream",
     "text": [
      "tensor(-11.7776)\n"
     ]
    }
   ],
   "source": [
    "from torcheval.metrics import R2Score\n",
    "\n",
    "metric = R2Score()\n",
    "\n",
    "metric.update(y_test, y_pred)\n",
    "r2 = metric.compute()\n",
    "print(r2)"
   ]
  },
  {
   "cell_type": "code",
   "execution_count": 133,
   "metadata": {},
   "outputs": [
    {
     "data": {
      "text/plain": [
       "array([[<Axes: title={'center': '0'}>]], dtype=object)"
      ]
     },
     "execution_count": 133,
     "metadata": {},
     "output_type": "execute_result"
    },
    {
     "data": {
      "image/png": "[encoded data removed]",
      "text/plain": [
       "<Figure size 640x480 with 1 Axes>"
      ]
     },
     "metadata": {},
     "output_type": "display_data"
    },
    {
     "data": {
      "image/png": "[encoded data removed]",
      "text/plain": [
       "<Figure size 640x480 with 1 Axes>"
      ]
     },
     "metadata": {},
     "output_type": "display_data"
    }
   ],
   "source": [
    "y_pred_df.hist()\n",
    "y_test_df.hist()"
   ]
  },
  {
   "cell_type": "code",
   "execution_count": null,
   "metadata": {},
   "outputs": [],
   "source": []
  }
 ],
 "metadata": {
  "kernelspec": {
   "display_name": "venv",
   "language": "python",
   "name": "python3"
  },
  "language_info": {
   "codemirror_mode": {
    "name": "ipython",
    "version": 3
   },
   "file_extension": ".py",
   "mimetype": "text/x-python",
   "name": "python",
   "nbconvert_exporter": "python",
   "pygments_lexer": "ipython3",
   "version": "3.10.8"
  },
  "orig_nbformat": 4
 },
 "nbformat": 4,
 "nbformat_minor": 2
}
