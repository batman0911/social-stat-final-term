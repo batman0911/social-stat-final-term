{
 "cells": [
  {
   "cell_type": "code",
   "execution_count": 172,
   "metadata": {},
   "outputs": [],
   "source": [
    "import sklearn as sk\n",
    "from sklearn import linear_model\n",
    "import pandas as pd\n",
    "import numpy as np\n",
    "from sklearn.metrics import mean_squared_error\n",
    "import statsmodels.api as sm\n",
    "import statsmodels as stm"
   ]
  },
  {
   "cell_type": "code",
   "execution_count": 173,
   "metadata": {},
   "outputs": [],
   "source": [
    "X = pd.read_csv('data/preprocessing/X_fill.csv')\n",
    "y = pd.read_csv('data/preprocessing/y.csv')"
   ]
  },
  {
   "cell_type": "code",
   "execution_count": 174,
   "metadata": {},
   "outputs": [
    {
     "name": "stdout",
     "output_type": "stream",
     "text": [
      "<class 'pandas.core.frame.DataFrame'>\n",
      "RangeIndex: 1649 entries, 0 to 1648\n",
      "Data columns (total 34 columns):\n",
      " #   Column                                                           Non-Null Count  Dtype  \n",
      "---  ------                                                           --------------  -----  \n",
      " 0   educ_center                                                      1649 non-null   float64\n",
      " 1   harass5_Does not apply (i do not have a job/superior/co-worker)  1649 non-null   int64  \n",
      " 2   harass5_No                                                       1649 non-null   int64  \n",
      " 3   harass5_Yes                                                      1649 non-null   int64  \n",
      " 4   harass5_unknown                                                  1649 non-null   int64  \n",
      " 5   polviews_Conservative                                            1649 non-null   int64  \n",
      " 6   polviews_Extremely liberal                                       1649 non-null   int64  \n",
      " 7   polviews_Extrmly conservative                                    1649 non-null   int64  \n",
      " 8   polviews_Liberal                                                 1649 non-null   int64  \n",
      " 9   polviews_Moderate                                                1649 non-null   int64  \n",
      " 10  polviews_Slghtly conservative                                    1649 non-null   int64  \n",
      " 11  polviews_Slightly liberal                                        1649 non-null   int64  \n",
      " 12  polviews_unknown                                                 1649 non-null   int64  \n",
      " 13  advfront_Agree                                                   1649 non-null   int64  \n",
      " 14  advfront_Disagree                                                1649 non-null   int64  \n",
      " 15  advfront_Dont know                                               1649 non-null   int64  \n",
      " 16  advfront_Strongly agree                                          1649 non-null   int64  \n",
      " 17  advfront_Strongly disagree                                       1649 non-null   int64  \n",
      " 18  advfront_unknown                                                 1649 non-null   int64  \n",
      " 19  snapchat_No                                                      1649 non-null   int64  \n",
      " 20  snapchat_Yes                                                     1649 non-null   int64  \n",
      " 21  snapchat_unknown                                                 1649 non-null   int64  \n",
      " 22  instagrm_No                                                      1649 non-null   int64  \n",
      " 23  instagrm_Yes                                                     1649 non-null   int64  \n",
      " 24  instagrm_unknown                                                 1649 non-null   int64  \n",
      " 25  wrkstat_Keeping house                                            1649 non-null   int64  \n",
      " 26  wrkstat_Other                                                    1649 non-null   int64  \n",
      " 27  wrkstat_Retired                                                  1649 non-null   int64  \n",
      " 28  wrkstat_School                                                   1649 non-null   int64  \n",
      " 29  wrkstat_Temp not working                                         1649 non-null   int64  \n",
      " 30  wrkstat_Unempl, laid off                                         1649 non-null   int64  \n",
      " 31  wrkstat_Working fulltime                                         1649 non-null   int64  \n",
      " 32  wrkstat_Working parttime                                         1649 non-null   int64  \n",
      " 33  wrkstat_unknown                                                  1649 non-null   int64  \n",
      "dtypes: float64(1), int64(33)\n",
      "memory usage: 438.1 KB\n"
     ]
    }
   ],
   "source": [
    "X.info()"
   ]
  },
  {
   "cell_type": "code",
   "execution_count": 175,
   "metadata": {},
   "outputs": [],
   "source": [
    "size = y.shape[0]\n",
    "mu = 0\n",
    "sigma = 1e-2\n",
    "noise = np.random.normal(mu,sigma,size)"
   ]
  },
  {
   "cell_type": "code",
   "execution_count": 176,
   "metadata": {},
   "outputs": [],
   "source": [
    "y['noise'] = y['email_time_center'] + sigma"
   ]
  },
  {
   "cell_type": "code",
   "execution_count": 177,
   "metadata": {},
   "outputs": [
    {
     "data": {
      "text/html": [
       "<div>\n",
       "<style scoped>\n",
       "    .dataframe tbody tr th:only-of-type {\n",
       "        vertical-align: middle;\n",
       "    }\n",
       "\n",
       "    .dataframe tbody tr th {\n",
       "        vertical-align: top;\n",
       "    }\n",
       "\n",
       "    .dataframe thead th {\n",
       "        text-align: right;\n",
       "    }\n",
       "</style>\n",
       "<table border=\"1\" class=\"dataframe\">\n",
       "  <thead>\n",
       "    <tr style=\"text-align: right;\">\n",
       "      <th></th>\n",
       "      <th>email_time_center</th>\n",
       "      <th>noise</th>\n",
       "    </tr>\n",
       "  </thead>\n",
       "  <tbody>\n",
       "  </tbody>\n",
       "</table>\n",
       "</div>"
      ],
      "text/plain": [
       "Empty DataFrame\n",
       "Columns: [email_time_center, noise]\n",
       "Index: []"
      ]
     },
     "execution_count": 177,
     "metadata": {},
     "output_type": "execute_result"
    }
   ],
   "source": [
    "y[y['noise'] == 0]"
   ]
  },
  {
   "cell_type": "code",
   "execution_count": 178,
   "metadata": {},
   "outputs": [
    {
     "data": {
      "text/plain": [
       "array([[<Axes: title={'center': 'email_time_center'}>,\n",
       "        <Axes: title={'center': 'noise'}>]], dtype=object)"
      ]
     },
     "execution_count": 178,
     "metadata": {},
     "output_type": "execute_result"
    },
    {
     "data": {
      "image/png": "[encoded data removed]",
      "text/plain": [
       "<Figure size 640x480 with 2 Axes>"
      ]
     },
     "metadata": {},
     "output_type": "display_data"
    }
   ],
   "source": [
    "y.hist()"
   ]
  },
  {
   "cell_type": "code",
   "execution_count": 179,
   "metadata": {},
   "outputs": [],
   "source": [
    "from sklearn.model_selection import train_test_split"
   ]
  },
  {
   "cell_type": "code",
   "execution_count": 180,
   "metadata": {},
   "outputs": [],
   "source": [
    "X_train, X_test, y_train, y_test = train_test_split(X, y['noise'], test_size=0.2, random_state=42)"
   ]
  },
  {
   "cell_type": "code",
   "execution_count": 181,
   "metadata": {},
   "outputs": [
    {
     "name": "stdout",
     "output_type": "stream",
     "text": [
      "(1319, 34)\n",
      "(1319,)\n"
     ]
    }
   ],
   "source": [
    "print(X_train.shape)\n",
    "print(y_train.shape)"
   ]
  },
  {
   "cell_type": "code",
   "execution_count": 182,
   "metadata": {},
   "outputs": [],
   "source": [
    "# y_train.hist()"
   ]
  },
  {
   "cell_type": "code",
   "execution_count": 183,
   "metadata": {},
   "outputs": [
    {
     "name": "stderr",
     "output_type": "stream",
     "text": [
      "/home/linhnm/msc_code/social-stat-final-term/venv/lib/python3.10/site-packages/statsmodels/base/model.py:595: HessianInversionWarning: Inverting hessian failed, no bse or cov_params available\n",
      "  warnings.warn('Inverting hessian failed, no bse or cov_params '\n",
      "/home/linhnm/msc_code/social-stat-final-term/venv/lib/python3.10/site-packages/statsmodels/base/model.py:607: ConvergenceWarning: Maximum Likelihood optimization failed to converge. Check mle_retvals\n",
      "  warnings.warn(\"Maximum Likelihood optimization failed to \"\n"
     ]
    },
    {
     "data": {
      "text/html": [
       "<table class=\"simpletable\">\n",
       "<caption>Generalized Linear Model Regression Results</caption>\n",
       "<tr>\n",
       "  <th>Dep. Variable:</th>         <td>noise</td>      <th>  No. Observations:  </th>  <td>  1319</td> \n",
       "</tr>\n",
       "<tr>\n",
       "  <th>Model:</th>                  <td>GLM</td>       <th>  Df Residuals:      </th>  <td>  1291</td> \n",
       "</tr>\n",
       "<tr>\n",
       "  <th>Model Family:</th>          <td>Gamma</td>      <th>  Df Model:          </th>  <td>    27</td> \n",
       "</tr>\n",
       "<tr>\n",
       "  <th>Link Function:</th>          <td>Log</td>       <th>  Scale:             </th> <td>  2.0615</td>\n",
       "</tr>\n",
       "<tr>\n",
       "  <th>Method:</th>                <td>lbfgs</td>      <th>  Log-Likelihood:    </th> <td>  2022.6</td>\n",
       "</tr>\n",
       "<tr>\n",
       "  <th>Date:</th>            <td>Mon, 14 Aug 2023</td> <th>  Deviance:          </th> <td>  1465.8</td>\n",
       "</tr>\n",
       "<tr>\n",
       "  <th>Time:</th>                <td>18:01:21</td>     <th>  Pearson chi2:      </th> <td>2.66e+03</td>\n",
       "</tr>\n",
       "<tr>\n",
       "  <th>No. Iterations:</th>         <td>100</td>       <th>  Pseudo R-squ. (CS):</th>  <td>0.1089</td> \n",
       "</tr>\n",
       "<tr>\n",
       "  <th>Covariance Type:</th>     <td>nonrobust</td>    <th>                     </th>     <td> </td>   \n",
       "</tr>\n",
       "</table>\n",
       "<table class=\"simpletable\">\n",
       "<tr>\n",
       "                                 <td></td>                                    <th>coef</th>     <th>std err</th>      <th>z</th>      <th>P>|z|</th>  <th>[0.025</th>    <th>0.975]</th>  \n",
       "</tr>\n",
       "<tr>\n",
       "  <th>educ_center</th>                                                     <td>    1.5806</td> <td>    0.293</td> <td>    5.388</td> <td> 0.000</td> <td>    1.006</td> <td>    2.156</td>\n",
       "</tr>\n",
       "<tr>\n",
       "  <th>harass5_Does not apply (i do not have a job/superior/co-worker)</th> <td>   -0.7195</td> <td> 7.04e+06</td> <td>-1.02e-07</td> <td> 1.000</td> <td>-1.38e+07</td> <td> 1.38e+07</td>\n",
       "</tr>\n",
       "<tr>\n",
       "  <th>harass5_No</th>                                                      <td>   -0.2862</td> <td> 6.98e+06</td> <td> -4.1e-08</td> <td> 1.000</td> <td>-1.37e+07</td> <td> 1.37e+07</td>\n",
       "</tr>\n",
       "<tr>\n",
       "  <th>harass5_Yes</th>                                                     <td>   -0.1116</td> <td> 7.06e+06</td> <td>-1.58e-08</td> <td> 1.000</td> <td>-1.38e+07</td> <td> 1.38e+07</td>\n",
       "</tr>\n",
       "<tr>\n",
       "  <th>harass5_unknown</th>                                                 <td>   -1.3885</td> <td> 6.84e+06</td> <td>-2.03e-07</td> <td> 1.000</td> <td>-1.34e+07</td> <td> 1.34e+07</td>\n",
       "</tr>\n",
       "<tr>\n",
       "  <th>polviews_Conservative</th>                                           <td>   -0.2880</td> <td>      nan</td> <td>      nan</td> <td>   nan</td> <td>      nan</td> <td>      nan</td>\n",
       "</tr>\n",
       "<tr>\n",
       "  <th>polviews_Extremely liberal</th>                                      <td>   -0.3850</td> <td>      nan</td> <td>      nan</td> <td>   nan</td> <td>      nan</td> <td>      nan</td>\n",
       "</tr>\n",
       "<tr>\n",
       "  <th>polviews_Extrmly conservative</th>                                   <td>   -0.7236</td> <td>      nan</td> <td>      nan</td> <td>   nan</td> <td>      nan</td> <td>      nan</td>\n",
       "</tr>\n",
       "<tr>\n",
       "  <th>polviews_Liberal</th>                                                <td>   -0.3837</td> <td>      nan</td> <td>      nan</td> <td>   nan</td> <td>      nan</td> <td>      nan</td>\n",
       "</tr>\n",
       "<tr>\n",
       "  <th>polviews_Moderate</th>                                               <td>   -0.2380</td> <td>      nan</td> <td>      nan</td> <td>   nan</td> <td>      nan</td> <td>      nan</td>\n",
       "</tr>\n",
       "<tr>\n",
       "  <th>polviews_Slghtly conservative</th>                                   <td>   -0.3414</td> <td>      nan</td> <td>      nan</td> <td>   nan</td> <td>      nan</td> <td>      nan</td>\n",
       "</tr>\n",
       "<tr>\n",
       "  <th>polviews_Slightly liberal</th>                                       <td>   -0.2247</td> <td>      nan</td> <td>      nan</td> <td>   nan</td> <td>      nan</td> <td>      nan</td>\n",
       "</tr>\n",
       "<tr>\n",
       "  <th>polviews_unknown</th>                                                <td>    0.0785</td> <td>      nan</td> <td>      nan</td> <td>   nan</td> <td>      nan</td> <td>      nan</td>\n",
       "</tr>\n",
       "<tr>\n",
       "  <th>advfront_Agree</th>                                                  <td>   -0.2765</td> <td>      nan</td> <td>      nan</td> <td>   nan</td> <td>      nan</td> <td>      nan</td>\n",
       "</tr>\n",
       "<tr>\n",
       "  <th>advfront_Disagree</th>                                               <td>   -0.0923</td> <td> 6.52e+05</td> <td>-1.41e-07</td> <td> 1.000</td> <td>-1.28e+06</td> <td> 1.28e+06</td>\n",
       "</tr>\n",
       "<tr>\n",
       "  <th>advfront_Dont know</th>                                              <td>   -0.6667</td> <td>      nan</td> <td>      nan</td> <td>   nan</td> <td>      nan</td> <td>      nan</td>\n",
       "</tr>\n",
       "<tr>\n",
       "  <th>advfront_Strongly agree</th>                                         <td>   -0.2415</td> <td>      nan</td> <td>      nan</td> <td>   nan</td> <td>      nan</td> <td>      nan</td>\n",
       "</tr>\n",
       "<tr>\n",
       "  <th>advfront_Strongly disagree</th>                                      <td>    0.2720</td> <td>      nan</td> <td>      nan</td> <td>   nan</td> <td>      nan</td> <td>      nan</td>\n",
       "</tr>\n",
       "<tr>\n",
       "  <th>advfront_unknown</th>                                                <td>   -1.5009</td> <td>      nan</td> <td>      nan</td> <td>   nan</td> <td>      nan</td> <td>      nan</td>\n",
       "</tr>\n",
       "<tr>\n",
       "  <th>snapchat_No</th>                                                     <td>   -0.9080</td> <td> 3.15e+06</td> <td>-2.88e-07</td> <td> 1.000</td> <td>-6.17e+06</td> <td> 6.17e+06</td>\n",
       "</tr>\n",
       "<tr>\n",
       "  <th>snapchat_Yes</th>                                                    <td>   -0.7225</td> <td> 3.09e+06</td> <td>-2.34e-07</td> <td> 1.000</td> <td>-6.05e+06</td> <td> 6.05e+06</td>\n",
       "</tr>\n",
       "<tr>\n",
       "  <th>snapchat_unknown</th>                                                <td>   -0.8754</td> <td>      nan</td> <td>      nan</td> <td>   nan</td> <td>      nan</td> <td>      nan</td>\n",
       "</tr>\n",
       "<tr>\n",
       "  <th>instagrm_No</th>                                                     <td>   -0.7677</td> <td> 3.01e+06</td> <td>-2.55e-07</td> <td> 1.000</td> <td> -5.9e+06</td> <td>  5.9e+06</td>\n",
       "</tr>\n",
       "<tr>\n",
       "  <th>instagrm_Yes</th>                                                    <td>   -0.8628</td> <td> 3.01e+06</td> <td>-2.87e-07</td> <td> 1.000</td> <td> -5.9e+06</td> <td>  5.9e+06</td>\n",
       "</tr>\n",
       "<tr>\n",
       "  <th>instagrm_unknown</th>                                                <td>   -0.8754</td> <td>      nan</td> <td>      nan</td> <td>   nan</td> <td>      nan</td> <td>      nan</td>\n",
       "</tr>\n",
       "<tr>\n",
       "  <th>wrkstat_Keeping house</th>                                           <td>   -0.6071</td> <td>    0.211</td> <td>   -2.877</td> <td> 0.004</td> <td>   -1.021</td> <td>   -0.194</td>\n",
       "</tr>\n",
       "<tr>\n",
       "  <th>wrkstat_Other</th>                                                   <td>   -0.0699</td> <td>    0.313</td> <td>   -0.223</td> <td> 0.823</td> <td>   -0.683</td> <td>    0.543</td>\n",
       "</tr>\n",
       "<tr>\n",
       "  <th>wrkstat_Retired</th>                                                 <td>   -0.5544</td> <td>    0.151</td> <td>   -3.664</td> <td> 0.000</td> <td>   -0.851</td> <td>   -0.258</td>\n",
       "</tr>\n",
       "<tr>\n",
       "  <th>wrkstat_School</th>                                                  <td>   -0.5980</td> <td>    0.270</td> <td>   -2.217</td> <td> 0.027</td> <td>   -1.127</td> <td>   -0.069</td>\n",
       "</tr>\n",
       "<tr>\n",
       "  <th>wrkstat_Temp not working</th>                                        <td>   -0.1264</td> <td>    0.295</td> <td>   -0.428</td> <td> 0.668</td> <td>   -0.705</td> <td>    0.452</td>\n",
       "</tr>\n",
       "<tr>\n",
       "  <th>wrkstat_Unempl, laid off</th>                                        <td>   -0.1441</td> <td>    0.247</td> <td>   -0.584</td> <td> 0.559</td> <td>   -0.628</td> <td>    0.340</td>\n",
       "</tr>\n",
       "<tr>\n",
       "  <th>wrkstat_Working fulltime</th>                                        <td>    0.2849</td> <td>    0.120</td> <td>    2.365</td> <td> 0.018</td> <td>    0.049</td> <td>    0.521</td>\n",
       "</tr>\n",
       "<tr>\n",
       "  <th>wrkstat_Working parttime</th>                                        <td>   -0.2255</td> <td>    0.005</td> <td>  -43.453</td> <td> 0.000</td> <td>   -0.236</td> <td>   -0.215</td>\n",
       "</tr>\n",
       "<tr>\n",
       "  <th>wrkstat_unknown</th>                                                 <td>   -0.4653</td> <td>    1.447</td> <td>   -0.322</td> <td> 0.748</td> <td>   -3.301</td> <td>    2.370</td>\n",
       "</tr>\n",
       "</table>"
      ],
      "text/latex": [
       "\\begin{center}\n",
       "\\begin{tabular}{lclc}\n",
       "\\toprule\n",
       "\\textbf{Dep. Variable:}                                                   &      noise       & \\textbf{  No. Observations:  } &     1319    \\\\\n",
       "\\textbf{Model:}                                                           &       GLM        & \\textbf{  Df Residuals:      } &     1291    \\\\\n",
       "\\textbf{Model Family:}                                                    &      Gamma       & \\textbf{  Df Model:          } &       27    \\\\\n",
       "\\textbf{Link Function:}                                                   &       Log        & \\textbf{  Scale:             } &    2.0615   \\\\\n",
       "\\textbf{Method:}                                                          &      lbfgs       & \\textbf{  Log-Likelihood:    } &    2022.6   \\\\\n",
       "\\textbf{Date:}                                                            & Mon, 14 Aug 2023 & \\textbf{  Deviance:          } &    1465.8   \\\\\n",
       "\\textbf{Time:}                                                            &     18:01:21     & \\textbf{  Pearson chi2:      } &  2.66e+03   \\\\\n",
       "\\textbf{No. Iterations:}                                                  &       100        & \\textbf{  Pseudo R-squ. (CS):} &   0.1089    \\\\\n",
       "\\textbf{Covariance Type:}                                                 &    nonrobust     & \\textbf{                     } &             \\\\\n",
       "\\bottomrule\n",
       "\\end{tabular}\n",
       "\\begin{tabular}{lcccccc}\n",
       "                                                                          & \\textbf{coef} & \\textbf{std err} & \\textbf{z} & \\textbf{P$> |$z$|$} & \\textbf{[0.025} & \\textbf{0.975]}  \\\\\n",
       "\\midrule\n",
       "\\textbf{educ\\_center}                                                     &       1.5806  &        0.293     &     5.388  &         0.000        &        1.006    &        2.156     \\\\\n",
       "\\textbf{harass5\\_Does not apply (i do not have a job/superior/co-worker)} &      -0.7195  &     7.04e+06     & -1.02e-07  &         1.000        &    -1.38e+07    &     1.38e+07     \\\\\n",
       "\\textbf{harass5\\_No}                                                      &      -0.2862  &     6.98e+06     &  -4.1e-08  &         1.000        &    -1.37e+07    &     1.37e+07     \\\\\n",
       "\\textbf{harass5\\_Yes}                                                     &      -0.1116  &     7.06e+06     & -1.58e-08  &         1.000        &    -1.38e+07    &     1.38e+07     \\\\\n",
       "\\textbf{harass5\\_unknown}                                                 &      -1.3885  &     6.84e+06     & -2.03e-07  &         1.000        &    -1.34e+07    &     1.34e+07     \\\\\n",
       "\\textbf{polviews\\_Conservative}                                           &      -0.2880  &          nan     &       nan  &           nan        &          nan    &          nan     \\\\\n",
       "\\textbf{polviews\\_Extremely liberal}                                      &      -0.3850  &          nan     &       nan  &           nan        &          nan    &          nan     \\\\\n",
       "\\textbf{polviews\\_Extrmly conservative}                                   &      -0.7236  &          nan     &       nan  &           nan        &          nan    &          nan     \\\\\n",
       "\\textbf{polviews\\_Liberal}                                                &      -0.3837  &          nan     &       nan  &           nan        &          nan    &          nan     \\\\\n",
       "\\textbf{polviews\\_Moderate}                                               &      -0.2380  &          nan     &       nan  &           nan        &          nan    &          nan     \\\\\n",
       "\\textbf{polviews\\_Slghtly conservative}                                   &      -0.3414  &          nan     &       nan  &           nan        &          nan    &          nan     \\\\\n",
       "\\textbf{polviews\\_Slightly liberal}                                       &      -0.2247  &          nan     &       nan  &           nan        &          nan    &          nan     \\\\\n",
       "\\textbf{polviews\\_unknown}                                                &       0.0785  &          nan     &       nan  &           nan        &          nan    &          nan     \\\\\n",
       "\\textbf{advfront\\_Agree}                                                  &      -0.2765  &          nan     &       nan  &           nan        &          nan    &          nan     \\\\\n",
       "\\textbf{advfront\\_Disagree}                                               &      -0.0923  &     6.52e+05     & -1.41e-07  &         1.000        &    -1.28e+06    &     1.28e+06     \\\\\n",
       "\\textbf{advfront\\_Dont know}                                              &      -0.6667  &          nan     &       nan  &           nan        &          nan    &          nan     \\\\\n",
       "\\textbf{advfront\\_Strongly agree}                                         &      -0.2415  &          nan     &       nan  &           nan        &          nan    &          nan     \\\\\n",
       "\\textbf{advfront\\_Strongly disagree}                                      &       0.2720  &          nan     &       nan  &           nan        &          nan    &          nan     \\\\\n",
       "\\textbf{advfront\\_unknown}                                                &      -1.5009  &          nan     &       nan  &           nan        &          nan    &          nan     \\\\\n",
       "\\textbf{snapchat\\_No}                                                     &      -0.9080  &     3.15e+06     & -2.88e-07  &         1.000        &    -6.17e+06    &     6.17e+06     \\\\\n",
       "\\textbf{snapchat\\_Yes}                                                    &      -0.7225  &     3.09e+06     & -2.34e-07  &         1.000        &    -6.05e+06    &     6.05e+06     \\\\\n",
       "\\textbf{snapchat\\_unknown}                                                &      -0.8754  &          nan     &       nan  &           nan        &          nan    &          nan     \\\\\n",
       "\\textbf{instagrm\\_No}                                                     &      -0.7677  &     3.01e+06     & -2.55e-07  &         1.000        &     -5.9e+06    &      5.9e+06     \\\\\n",
       "\\textbf{instagrm\\_Yes}                                                    &      -0.8628  &     3.01e+06     & -2.87e-07  &         1.000        &     -5.9e+06    &      5.9e+06     \\\\\n",
       "\\textbf{instagrm\\_unknown}                                                &      -0.8754  &          nan     &       nan  &           nan        &          nan    &          nan     \\\\\n",
       "\\textbf{wrkstat\\_Keeping house}                                           &      -0.6071  &        0.211     &    -2.877  &         0.004        &       -1.021    &       -0.194     \\\\\n",
       "\\textbf{wrkstat\\_Other}                                                   &      -0.0699  &        0.313     &    -0.223  &         0.823        &       -0.683    &        0.543     \\\\\n",
       "\\textbf{wrkstat\\_Retired}                                                 &      -0.5544  &        0.151     &    -3.664  &         0.000        &       -0.851    &       -0.258     \\\\\n",
       "\\textbf{wrkstat\\_School}                                                  &      -0.5980  &        0.270     &    -2.217  &         0.027        &       -1.127    &       -0.069     \\\\\n",
       "\\textbf{wrkstat\\_Temp not working}                                        &      -0.1264  &        0.295     &    -0.428  &         0.668        &       -0.705    &        0.452     \\\\\n",
       "\\textbf{wrkstat\\_Unempl, laid off}                                        &      -0.1441  &        0.247     &    -0.584  &         0.559        &       -0.628    &        0.340     \\\\\n",
       "\\textbf{wrkstat\\_Working fulltime}                                        &       0.2849  &        0.120     &     2.365  &         0.018        &        0.049    &        0.521     \\\\\n",
       "\\textbf{wrkstat\\_Working parttime}                                        &      -0.2255  &        0.005     &   -43.453  &         0.000        &       -0.236    &       -0.215     \\\\\n",
       "\\textbf{wrkstat\\_unknown}                                                 &      -0.4653  &        1.447     &    -0.322  &         0.748        &       -3.301    &        2.370     \\\\\n",
       "\\bottomrule\n",
       "\\end{tabular}\n",
       "%\\caption{Generalized Linear Model Regression Results}\n",
       "\\end{center}"
      ],
      "text/plain": [
       "<class 'statsmodels.iolib.summary.Summary'>\n",
       "\"\"\"\n",
       "                 Generalized Linear Model Regression Results                  \n",
       "==============================================================================\n",
       "Dep. Variable:                  noise   No. Observations:                 1319\n",
       "Model:                            GLM   Df Residuals:                     1291\n",
       "Model Family:                   Gamma   Df Model:                           27\n",
       "Link Function:                    Log   Scale:                          2.0615\n",
       "Method:                         lbfgs   Log-Likelihood:                 2022.6\n",
       "Date:                Mon, 14 Aug 2023   Deviance:                       1465.8\n",
       "Time:                        18:01:21   Pearson chi2:                 2.66e+03\n",
       "No. Iterations:                   100   Pseudo R-squ. (CS):             0.1089\n",
       "Covariance Type:            nonrobust                                         \n",
       "===================================================================================================================================\n",
       "                                                                      coef    std err          z      P>|z|      [0.025      0.975]\n",
       "-----------------------------------------------------------------------------------------------------------------------------------\n",
       "educ_center                                                         1.5806      0.293      5.388      0.000       1.006       2.156\n",
       "harass5_Does not apply (i do not have a job/superior/co-worker)    -0.7195   7.04e+06  -1.02e-07      1.000   -1.38e+07    1.38e+07\n",
       "harass5_No                                                         -0.2862   6.98e+06   -4.1e-08      1.000   -1.37e+07    1.37e+07\n",
       "harass5_Yes                                                        -0.1116   7.06e+06  -1.58e-08      1.000   -1.38e+07    1.38e+07\n",
       "harass5_unknown                                                    -1.3885   6.84e+06  -2.03e-07      1.000   -1.34e+07    1.34e+07\n",
       "polviews_Conservative                                              -0.2880        nan        nan        nan         nan         nan\n",
       "polviews_Extremely liberal                                         -0.3850        nan        nan        nan         nan         nan\n",
       "polviews_Extrmly conservative                                      -0.7236        nan        nan        nan         nan         nan\n",
       "polviews_Liberal                                                   -0.3837        nan        nan        nan         nan         nan\n",
       "polviews_Moderate                                                  -0.2380        nan        nan        nan         nan         nan\n",
       "polviews_Slghtly conservative                                      -0.3414        nan        nan        nan         nan         nan\n",
       "polviews_Slightly liberal                                          -0.2247        nan        nan        nan         nan         nan\n",
       "polviews_unknown                                                    0.0785        nan        nan        nan         nan         nan\n",
       "advfront_Agree                                                     -0.2765        nan        nan        nan         nan         nan\n",
       "advfront_Disagree                                                  -0.0923   6.52e+05  -1.41e-07      1.000   -1.28e+06    1.28e+06\n",
       "advfront_Dont know                                                 -0.6667        nan        nan        nan         nan         nan\n",
       "advfront_Strongly agree                                            -0.2415        nan        nan        nan         nan         nan\n",
       "advfront_Strongly disagree                                          0.2720        nan        nan        nan         nan         nan\n",
       "advfront_unknown                                                   -1.5009        nan        nan        nan         nan         nan\n",
       "snapchat_No                                                        -0.9080   3.15e+06  -2.88e-07      1.000   -6.17e+06    6.17e+06\n",
       "snapchat_Yes                                                       -0.7225   3.09e+06  -2.34e-07      1.000   -6.05e+06    6.05e+06\n",
       "snapchat_unknown                                                   -0.8754        nan        nan        nan         nan         nan\n",
       "instagrm_No                                                        -0.7677   3.01e+06  -2.55e-07      1.000    -5.9e+06     5.9e+06\n",
       "instagrm_Yes                                                       -0.8628   3.01e+06  -2.87e-07      1.000    -5.9e+06     5.9e+06\n",
       "instagrm_unknown                                                   -0.8754        nan        nan        nan         nan         nan\n",
       "wrkstat_Keeping house                                              -0.6071      0.211     -2.877      0.004      -1.021      -0.194\n",
       "wrkstat_Other                                                      -0.0699      0.313     -0.223      0.823      -0.683       0.543\n",
       "wrkstat_Retired                                                    -0.5544      0.151     -3.664      0.000      -0.851      -0.258\n",
       "wrkstat_School                                                     -0.5980      0.270     -2.217      0.027      -1.127      -0.069\n",
       "wrkstat_Temp not working                                           -0.1264      0.295     -0.428      0.668      -0.705       0.452\n",
       "wrkstat_Unempl, laid off                                           -0.1441      0.247     -0.584      0.559      -0.628       0.340\n",
       "wrkstat_Working fulltime                                            0.2849      0.120      2.365      0.018       0.049       0.521\n",
       "wrkstat_Working parttime                                           -0.2255      0.005    -43.453      0.000      -0.236      -0.215\n",
       "wrkstat_unknown                                                    -0.4653      1.447     -0.322      0.748      -3.301       2.370\n",
       "===================================================================================================================================\n",
       "\"\"\""
      ]
     },
     "execution_count": 183,
     "metadata": {},
     "output_type": "execute_result"
    }
   ],
   "source": [
    "link_function = stm.genmod.families.links.Log()\n",
    "gamma_model = stm.api.GLM(y_train, X_train, family=stm.api.families.Gamma(link=link_function))\n",
    "gamma_results = gamma_model.fit(method='lbfgs')\n",
    "gamma_results.summary()"
   ]
  },
  {
   "cell_type": "code",
   "execution_count": 184,
   "metadata": {},
   "outputs": [],
   "source": [
    "choices = ['educ_center', 'wrkstat_Keeping', 'wrkstat_Retired', 'wrkstat_School', 'wrkstat_Working fulltime', 'wrkstat_Working parttime\t']\n",
    "X_train_choice = X_train[X_train.columns.intersection(choices)]\n",
    "X_test_choice = X_train[X_test.columns.intersection(choices)]"
   ]
  },
  {
   "cell_type": "code",
   "execution_count": 185,
   "metadata": {},
   "outputs": [
    {
     "data": {
      "text/html": [
       "<table class=\"simpletable\">\n",
       "<caption>Generalized Linear Model Regression Results</caption>\n",
       "<tr>\n",
       "  <th>Dep. Variable:</th>         <td>noise</td>      <th>  No. Observations:  </th>  <td>  1319</td> \n",
       "</tr>\n",
       "<tr>\n",
       "  <th>Model:</th>                  <td>GLM</td>       <th>  Df Residuals:      </th>  <td>  1315</td> \n",
       "</tr>\n",
       "<tr>\n",
       "  <th>Model Family:</th>          <td>Gamma</td>      <th>  Df Model:          </th>  <td>     3</td> \n",
       "</tr>\n",
       "<tr>\n",
       "  <th>Link Function:</th>          <td>Log</td>       <th>  Scale:             </th> <td>  1.8216</td>\n",
       "</tr>\n",
       "<tr>\n",
       "  <th>Method:</th>                <td>lbfgs</td>      <th>  Log-Likelihood:    </th> <td>  1867.8</td>\n",
       "</tr>\n",
       "<tr>\n",
       "  <th>Date:</th>            <td>Mon, 14 Aug 2023</td> <th>  Deviance:          </th> <td>  2235.1</td>\n",
       "</tr>\n",
       "<tr>\n",
       "  <th>Time:</th>                <td>18:06:13</td>     <th>  Pearson chi2:      </th> <td>2.40e+03</td>\n",
       "</tr>\n",
       "<tr>\n",
       "  <th>No. Iterations:</th>          <td>8</td>        <th>  Pseudo R-squ. (CS):</th>  <td>-0.2088</td>\n",
       "</tr>\n",
       "<tr>\n",
       "  <th>Covariance Type:</th>     <td>nonrobust</td>    <th>                     </th>     <td> </td>   \n",
       "</tr>\n",
       "</table>\n",
       "<table class=\"simpletable\">\n",
       "<tr>\n",
       "              <td></td>                <th>coef</th>     <th>std err</th>      <th>z</th>      <th>P>|z|</th>  <th>[0.025</th>    <th>0.975]</th>  \n",
       "</tr>\n",
       "<tr>\n",
       "  <th>educ_center</th>              <td>   -3.2867</td> <td>    0.111</td> <td>  -29.490</td> <td> 0.000</td> <td>   -3.505</td> <td>   -3.068</td>\n",
       "</tr>\n",
       "<tr>\n",
       "  <th>wrkstat_Retired</th>          <td>   -0.8517</td> <td>    0.123</td> <td>   -6.917</td> <td> 0.000</td> <td>   -1.093</td> <td>   -0.610</td>\n",
       "</tr>\n",
       "<tr>\n",
       "  <th>wrkstat_School</th>           <td>   -1.1013</td> <td>    0.219</td> <td>   -5.027</td> <td> 0.000</td> <td>   -1.531</td> <td>   -0.672</td>\n",
       "</tr>\n",
       "<tr>\n",
       "  <th>wrkstat_Working fulltime</th> <td>    0.2344</td> <td>    0.102</td> <td>    2.291</td> <td> 0.022</td> <td>    0.034</td> <td>    0.435</td>\n",
       "</tr>\n",
       "</table>"
      ],
      "text/latex": [
       "\\begin{center}\n",
       "\\begin{tabular}{lclc}\n",
       "\\toprule\n",
       "\\textbf{Dep. Variable:}            &      noise       & \\textbf{  No. Observations:  } &     1319    \\\\\n",
       "\\textbf{Model:}                    &       GLM        & \\textbf{  Df Residuals:      } &     1315    \\\\\n",
       "\\textbf{Model Family:}             &      Gamma       & \\textbf{  Df Model:          } &        3    \\\\\n",
       "\\textbf{Link Function:}            &       Log        & \\textbf{  Scale:             } &    1.8216   \\\\\n",
       "\\textbf{Method:}                   &      lbfgs       & \\textbf{  Log-Likelihood:    } &    1867.8   \\\\\n",
       "\\textbf{Date:}                     & Mon, 14 Aug 2023 & \\textbf{  Deviance:          } &    2235.1   \\\\\n",
       "\\textbf{Time:}                     &     18:06:13     & \\textbf{  Pearson chi2:      } &  2.40e+03   \\\\\n",
       "\\textbf{No. Iterations:}           &        8         & \\textbf{  Pseudo R-squ. (CS):} &  -0.2088    \\\\\n",
       "\\textbf{Covariance Type:}          &    nonrobust     & \\textbf{                     } &             \\\\\n",
       "\\bottomrule\n",
       "\\end{tabular}\n",
       "\\begin{tabular}{lcccccc}\n",
       "                                   & \\textbf{coef} & \\textbf{std err} & \\textbf{z} & \\textbf{P$> |$z$|$} & \\textbf{[0.025} & \\textbf{0.975]}  \\\\\n",
       "\\midrule\n",
       "\\textbf{educ\\_center}              &      -3.2867  &        0.111     &   -29.490  &         0.000        &       -3.505    &       -3.068     \\\\\n",
       "\\textbf{wrkstat\\_Retired}          &      -0.8517  &        0.123     &    -6.917  &         0.000        &       -1.093    &       -0.610     \\\\\n",
       "\\textbf{wrkstat\\_School}           &      -1.1013  &        0.219     &    -5.027  &         0.000        &       -1.531    &       -0.672     \\\\\n",
       "\\textbf{wrkstat\\_Working fulltime} &       0.2344  &        0.102     &     2.291  &         0.022        &        0.034    &        0.435     \\\\\n",
       "\\bottomrule\n",
       "\\end{tabular}\n",
       "%\\caption{Generalized Linear Model Regression Results}\n",
       "\\end{center}"
      ],
      "text/plain": [
       "<class 'statsmodels.iolib.summary.Summary'>\n",
       "\"\"\"\n",
       "                 Generalized Linear Model Regression Results                  \n",
       "==============================================================================\n",
       "Dep. Variable:                  noise   No. Observations:                 1319\n",
       "Model:                            GLM   Df Residuals:                     1315\n",
       "Model Family:                   Gamma   Df Model:                            3\n",
       "Link Function:                    Log   Scale:                          1.8216\n",
       "Method:                         lbfgs   Log-Likelihood:                 1867.8\n",
       "Date:                Mon, 14 Aug 2023   Deviance:                       2235.1\n",
       "Time:                        18:06:13   Pearson chi2:                 2.40e+03\n",
       "No. Iterations:                     8   Pseudo R-squ. (CS):            -0.2088\n",
       "Covariance Type:            nonrobust                                         \n",
       "============================================================================================\n",
       "                               coef    std err          z      P>|z|      [0.025      0.975]\n",
       "--------------------------------------------------------------------------------------------\n",
       "educ_center                 -3.2867      0.111    -29.490      0.000      -3.505      -3.068\n",
       "wrkstat_Retired             -0.8517      0.123     -6.917      0.000      -1.093      -0.610\n",
       "wrkstat_School              -1.1013      0.219     -5.027      0.000      -1.531      -0.672\n",
       "wrkstat_Working fulltime     0.2344      0.102      2.291      0.022       0.034       0.435\n",
       "============================================================================================\n",
       "\"\"\""
      ]
     },
     "execution_count": 185,
     "metadata": {},
     "output_type": "execute_result"
    }
   ],
   "source": [
    "link_function = stm.genmod.families.links.Log()\n",
    "gm_model = stm.api.GLM(y_train, X_train_choice, family=stm.api.families.Gamma(link=link_function))\n",
    "gm_res = gm_model.fit(method='lbfgs')\n",
    "gm_res.summary()"
   ]
  },
  {
   "cell_type": "code",
   "execution_count": 186,
   "metadata": {},
   "outputs": [],
   "source": [
    "y_pred = gm_res.predict(X_test_choice)"
   ]
  }
 ],
 "metadata": {
  "kernelspec": {
   "display_name": "venv",
   "language": "python",
   "name": "python3"
  },
  "language_info": {
   "codemirror_mode": {
    "name": "ipython",
    "version": 3
   },
   "file_extension": ".py",
   "mimetype": "text/x-python",
   "name": "python",
   "nbconvert_exporter": "python",
   "pygments_lexer": "ipython3",
   "version": "3.10.8"
  },
  "orig_nbformat": 4
 },
 "nbformat": 4,
 "nbformat_minor": 2
}
