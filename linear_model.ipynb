{
 "cells": [
  {
   "cell_type": "code",
   "execution_count": 128,
   "metadata": {
    "ExecuteTime": {
     "end_time": "2023-08-14T14:30:53.610836593Z",
     "start_time": "2023-08-14T14:30:53.497243399Z"
    }
   },
   "outputs": [],
   "source": [
    "import sklearn as sk\n",
    "from sklearn import linear_model\n",
    "import pandas as pd\n",
    "import numpy as np\n",
    "from sklearn.metrics import mean_squared_error, r2_score\n",
    "from sklearn.model_selection import train_test_split\n",
    "import statsmodels.api as sm\n",
    "import statsmodels as stm"
   ]
  },
  {
   "cell_type": "code",
   "execution_count": 129,
   "metadata": {
    "ExecuteTime": {
     "end_time": "2023-08-14T14:30:53.611151924Z",
     "start_time": "2023-08-14T14:30:53.540870938Z"
    }
   },
   "outputs": [],
   "source": [
    "X = pd.read_csv('data/preprocessing/X.csv')\n",
    "y = pd.read_csv('data/preprocessing/y.csv')"
   ]
  },
  {
   "cell_type": "code",
   "execution_count": 130,
   "metadata": {
    "ExecuteTime": {
     "end_time": "2023-08-14T14:30:53.611451050Z",
     "start_time": "2023-08-14T14:30:53.540986333Z"
    }
   },
   "outputs": [
    {
     "data": {
      "text/plain": [
       "Index(['educ_center',\n",
       "       'harass5_Does_not_apply_(i_do_not_have_a_job/superior/co-worker)',\n",
       "       'harass5_No', 'harass5_Yes', 'polviews_Conservative',\n",
       "       'polviews_Extremely_liberal', 'polviews_Extrmly_conservative',\n",
       "       'polviews_Liberal', 'polviews_Moderate',\n",
       "       'polviews_Slghtly_conservative', 'polviews_Slightly_liberal',\n",
       "       'advfront_Agree', 'advfront_Disagree', 'advfront_Dont_know',\n",
       "       'advfront_Strongly_agree', 'advfront_Strongly_disagree', 'snapchat_No',\n",
       "       'snapchat_Yes', 'instagrm_No', 'instagrm_Yes', 'wrkstat_Keeping_house',\n",
       "       'wrkstat_Other', 'wrkstat_Retired', 'wrkstat_School',\n",
       "       'wrkstat_Temp_not_working', 'wrkstat_Unempl,_laid_off',\n",
       "       'wrkstat_Working_fulltime', 'wrkstat_Working_parttime'],\n",
       "      dtype='object')"
      ]
     },
     "execution_count": 130,
     "metadata": {},
     "output_type": "execute_result"
    }
   ],
   "source": [
    "X.columns"
   ]
  },
  {
   "cell_type": "code",
   "execution_count": 131,
   "metadata": {
    "ExecuteTime": {
     "end_time": "2023-08-14T14:30:53.611592720Z",
     "start_time": "2023-08-14T14:30:53.541023272Z"
    }
   },
   "outputs": [
    {
     "name": "stdout",
     "output_type": "stream",
     "text": [
      "<class 'pandas.core.frame.DataFrame'>\n",
      "RangeIndex: 1649 entries, 0 to 1648\n",
      "Data columns (total 28 columns):\n",
      " #   Column                                                           Non-Null Count  Dtype  \n",
      "---  ------                                                           --------------  -----  \n",
      " 0   educ_center                                                      1649 non-null   float64\n",
      " 1   harass5_Does_not_apply_(i_do_not_have_a_job/superior/co-worker)  1649 non-null   int64  \n",
      " 2   harass5_No                                                       1649 non-null   int64  \n",
      " 3   harass5_Yes                                                      1649 non-null   int64  \n",
      " 4   polviews_Conservative                                            1649 non-null   int64  \n",
      " 5   polviews_Extremely_liberal                                       1649 non-null   int64  \n",
      " 6   polviews_Extrmly_conservative                                    1649 non-null   int64  \n",
      " 7   polviews_Liberal                                                 1649 non-null   int64  \n",
      " 8   polviews_Moderate                                                1649 non-null   int64  \n",
      " 9   polviews_Slghtly_conservative                                    1649 non-null   int64  \n",
      " 10  polviews_Slightly_liberal                                        1649 non-null   int64  \n",
      " 11  advfront_Agree                                                   1649 non-null   int64  \n",
      " 12  advfront_Disagree                                                1649 non-null   int64  \n",
      " 13  advfront_Dont_know                                               1649 non-null   int64  \n",
      " 14  advfront_Strongly_agree                                          1649 non-null   int64  \n",
      " 15  advfront_Strongly_disagree                                       1649 non-null   int64  \n",
      " 16  snapchat_No                                                      1649 non-null   int64  \n",
      " 17  snapchat_Yes                                                     1649 non-null   int64  \n",
      " 18  instagrm_No                                                      1649 non-null   int64  \n",
      " 19  instagrm_Yes                                                     1649 non-null   int64  \n",
      " 20  wrkstat_Keeping_house                                            1649 non-null   int64  \n",
      " 21  wrkstat_Other                                                    1649 non-null   int64  \n",
      " 22  wrkstat_Retired                                                  1649 non-null   int64  \n",
      " 23  wrkstat_School                                                   1649 non-null   int64  \n",
      " 24  wrkstat_Temp_not_working                                         1649 non-null   int64  \n",
      " 25  wrkstat_Unempl,_laid_off                                         1649 non-null   int64  \n",
      " 26  wrkstat_Working_fulltime                                         1649 non-null   int64  \n",
      " 27  wrkstat_Working_parttime                                         1649 non-null   int64  \n",
      "dtypes: float64(1), int64(27)\n",
      "memory usage: 360.8 KB\n"
     ]
    }
   ],
   "source": [
    "X.info()"
   ]
  },
  {
   "cell_type": "code",
   "execution_count": 132,
   "metadata": {
    "ExecuteTime": {
     "end_time": "2023-08-14T14:30:53.611634184Z",
     "start_time": "2023-08-14T14:30:53.542168242Z"
    }
   },
   "outputs": [],
   "source": [
    "size = y.shape[0]\n",
    "mu = 0\n",
    "sigma = 1e-3\n",
    "noise = np.random.normal(mu,sigma,size)"
   ]
  },
  {
   "cell_type": "code",
   "execution_count": 133,
   "metadata": {
    "ExecuteTime": {
     "end_time": "2023-08-14T14:30:53.668765080Z",
     "start_time": "2023-08-14T14:30:53.547033045Z"
    }
   },
   "outputs": [],
   "source": [
    "y['noise'] = y['email_time_center'] + sigma"
   ]
  },
  {
   "cell_type": "code",
   "execution_count": 134,
   "metadata": {
    "ExecuteTime": {
     "end_time": "2023-08-14T14:30:53.691758882Z",
     "start_time": "2023-08-14T14:30:53.632721585Z"
    }
   },
   "outputs": [
    {
     "data": {
      "text/html": [
       "<div>\n",
       "<style scoped>\n",
       "    .dataframe tbody tr th:only-of-type {\n",
       "        vertical-align: middle;\n",
       "    }\n",
       "\n",
       "    .dataframe tbody tr th {\n",
       "        vertical-align: top;\n",
       "    }\n",
       "\n",
       "    .dataframe thead th {\n",
       "        text-align: right;\n",
       "    }\n",
       "</style>\n",
       "<table border=\"1\" class=\"dataframe\">\n",
       "  <thead>\n",
       "    <tr style=\"text-align: right;\">\n",
       "      <th></th>\n",
       "      <th>email_time_center</th>\n",
       "      <th>noise</th>\n",
       "    </tr>\n",
       "  </thead>\n",
       "  <tbody>\n",
       "  </tbody>\n",
       "</table>\n",
       "</div>"
      ],
      "text/plain": [
       "Empty DataFrame\n",
       "Columns: [email_time_center, noise]\n",
       "Index: []"
      ]
     },
     "execution_count": 134,
     "metadata": {},
     "output_type": "execute_result"
    }
   ],
   "source": [
    "y[y['noise'] == 0]"
   ]
  },
  {
   "cell_type": "code",
   "execution_count": 135,
   "metadata": {
    "ExecuteTime": {
     "end_time": "2023-08-14T14:30:53.910311457Z",
     "start_time": "2023-08-14T14:30:53.676832033Z"
    }
   },
   "outputs": [
    {
     "data": {
      "text/plain": [
       "array([[<Axes: title={'center': 'email_time_center'}>,\n",
       "        <Axes: title={'center': 'noise'}>]], dtype=object)"
      ]
     },
     "execution_count": 135,
     "metadata": {},
     "output_type": "execute_result"
    },
    {
     "data": {
      "image/png": "[encoded data removed]",
      "text/plain": [
       "<Figure size 640x480 with 2 Axes>"
      ]
     },
     "metadata": {},
     "output_type": "display_data"
    }
   ],
   "source": [
    "y.hist()"
   ]
  },
  {
   "cell_type": "code",
   "execution_count": 136,
   "metadata": {
    "ExecuteTime": {
     "end_time": "2023-08-14T14:30:53.910495472Z",
     "start_time": "2023-08-14T14:30:53.909146236Z"
    }
   },
   "outputs": [],
   "source": [
    "X_train, X_test, y_train, y_test = train_test_split(X, y['noise'], test_size=0.2, random_state=0)"
   ]
  },
  {
   "cell_type": "code",
   "execution_count": 137,
   "metadata": {
    "ExecuteTime": {
     "end_time": "2023-08-14T14:30:53.910764185Z",
     "start_time": "2023-08-14T14:30:53.909337827Z"
    }
   },
   "outputs": [
    {
     "name": "stdout",
     "output_type": "stream",
     "text": [
      "(1319, 28)\n",
      "(330, 28)\n",
      "(1319,)\n",
      "(330,)\n"
     ]
    }
   ],
   "source": [
    "print(X_train.shape)\n",
    "print(X_test.shape)\n",
    "print(y_train.shape)\n",
    "print(y_test.shape)"
   ]
  },
  {
   "cell_type": "code",
   "execution_count": 138,
   "metadata": {
    "ExecuteTime": {
     "end_time": "2023-08-14T14:30:53.910815389Z",
     "start_time": "2023-08-14T14:30:53.909392157Z"
    }
   },
   "outputs": [],
   "source": [
    "def print_metrics(y_test, y_pred):\n",
    "  mse = mean_squared_error(y_test, y_pred)\n",
    "  rmse = np.sqrt(mse)\n",
    "  r2 = r2_score(y_test, y_pred)\n",
    "  \n",
    "  print(f'metrics, mse: {mse}, rmse: {rmse}, r2: {r2}')"
   ]
  },
  {
   "cell_type": "code",
   "execution_count": 139,
   "metadata": {
    "ExecuteTime": {
     "end_time": "2023-08-14T14:30:54.016134930Z",
     "start_time": "2023-08-14T14:30:53.909428920Z"
    }
   },
   "outputs": [
    {
     "name": "stderr",
     "output_type": "stream",
     "text": [
      "/home/linhnm/msc_code/social-stat-final-term/venv/lib/python3.10/site-packages/statsmodels/base/model.py:595: HessianInversionWarning: Inverting hessian failed, no bse or cov_params available\n",
      "  warnings.warn('Inverting hessian failed, no bse or cov_params '\n"
     ]
    },
    {
     "data": {
      "text/html": [
       "<table class=\"simpletable\">\n",
       "<caption>Generalized Linear Model Regression Results</caption>\n",
       "<tr>\n",
       "  <th>Dep. Variable:</th>         <td>noise</td>      <th>  No. Observations:  </th>  <td>  1319</td> \n",
       "</tr>\n",
       "<tr>\n",
       "  <th>Model:</th>                  <td>GLM</td>       <th>  Df Residuals:      </th>  <td>  1292</td> \n",
       "</tr>\n",
       "<tr>\n",
       "  <th>Model Family:</th>          <td>Gamma</td>      <th>  Df Model:          </th>  <td>    26</td> \n",
       "</tr>\n",
       "<tr>\n",
       "  <th>Link Function:</th>          <td>Log</td>       <th>  Scale:             </th> <td>  2.7225</td>\n",
       "</tr>\n",
       "<tr>\n",
       "  <th>Method:</th>                <td>lbfgs</td>      <th>  Log-Likelihood:    </th> <td>  2446.1</td>\n",
       "</tr>\n",
       "<tr>\n",
       "  <th>Date:</th>            <td>Mon, 14 Aug 2023</td> <th>  Deviance:          </th> <td>  2766.4</td>\n",
       "</tr>\n",
       "<tr>\n",
       "  <th>Time:</th>                <td>21:40:58</td>     <th>  Pearson chi2:      </th> <td>3.52e+03</td>\n",
       "</tr>\n",
       "<tr>\n",
       "  <th>No. Iterations:</th>         <td>76</td>        <th>  Pseudo R-squ. (CS):</th>  <td>0.1155</td> \n",
       "</tr>\n",
       "<tr>\n",
       "  <th>Covariance Type:</th>     <td>nonrobust</td>    <th>                     </th>     <td> </td>   \n",
       "</tr>\n",
       "</table>\n",
       "<table class=\"simpletable\">\n",
       "<tr>\n",
       "                                 <td></td>                                    <th>coef</th>     <th>std err</th>      <th>z</th>      <th>P>|z|</th>  <th>[0.025</th>    <th>0.975]</th>  \n",
       "</tr>\n",
       "<tr>\n",
       "  <th>educ_center</th>                                                     <td>    1.7498</td> <td>    0.336</td> <td>    5.207</td> <td> 0.000</td> <td>    1.091</td> <td>    2.409</td>\n",
       "</tr>\n",
       "<tr>\n",
       "  <th>harass5_Does_not_apply_(i_do_not_have_a_job/superior/co-worker)</th> <td>    0.5757</td> <td>    1.705</td> <td>    0.338</td> <td> 0.736</td> <td>   -2.767</td> <td>    3.918</td>\n",
       "</tr>\n",
       "<tr>\n",
       "  <th>harass5_No</th>                                                      <td>    1.6434</td> <td>    1.659</td> <td>    0.991</td> <td> 0.322</td> <td>   -1.608</td> <td>    4.895</td>\n",
       "</tr>\n",
       "<tr>\n",
       "  <th>harass5_Yes</th>                                                     <td>    2.1376</td> <td>    1.672</td> <td>    1.279</td> <td> 0.201</td> <td>   -1.139</td> <td>    5.414</td>\n",
       "</tr>\n",
       "<tr>\n",
       "  <th>polviews_Conservative</th>                                           <td>   -0.3103</td> <td>    0.287</td> <td>   -1.081</td> <td> 0.280</td> <td>   -0.873</td> <td>    0.252</td>\n",
       "</tr>\n",
       "<tr>\n",
       "  <th>polviews_Extremely_liberal</th>                                      <td>   -0.3731</td> <td>    0.339</td> <td>   -1.100</td> <td> 0.272</td> <td>   -1.038</td> <td>    0.292</td>\n",
       "</tr>\n",
       "<tr>\n",
       "  <th>polviews_Extrmly_conservative</th>                                   <td>   -0.8881</td> <td>    0.349</td> <td>   -2.546</td> <td> 0.011</td> <td>   -1.572</td> <td>   -0.205</td>\n",
       "</tr>\n",
       "<tr>\n",
       "  <th>polviews_Liberal</th>                                                <td>   -0.4096</td> <td>    0.292</td> <td>   -1.402</td> <td> 0.161</td> <td>   -0.982</td> <td>    0.163</td>\n",
       "</tr>\n",
       "<tr>\n",
       "  <th>polviews_Moderate</th>                                               <td>   -0.2551</td> <td>    0.267</td> <td>   -0.956</td> <td> 0.339</td> <td>   -0.778</td> <td>    0.268</td>\n",
       "</tr>\n",
       "<tr>\n",
       "  <th>polviews_Slghtly_conservative</th>                                   <td>   -0.4439</td> <td>    0.287</td> <td>   -1.550</td> <td> 0.121</td> <td>   -1.005</td> <td>    0.118</td>\n",
       "</tr>\n",
       "<tr>\n",
       "  <th>polviews_Slightly_liberal</th>                                       <td>   -0.2263</td> <td>    0.294</td> <td>   -0.771</td> <td> 0.441</td> <td>   -0.802</td> <td>    0.349</td>\n",
       "</tr>\n",
       "<tr>\n",
       "  <th>advfront_Agree</th>                                                  <td>    1.8392</td> <td>    1.659</td> <td>    1.109</td> <td> 0.268</td> <td>   -1.412</td> <td>    5.090</td>\n",
       "</tr>\n",
       "<tr>\n",
       "  <th>advfront_Disagree</th>                                               <td>    2.0708</td> <td>    1.664</td> <td>    1.244</td> <td> 0.213</td> <td>   -1.191</td> <td>    5.333</td>\n",
       "</tr>\n",
       "<tr>\n",
       "  <th>advfront_Dont_know</th>                                              <td>    1.3055</td> <td>    1.719</td> <td>    0.760</td> <td> 0.448</td> <td>   -2.063</td> <td>    4.674</td>\n",
       "</tr>\n",
       "<tr>\n",
       "  <th>advfront_Strongly_agree</th>                                         <td>    1.8806</td> <td>    1.660</td> <td>    1.133</td> <td> 0.257</td> <td>   -1.373</td> <td>    5.134</td>\n",
       "</tr>\n",
       "<tr>\n",
       "  <th>advfront_Strongly_disagree</th>                                      <td>    2.8589</td> <td>    1.790</td> <td>    1.597</td> <td> 0.110</td> <td>   -0.650</td> <td>    6.368</td>\n",
       "</tr>\n",
       "<tr>\n",
       "  <th>snapchat_No</th>                                                     <td>   -0.0356</td> <td> 5.93e+06</td> <td>   -6e-09</td> <td> 1.000</td> <td>-1.16e+07</td> <td> 1.16e+07</td>\n",
       "</tr>\n",
       "<tr>\n",
       "  <th>snapchat_Yes</th>                                                    <td>    0.2510</td> <td> 5.93e+06</td> <td> 4.23e-08</td> <td> 1.000</td> <td>-1.16e+07</td> <td> 1.16e+07</td>\n",
       "</tr>\n",
       "<tr>\n",
       "  <th>instagrm_No</th>                                                     <td>    0.1412</td> <td> 5.93e+06</td> <td> 2.38e-08</td> <td> 1.000</td> <td>-1.16e+07</td> <td> 1.16e+07</td>\n",
       "</tr>\n",
       "<tr>\n",
       "  <th>instagrm_Yes</th>                                                    <td>    0.0742</td> <td> 5.93e+06</td> <td> 1.25e-08</td> <td> 1.000</td> <td>-1.16e+07</td> <td> 1.16e+07</td>\n",
       "</tr>\n",
       "<tr>\n",
       "  <th>wrkstat_Keeping_house</th>                                           <td>   -6.3681</td> <td>    1.692</td> <td>   -3.764</td> <td> 0.000</td> <td>   -9.684</td> <td>   -3.053</td>\n",
       "</tr>\n",
       "<tr>\n",
       "  <th>wrkstat_Other</th>                                                   <td>   -5.7151</td> <td>    1.727</td> <td>   -3.308</td> <td> 0.001</td> <td>   -9.101</td> <td>   -2.329</td>\n",
       "</tr>\n",
       "<tr>\n",
       "  <th>wrkstat_Retired</th>                                                 <td>   -5.9808</td> <td>    1.692</td> <td>   -3.534</td> <td> 0.000</td> <td>   -9.297</td> <td>   -2.664</td>\n",
       "</tr>\n",
       "<tr>\n",
       "  <th>wrkstat_School</th>                                                  <td>   -6.1987</td> <td>    1.709</td> <td>   -3.628</td> <td> 0.000</td> <td>   -9.547</td> <td>   -2.850</td>\n",
       "</tr>\n",
       "<tr>\n",
       "  <th>wrkstat_Temp_not_working</th>                                        <td>   -5.6451</td> <td>    1.722</td> <td>   -3.278</td> <td> 0.001</td> <td>   -9.021</td> <td>   -2.269</td>\n",
       "</tr>\n",
       "<tr>\n",
       "  <th>wrkstat_Unempl,_laid_off</th>                                        <td>   -5.5115</td> <td>    1.698</td> <td>   -3.246</td> <td> 0.001</td> <td>   -8.840</td> <td>   -2.183</td>\n",
       "</tr>\n",
       "<tr>\n",
       "  <th>wrkstat_Working_fulltime</th>                                        <td>   -5.1353</td> <td>    1.689</td> <td>   -3.040</td> <td> 0.002</td> <td>   -8.446</td> <td>   -1.825</td>\n",
       "</tr>\n",
       "<tr>\n",
       "  <th>wrkstat_Working_parttime</th>                                        <td>   -5.7987</td> <td>    1.681</td> <td>   -3.449</td> <td> 0.001</td> <td>   -9.094</td> <td>   -2.504</td>\n",
       "</tr>\n",
       "</table>"
      ],
      "text/latex": [
       "\\begin{center}\n",
       "\\begin{tabular}{lclc}\n",
       "\\toprule\n",
       "\\textbf{Dep. Variable:}                                                           &      noise       & \\textbf{  No. Observations:  } &     1319    \\\\\n",
       "\\textbf{Model:}                                                                   &       GLM        & \\textbf{  Df Residuals:      } &     1292    \\\\\n",
       "\\textbf{Model Family:}                                                            &      Gamma       & \\textbf{  Df Model:          } &       26    \\\\\n",
       "\\textbf{Link Function:}                                                           &       Log        & \\textbf{  Scale:             } &    2.7225   \\\\\n",
       "\\textbf{Method:}                                                                  &      lbfgs       & \\textbf{  Log-Likelihood:    } &    2446.1   \\\\\n",
       "\\textbf{Date:}                                                                    & Mon, 14 Aug 2023 & \\textbf{  Deviance:          } &    2766.4   \\\\\n",
       "\\textbf{Time:}                                                                    &     21:40:58     & \\textbf{  Pearson chi2:      } &  3.52e+03   \\\\\n",
       "\\textbf{No. Iterations:}                                                          &        76        & \\textbf{  Pseudo R-squ. (CS):} &   0.1155    \\\\\n",
       "\\textbf{Covariance Type:}                                                         &    nonrobust     & \\textbf{                     } &             \\\\\n",
       "\\bottomrule\n",
       "\\end{tabular}\n",
       "\\begin{tabular}{lcccccc}\n",
       "                                                                                  & \\textbf{coef} & \\textbf{std err} & \\textbf{z} & \\textbf{P$> |$z$|$} & \\textbf{[0.025} & \\textbf{0.975]}  \\\\\n",
       "\\midrule\n",
       "\\textbf{educ\\_center}                                                             &       1.7498  &        0.336     &     5.207  &         0.000        &        1.091    &        2.409     \\\\\n",
       "\\textbf{harass5\\_Does\\_not\\_apply\\_(i\\_do\\_not\\_have\\_a\\_job/superior/co-worker)} &       0.5757  &        1.705     &     0.338  &         0.736        &       -2.767    &        3.918     \\\\\n",
       "\\textbf{harass5\\_No}                                                              &       1.6434  &        1.659     &     0.991  &         0.322        &       -1.608    &        4.895     \\\\\n",
       "\\textbf{harass5\\_Yes}                                                             &       2.1376  &        1.672     &     1.279  &         0.201        &       -1.139    &        5.414     \\\\\n",
       "\\textbf{polviews\\_Conservative}                                                   &      -0.3103  &        0.287     &    -1.081  &         0.280        &       -0.873    &        0.252     \\\\\n",
       "\\textbf{polviews\\_Extremely\\_liberal}                                             &      -0.3731  &        0.339     &    -1.100  &         0.272        &       -1.038    &        0.292     \\\\\n",
       "\\textbf{polviews\\_Extrmly\\_conservative}                                          &      -0.8881  &        0.349     &    -2.546  &         0.011        &       -1.572    &       -0.205     \\\\\n",
       "\\textbf{polviews\\_Liberal}                                                        &      -0.4096  &        0.292     &    -1.402  &         0.161        &       -0.982    &        0.163     \\\\\n",
       "\\textbf{polviews\\_Moderate}                                                       &      -0.2551  &        0.267     &    -0.956  &         0.339        &       -0.778    &        0.268     \\\\\n",
       "\\textbf{polviews\\_Slghtly\\_conservative}                                          &      -0.4439  &        0.287     &    -1.550  &         0.121        &       -1.005    &        0.118     \\\\\n",
       "\\textbf{polviews\\_Slightly\\_liberal}                                              &      -0.2263  &        0.294     &    -0.771  &         0.441        &       -0.802    &        0.349     \\\\\n",
       "\\textbf{advfront\\_Agree}                                                          &       1.8392  &        1.659     &     1.109  &         0.268        &       -1.412    &        5.090     \\\\\n",
       "\\textbf{advfront\\_Disagree}                                                       &       2.0708  &        1.664     &     1.244  &         0.213        &       -1.191    &        5.333     \\\\\n",
       "\\textbf{advfront\\_Dont\\_know}                                                     &       1.3055  &        1.719     &     0.760  &         0.448        &       -2.063    &        4.674     \\\\\n",
       "\\textbf{advfront\\_Strongly\\_agree}                                                &       1.8806  &        1.660     &     1.133  &         0.257        &       -1.373    &        5.134     \\\\\n",
       "\\textbf{advfront\\_Strongly\\_disagree}                                             &       2.8589  &        1.790     &     1.597  &         0.110        &       -0.650    &        6.368     \\\\\n",
       "\\textbf{snapchat\\_No}                                                             &      -0.0356  &     5.93e+06     &    -6e-09  &         1.000        &    -1.16e+07    &     1.16e+07     \\\\\n",
       "\\textbf{snapchat\\_Yes}                                                            &       0.2510  &     5.93e+06     &  4.23e-08  &         1.000        &    -1.16e+07    &     1.16e+07     \\\\\n",
       "\\textbf{instagrm\\_No}                                                             &       0.1412  &     5.93e+06     &  2.38e-08  &         1.000        &    -1.16e+07    &     1.16e+07     \\\\\n",
       "\\textbf{instagrm\\_Yes}                                                            &       0.0742  &     5.93e+06     &  1.25e-08  &         1.000        &    -1.16e+07    &     1.16e+07     \\\\\n",
       "\\textbf{wrkstat\\_Keeping\\_house}                                                  &      -6.3681  &        1.692     &    -3.764  &         0.000        &       -9.684    &       -3.053     \\\\\n",
       "\\textbf{wrkstat\\_Other}                                                           &      -5.7151  &        1.727     &    -3.308  &         0.001        &       -9.101    &       -2.329     \\\\\n",
       "\\textbf{wrkstat\\_Retired}                                                         &      -5.9808  &        1.692     &    -3.534  &         0.000        &       -9.297    &       -2.664     \\\\\n",
       "\\textbf{wrkstat\\_School}                                                          &      -6.1987  &        1.709     &    -3.628  &         0.000        &       -9.547    &       -2.850     \\\\\n",
       "\\textbf{wrkstat\\_Temp\\_not\\_working}                                              &      -5.6451  &        1.722     &    -3.278  &         0.001        &       -9.021    &       -2.269     \\\\\n",
       "\\textbf{wrkstat\\_Unempl,\\_laid\\_off}                                              &      -5.5115  &        1.698     &    -3.246  &         0.001        &       -8.840    &       -2.183     \\\\\n",
       "\\textbf{wrkstat\\_Working\\_fulltime}                                               &      -5.1353  &        1.689     &    -3.040  &         0.002        &       -8.446    &       -1.825     \\\\\n",
       "\\textbf{wrkstat\\_Working\\_parttime}                                               &      -5.7987  &        1.681     &    -3.449  &         0.001        &       -9.094    &       -2.504     \\\\\n",
       "\\bottomrule\n",
       "\\end{tabular}\n",
       "%\\caption{Generalized Linear Model Regression Results}\n",
       "\\end{center}"
      ],
      "text/plain": [
       "<class 'statsmodels.iolib.summary.Summary'>\n",
       "\"\"\"\n",
       "                 Generalized Linear Model Regression Results                  \n",
       "==============================================================================\n",
       "Dep. Variable:                  noise   No. Observations:                 1319\n",
       "Model:                            GLM   Df Residuals:                     1292\n",
       "Model Family:                   Gamma   Df Model:                           26\n",
       "Link Function:                    Log   Scale:                          2.7225\n",
       "Method:                         lbfgs   Log-Likelihood:                 2446.1\n",
       "Date:                Mon, 14 Aug 2023   Deviance:                       2766.4\n",
       "Time:                        21:40:58   Pearson chi2:                 3.52e+03\n",
       "No. Iterations:                    76   Pseudo R-squ. (CS):             0.1155\n",
       "Covariance Type:            nonrobust                                         \n",
       "===================================================================================================================================\n",
       "                                                                      coef    std err          z      P>|z|      [0.025      0.975]\n",
       "-----------------------------------------------------------------------------------------------------------------------------------\n",
       "educ_center                                                         1.7498      0.336      5.207      0.000       1.091       2.409\n",
       "harass5_Does_not_apply_(i_do_not_have_a_job/superior/co-worker)     0.5757      1.705      0.338      0.736      -2.767       3.918\n",
       "harass5_No                                                          1.6434      1.659      0.991      0.322      -1.608       4.895\n",
       "harass5_Yes                                                         2.1376      1.672      1.279      0.201      -1.139       5.414\n",
       "polviews_Conservative                                              -0.3103      0.287     -1.081      0.280      -0.873       0.252\n",
       "polviews_Extremely_liberal                                         -0.3731      0.339     -1.100      0.272      -1.038       0.292\n",
       "polviews_Extrmly_conservative                                      -0.8881      0.349     -2.546      0.011      -1.572      -0.205\n",
       "polviews_Liberal                                                   -0.4096      0.292     -1.402      0.161      -0.982       0.163\n",
       "polviews_Moderate                                                  -0.2551      0.267     -0.956      0.339      -0.778       0.268\n",
       "polviews_Slghtly_conservative                                      -0.4439      0.287     -1.550      0.121      -1.005       0.118\n",
       "polviews_Slightly_liberal                                          -0.2263      0.294     -0.771      0.441      -0.802       0.349\n",
       "advfront_Agree                                                      1.8392      1.659      1.109      0.268      -1.412       5.090\n",
       "advfront_Disagree                                                   2.0708      1.664      1.244      0.213      -1.191       5.333\n",
       "advfront_Dont_know                                                  1.3055      1.719      0.760      0.448      -2.063       4.674\n",
       "advfront_Strongly_agree                                             1.8806      1.660      1.133      0.257      -1.373       5.134\n",
       "advfront_Strongly_disagree                                          2.8589      1.790      1.597      0.110      -0.650       6.368\n",
       "snapchat_No                                                        -0.0356   5.93e+06     -6e-09      1.000   -1.16e+07    1.16e+07\n",
       "snapchat_Yes                                                        0.2510   5.93e+06   4.23e-08      1.000   -1.16e+07    1.16e+07\n",
       "instagrm_No                                                         0.1412   5.93e+06   2.38e-08      1.000   -1.16e+07    1.16e+07\n",
       "instagrm_Yes                                                        0.0742   5.93e+06   1.25e-08      1.000   -1.16e+07    1.16e+07\n",
       "wrkstat_Keeping_house                                              -6.3681      1.692     -3.764      0.000      -9.684      -3.053\n",
       "wrkstat_Other                                                      -5.7151      1.727     -3.308      0.001      -9.101      -2.329\n",
       "wrkstat_Retired                                                    -5.9808      1.692     -3.534      0.000      -9.297      -2.664\n",
       "wrkstat_School                                                     -6.1987      1.709     -3.628      0.000      -9.547      -2.850\n",
       "wrkstat_Temp_not_working                                           -5.6451      1.722     -3.278      0.001      -9.021      -2.269\n",
       "wrkstat_Unempl,_laid_off                                           -5.5115      1.698     -3.246      0.001      -8.840      -2.183\n",
       "wrkstat_Working_fulltime                                           -5.1353      1.689     -3.040      0.002      -8.446      -1.825\n",
       "wrkstat_Working_parttime                                           -5.7987      1.681     -3.449      0.001      -9.094      -2.504\n",
       "===================================================================================================================================\n",
       "\"\"\""
      ]
     },
     "execution_count": 139,
     "metadata": {},
     "output_type": "execute_result"
    }
   ],
   "source": [
    "link_function = stm.genmod.families.links.Log()\n",
    "gamma_model = stm.api.GLM(y_train, X_train, family=stm.api.families.Gamma(link=link_function))\n",
    "# gamma_model = stm.api.GLM(y_train, X_train, family=stm.api.families.Gamma())\n",
    "gamma_results = gamma_model.fit(method='lbfgs')\n",
    "gamma_results.summary()"
   ]
  },
  {
   "cell_type": "code",
   "execution_count": 140,
   "metadata": {
    "ExecuteTime": {
     "end_time": "2023-08-14T14:31:36.807051648Z",
     "start_time": "2023-08-14T14:31:36.776968329Z"
    },
    "collapsed": false
   },
   "outputs": [
    {
     "data": {
      "text/html": [
       "<table class=\"simpletable\">\n",
       "<caption>Generalized Linear Model Regression Results</caption>\n",
       "<tr>\n",
       "  <th>Dep. Variable:</th>         <td>noise</td>      <th>  No. Observations:  </th>  <td>  1319</td> \n",
       "</tr>\n",
       "<tr>\n",
       "  <th>Model:</th>                  <td>GLM</td>       <th>  Df Residuals:      </th>  <td>  1292</td> \n",
       "</tr>\n",
       "<tr>\n",
       "  <th>Model Family:</th>          <td>Gamma</td>      <th>  Df Model:          </th>  <td>    26</td> \n",
       "</tr>\n",
       "<tr>\n",
       "  <th>Link Function:</th>          <td>Log</td>       <th>  Scale:             </th> <td>  2.7225</td>\n",
       "</tr>\n",
       "<tr>\n",
       "  <th>Method:</th>                <td>lbfgs</td>      <th>  Log-Likelihood:    </th> <td>  2446.1</td>\n",
       "</tr>\n",
       "<tr>\n",
       "  <th>Date:</th>            <td>Mon, 14 Aug 2023</td> <th>  Deviance:          </th> <td>  2766.4</td>\n",
       "</tr>\n",
       "<tr>\n",
       "  <th>Time:</th>                <td>21:40:58</td>     <th>  Pearson chi2:      </th> <td>3.52e+03</td>\n",
       "</tr>\n",
       "<tr>\n",
       "  <th>No. Iterations:</th>         <td>76</td>        <th>  Pseudo R-squ. (CS):</th>  <td>0.1155</td> \n",
       "</tr>\n",
       "<tr>\n",
       "  <th>Covariance Type:</th>     <td>nonrobust</td>    <th>                     </th>     <td> </td>   \n",
       "</tr>\n",
       "</table>\n",
       "<table class=\"simpletable\">\n",
       "<tr>\n",
       "                                 <td></td>                                    <th>coef</th>     <th>std err</th>      <th>z</th>      <th>P>|z|</th>  <th>[0.025</th>    <th>0.975]</th>  \n",
       "</tr>\n",
       "<tr>\n",
       "  <th>educ_center</th>                                                     <td>    1.7498</td> <td>    0.336</td> <td>    5.207</td> <td> 0.000</td> <td>    1.091</td> <td>    2.409</td>\n",
       "</tr>\n",
       "<tr>\n",
       "  <th>harass5_Does_not_apply_(i_do_not_have_a_job/superior/co-worker)</th> <td>    0.5757</td> <td>    1.705</td> <td>    0.338</td> <td> 0.736</td> <td>   -2.767</td> <td>    3.918</td>\n",
       "</tr>\n",
       "<tr>\n",
       "  <th>harass5_No</th>                                                      <td>    1.6434</td> <td>    1.659</td> <td>    0.991</td> <td> 0.322</td> <td>   -1.608</td> <td>    4.895</td>\n",
       "</tr>\n",
       "<tr>\n",
       "  <th>harass5_Yes</th>                                                     <td>    2.1376</td> <td>    1.672</td> <td>    1.279</td> <td> 0.201</td> <td>   -1.139</td> <td>    5.414</td>\n",
       "</tr>\n",
       "<tr>\n",
       "  <th>polviews_Conservative</th>                                           <td>   -0.3103</td> <td>    0.287</td> <td>   -1.081</td> <td> 0.280</td> <td>   -0.873</td> <td>    0.252</td>\n",
       "</tr>\n",
       "<tr>\n",
       "  <th>polviews_Extremely_liberal</th>                                      <td>   -0.3731</td> <td>    0.339</td> <td>   -1.100</td> <td> 0.272</td> <td>   -1.038</td> <td>    0.292</td>\n",
       "</tr>\n",
       "<tr>\n",
       "  <th>polviews_Extrmly_conservative</th>                                   <td>   -0.8881</td> <td>    0.349</td> <td>   -2.546</td> <td> 0.011</td> <td>   -1.572</td> <td>   -0.205</td>\n",
       "</tr>\n",
       "<tr>\n",
       "  <th>polviews_Liberal</th>                                                <td>   -0.4096</td> <td>    0.292</td> <td>   -1.402</td> <td> 0.161</td> <td>   -0.982</td> <td>    0.163</td>\n",
       "</tr>\n",
       "<tr>\n",
       "  <th>polviews_Moderate</th>                                               <td>   -0.2551</td> <td>    0.267</td> <td>   -0.956</td> <td> 0.339</td> <td>   -0.778</td> <td>    0.268</td>\n",
       "</tr>\n",
       "<tr>\n",
       "  <th>polviews_Slghtly_conservative</th>                                   <td>   -0.4439</td> <td>    0.287</td> <td>   -1.550</td> <td> 0.121</td> <td>   -1.005</td> <td>    0.118</td>\n",
       "</tr>\n",
       "<tr>\n",
       "  <th>polviews_Slightly_liberal</th>                                       <td>   -0.2263</td> <td>    0.294</td> <td>   -0.771</td> <td> 0.441</td> <td>   -0.802</td> <td>    0.349</td>\n",
       "</tr>\n",
       "<tr>\n",
       "  <th>advfront_Agree</th>                                                  <td>    1.8392</td> <td>    1.659</td> <td>    1.109</td> <td> 0.268</td> <td>   -1.412</td> <td>    5.090</td>\n",
       "</tr>\n",
       "<tr>\n",
       "  <th>advfront_Disagree</th>                                               <td>    2.0708</td> <td>    1.664</td> <td>    1.244</td> <td> 0.213</td> <td>   -1.191</td> <td>    5.333</td>\n",
       "</tr>\n",
       "<tr>\n",
       "  <th>advfront_Dont_know</th>                                              <td>    1.3055</td> <td>    1.719</td> <td>    0.760</td> <td> 0.448</td> <td>   -2.063</td> <td>    4.674</td>\n",
       "</tr>\n",
       "<tr>\n",
       "  <th>advfront_Strongly_agree</th>                                         <td>    1.8806</td> <td>    1.660</td> <td>    1.133</td> <td> 0.257</td> <td>   -1.373</td> <td>    5.134</td>\n",
       "</tr>\n",
       "<tr>\n",
       "  <th>advfront_Strongly_disagree</th>                                      <td>    2.8589</td> <td>    1.790</td> <td>    1.597</td> <td> 0.110</td> <td>   -0.650</td> <td>    6.368</td>\n",
       "</tr>\n",
       "<tr>\n",
       "  <th>snapchat_No</th>                                                     <td>   -0.0356</td> <td> 5.93e+06</td> <td>   -6e-09</td> <td> 1.000</td> <td>-1.16e+07</td> <td> 1.16e+07</td>\n",
       "</tr>\n",
       "<tr>\n",
       "  <th>snapchat_Yes</th>                                                    <td>    0.2510</td> <td> 5.93e+06</td> <td> 4.23e-08</td> <td> 1.000</td> <td>-1.16e+07</td> <td> 1.16e+07</td>\n",
       "</tr>\n",
       "<tr>\n",
       "  <th>instagrm_No</th>                                                     <td>    0.1412</td> <td> 5.93e+06</td> <td> 2.38e-08</td> <td> 1.000</td> <td>-1.16e+07</td> <td> 1.16e+07</td>\n",
       "</tr>\n",
       "<tr>\n",
       "  <th>instagrm_Yes</th>                                                    <td>    0.0742</td> <td> 5.93e+06</td> <td> 1.25e-08</td> <td> 1.000</td> <td>-1.16e+07</td> <td> 1.16e+07</td>\n",
       "</tr>\n",
       "<tr>\n",
       "  <th>wrkstat_Keeping_house</th>                                           <td>   -6.3681</td> <td>    1.692</td> <td>   -3.764</td> <td> 0.000</td> <td>   -9.684</td> <td>   -3.053</td>\n",
       "</tr>\n",
       "<tr>\n",
       "  <th>wrkstat_Other</th>                                                   <td>   -5.7151</td> <td>    1.727</td> <td>   -3.308</td> <td> 0.001</td> <td>   -9.101</td> <td>   -2.329</td>\n",
       "</tr>\n",
       "<tr>\n",
       "  <th>wrkstat_Retired</th>                                                 <td>   -5.9808</td> <td>    1.692</td> <td>   -3.534</td> <td> 0.000</td> <td>   -9.297</td> <td>   -2.664</td>\n",
       "</tr>\n",
       "<tr>\n",
       "  <th>wrkstat_School</th>                                                  <td>   -6.1987</td> <td>    1.709</td> <td>   -3.628</td> <td> 0.000</td> <td>   -9.547</td> <td>   -2.850</td>\n",
       "</tr>\n",
       "<tr>\n",
       "  <th>wrkstat_Temp_not_working</th>                                        <td>   -5.6451</td> <td>    1.722</td> <td>   -3.278</td> <td> 0.001</td> <td>   -9.021</td> <td>   -2.269</td>\n",
       "</tr>\n",
       "<tr>\n",
       "  <th>wrkstat_Unempl,_laid_off</th>                                        <td>   -5.5115</td> <td>    1.698</td> <td>   -3.246</td> <td> 0.001</td> <td>   -8.840</td> <td>   -2.183</td>\n",
       "</tr>\n",
       "<tr>\n",
       "  <th>wrkstat_Working_fulltime</th>                                        <td>   -5.1353</td> <td>    1.689</td> <td>   -3.040</td> <td> 0.002</td> <td>   -8.446</td> <td>   -1.825</td>\n",
       "</tr>\n",
       "<tr>\n",
       "  <th>wrkstat_Working_parttime</th>                                        <td>   -5.7987</td> <td>    1.681</td> <td>   -3.449</td> <td> 0.001</td> <td>   -9.094</td> <td>   -2.504</td>\n",
       "</tr>\n",
       "</table>"
      ],
      "text/latex": [
       "\\begin{center}\n",
       "\\begin{tabular}{lclc}\n",
       "\\toprule\n",
       "\\textbf{Dep. Variable:}                                                           &      noise       & \\textbf{  No. Observations:  } &     1319    \\\\\n",
       "\\textbf{Model:}                                                                   &       GLM        & \\textbf{  Df Residuals:      } &     1292    \\\\\n",
       "\\textbf{Model Family:}                                                            &      Gamma       & \\textbf{  Df Model:          } &       26    \\\\\n",
       "\\textbf{Link Function:}                                                           &       Log        & \\textbf{  Scale:             } &    2.7225   \\\\\n",
       "\\textbf{Method:}                                                                  &      lbfgs       & \\textbf{  Log-Likelihood:    } &    2446.1   \\\\\n",
       "\\textbf{Date:}                                                                    & Mon, 14 Aug 2023 & \\textbf{  Deviance:          } &    2766.4   \\\\\n",
       "\\textbf{Time:}                                                                    &     21:40:58     & \\textbf{  Pearson chi2:      } &  3.52e+03   \\\\\n",
       "\\textbf{No. Iterations:}                                                          &        76        & \\textbf{  Pseudo R-squ. (CS):} &   0.1155    \\\\\n",
       "\\textbf{Covariance Type:}                                                         &    nonrobust     & \\textbf{                     } &             \\\\\n",
       "\\bottomrule\n",
       "\\end{tabular}\n",
       "\\begin{tabular}{lcccccc}\n",
       "                                                                                  & \\textbf{coef} & \\textbf{std err} & \\textbf{z} & \\textbf{P$> |$z$|$} & \\textbf{[0.025} & \\textbf{0.975]}  \\\\\n",
       "\\midrule\n",
       "\\textbf{educ\\_center}                                                             &       1.7498  &        0.336     &     5.207  &         0.000        &        1.091    &        2.409     \\\\\n",
       "\\textbf{harass5\\_Does\\_not\\_apply\\_(i\\_do\\_not\\_have\\_a\\_job/superior/co-worker)} &       0.5757  &        1.705     &     0.338  &         0.736        &       -2.767    &        3.918     \\\\\n",
       "\\textbf{harass5\\_No}                                                              &       1.6434  &        1.659     &     0.991  &         0.322        &       -1.608    &        4.895     \\\\\n",
       "\\textbf{harass5\\_Yes}                                                             &       2.1376  &        1.672     &     1.279  &         0.201        &       -1.139    &        5.414     \\\\\n",
       "\\textbf{polviews\\_Conservative}                                                   &      -0.3103  &        0.287     &    -1.081  &         0.280        &       -0.873    &        0.252     \\\\\n",
       "\\textbf{polviews\\_Extremely\\_liberal}                                             &      -0.3731  &        0.339     &    -1.100  &         0.272        &       -1.038    &        0.292     \\\\\n",
       "\\textbf{polviews\\_Extrmly\\_conservative}                                          &      -0.8881  &        0.349     &    -2.546  &         0.011        &       -1.572    &       -0.205     \\\\\n",
       "\\textbf{polviews\\_Liberal}                                                        &      -0.4096  &        0.292     &    -1.402  &         0.161        &       -0.982    &        0.163     \\\\\n",
       "\\textbf{polviews\\_Moderate}                                                       &      -0.2551  &        0.267     &    -0.956  &         0.339        &       -0.778    &        0.268     \\\\\n",
       "\\textbf{polviews\\_Slghtly\\_conservative}                                          &      -0.4439  &        0.287     &    -1.550  &         0.121        &       -1.005    &        0.118     \\\\\n",
       "\\textbf{polviews\\_Slightly\\_liberal}                                              &      -0.2263  &        0.294     &    -0.771  &         0.441        &       -0.802    &        0.349     \\\\\n",
       "\\textbf{advfront\\_Agree}                                                          &       1.8392  &        1.659     &     1.109  &         0.268        &       -1.412    &        5.090     \\\\\n",
       "\\textbf{advfront\\_Disagree}                                                       &       2.0708  &        1.664     &     1.244  &         0.213        &       -1.191    &        5.333     \\\\\n",
       "\\textbf{advfront\\_Dont\\_know}                                                     &       1.3055  &        1.719     &     0.760  &         0.448        &       -2.063    &        4.674     \\\\\n",
       "\\textbf{advfront\\_Strongly\\_agree}                                                &       1.8806  &        1.660     &     1.133  &         0.257        &       -1.373    &        5.134     \\\\\n",
       "\\textbf{advfront\\_Strongly\\_disagree}                                             &       2.8589  &        1.790     &     1.597  &         0.110        &       -0.650    &        6.368     \\\\\n",
       "\\textbf{snapchat\\_No}                                                             &      -0.0356  &     5.93e+06     &    -6e-09  &         1.000        &    -1.16e+07    &     1.16e+07     \\\\\n",
       "\\textbf{snapchat\\_Yes}                                                            &       0.2510  &     5.93e+06     &  4.23e-08  &         1.000        &    -1.16e+07    &     1.16e+07     \\\\\n",
       "\\textbf{instagrm\\_No}                                                             &       0.1412  &     5.93e+06     &  2.38e-08  &         1.000        &    -1.16e+07    &     1.16e+07     \\\\\n",
       "\\textbf{instagrm\\_Yes}                                                            &       0.0742  &     5.93e+06     &  1.25e-08  &         1.000        &    -1.16e+07    &     1.16e+07     \\\\\n",
       "\\textbf{wrkstat\\_Keeping\\_house}                                                  &      -6.3681  &        1.692     &    -3.764  &         0.000        &       -9.684    &       -3.053     \\\\\n",
       "\\textbf{wrkstat\\_Other}                                                           &      -5.7151  &        1.727     &    -3.308  &         0.001        &       -9.101    &       -2.329     \\\\\n",
       "\\textbf{wrkstat\\_Retired}                                                         &      -5.9808  &        1.692     &    -3.534  &         0.000        &       -9.297    &       -2.664     \\\\\n",
       "\\textbf{wrkstat\\_School}                                                          &      -6.1987  &        1.709     &    -3.628  &         0.000        &       -9.547    &       -2.850     \\\\\n",
       "\\textbf{wrkstat\\_Temp\\_not\\_working}                                              &      -5.6451  &        1.722     &    -3.278  &         0.001        &       -9.021    &       -2.269     \\\\\n",
       "\\textbf{wrkstat\\_Unempl,\\_laid\\_off}                                              &      -5.5115  &        1.698     &    -3.246  &         0.001        &       -8.840    &       -2.183     \\\\\n",
       "\\textbf{wrkstat\\_Working\\_fulltime}                                               &      -5.1353  &        1.689     &    -3.040  &         0.002        &       -8.446    &       -1.825     \\\\\n",
       "\\textbf{wrkstat\\_Working\\_parttime}                                               &      -5.7987  &        1.681     &    -3.449  &         0.001        &       -9.094    &       -2.504     \\\\\n",
       "\\bottomrule\n",
       "\\end{tabular}\n",
       "%\\caption{Generalized Linear Model Regression Results}\n",
       "\\end{center}"
      ],
      "text/plain": [
       "<class 'statsmodels.iolib.summary.Summary'>\n",
       "\"\"\"\n",
       "                 Generalized Linear Model Regression Results                  \n",
       "==============================================================================\n",
       "Dep. Variable:                  noise   No. Observations:                 1319\n",
       "Model:                            GLM   Df Residuals:                     1292\n",
       "Model Family:                   Gamma   Df Model:                           26\n",
       "Link Function:                    Log   Scale:                          2.7225\n",
       "Method:                         lbfgs   Log-Likelihood:                 2446.1\n",
       "Date:                Mon, 14 Aug 2023   Deviance:                       2766.4\n",
       "Time:                        21:40:58   Pearson chi2:                 3.52e+03\n",
       "No. Iterations:                    76   Pseudo R-squ. (CS):             0.1155\n",
       "Covariance Type:            nonrobust                                         \n",
       "===================================================================================================================================\n",
       "                                                                      coef    std err          z      P>|z|      [0.025      0.975]\n",
       "-----------------------------------------------------------------------------------------------------------------------------------\n",
       "educ_center                                                         1.7498      0.336      5.207      0.000       1.091       2.409\n",
       "harass5_Does_not_apply_(i_do_not_have_a_job/superior/co-worker)     0.5757      1.705      0.338      0.736      -2.767       3.918\n",
       "harass5_No                                                          1.6434      1.659      0.991      0.322      -1.608       4.895\n",
       "harass5_Yes                                                         2.1376      1.672      1.279      0.201      -1.139       5.414\n",
       "polviews_Conservative                                              -0.3103      0.287     -1.081      0.280      -0.873       0.252\n",
       "polviews_Extremely_liberal                                         -0.3731      0.339     -1.100      0.272      -1.038       0.292\n",
       "polviews_Extrmly_conservative                                      -0.8881      0.349     -2.546      0.011      -1.572      -0.205\n",
       "polviews_Liberal                                                   -0.4096      0.292     -1.402      0.161      -0.982       0.163\n",
       "polviews_Moderate                                                  -0.2551      0.267     -0.956      0.339      -0.778       0.268\n",
       "polviews_Slghtly_conservative                                      -0.4439      0.287     -1.550      0.121      -1.005       0.118\n",
       "polviews_Slightly_liberal                                          -0.2263      0.294     -0.771      0.441      -0.802       0.349\n",
       "advfront_Agree                                                      1.8392      1.659      1.109      0.268      -1.412       5.090\n",
       "advfront_Disagree                                                   2.0708      1.664      1.244      0.213      -1.191       5.333\n",
       "advfront_Dont_know                                                  1.3055      1.719      0.760      0.448      -2.063       4.674\n",
       "advfront_Strongly_agree                                             1.8806      1.660      1.133      0.257      -1.373       5.134\n",
       "advfront_Strongly_disagree                                          2.8589      1.790      1.597      0.110      -0.650       6.368\n",
       "snapchat_No                                                        -0.0356   5.93e+06     -6e-09      1.000   -1.16e+07    1.16e+07\n",
       "snapchat_Yes                                                        0.2510   5.93e+06   4.23e-08      1.000   -1.16e+07    1.16e+07\n",
       "instagrm_No                                                         0.1412   5.93e+06   2.38e-08      1.000   -1.16e+07    1.16e+07\n",
       "instagrm_Yes                                                        0.0742   5.93e+06   1.25e-08      1.000   -1.16e+07    1.16e+07\n",
       "wrkstat_Keeping_house                                              -6.3681      1.692     -3.764      0.000      -9.684      -3.053\n",
       "wrkstat_Other                                                      -5.7151      1.727     -3.308      0.001      -9.101      -2.329\n",
       "wrkstat_Retired                                                    -5.9808      1.692     -3.534      0.000      -9.297      -2.664\n",
       "wrkstat_School                                                     -6.1987      1.709     -3.628      0.000      -9.547      -2.850\n",
       "wrkstat_Temp_not_working                                           -5.6451      1.722     -3.278      0.001      -9.021      -2.269\n",
       "wrkstat_Unempl,_laid_off                                           -5.5115      1.698     -3.246      0.001      -8.840      -2.183\n",
       "wrkstat_Working_fulltime                                           -5.1353      1.689     -3.040      0.002      -8.446      -1.825\n",
       "wrkstat_Working_parttime                                           -5.7987      1.681     -3.449      0.001      -9.094      -2.504\n",
       "===================================================================================================================================\n",
       "\"\"\""
      ]
     },
     "execution_count": 140,
     "metadata": {},
     "output_type": "execute_result"
    }
   ],
   "source": [
    "gamma_results.summary()"
   ]
  },
  {
   "cell_type": "code",
   "execution_count": 141,
   "metadata": {
    "ExecuteTime": {
     "end_time": "2023-08-14T14:30:54.027243541Z",
     "start_time": "2023-08-14T14:30:54.012809226Z"
    }
   },
   "outputs": [
    {
     "name": "stdout",
     "output_type": "stream",
     "text": [
      "metrics, mse: 0.00901724897484081, rmse: 0.094959196367918, r2: 0.08931380081135276\n"
     ]
    }
   ],
   "source": [
    "y_pred = gamma_results.predict(X_test)\n",
    "print_metrics(y_test, y_pred)"
   ]
  },
  {
   "cell_type": "code",
   "execution_count": 154,
   "metadata": {
    "ExecuteTime": {
     "end_time": "2023-08-14T14:30:54.027419160Z",
     "start_time": "2023-08-14T14:30:54.012932534Z"
    }
   },
   "outputs": [],
   "source": [
    "choices = ['educ_center', 'wrkstat_Keeping_house', 'wrkstat_Other', 'wrkstat_Retired', 'wrkstat_School', 'wrkstat_Temp_not_working', 'wrkstat_Unempl,_laid_off', 'wrkstat_Working_fulltime', 'wrkstat_Working_parttime']\n",
    "# choices = ['educ_center', 'polviews_Extrmly conservative']\n",
    "X_train_choice = X_train[X_train.columns.intersection(choices)]\n",
    "X_test_choice = X_test[X_test.columns.intersection(choices)]"
   ]
  },
  {
   "cell_type": "code",
   "execution_count": 155,
   "metadata": {},
   "outputs": [
    {
     "name": "stdout",
     "output_type": "stream",
     "text": [
      "<class 'pandas.core.frame.DataFrame'>\n",
      "Index: 1319 entries, 887 to 684\n",
      "Data columns (total 9 columns):\n",
      " #   Column                    Non-Null Count  Dtype  \n",
      "---  ------                    --------------  -----  \n",
      " 0   educ_center               1319 non-null   float64\n",
      " 1   wrkstat_Keeping_house     1319 non-null   int64  \n",
      " 2   wrkstat_Other             1319 non-null   int64  \n",
      " 3   wrkstat_Retired           1319 non-null   int64  \n",
      " 4   wrkstat_School            1319 non-null   int64  \n",
      " 5   wrkstat_Temp_not_working  1319 non-null   int64  \n",
      " 6   wrkstat_Unempl,_laid_off  1319 non-null   int64  \n",
      " 7   wrkstat_Working_fulltime  1319 non-null   int64  \n",
      " 8   wrkstat_Working_parttime  1319 non-null   int64  \n",
      "dtypes: float64(1), int64(8)\n",
      "memory usage: 103.0 KB\n"
     ]
    }
   ],
   "source": [
    "X_train_choice.info()"
   ]
  },
  {
   "cell_type": "code",
   "execution_count": 156,
   "metadata": {
    "ExecuteTime": {
     "end_time": "2023-08-14T14:30:54.030798161Z",
     "start_time": "2023-08-14T14:30:54.012977735Z"
    }
   },
   "outputs": [
    {
     "data": {
      "text/html": [
       "<table class=\"simpletable\">\n",
       "<caption>Generalized Linear Model Regression Results</caption>\n",
       "<tr>\n",
       "  <th>Dep. Variable:</th>         <td>noise</td>      <th>  No. Observations:  </th>  <td>  1319</td> \n",
       "</tr>\n",
       "<tr>\n",
       "  <th>Model:</th>                  <td>GLM</td>       <th>  Df Residuals:      </th>  <td>  1310</td> \n",
       "</tr>\n",
       "<tr>\n",
       "  <th>Model Family:</th>          <td>Gamma</td>      <th>  Df Model:          </th>  <td>     8</td> \n",
       "</tr>\n",
       "<tr>\n",
       "  <th>Link Function:</th>          <td>Log</td>       <th>  Scale:             </th> <td>  3.1713</td>\n",
       "</tr>\n",
       "<tr>\n",
       "  <th>Method:</th>                <td>lbfgs</td>      <th>  Log-Likelihood:    </th> <td>  2367.1</td>\n",
       "</tr>\n",
       "<tr>\n",
       "  <th>Date:</th>            <td>Mon, 14 Aug 2023</td> <th>  Deviance:          </th> <td>  2861.4</td>\n",
       "</tr>\n",
       "<tr>\n",
       "  <th>Time:</th>                <td>21:44:30</td>     <th>  Pearson chi2:      </th> <td>4.15e+03</td>\n",
       "</tr>\n",
       "<tr>\n",
       "  <th>No. Iterations:</th>         <td>16</td>        <th>  Pseudo R-squ. (CS):</th>  <td>0.07930</td>\n",
       "</tr>\n",
       "<tr>\n",
       "  <th>Covariance Type:</th>     <td>nonrobust</td>    <th>                     </th>     <td> </td>   \n",
       "</tr>\n",
       "</table>\n",
       "<table class=\"simpletable\">\n",
       "<tr>\n",
       "              <td></td>                <th>coef</th>     <th>std err</th>      <th>z</th>      <th>P>|z|</th>  <th>[0.025</th>    <th>0.975]</th>  \n",
       "</tr>\n",
       "<tr>\n",
       "  <th>educ_center</th>              <td>    1.4805</td> <td>    0.331</td> <td>    4.476</td> <td> 0.000</td> <td>    0.832</td> <td>    2.129</td>\n",
       "</tr>\n",
       "<tr>\n",
       "  <th>wrkstat_Keeping_house</th>    <td>   -4.5508</td> <td>    0.267</td> <td>  -17.043</td> <td> 0.000</td> <td>   -5.074</td> <td>   -4.027</td>\n",
       "</tr>\n",
       "<tr>\n",
       "  <th>wrkstat_Other</th>            <td>   -3.9870</td> <td>    0.418</td> <td>   -9.535</td> <td> 0.000</td> <td>   -4.807</td> <td>   -3.167</td>\n",
       "</tr>\n",
       "<tr>\n",
       "  <th>wrkstat_Retired</th>          <td>   -4.2569</td> <td>    0.241</td> <td>  -17.699</td> <td> 0.000</td> <td>   -4.728</td> <td>   -3.786</td>\n",
       "</tr>\n",
       "<tr>\n",
       "  <th>wrkstat_School</th>           <td>   -4.4415</td> <td>    0.356</td> <td>  -12.479</td> <td> 0.000</td> <td>   -5.139</td> <td>   -3.744</td>\n",
       "</tr>\n",
       "<tr>\n",
       "  <th>wrkstat_Temp_not_working</th> <td>   -3.8865</td> <td>    0.416</td> <td>   -9.342</td> <td> 0.000</td> <td>   -4.702</td> <td>   -3.071</td>\n",
       "</tr>\n",
       "<tr>\n",
       "  <th>wrkstat_Unempl,_laid_off</th> <td>   -3.7014</td> <td>    0.319</td> <td>  -11.608</td> <td> 0.000</td> <td>   -4.326</td> <td>   -3.076</td>\n",
       "</tr>\n",
       "<tr>\n",
       "  <th>wrkstat_Working_fulltime</th> <td>   -3.3562</td> <td>    0.241</td> <td>  -13.943</td> <td> 0.000</td> <td>   -3.828</td> <td>   -2.884</td>\n",
       "</tr>\n",
       "<tr>\n",
       "  <th>wrkstat_Working_parttime</th> <td>   -3.9947</td> <td>    0.258</td> <td>  -15.489</td> <td> 0.000</td> <td>   -4.500</td> <td>   -3.489</td>\n",
       "</tr>\n",
       "</table>"
      ],
      "text/latex": [
       "\\begin{center}\n",
       "\\begin{tabular}{lclc}\n",
       "\\toprule\n",
       "\\textbf{Dep. Variable:}              &      noise       & \\textbf{  No. Observations:  } &     1319    \\\\\n",
       "\\textbf{Model:}                      &       GLM        & \\textbf{  Df Residuals:      } &     1310    \\\\\n",
       "\\textbf{Model Family:}               &      Gamma       & \\textbf{  Df Model:          } &        8    \\\\\n",
       "\\textbf{Link Function:}              &       Log        & \\textbf{  Scale:             } &    3.1713   \\\\\n",
       "\\textbf{Method:}                     &      lbfgs       & \\textbf{  Log-Likelihood:    } &    2367.1   \\\\\n",
       "\\textbf{Date:}                       & Mon, 14 Aug 2023 & \\textbf{  Deviance:          } &    2861.4   \\\\\n",
       "\\textbf{Time:}                       &     21:44:30     & \\textbf{  Pearson chi2:      } &  4.15e+03   \\\\\n",
       "\\textbf{No. Iterations:}             &        16        & \\textbf{  Pseudo R-squ. (CS):} &  0.07930    \\\\\n",
       "\\textbf{Covariance Type:}            &    nonrobust     & \\textbf{                     } &             \\\\\n",
       "\\bottomrule\n",
       "\\end{tabular}\n",
       "\\begin{tabular}{lcccccc}\n",
       "                                     & \\textbf{coef} & \\textbf{std err} & \\textbf{z} & \\textbf{P$> |$z$|$} & \\textbf{[0.025} & \\textbf{0.975]}  \\\\\n",
       "\\midrule\n",
       "\\textbf{educ\\_center}                &       1.4805  &        0.331     &     4.476  &         0.000        &        0.832    &        2.129     \\\\\n",
       "\\textbf{wrkstat\\_Keeping\\_house}     &      -4.5508  &        0.267     &   -17.043  &         0.000        &       -5.074    &       -4.027     \\\\\n",
       "\\textbf{wrkstat\\_Other}              &      -3.9870  &        0.418     &    -9.535  &         0.000        &       -4.807    &       -3.167     \\\\\n",
       "\\textbf{wrkstat\\_Retired}            &      -4.2569  &        0.241     &   -17.699  &         0.000        &       -4.728    &       -3.786     \\\\\n",
       "\\textbf{wrkstat\\_School}             &      -4.4415  &        0.356     &   -12.479  &         0.000        &       -5.139    &       -3.744     \\\\\n",
       "\\textbf{wrkstat\\_Temp\\_not\\_working} &      -3.8865  &        0.416     &    -9.342  &         0.000        &       -4.702    &       -3.071     \\\\\n",
       "\\textbf{wrkstat\\_Unempl,\\_laid\\_off} &      -3.7014  &        0.319     &   -11.608  &         0.000        &       -4.326    &       -3.076     \\\\\n",
       "\\textbf{wrkstat\\_Working\\_fulltime}  &      -3.3562  &        0.241     &   -13.943  &         0.000        &       -3.828    &       -2.884     \\\\\n",
       "\\textbf{wrkstat\\_Working\\_parttime}  &      -3.9947  &        0.258     &   -15.489  &         0.000        &       -4.500    &       -3.489     \\\\\n",
       "\\bottomrule\n",
       "\\end{tabular}\n",
       "%\\caption{Generalized Linear Model Regression Results}\n",
       "\\end{center}"
      ],
      "text/plain": [
       "<class 'statsmodels.iolib.summary.Summary'>\n",
       "\"\"\"\n",
       "                 Generalized Linear Model Regression Results                  \n",
       "==============================================================================\n",
       "Dep. Variable:                  noise   No. Observations:                 1319\n",
       "Model:                            GLM   Df Residuals:                     1310\n",
       "Model Family:                   Gamma   Df Model:                            8\n",
       "Link Function:                    Log   Scale:                          3.1713\n",
       "Method:                         lbfgs   Log-Likelihood:                 2367.1\n",
       "Date:                Mon, 14 Aug 2023   Deviance:                       2861.4\n",
       "Time:                        21:44:30   Pearson chi2:                 4.15e+03\n",
       "No. Iterations:                    16   Pseudo R-squ. (CS):            0.07930\n",
       "Covariance Type:            nonrobust                                         \n",
       "============================================================================================\n",
       "                               coef    std err          z      P>|z|      [0.025      0.975]\n",
       "--------------------------------------------------------------------------------------------\n",
       "educ_center                  1.4805      0.331      4.476      0.000       0.832       2.129\n",
       "wrkstat_Keeping_house       -4.5508      0.267    -17.043      0.000      -5.074      -4.027\n",
       "wrkstat_Other               -3.9870      0.418     -9.535      0.000      -4.807      -3.167\n",
       "wrkstat_Retired             -4.2569      0.241    -17.699      0.000      -4.728      -3.786\n",
       "wrkstat_School              -4.4415      0.356    -12.479      0.000      -5.139      -3.744\n",
       "wrkstat_Temp_not_working    -3.8865      0.416     -9.342      0.000      -4.702      -3.071\n",
       "wrkstat_Unempl,_laid_off    -3.7014      0.319    -11.608      0.000      -4.326      -3.076\n",
       "wrkstat_Working_fulltime    -3.3562      0.241    -13.943      0.000      -3.828      -2.884\n",
       "wrkstat_Working_parttime    -3.9947      0.258    -15.489      0.000      -4.500      -3.489\n",
       "============================================================================================\n",
       "\"\"\""
      ]
     },
     "execution_count": 156,
     "metadata": {},
     "output_type": "execute_result"
    }
   ],
   "source": [
    "link_function = stm.genmod.families.links.Log()\n",
    "gm_model = stm.api.GLM(y_train, X_train_choice, family=stm.api.families.Gamma(link=link_function))\n",
    "gm_res = gm_model.fit(method='lbfgs')\n",
    "gm_res.summary()"
   ]
  },
  {
   "cell_type": "code",
   "execution_count": 157,
   "metadata": {
    "ExecuteTime": {
     "end_time": "2023-08-14T14:30:54.065624879Z",
     "start_time": "2023-08-14T14:30:54.025721213Z"
    }
   },
   "outputs": [],
   "source": [
    "y_pred = gm_res.predict(X_test_choice)"
   ]
  },
  {
   "cell_type": "code",
   "execution_count": 158,
   "metadata": {
    "ExecuteTime": {
     "end_time": "2023-08-14T14:30:54.101022381Z",
     "start_time": "2023-08-14T14:30:54.034802481Z"
    }
   },
   "outputs": [
    {
     "name": "stdout",
     "output_type": "stream",
     "text": [
      "(330,)\n"
     ]
    }
   ],
   "source": [
    "print(y_pred.shape)"
   ]
  },
  {
   "cell_type": "code",
   "execution_count": 159,
   "metadata": {
    "ExecuteTime": {
     "end_time": "2023-08-14T14:30:54.105421392Z",
     "start_time": "2023-08-14T14:30:54.044973065Z"
    }
   },
   "outputs": [
    {
     "name": "stdout",
     "output_type": "stream",
     "text": [
      "metrics, mse: 0.008810617366608622, rmse: 0.09386488889147326, r2: 0.11018231120274202\n"
     ]
    }
   ],
   "source": [
    "print_metrics(y_test, y_pred)"
   ]
  }
 ],
 "metadata": {
  "kernelspec": {
   "display_name": "venv",
   "language": "python",
   "name": "python3"
  },
  "language_info": {
   "codemirror_mode": {
    "name": "ipython",
    "version": 3
   },
   "file_extension": ".py",
   "mimetype": "text/x-python",
   "name": "python",
   "nbconvert_exporter": "python",
   "pygments_lexer": "ipython3",
   "version": "3.10.8"
  },
  "orig_nbformat": 4
 },
 "nbformat": 4,
 "nbformat_minor": 2
}
