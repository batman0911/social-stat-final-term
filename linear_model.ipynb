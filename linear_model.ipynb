{
 "cells": [
  {
   "cell_type": "code",
   "execution_count": 227,
   "metadata": {},
   "outputs": [],
   "source": [
    "import sklearn as sk\n",
    "from sklearn import linear_model\n",
    "import pandas as pd\n",
    "import numpy as np"
   ]
  },
  {
   "cell_type": "code",
   "execution_count": 228,
   "metadata": {},
   "outputs": [],
   "source": [
    "X = pd.read_csv('data/preprocessing/X_fill.csv')\n",
    "y = pd.read_csv('data/preprocessing/y.csv')"
   ]
  },
  {
   "cell_type": "code",
   "execution_count": 229,
   "metadata": {},
   "outputs": [
    {
     "data": {
      "text/plain": [
       "Index(['educ_center',\n",
       "       'harass5_Does not apply (i do not have a job/superior/co-worker)',\n",
       "       'harass5_No', 'harass5_Yes', 'harass5_unknown', 'polviews_Conservative',\n",
       "       'polviews_Extremely liberal', 'polviews_Extrmly conservative',\n",
       "       'polviews_Liberal', 'polviews_Moderate',\n",
       "       'polviews_Slghtly conservative', 'polviews_Slightly liberal',\n",
       "       'polviews_unknown', 'advfront_Agree', 'advfront_Disagree',\n",
       "       'advfront_Dont know', 'advfront_Strongly agree',\n",
       "       'advfront_Strongly disagree', 'advfront_unknown', 'snapchat_No',\n",
       "       'snapchat_Yes', 'snapchat_unknown', 'instagrm_No', 'instagrm_Yes',\n",
       "       'instagrm_unknown', 'wrkstat_Keeping house', 'wrkstat_Other',\n",
       "       'wrkstat_Retired', 'wrkstat_School', 'wrkstat_Temp not working',\n",
       "       'wrkstat_Unempl, laid off', 'wrkstat_Working fulltime',\n",
       "       'wrkstat_Working parttime', 'wrkstat_unknown'],\n",
       "      dtype='object')"
      ]
     },
     "execution_count": 229,
     "metadata": {},
     "output_type": "execute_result"
    }
   ],
   "source": [
    "X.columns"
   ]
  },
  {
   "cell_type": "code",
   "execution_count": 230,
   "metadata": {},
   "outputs": [],
   "source": [
    "size = y.shape[0]\n",
    "mu = 0\n",
    "sigma = 1e-6\n",
    "noise = np.random.normal(mu,sigma,size)"
   ]
  },
  {
   "cell_type": "code",
   "execution_count": 231,
   "metadata": {},
   "outputs": [],
   "source": [
    "y['noise'] = y['email_time_center'] + sigma"
   ]
  },
  {
   "cell_type": "code",
   "execution_count": 232,
   "metadata": {},
   "outputs": [
    {
     "data": {
      "text/html": [
       "<div>\n",
       "<style scoped>\n",
       "    .dataframe tbody tr th:only-of-type {\n",
       "        vertical-align: middle;\n",
       "    }\n",
       "\n",
       "    .dataframe tbody tr th {\n",
       "        vertical-align: top;\n",
       "    }\n",
       "\n",
       "    .dataframe thead th {\n",
       "        text-align: right;\n",
       "    }\n",
       "</style>\n",
       "<table border=\"1\" class=\"dataframe\">\n",
       "  <thead>\n",
       "    <tr style=\"text-align: right;\">\n",
       "      <th></th>\n",
       "      <th>email_time_center</th>\n",
       "      <th>noise</th>\n",
       "    </tr>\n",
       "  </thead>\n",
       "  <tbody>\n",
       "  </tbody>\n",
       "</table>\n",
       "</div>"
      ],
      "text/plain": [
       "Empty DataFrame\n",
       "Columns: [email_time_center, noise]\n",
       "Index: []"
      ]
     },
     "execution_count": 232,
     "metadata": {},
     "output_type": "execute_result"
    }
   ],
   "source": [
    "y[y['noise'] == 0]"
   ]
  },
  {
   "cell_type": "code",
   "execution_count": 233,
   "metadata": {},
   "outputs": [
    {
     "data": {
      "text/plain": [
       "array([[<Axes: title={'center': 'email_time_center'}>,\n",
       "        <Axes: title={'center': 'noise'}>]], dtype=object)"
      ]
     },
     "execution_count": 233,
     "metadata": {},
     "output_type": "execute_result"
    },
    {
     "data": {
      "image/png": "[encoded data removed]",
      "text/plain": [
       "<Figure size 640x480 with 2 Axes>"
      ]
     },
     "metadata": {},
     "output_type": "display_data"
    }
   ],
   "source": [
    "y.hist()"
   ]
  },
  {
   "cell_type": "code",
   "execution_count": 234,
   "metadata": {},
   "outputs": [],
   "source": [
    "from sklearn.model_selection import train_test_split"
   ]
  },
  {
   "cell_type": "code",
   "execution_count": 235,
   "metadata": {},
   "outputs": [],
   "source": [
    "X_train, X_test, y_train, y_test = train_test_split(X, y['noise'], test_size=0.2, random_state=42)"
   ]
  },
  {
   "cell_type": "code",
   "execution_count": 236,
   "metadata": {},
   "outputs": [
    {
     "name": "stdout",
     "output_type": "stream",
     "text": [
      "(1319, 34)\n",
      "(1319,)\n"
     ]
    }
   ],
   "source": [
    "print(X_train.shape)\n",
    "print(y_train.shape)"
   ]
  },
  {
   "cell_type": "code",
   "execution_count": 237,
   "metadata": {},
   "outputs": [],
   "source": [
    "# y_train.hist()"
   ]
  },
  {
   "cell_type": "code",
   "execution_count": 238,
   "metadata": {},
   "outputs": [],
   "source": [
    "# y_train_log = np.log(y_train)\n",
    "# y_train_log.hist()"
   ]
  },
  {
   "cell_type": "code",
   "execution_count": 239,
   "metadata": {},
   "outputs": [],
   "source": [
    "# clf = linear_model.GammaRegressor()\n",
    "# clf.fit(X_train, y_train)"
   ]
  },
  {
   "cell_type": "code",
   "execution_count": 240,
   "metadata": {},
   "outputs": [],
   "source": [
    "# clf.coef_"
   ]
  },
  {
   "cell_type": "code",
   "execution_count": 241,
   "metadata": {},
   "outputs": [],
   "source": [
    "# y_pred = clf.predict(X_test)"
   ]
  },
  {
   "cell_type": "code",
   "execution_count": 242,
   "metadata": {},
   "outputs": [],
   "source": [
    "# from sklearn.metrics import mean_squared_error\n",
    "\n",
    "# mean_squared_error(y_test, y_pred)"
   ]
  },
  {
   "cell_type": "code",
   "execution_count": 243,
   "metadata": {},
   "outputs": [],
   "source": [
    "# y_train_log = np.log(y_train)\n",
    "# y_test_log = np.log(y_test)"
   ]
  },
  {
   "cell_type": "code",
   "execution_count": 244,
   "metadata": {},
   "outputs": [],
   "source": [
    "# y_test_log.shape"
   ]
  },
  {
   "cell_type": "code",
   "execution_count": 245,
   "metadata": {},
   "outputs": [],
   "source": [
    "# from sklearn.linear_model import ElasticNet\n",
    "\n",
    "# regr = ElasticNet(random_state=0)\n",
    "# regr.fit(X_train, y_train_log)"
   ]
  },
  {
   "cell_type": "code",
   "execution_count": 246,
   "metadata": {},
   "outputs": [],
   "source": [
    "# y_pred = np.exp(regr.predict(X_test))\n",
    "\n",
    "# mean_squared_error(y_test, y_pred)"
   ]
  },
  {
   "cell_type": "code",
   "execution_count": 247,
   "metadata": {},
   "outputs": [
    {
     "name": "stderr",
     "output_type": "stream",
     "text": [
      "/Users/linhnm/msc_source/social-stat-final-term/venv/lib/python3.10/site-packages/statsmodels/base/model.py:595: HessianInversionWarning: Inverting hessian failed, no bse or cov_params available\n",
      "  warnings.warn('Inverting hessian failed, no bse or cov_params '\n",
      "/Users/linhnm/msc_source/social-stat-final-term/venv/lib/python3.10/site-packages/statsmodels/base/model.py:607: ConvergenceWarning: Maximum Likelihood optimization failed to converge. Check mle_retvals\n",
      "  warnings.warn(\"Maximum Likelihood optimization failed to \"\n"
     ]
    },
    {
     "data": {
      "text/html": [
       "<table class=\"simpletable\">\n",
       "<caption>Generalized Linear Model Regression Results</caption>\n",
       "<tr>\n",
       "  <th>Dep. Variable:</th>         <td>noise</td>      <th>  No. Observations:  </th>  <td>  1319</td> \n",
       "</tr>\n",
       "<tr>\n",
       "  <th>Model:</th>                  <td>GLM</td>       <th>  Df Residuals:      </th>  <td>  1291</td> \n",
       "</tr>\n",
       "<tr>\n",
       "  <th>Model Family:</th>          <td>Gamma</td>      <th>  Df Model:          </th>  <td>    27</td> \n",
       "</tr>\n",
       "<tr>\n",
       "  <th>Link Function:</th>          <td>Log</td>       <th>  Scale:             </th> <td>  3.1800</td>\n",
       "</tr>\n",
       "<tr>\n",
       "  <th>Method:</th>                <td>lbfgs</td>      <th>  Log-Likelihood:    </th> <td>  3317.8</td>\n",
       "</tr>\n",
       "<tr>\n",
       "  <th>Date:</th>            <td>Mon, 14 Aug 2023</td> <th>  Deviance:          </th> <td>  5260.4</td>\n",
       "</tr>\n",
       "<tr>\n",
       "  <th>Time:</th>                <td>00:50:49</td>     <th>  Pearson chi2:      </th> <td>4.11e+03</td>\n",
       "</tr>\n",
       "<tr>\n",
       "  <th>No. Iterations:</th>         <td>100</td>       <th>  Pseudo R-squ. (CS):</th>  <td>0.09962</td>\n",
       "</tr>\n",
       "<tr>\n",
       "  <th>Covariance Type:</th>     <td>nonrobust</td>    <th>                     </th>     <td> </td>   \n",
       "</tr>\n",
       "</table>\n",
       "<table class=\"simpletable\">\n",
       "<tr>\n",
       "                                 <td></td>                                    <th>coef</th>     <th>std err</th>      <th>z</th>      <th>P>|z|</th>  <th>[0.025</th>    <th>0.975]</th>  \n",
       "</tr>\n",
       "<tr>\n",
       "  <th>educ_center</th>                                                     <td>    2.0675</td> <td>    0.374</td> <td>    5.529</td> <td> 0.000</td> <td>    1.335</td> <td>    2.800</td>\n",
       "</tr>\n",
       "<tr>\n",
       "  <th>harass5_Does not apply (i do not have a job/superior/co-worker)</th> <td>   -1.2288</td> <td> 3.23e+06</td> <td> -3.8e-07</td> <td> 1.000</td> <td>-6.33e+06</td> <td> 6.33e+06</td>\n",
       "</tr>\n",
       "<tr>\n",
       "  <th>harass5_No</th>                                                      <td>   -0.3848</td> <td> 3.26e+06</td> <td>-1.18e-07</td> <td> 1.000</td> <td>-6.39e+06</td> <td> 6.39e+06</td>\n",
       "</tr>\n",
       "<tr>\n",
       "  <th>harass5_Yes</th>                                                     <td>   -0.1423</td> <td> 3.27e+06</td> <td>-4.35e-08</td> <td> 1.000</td> <td>-6.41e+06</td> <td> 6.41e+06</td>\n",
       "</tr>\n",
       "<tr>\n",
       "  <th>harass5_unknown</th>                                                 <td>   -1.2461</td> <td> 3.18e+06</td> <td>-3.92e-07</td> <td> 1.000</td> <td>-6.22e+06</td> <td> 6.22e+06</td>\n",
       "</tr>\n",
       "<tr>\n",
       "  <th>polviews_Conservative</th>                                           <td>   -0.3887</td> <td> 1.62e+06</td> <td>-2.39e-07</td> <td> 1.000</td> <td>-3.18e+06</td> <td> 3.18e+06</td>\n",
       "</tr>\n",
       "<tr>\n",
       "  <th>polviews_Extremely liberal</th>                                      <td>   -0.4361</td> <td>  1.8e+06</td> <td>-2.43e-07</td> <td> 1.000</td> <td>-3.52e+06</td> <td> 3.52e+06</td>\n",
       "</tr>\n",
       "<tr>\n",
       "  <th>polviews_Extrmly conservative</th>                                   <td>   -0.9037</td> <td> 8.36e+05</td> <td>-1.08e-06</td> <td> 1.000</td> <td>-1.64e+06</td> <td> 1.64e+06</td>\n",
       "</tr>\n",
       "<tr>\n",
       "  <th>polviews_Liberal</th>                                                <td>   -0.4826</td> <td>      nan</td> <td>      nan</td> <td>   nan</td> <td>      nan</td> <td>      nan</td>\n",
       "</tr>\n",
       "<tr>\n",
       "  <th>polviews_Moderate</th>                                               <td>   -0.2764</td> <td> 9.35e+05</td> <td>-2.96e-07</td> <td> 1.000</td> <td>-1.83e+06</td> <td> 1.83e+06</td>\n",
       "</tr>\n",
       "<tr>\n",
       "  <th>polviews_Slghtly conservative</th>                                   <td>   -0.4119</td> <td> 1.11e+06</td> <td> -3.7e-07</td> <td> 1.000</td> <td>-2.18e+06</td> <td> 2.18e+06</td>\n",
       "</tr>\n",
       "<tr>\n",
       "  <th>polviews_Slightly liberal</th>                                       <td>   -0.2431</td> <td> 1.97e+06</td> <td>-1.23e-07</td> <td> 1.000</td> <td>-3.87e+06</td> <td> 3.87e+06</td>\n",
       "</tr>\n",
       "<tr>\n",
       "  <th>polviews_unknown</th>                                                <td>    0.1406</td> <td> 1.58e+06</td> <td> 8.87e-08</td> <td> 1.000</td> <td>-3.11e+06</td> <td> 3.11e+06</td>\n",
       "</tr>\n",
       "<tr>\n",
       "  <th>advfront_Agree</th>                                                  <td>   -0.5061</td> <td> 4.06e+06</td> <td>-1.25e-07</td> <td> 1.000</td> <td>-7.96e+06</td> <td> 7.96e+06</td>\n",
       "</tr>\n",
       "<tr>\n",
       "  <th>advfront_Disagree</th>                                               <td>   -0.2314</td> <td> 4.23e+06</td> <td>-5.47e-08</td> <td> 1.000</td> <td>-8.29e+06</td> <td> 8.29e+06</td>\n",
       "</tr>\n",
       "<tr>\n",
       "  <th>advfront_Dont know</th>                                              <td>   -0.1165</td> <td> 4.29e+06</td> <td>-2.72e-08</td> <td> 1.000</td> <td> -8.4e+06</td> <td>  8.4e+06</td>\n",
       "</tr>\n",
       "<tr>\n",
       "  <th>advfront_Strongly agree</th>                                         <td>   -0.4819</td> <td> 4.12e+06</td> <td>-1.17e-07</td> <td> 1.000</td> <td>-8.07e+06</td> <td> 8.07e+06</td>\n",
       "</tr>\n",
       "<tr>\n",
       "  <th>advfront_Strongly disagree</th>                                      <td>   -0.1160</td> <td>  4.2e+06</td> <td>-2.76e-08</td> <td> 1.000</td> <td>-8.24e+06</td> <td> 8.24e+06</td>\n",
       "</tr>\n",
       "<tr>\n",
       "  <th>advfront_unknown</th>                                                <td>   -1.5501</td> <td> 4.26e+06</td> <td>-3.64e-07</td> <td> 1.000</td> <td>-8.35e+06</td> <td> 8.35e+06</td>\n",
       "</tr>\n",
       "<tr>\n",
       "  <th>snapchat_No</th>                                                     <td>   -1.1149</td> <td>      nan</td> <td>      nan</td> <td>   nan</td> <td>      nan</td> <td>      nan</td>\n",
       "</tr>\n",
       "<tr>\n",
       "  <th>snapchat_Yes</th>                                                    <td>   -0.8282</td> <td>      nan</td> <td>      nan</td> <td>   nan</td> <td>      nan</td> <td>      nan</td>\n",
       "</tr>\n",
       "<tr>\n",
       "  <th>snapchat_unknown</th>                                                <td>   -1.0589</td> <td> 5.69e+06</td> <td>-1.86e-07</td> <td> 1.000</td> <td>-1.12e+07</td> <td> 1.12e+07</td>\n",
       "</tr>\n",
       "<tr>\n",
       "  <th>instagrm_No</th>                                                     <td>   -0.8868</td> <td> 4.23e+06</td> <td> -2.1e-07</td> <td> 1.000</td> <td>-8.29e+06</td> <td> 8.29e+06</td>\n",
       "</tr>\n",
       "<tr>\n",
       "  <th>instagrm_Yes</th>                                                    <td>   -1.0563</td> <td> 4.86e+06</td> <td>-2.17e-07</td> <td> 1.000</td> <td>-9.52e+06</td> <td> 9.52e+06</td>\n",
       "</tr>\n",
       "<tr>\n",
       "  <th>instagrm_unknown</th>                                                <td>   -1.0589</td> <td> 7.19e+06</td> <td>-1.47e-07</td> <td> 1.000</td> <td>-1.41e+07</td> <td> 1.41e+07</td>\n",
       "</tr>\n",
       "<tr>\n",
       "  <th>wrkstat_Keeping house</th>                                           <td>   -0.7833</td> <td> 5.44e+06</td> <td>-1.44e-07</td> <td> 1.000</td> <td>-1.07e+07</td> <td> 1.07e+07</td>\n",
       "</tr>\n",
       "<tr>\n",
       "  <th>wrkstat_Other</th>                                                   <td>   -0.0593</td> <td> 5.44e+06</td> <td>-1.09e-08</td> <td> 1.000</td> <td>-1.07e+07</td> <td> 1.07e+07</td>\n",
       "</tr>\n",
       "<tr>\n",
       "  <th>wrkstat_Retired</th>                                                 <td>   -0.6486</td> <td> 5.44e+06</td> <td>-1.19e-07</td> <td> 1.000</td> <td>-1.07e+07</td> <td> 1.07e+07</td>\n",
       "</tr>\n",
       "<tr>\n",
       "  <th>wrkstat_School</th>                                                  <td>   -0.7366</td> <td> 5.44e+06</td> <td>-1.35e-07</td> <td> 1.000</td> <td>-1.07e+07</td> <td> 1.07e+07</td>\n",
       "</tr>\n",
       "<tr>\n",
       "  <th>wrkstat_Temp not working</th>                                        <td>   -0.0606</td> <td> 5.44e+06</td> <td>-1.11e-08</td> <td> 1.000</td> <td>-1.07e+07</td> <td> 1.07e+07</td>\n",
       "</tr>\n",
       "<tr>\n",
       "  <th>wrkstat_Unempl, laid off</th>                                        <td>   -0.1454</td> <td> 5.44e+06</td> <td>-2.67e-08</td> <td> 1.000</td> <td>-1.07e+07</td> <td> 1.07e+07</td>\n",
       "</tr>\n",
       "<tr>\n",
       "  <th>wrkstat_Working fulltime</th>                                        <td>    0.3351</td> <td> 5.44e+06</td> <td> 6.16e-08</td> <td> 1.000</td> <td>-1.07e+07</td> <td> 1.07e+07</td>\n",
       "</tr>\n",
       "<tr>\n",
       "  <th>wrkstat_Working parttime</th>                                        <td>   -0.2929</td> <td> 5.44e+06</td> <td>-5.38e-08</td> <td> 1.000</td> <td>-1.07e+07</td> <td> 1.07e+07</td>\n",
       "</tr>\n",
       "<tr>\n",
       "  <th>wrkstat_unknown</th>                                                 <td>   -0.6105</td> <td> 5.44e+06</td> <td>-1.12e-07</td> <td> 1.000</td> <td>-1.07e+07</td> <td> 1.07e+07</td>\n",
       "</tr>\n",
       "</table>"
      ],
      "text/latex": [
       "\\begin{center}\n",
       "\\begin{tabular}{lclc}\n",
       "\\toprule\n",
       "\\textbf{Dep. Variable:}                                                   &      noise       & \\textbf{  No. Observations:  } &     1319    \\\\\n",
       "\\textbf{Model:}                                                           &       GLM        & \\textbf{  Df Residuals:      } &     1291    \\\\\n",
       "\\textbf{Model Family:}                                                    &      Gamma       & \\textbf{  Df Model:          } &       27    \\\\\n",
       "\\textbf{Link Function:}                                                   &       Log        & \\textbf{  Scale:             } &    3.1800   \\\\\n",
       "\\textbf{Method:}                                                          &      lbfgs       & \\textbf{  Log-Likelihood:    } &    3317.8   \\\\\n",
       "\\textbf{Date:}                                                            & Mon, 14 Aug 2023 & \\textbf{  Deviance:          } &    5260.4   \\\\\n",
       "\\textbf{Time:}                                                            &     00:50:49     & \\textbf{  Pearson chi2:      } &  4.11e+03   \\\\\n",
       "\\textbf{No. Iterations:}                                                  &       100        & \\textbf{  Pseudo R-squ. (CS):} &  0.09962    \\\\\n",
       "\\textbf{Covariance Type:}                                                 &    nonrobust     & \\textbf{                     } &             \\\\\n",
       "\\bottomrule\n",
       "\\end{tabular}\n",
       "\\begin{tabular}{lcccccc}\n",
       "                                                                          & \\textbf{coef} & \\textbf{std err} & \\textbf{z} & \\textbf{P$> |$z$|$} & \\textbf{[0.025} & \\textbf{0.975]}  \\\\\n",
       "\\midrule\n",
       "\\textbf{educ\\_center}                                                     &       2.0675  &        0.374     &     5.529  &         0.000        &        1.335    &        2.800     \\\\\n",
       "\\textbf{harass5\\_Does not apply (i do not have a job/superior/co-worker)} &      -1.2288  &     3.23e+06     &  -3.8e-07  &         1.000        &    -6.33e+06    &     6.33e+06     \\\\\n",
       "\\textbf{harass5\\_No}                                                      &      -0.3848  &     3.26e+06     & -1.18e-07  &         1.000        &    -6.39e+06    &     6.39e+06     \\\\\n",
       "\\textbf{harass5\\_Yes}                                                     &      -0.1423  &     3.27e+06     & -4.35e-08  &         1.000        &    -6.41e+06    &     6.41e+06     \\\\\n",
       "\\textbf{harass5\\_unknown}                                                 &      -1.2461  &     3.18e+06     & -3.92e-07  &         1.000        &    -6.22e+06    &     6.22e+06     \\\\\n",
       "\\textbf{polviews\\_Conservative}                                           &      -0.3887  &     1.62e+06     & -2.39e-07  &         1.000        &    -3.18e+06    &     3.18e+06     \\\\\n",
       "\\textbf{polviews\\_Extremely liberal}                                      &      -0.4361  &      1.8e+06     & -2.43e-07  &         1.000        &    -3.52e+06    &     3.52e+06     \\\\\n",
       "\\textbf{polviews\\_Extrmly conservative}                                   &      -0.9037  &     8.36e+05     & -1.08e-06  &         1.000        &    -1.64e+06    &     1.64e+06     \\\\\n",
       "\\textbf{polviews\\_Liberal}                                                &      -0.4826  &          nan     &       nan  &           nan        &          nan    &          nan     \\\\\n",
       "\\textbf{polviews\\_Moderate}                                               &      -0.2764  &     9.35e+05     & -2.96e-07  &         1.000        &    -1.83e+06    &     1.83e+06     \\\\\n",
       "\\textbf{polviews\\_Slghtly conservative}                                   &      -0.4119  &     1.11e+06     &  -3.7e-07  &         1.000        &    -2.18e+06    &     2.18e+06     \\\\\n",
       "\\textbf{polviews\\_Slightly liberal}                                       &      -0.2431  &     1.97e+06     & -1.23e-07  &         1.000        &    -3.87e+06    &     3.87e+06     \\\\\n",
       "\\textbf{polviews\\_unknown}                                                &       0.1406  &     1.58e+06     &  8.87e-08  &         1.000        &    -3.11e+06    &     3.11e+06     \\\\\n",
       "\\textbf{advfront\\_Agree}                                                  &      -0.5061  &     4.06e+06     & -1.25e-07  &         1.000        &    -7.96e+06    &     7.96e+06     \\\\\n",
       "\\textbf{advfront\\_Disagree}                                               &      -0.2314  &     4.23e+06     & -5.47e-08  &         1.000        &    -8.29e+06    &     8.29e+06     \\\\\n",
       "\\textbf{advfront\\_Dont know}                                              &      -0.1165  &     4.29e+06     & -2.72e-08  &         1.000        &     -8.4e+06    &      8.4e+06     \\\\\n",
       "\\textbf{advfront\\_Strongly agree}                                         &      -0.4819  &     4.12e+06     & -1.17e-07  &         1.000        &    -8.07e+06    &     8.07e+06     \\\\\n",
       "\\textbf{advfront\\_Strongly disagree}                                      &      -0.1160  &      4.2e+06     & -2.76e-08  &         1.000        &    -8.24e+06    &     8.24e+06     \\\\\n",
       "\\textbf{advfront\\_unknown}                                                &      -1.5501  &     4.26e+06     & -3.64e-07  &         1.000        &    -8.35e+06    &     8.35e+06     \\\\\n",
       "\\textbf{snapchat\\_No}                                                     &      -1.1149  &          nan     &       nan  &           nan        &          nan    &          nan     \\\\\n",
       "\\textbf{snapchat\\_Yes}                                                    &      -0.8282  &          nan     &       nan  &           nan        &          nan    &          nan     \\\\\n",
       "\\textbf{snapchat\\_unknown}                                                &      -1.0589  &     5.69e+06     & -1.86e-07  &         1.000        &    -1.12e+07    &     1.12e+07     \\\\\n",
       "\\textbf{instagrm\\_No}                                                     &      -0.8868  &     4.23e+06     &  -2.1e-07  &         1.000        &    -8.29e+06    &     8.29e+06     \\\\\n",
       "\\textbf{instagrm\\_Yes}                                                    &      -1.0563  &     4.86e+06     & -2.17e-07  &         1.000        &    -9.52e+06    &     9.52e+06     \\\\\n",
       "\\textbf{instagrm\\_unknown}                                                &      -1.0589  &     7.19e+06     & -1.47e-07  &         1.000        &    -1.41e+07    &     1.41e+07     \\\\\n",
       "\\textbf{wrkstat\\_Keeping house}                                           &      -0.7833  &     5.44e+06     & -1.44e-07  &         1.000        &    -1.07e+07    &     1.07e+07     \\\\\n",
       "\\textbf{wrkstat\\_Other}                                                   &      -0.0593  &     5.44e+06     & -1.09e-08  &         1.000        &    -1.07e+07    &     1.07e+07     \\\\\n",
       "\\textbf{wrkstat\\_Retired}                                                 &      -0.6486  &     5.44e+06     & -1.19e-07  &         1.000        &    -1.07e+07    &     1.07e+07     \\\\\n",
       "\\textbf{wrkstat\\_School}                                                  &      -0.7366  &     5.44e+06     & -1.35e-07  &         1.000        &    -1.07e+07    &     1.07e+07     \\\\\n",
       "\\textbf{wrkstat\\_Temp not working}                                        &      -0.0606  &     5.44e+06     & -1.11e-08  &         1.000        &    -1.07e+07    &     1.07e+07     \\\\\n",
       "\\textbf{wrkstat\\_Unempl, laid off}                                        &      -0.1454  &     5.44e+06     & -2.67e-08  &         1.000        &    -1.07e+07    &     1.07e+07     \\\\\n",
       "\\textbf{wrkstat\\_Working fulltime}                                        &       0.3351  &     5.44e+06     &  6.16e-08  &         1.000        &    -1.07e+07    &     1.07e+07     \\\\\n",
       "\\textbf{wrkstat\\_Working parttime}                                        &      -0.2929  &     5.44e+06     & -5.38e-08  &         1.000        &    -1.07e+07    &     1.07e+07     \\\\\n",
       "\\textbf{wrkstat\\_unknown}                                                 &      -0.6105  &     5.44e+06     & -1.12e-07  &         1.000        &    -1.07e+07    &     1.07e+07     \\\\\n",
       "\\bottomrule\n",
       "\\end{tabular}\n",
       "%\\caption{Generalized Linear Model Regression Results}\n",
       "\\end{center}"
      ],
      "text/plain": [
       "<class 'statsmodels.iolib.summary.Summary'>\n",
       "\"\"\"\n",
       "                 Generalized Linear Model Regression Results                  \n",
       "==============================================================================\n",
       "Dep. Variable:                  noise   No. Observations:                 1319\n",
       "Model:                            GLM   Df Residuals:                     1291\n",
       "Model Family:                   Gamma   Df Model:                           27\n",
       "Link Function:                    Log   Scale:                          3.1800\n",
       "Method:                         lbfgs   Log-Likelihood:                 3317.8\n",
       "Date:                Mon, 14 Aug 2023   Deviance:                       5260.4\n",
       "Time:                        00:50:49   Pearson chi2:                 4.11e+03\n",
       "No. Iterations:                   100   Pseudo R-squ. (CS):            0.09962\n",
       "Covariance Type:            nonrobust                                         \n",
       "===================================================================================================================================\n",
       "                                                                      coef    std err          z      P>|z|      [0.025      0.975]\n",
       "-----------------------------------------------------------------------------------------------------------------------------------\n",
       "educ_center                                                         2.0675      0.374      5.529      0.000       1.335       2.800\n",
       "harass5_Does not apply (i do not have a job/superior/co-worker)    -1.2288   3.23e+06   -3.8e-07      1.000   -6.33e+06    6.33e+06\n",
       "harass5_No                                                         -0.3848   3.26e+06  -1.18e-07      1.000   -6.39e+06    6.39e+06\n",
       "harass5_Yes                                                        -0.1423   3.27e+06  -4.35e-08      1.000   -6.41e+06    6.41e+06\n",
       "harass5_unknown                                                    -1.2461   3.18e+06  -3.92e-07      1.000   -6.22e+06    6.22e+06\n",
       "polviews_Conservative                                              -0.3887   1.62e+06  -2.39e-07      1.000   -3.18e+06    3.18e+06\n",
       "polviews_Extremely liberal                                         -0.4361    1.8e+06  -2.43e-07      1.000   -3.52e+06    3.52e+06\n",
       "polviews_Extrmly conservative                                      -0.9037   8.36e+05  -1.08e-06      1.000   -1.64e+06    1.64e+06\n",
       "polviews_Liberal                                                   -0.4826        nan        nan        nan         nan         nan\n",
       "polviews_Moderate                                                  -0.2764   9.35e+05  -2.96e-07      1.000   -1.83e+06    1.83e+06\n",
       "polviews_Slghtly conservative                                      -0.4119   1.11e+06   -3.7e-07      1.000   -2.18e+06    2.18e+06\n",
       "polviews_Slightly liberal                                          -0.2431   1.97e+06  -1.23e-07      1.000   -3.87e+06    3.87e+06\n",
       "polviews_unknown                                                    0.1406   1.58e+06   8.87e-08      1.000   -3.11e+06    3.11e+06\n",
       "advfront_Agree                                                     -0.5061   4.06e+06  -1.25e-07      1.000   -7.96e+06    7.96e+06\n",
       "advfront_Disagree                                                  -0.2314   4.23e+06  -5.47e-08      1.000   -8.29e+06    8.29e+06\n",
       "advfront_Dont know                                                 -0.1165   4.29e+06  -2.72e-08      1.000    -8.4e+06     8.4e+06\n",
       "advfront_Strongly agree                                            -0.4819   4.12e+06  -1.17e-07      1.000   -8.07e+06    8.07e+06\n",
       "advfront_Strongly disagree                                         -0.1160    4.2e+06  -2.76e-08      1.000   -8.24e+06    8.24e+06\n",
       "advfront_unknown                                                   -1.5501   4.26e+06  -3.64e-07      1.000   -8.35e+06    8.35e+06\n",
       "snapchat_No                                                        -1.1149        nan        nan        nan         nan         nan\n",
       "snapchat_Yes                                                       -0.8282        nan        nan        nan         nan         nan\n",
       "snapchat_unknown                                                   -1.0589   5.69e+06  -1.86e-07      1.000   -1.12e+07    1.12e+07\n",
       "instagrm_No                                                        -0.8868   4.23e+06   -2.1e-07      1.000   -8.29e+06    8.29e+06\n",
       "instagrm_Yes                                                       -1.0563   4.86e+06  -2.17e-07      1.000   -9.52e+06    9.52e+06\n",
       "instagrm_unknown                                                   -1.0589   7.19e+06  -1.47e-07      1.000   -1.41e+07    1.41e+07\n",
       "wrkstat_Keeping house                                              -0.7833   5.44e+06  -1.44e-07      1.000   -1.07e+07    1.07e+07\n",
       "wrkstat_Other                                                      -0.0593   5.44e+06  -1.09e-08      1.000   -1.07e+07    1.07e+07\n",
       "wrkstat_Retired                                                    -0.6486   5.44e+06  -1.19e-07      1.000   -1.07e+07    1.07e+07\n",
       "wrkstat_School                                                     -0.7366   5.44e+06  -1.35e-07      1.000   -1.07e+07    1.07e+07\n",
       "wrkstat_Temp not working                                           -0.0606   5.44e+06  -1.11e-08      1.000   -1.07e+07    1.07e+07\n",
       "wrkstat_Unempl, laid off                                           -0.1454   5.44e+06  -2.67e-08      1.000   -1.07e+07    1.07e+07\n",
       "wrkstat_Working fulltime                                            0.3351   5.44e+06   6.16e-08      1.000   -1.07e+07    1.07e+07\n",
       "wrkstat_Working parttime                                           -0.2929   5.44e+06  -5.38e-08      1.000   -1.07e+07    1.07e+07\n",
       "wrkstat_unknown                                                    -0.6105   5.44e+06  -1.12e-07      1.000   -1.07e+07    1.07e+07\n",
       "===================================================================================================================================\n",
       "\"\"\""
      ]
     },
     "execution_count": 247,
     "metadata": {},
     "output_type": "execute_result"
    }
   ],
   "source": [
    "import statsmodels.api as sm\n",
    "\n",
    "link_function = sm.genmod.families.links.Log()\n",
    "gamma_model = sm.GLM(y_train, X_train, family=sm.families.Gamma(link=link_function))\n",
    "gamma_results = gamma_model.fit(method='lbfgs')\n",
    "gamma_results.summary()"
   ]
  },
  {
   "cell_type": "code",
   "execution_count": 248,
   "metadata": {},
   "outputs": [],
   "source": [
    "def print_metrics(y_test, y_pred):\n",
    "  mse = mean_squared_error(y_test, y_pred)\n",
    "  rmse = np.sqrt(mse)\n",
    "  r2 = r2_score(y_test, y_pred)\n",
    "\n",
    "  print(f'mse: {mse}, rmse: {rmse}, r2: {r2}')"
   ]
  },
  {
   "cell_type": "code",
   "execution_count": 249,
   "metadata": {},
   "outputs": [
    {
     "name": "stdout",
     "output_type": "stream",
     "text": [
      "mse: 0.013052171547963336, rmse: 0.11424610079982309, r2: 0.0921670859660525\n"
     ]
    }
   ],
   "source": [
    "y_pred = gamma_results.predict(X_test)\n",
    "print_metrics(y_test, y_pred)"
   ]
  },
  {
   "cell_type": "code",
   "execution_count": 254,
   "metadata": {},
   "outputs": [],
   "source": [
    "gamma_reg = sm.GLM(y_train, X_train, family=sm.families.Gamma(link=link_function))\n",
    "gm_res = gamma_reg.fit_regularized(method='elastic_net', alpha=0.06, start_params=None, refit=False, opt_method='bfgs')"
   ]
  },
  {
   "cell_type": "code",
   "execution_count": 255,
   "metadata": {},
   "outputs": [
    {
     "name": "stdout",
     "output_type": "stream",
     "text": [
      "mse: 0.013768568223610474, rmse: 0.11733954245526303, r2: 0.04233871225313901\n"
     ]
    }
   ],
   "source": [
    "y_pred = gm_res.predict(X_test)\n",
    "print_metrics(y_test, y_pred)"
   ]
  },
  {
   "cell_type": "code",
   "execution_count": 256,
   "metadata": {},
   "outputs": [
    {
     "name": "stderr",
     "output_type": "stream",
     "text": [
      "/Users/linhnm/msc_source/social-stat-final-term/venv/lib/python3.10/site-packages/statsmodels/genmod/generalized_linear_model.py:307: DomainWarning: The InversePower link function does not respect the domain of the Gamma family.\n",
      "  warnings.warn((f\"The {type(family.link).__name__} link function \"\n",
      "/Users/linhnm/msc_source/social-stat-final-term/venv/lib/python3.10/site-packages/statsmodels/base/model.py:595: HessianInversionWarning: Inverting hessian failed, no bse or cov_params available\n",
      "  warnings.warn('Inverting hessian failed, no bse or cov_params '\n",
      "/Users/linhnm/msc_source/social-stat-final-term/venv/lib/python3.10/site-packages/statsmodels/base/model.py:607: ConvergenceWarning: Maximum Likelihood optimization failed to converge. Check mle_retvals\n",
      "  warnings.warn(\"Maximum Likelihood optimization failed to \"\n"
     ]
    },
    {
     "data": {
      "text/html": [
       "<table class=\"simpletable\">\n",
       "<caption>Generalized Linear Model Regression Results</caption>\n",
       "<tr>\n",
       "  <th>Dep. Variable:</th>         <td>noise</td>      <th>  No. Observations:  </th>  <td>  1319</td> \n",
       "</tr>\n",
       "<tr>\n",
       "  <th>Model:</th>                  <td>GLM</td>       <th>  Df Residuals:      </th>  <td>  1291</td> \n",
       "</tr>\n",
       "<tr>\n",
       "  <th>Model Family:</th>          <td>Gamma</td>      <th>  Df Model:          </th>  <td>    27</td> \n",
       "</tr>\n",
       "<tr>\n",
       "  <th>Link Function:</th>     <td>InversePower</td>   <th>  Scale:             </th> <td>  2.8566</td>\n",
       "</tr>\n",
       "<tr>\n",
       "  <th>Method:</th>                <td>lbfgs</td>      <th>  Log-Likelihood:    </th> <td>  3214.7</td>\n",
       "</tr>\n",
       "<tr>\n",
       "  <th>Date:</th>            <td>Mon, 14 Aug 2023</td> <th>  Deviance:          </th> <td>  5859.8</td>\n",
       "</tr>\n",
       "<tr>\n",
       "  <th>Time:</th>                <td>00:51:45</td>     <th>  Pearson chi2:      </th> <td>3.69e+03</td>\n",
       "</tr>\n",
       "<tr>\n",
       "  <th>No. Iterations:</th>          <td>2</td>        <th>  Pseudo R-squ. (CS):</th> <td>-0.04406</td>\n",
       "</tr>\n",
       "<tr>\n",
       "  <th>Covariance Type:</th>     <td>nonrobust</td>    <th>                     </th>     <td> </td>   \n",
       "</tr>\n",
       "</table>\n",
       "<table class=\"simpletable\">\n",
       "<tr>\n",
       "                                 <td></td>                                    <th>coef</th>     <th>std err</th>      <th>z</th>      <th>P>|z|</th>  <th>[0.025</th>    <th>0.975]</th>  \n",
       "</tr>\n",
       "<tr>\n",
       "  <th>educ_center</th>                                                     <td>  -22.2009</td> <td>    3.158</td> <td>   -7.031</td> <td> 0.000</td> <td>  -28.390</td> <td>  -16.012</td>\n",
       "</tr>\n",
       "<tr>\n",
       "  <th>harass5_Does not apply (i do not have a job/superior/co-worker)</th> <td>   -0.1811</td> <td> 1.06e+07</td> <td>-1.71e-08</td> <td> 1.000</td> <td>-2.07e+07</td> <td> 2.07e+07</td>\n",
       "</tr>\n",
       "<tr>\n",
       "  <th>harass5_No</th>                                                      <td>  -39.2631</td> <td> 1.06e+07</td> <td>-3.71e-06</td> <td> 1.000</td> <td>-2.07e+07</td> <td> 2.07e+07</td>\n",
       "</tr>\n",
       "<tr>\n",
       "  <th>harass5_Yes</th>                                                     <td>  -48.2290</td> <td> 1.02e+07</td> <td>-4.71e-06</td> <td> 1.000</td> <td>-2.01e+07</td> <td> 2.01e+07</td>\n",
       "</tr>\n",
       "<tr>\n",
       "  <th>harass5_unknown</th>                                                 <td>   74.0771</td> <td> 1.05e+07</td> <td> 7.04e-06</td> <td> 1.000</td> <td>-2.06e+07</td> <td> 2.06e+07</td>\n",
       "</tr>\n",
       "<tr>\n",
       "  <th>polviews_Conservative</th>                                           <td>   -1.4620</td> <td> 3.36e+06</td> <td>-4.35e-07</td> <td> 1.000</td> <td>-6.59e+06</td> <td> 6.59e+06</td>\n",
       "</tr>\n",
       "<tr>\n",
       "  <th>polviews_Extremely liberal</th>                                      <td>    0.1454</td> <td>  3.6e+06</td> <td> 4.04e-08</td> <td> 1.000</td> <td>-7.06e+06</td> <td> 7.06e+06</td>\n",
       "</tr>\n",
       "<tr>\n",
       "  <th>polviews_Extrmly conservative</th>                                   <td>   14.2555</td> <td> 3.51e+06</td> <td> 4.07e-06</td> <td> 1.000</td> <td>-6.87e+06</td> <td> 6.87e+06</td>\n",
       "</tr>\n",
       "<tr>\n",
       "  <th>polviews_Liberal</th>                                                <td>   -1.7832</td> <td> 6.62e+06</td> <td>-2.69e-07</td> <td> 1.000</td> <td> -1.3e+07</td> <td>  1.3e+07</td>\n",
       "</tr>\n",
       "<tr>\n",
       "  <th>polviews_Moderate</th>                                               <td>   -4.2213</td> <td> 6.74e+06</td> <td>-6.26e-07</td> <td> 1.000</td> <td>-1.32e+07</td> <td> 1.32e+07</td>\n",
       "</tr>\n",
       "<tr>\n",
       "  <th>polviews_Slghtly conservative</th>                                   <td>   -2.0835</td> <td> 3.21e+06</td> <td> -6.5e-07</td> <td> 1.000</td> <td>-6.28e+06</td> <td> 6.28e+06</td>\n",
       "</tr>\n",
       "<tr>\n",
       "  <th>polviews_Slightly liberal</th>                                       <td>   -4.2483</td> <td> 3.27e+06</td> <td> -1.3e-06</td> <td> 1.000</td> <td>-6.41e+06</td> <td> 6.41e+06</td>\n",
       "</tr>\n",
       "<tr>\n",
       "  <th>polviews_unknown</th>                                                <td>  -14.1987</td> <td> 6.58e+06</td> <td>-2.16e-06</td> <td> 1.000</td> <td>-1.29e+07</td> <td> 1.29e+07</td>\n",
       "</tr>\n",
       "<tr>\n",
       "  <th>advfront_Agree</th>                                                  <td>  -23.3977</td> <td> 1.04e+07</td> <td>-2.24e-06</td> <td> 1.000</td> <td>-2.04e+07</td> <td> 2.04e+07</td>\n",
       "</tr>\n",
       "<tr>\n",
       "  <th>advfront_Disagree</th>                                               <td>  -27.2733</td> <td> 9.98e+06</td> <td>-2.73e-06</td> <td> 1.000</td> <td>-1.96e+07</td> <td> 1.96e+07</td>\n",
       "</tr>\n",
       "<tr>\n",
       "  <th>advfront_Dont know</th>                                              <td>   -2.8617</td> <td> 9.52e+06</td> <td>-3.01e-07</td> <td> 1.000</td> <td>-1.87e+07</td> <td> 1.87e+07</td>\n",
       "</tr>\n",
       "<tr>\n",
       "  <th>advfront_Strongly agree</th>                                         <td>  -23.1392</td> <td> 9.98e+06</td> <td>-2.32e-06</td> <td> 1.000</td> <td>-1.96e+07</td> <td> 1.96e+07</td>\n",
       "</tr>\n",
       "<tr>\n",
       "  <th>advfront_Strongly disagree</th>                                      <td>  -29.0850</td> <td> 1.04e+07</td> <td>-2.79e-06</td> <td> 1.000</td> <td>-2.04e+07</td> <td> 2.04e+07</td>\n",
       "</tr>\n",
       "<tr>\n",
       "  <th>advfront_unknown</th>                                                <td>   92.1607</td> <td> 1.04e+07</td> <td> 8.84e-06</td> <td> 1.000</td> <td>-2.04e+07</td> <td> 2.04e+07</td>\n",
       "</tr>\n",
       "<tr>\n",
       "  <th>snapchat_No</th>                                                     <td>   -2.6520</td> <td> 1.05e+08</td> <td>-2.52e-08</td> <td> 1.000</td> <td>-2.06e+08</td> <td> 2.06e+08</td>\n",
       "</tr>\n",
       "<tr>\n",
       "  <th>snapchat_Yes</th>                                                    <td>   -6.9115</td> <td> 1.05e+08</td> <td>-6.55e-08</td> <td> 1.000</td> <td>-2.07e+08</td> <td> 2.07e+08</td>\n",
       "</tr>\n",
       "<tr>\n",
       "  <th>snapchat_unknown</th>                                                <td>   -4.0326</td> <td>      nan</td> <td>      nan</td> <td>   nan</td> <td>      nan</td> <td>      nan</td>\n",
       "</tr>\n",
       "<tr>\n",
       "  <th>instagrm_No</th>                                                     <td>   -5.0784</td> <td> 1.03e+08</td> <td>-4.91e-08</td> <td> 1.000</td> <td>-2.03e+08</td> <td> 2.03e+08</td>\n",
       "</tr>\n",
       "<tr>\n",
       "  <th>instagrm_Yes</th>                                                    <td>   -4.4851</td> <td> 1.03e+08</td> <td>-4.33e-08</td> <td> 1.000</td> <td>-2.03e+08</td> <td> 2.03e+08</td>\n",
       "</tr>\n",
       "<tr>\n",
       "  <th>instagrm_unknown</th>                                                <td>   -4.0326</td> <td>      nan</td> <td>      nan</td> <td>   nan</td> <td>      nan</td> <td>      nan</td>\n",
       "</tr>\n",
       "<tr>\n",
       "  <th>wrkstat_Keeping house</th>                                           <td>    5.9349</td> <td>      nan</td> <td>      nan</td> <td>   nan</td> <td>      nan</td> <td>      nan</td>\n",
       "</tr>\n",
       "<tr>\n",
       "  <th>wrkstat_Other</th>                                                   <td>   -8.2379</td> <td>      nan</td> <td>      nan</td> <td>   nan</td> <td>      nan</td> <td>      nan</td>\n",
       "</tr>\n",
       "<tr>\n",
       "  <th>wrkstat_Retired</th>                                                 <td>    6.6967</td> <td>      nan</td> <td>      nan</td> <td>   nan</td> <td>      nan</td> <td>      nan</td>\n",
       "</tr>\n",
       "<tr>\n",
       "  <th>wrkstat_School</th>                                                  <td>   10.7956</td> <td>      nan</td> <td>      nan</td> <td>   nan</td> <td>      nan</td> <td>      nan</td>\n",
       "</tr>\n",
       "<tr>\n",
       "  <th>wrkstat_Temp not working</th>                                        <td>   -7.3089</td> <td>      nan</td> <td>      nan</td> <td>   nan</td> <td>      nan</td> <td>      nan</td>\n",
       "</tr>\n",
       "<tr>\n",
       "  <th>wrkstat_Unempl, laid off</th>                                        <td>   -8.4956</td> <td>      nan</td> <td>      nan</td> <td>   nan</td> <td>      nan</td> <td>      nan</td>\n",
       "</tr>\n",
       "<tr>\n",
       "  <th>wrkstat_Working fulltime</th>                                        <td>  -12.0483</td> <td>      nan</td> <td>      nan</td> <td>   nan</td> <td>      nan</td> <td>      nan</td>\n",
       "</tr>\n",
       "<tr>\n",
       "  <th>wrkstat_Working parttime</th>                                        <td>   -3.2226</td> <td>      nan</td> <td>      nan</td> <td>   nan</td> <td>      nan</td> <td>      nan</td>\n",
       "</tr>\n",
       "<tr>\n",
       "  <th>wrkstat_unknown</th>                                                 <td>    2.2899</td> <td>      nan</td> <td>      nan</td> <td>   nan</td> <td>      nan</td> <td>      nan</td>\n",
       "</tr>\n",
       "</table>"
      ],
      "text/latex": [
       "\\begin{center}\n",
       "\\begin{tabular}{lclc}\n",
       "\\toprule\n",
       "\\textbf{Dep. Variable:}                                                   &      noise       & \\textbf{  No. Observations:  } &     1319    \\\\\n",
       "\\textbf{Model:}                                                           &       GLM        & \\textbf{  Df Residuals:      } &     1291    \\\\\n",
       "\\textbf{Model Family:}                                                    &      Gamma       & \\textbf{  Df Model:          } &       27    \\\\\n",
       "\\textbf{Link Function:}                                                   &   InversePower   & \\textbf{  Scale:             } &    2.8566   \\\\\n",
       "\\textbf{Method:}                                                          &      lbfgs       & \\textbf{  Log-Likelihood:    } &    3214.7   \\\\\n",
       "\\textbf{Date:}                                                            & Mon, 14 Aug 2023 & \\textbf{  Deviance:          } &    5859.8   \\\\\n",
       "\\textbf{Time:}                                                            &     00:51:45     & \\textbf{  Pearson chi2:      } &  3.69e+03   \\\\\n",
       "\\textbf{No. Iterations:}                                                  &        2         & \\textbf{  Pseudo R-squ. (CS):} &  -0.04406   \\\\\n",
       "\\textbf{Covariance Type:}                                                 &    nonrobust     & \\textbf{                     } &             \\\\\n",
       "\\bottomrule\n",
       "\\end{tabular}\n",
       "\\begin{tabular}{lcccccc}\n",
       "                                                                          & \\textbf{coef} & \\textbf{std err} & \\textbf{z} & \\textbf{P$> |$z$|$} & \\textbf{[0.025} & \\textbf{0.975]}  \\\\\n",
       "\\midrule\n",
       "\\textbf{educ\\_center}                                                     &     -22.2009  &        3.158     &    -7.031  &         0.000        &      -28.390    &      -16.012     \\\\\n",
       "\\textbf{harass5\\_Does not apply (i do not have a job/superior/co-worker)} &      -0.1811  &     1.06e+07     & -1.71e-08  &         1.000        &    -2.07e+07    &     2.07e+07     \\\\\n",
       "\\textbf{harass5\\_No}                                                      &     -39.2631  &     1.06e+07     & -3.71e-06  &         1.000        &    -2.07e+07    &     2.07e+07     \\\\\n",
       "\\textbf{harass5\\_Yes}                                                     &     -48.2290  &     1.02e+07     & -4.71e-06  &         1.000        &    -2.01e+07    &     2.01e+07     \\\\\n",
       "\\textbf{harass5\\_unknown}                                                 &      74.0771  &     1.05e+07     &  7.04e-06  &         1.000        &    -2.06e+07    &     2.06e+07     \\\\\n",
       "\\textbf{polviews\\_Conservative}                                           &      -1.4620  &     3.36e+06     & -4.35e-07  &         1.000        &    -6.59e+06    &     6.59e+06     \\\\\n",
       "\\textbf{polviews\\_Extremely liberal}                                      &       0.1454  &      3.6e+06     &  4.04e-08  &         1.000        &    -7.06e+06    &     7.06e+06     \\\\\n",
       "\\textbf{polviews\\_Extrmly conservative}                                   &      14.2555  &     3.51e+06     &  4.07e-06  &         1.000        &    -6.87e+06    &     6.87e+06     \\\\\n",
       "\\textbf{polviews\\_Liberal}                                                &      -1.7832  &     6.62e+06     & -2.69e-07  &         1.000        &     -1.3e+07    &      1.3e+07     \\\\\n",
       "\\textbf{polviews\\_Moderate}                                               &      -4.2213  &     6.74e+06     & -6.26e-07  &         1.000        &    -1.32e+07    &     1.32e+07     \\\\\n",
       "\\textbf{polviews\\_Slghtly conservative}                                   &      -2.0835  &     3.21e+06     &  -6.5e-07  &         1.000        &    -6.28e+06    &     6.28e+06     \\\\\n",
       "\\textbf{polviews\\_Slightly liberal}                                       &      -4.2483  &     3.27e+06     &  -1.3e-06  &         1.000        &    -6.41e+06    &     6.41e+06     \\\\\n",
       "\\textbf{polviews\\_unknown}                                                &     -14.1987  &     6.58e+06     & -2.16e-06  &         1.000        &    -1.29e+07    &     1.29e+07     \\\\\n",
       "\\textbf{advfront\\_Agree}                                                  &     -23.3977  &     1.04e+07     & -2.24e-06  &         1.000        &    -2.04e+07    &     2.04e+07     \\\\\n",
       "\\textbf{advfront\\_Disagree}                                               &     -27.2733  &     9.98e+06     & -2.73e-06  &         1.000        &    -1.96e+07    &     1.96e+07     \\\\\n",
       "\\textbf{advfront\\_Dont know}                                              &      -2.8617  &     9.52e+06     & -3.01e-07  &         1.000        &    -1.87e+07    &     1.87e+07     \\\\\n",
       "\\textbf{advfront\\_Strongly agree}                                         &     -23.1392  &     9.98e+06     & -2.32e-06  &         1.000        &    -1.96e+07    &     1.96e+07     \\\\\n",
       "\\textbf{advfront\\_Strongly disagree}                                      &     -29.0850  &     1.04e+07     & -2.79e-06  &         1.000        &    -2.04e+07    &     2.04e+07     \\\\\n",
       "\\textbf{advfront\\_unknown}                                                &      92.1607  &     1.04e+07     &  8.84e-06  &         1.000        &    -2.04e+07    &     2.04e+07     \\\\\n",
       "\\textbf{snapchat\\_No}                                                     &      -2.6520  &     1.05e+08     & -2.52e-08  &         1.000        &    -2.06e+08    &     2.06e+08     \\\\\n",
       "\\textbf{snapchat\\_Yes}                                                    &      -6.9115  &     1.05e+08     & -6.55e-08  &         1.000        &    -2.07e+08    &     2.07e+08     \\\\\n",
       "\\textbf{snapchat\\_unknown}                                                &      -4.0326  &          nan     &       nan  &           nan        &          nan    &          nan     \\\\\n",
       "\\textbf{instagrm\\_No}                                                     &      -5.0784  &     1.03e+08     & -4.91e-08  &         1.000        &    -2.03e+08    &     2.03e+08     \\\\\n",
       "\\textbf{instagrm\\_Yes}                                                    &      -4.4851  &     1.03e+08     & -4.33e-08  &         1.000        &    -2.03e+08    &     2.03e+08     \\\\\n",
       "\\textbf{instagrm\\_unknown}                                                &      -4.0326  &          nan     &       nan  &           nan        &          nan    &          nan     \\\\\n",
       "\\textbf{wrkstat\\_Keeping house}                                           &       5.9349  &          nan     &       nan  &           nan        &          nan    &          nan     \\\\\n",
       "\\textbf{wrkstat\\_Other}                                                   &      -8.2379  &          nan     &       nan  &           nan        &          nan    &          nan     \\\\\n",
       "\\textbf{wrkstat\\_Retired}                                                 &       6.6967  &          nan     &       nan  &           nan        &          nan    &          nan     \\\\\n",
       "\\textbf{wrkstat\\_School}                                                  &      10.7956  &          nan     &       nan  &           nan        &          nan    &          nan     \\\\\n",
       "\\textbf{wrkstat\\_Temp not working}                                        &      -7.3089  &          nan     &       nan  &           nan        &          nan    &          nan     \\\\\n",
       "\\textbf{wrkstat\\_Unempl, laid off}                                        &      -8.4956  &          nan     &       nan  &           nan        &          nan    &          nan     \\\\\n",
       "\\textbf{wrkstat\\_Working fulltime}                                        &     -12.0483  &          nan     &       nan  &           nan        &          nan    &          nan     \\\\\n",
       "\\textbf{wrkstat\\_Working parttime}                                        &      -3.2226  &          nan     &       nan  &           nan        &          nan    &          nan     \\\\\n",
       "\\textbf{wrkstat\\_unknown}                                                 &       2.2899  &          nan     &       nan  &           nan        &          nan    &          nan     \\\\\n",
       "\\bottomrule\n",
       "\\end{tabular}\n",
       "%\\caption{Generalized Linear Model Regression Results}\n",
       "\\end{center}"
      ],
      "text/plain": [
       "<class 'statsmodels.iolib.summary.Summary'>\n",
       "\"\"\"\n",
       "                 Generalized Linear Model Regression Results                  \n",
       "==============================================================================\n",
       "Dep. Variable:                  noise   No. Observations:                 1319\n",
       "Model:                            GLM   Df Residuals:                     1291\n",
       "Model Family:                   Gamma   Df Model:                           27\n",
       "Link Function:           InversePower   Scale:                          2.8566\n",
       "Method:                         lbfgs   Log-Likelihood:                 3214.7\n",
       "Date:                Mon, 14 Aug 2023   Deviance:                       5859.8\n",
       "Time:                        00:51:45   Pearson chi2:                 3.69e+03\n",
       "No. Iterations:                     2   Pseudo R-squ. (CS):           -0.04406\n",
       "Covariance Type:            nonrobust                                         \n",
       "===================================================================================================================================\n",
       "                                                                      coef    std err          z      P>|z|      [0.025      0.975]\n",
       "-----------------------------------------------------------------------------------------------------------------------------------\n",
       "educ_center                                                       -22.2009      3.158     -7.031      0.000     -28.390     -16.012\n",
       "harass5_Does not apply (i do not have a job/superior/co-worker)    -0.1811   1.06e+07  -1.71e-08      1.000   -2.07e+07    2.07e+07\n",
       "harass5_No                                                        -39.2631   1.06e+07  -3.71e-06      1.000   -2.07e+07    2.07e+07\n",
       "harass5_Yes                                                       -48.2290   1.02e+07  -4.71e-06      1.000   -2.01e+07    2.01e+07\n",
       "harass5_unknown                                                    74.0771   1.05e+07   7.04e-06      1.000   -2.06e+07    2.06e+07\n",
       "polviews_Conservative                                              -1.4620   3.36e+06  -4.35e-07      1.000   -6.59e+06    6.59e+06\n",
       "polviews_Extremely liberal                                          0.1454    3.6e+06   4.04e-08      1.000   -7.06e+06    7.06e+06\n",
       "polviews_Extrmly conservative                                      14.2555   3.51e+06   4.07e-06      1.000   -6.87e+06    6.87e+06\n",
       "polviews_Liberal                                                   -1.7832   6.62e+06  -2.69e-07      1.000    -1.3e+07     1.3e+07\n",
       "polviews_Moderate                                                  -4.2213   6.74e+06  -6.26e-07      1.000   -1.32e+07    1.32e+07\n",
       "polviews_Slghtly conservative                                      -2.0835   3.21e+06   -6.5e-07      1.000   -6.28e+06    6.28e+06\n",
       "polviews_Slightly liberal                                          -4.2483   3.27e+06   -1.3e-06      1.000   -6.41e+06    6.41e+06\n",
       "polviews_unknown                                                  -14.1987   6.58e+06  -2.16e-06      1.000   -1.29e+07    1.29e+07\n",
       "advfront_Agree                                                    -23.3977   1.04e+07  -2.24e-06      1.000   -2.04e+07    2.04e+07\n",
       "advfront_Disagree                                                 -27.2733   9.98e+06  -2.73e-06      1.000   -1.96e+07    1.96e+07\n",
       "advfront_Dont know                                                 -2.8617   9.52e+06  -3.01e-07      1.000   -1.87e+07    1.87e+07\n",
       "advfront_Strongly agree                                           -23.1392   9.98e+06  -2.32e-06      1.000   -1.96e+07    1.96e+07\n",
       "advfront_Strongly disagree                                        -29.0850   1.04e+07  -2.79e-06      1.000   -2.04e+07    2.04e+07\n",
       "advfront_unknown                                                   92.1607   1.04e+07   8.84e-06      1.000   -2.04e+07    2.04e+07\n",
       "snapchat_No                                                        -2.6520   1.05e+08  -2.52e-08      1.000   -2.06e+08    2.06e+08\n",
       "snapchat_Yes                                                       -6.9115   1.05e+08  -6.55e-08      1.000   -2.07e+08    2.07e+08\n",
       "snapchat_unknown                                                   -4.0326        nan        nan        nan         nan         nan\n",
       "instagrm_No                                                        -5.0784   1.03e+08  -4.91e-08      1.000   -2.03e+08    2.03e+08\n",
       "instagrm_Yes                                                       -4.4851   1.03e+08  -4.33e-08      1.000   -2.03e+08    2.03e+08\n",
       "instagrm_unknown                                                   -4.0326        nan        nan        nan         nan         nan\n",
       "wrkstat_Keeping house                                               5.9349        nan        nan        nan         nan         nan\n",
       "wrkstat_Other                                                      -8.2379        nan        nan        nan         nan         nan\n",
       "wrkstat_Retired                                                     6.6967        nan        nan        nan         nan         nan\n",
       "wrkstat_School                                                     10.7956        nan        nan        nan         nan         nan\n",
       "wrkstat_Temp not working                                           -7.3089        nan        nan        nan         nan         nan\n",
       "wrkstat_Unempl, laid off                                           -8.4956        nan        nan        nan         nan         nan\n",
       "wrkstat_Working fulltime                                          -12.0483        nan        nan        nan         nan         nan\n",
       "wrkstat_Working parttime                                           -3.2226        nan        nan        nan         nan         nan\n",
       "wrkstat_unknown                                                     2.2899        nan        nan        nan         nan         nan\n",
       "===================================================================================================================================\n",
       "\"\"\""
      ]
     },
     "execution_count": 256,
     "metadata": {},
     "output_type": "execute_result"
    }
   ],
   "source": [
    "# link_function = sm.genmod.families.links.Log()\n",
    "gm_id = sm.GLM(y_train, X_train, family=sm.families.Gamma())\n",
    "gm_id_res = gm_id.fit(method='lbfgs')\n",
    "gm_id_res.summary()"
   ]
  }
 ],
 "metadata": {
  "kernelspec": {
   "display_name": "venv",
   "language": "python",
   "name": "python3"
  },
  "language_info": {
   "codemirror_mode": {
    "name": "ipython",
    "version": 3
   },
   "file_extension": ".py",
   "mimetype": "text/x-python",
   "name": "python",
   "nbconvert_exporter": "python",
   "pygments_lexer": "ipython3",
   "version": "3.10.10"
  },
  "orig_nbformat": 4
 },
 "nbformat": 4,
 "nbformat_minor": 2
}
