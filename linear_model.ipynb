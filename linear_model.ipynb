{
 "cells": [
  {
   "cell_type": "code",
   "execution_count": 108,
   "metadata": {
    "ExecuteTime": {
     "end_time": "2023-08-14T14:30:53.610836593Z",
     "start_time": "2023-08-14T14:30:53.497243399Z"
    }
   },
   "outputs": [],
   "source": [
    "import sklearn as sk\n",
    "from sklearn import linear_model\n",
    "import pandas as pd\n",
    "import numpy as np\n",
    "from sklearn.metrics import mean_squared_error, r2_score\n",
    "from sklearn.model_selection import train_test_split\n",
    "import statsmodels.api as sm\n",
    "import statsmodels as stm"
   ]
  },
  {
   "cell_type": "code",
   "execution_count": 109,
   "metadata": {
    "ExecuteTime": {
     "end_time": "2023-08-14T14:30:53.611151924Z",
     "start_time": "2023-08-14T14:30:53.540870938Z"
    }
   },
   "outputs": [],
   "source": [
    "X = pd.read_csv('data/preprocessing/X_fill.csv')\n",
    "y = pd.read_csv('data/preprocessing/y.csv')"
   ]
  },
  {
   "cell_type": "code",
   "execution_count": 110,
   "metadata": {
    "ExecuteTime": {
     "end_time": "2023-08-14T14:30:53.611451050Z",
     "start_time": "2023-08-14T14:30:53.540986333Z"
    }
   },
   "outputs": [
    {
     "data": {
      "text/plain": [
       "Index(['educ_center',\n",
       "       'harass5_Does_not_apply_(i_do_not_have_a_job/superior/co-worker)',\n",
       "       'harass5_No', 'harass5_Yes', 'harass5_unknown', 'polviews_Conservative',\n",
       "       'polviews_Extremely_liberal', 'polviews_Extrmly_conservative',\n",
       "       'polviews_Liberal', 'polviews_Moderate',\n",
       "       'polviews_Slghtly_conservative', 'polviews_Slightly_liberal',\n",
       "       'polviews_unknown', 'advfront_Agree', 'advfront_Disagree',\n",
       "       'advfront_Dont_know', 'advfront_Strongly_agree',\n",
       "       'advfront_Strongly_disagree', 'advfront_unknown', 'snapchat_No',\n",
       "       'snapchat_Yes', 'snapchat_unknown', 'instagrm_No', 'instagrm_Yes',\n",
       "       'instagrm_unknown', 'wrkstat_Keeping_house', 'wrkstat_Other',\n",
       "       'wrkstat_Retired', 'wrkstat_School', 'wrkstat_Temp_not_working',\n",
       "       'wrkstat_Unempl,_laid_off', 'wrkstat_Working_fulltime',\n",
       "       'wrkstat_Working_parttime', 'wrkstat_unknown'],\n",
       "      dtype='object')"
      ]
     },
     "execution_count": 110,
     "metadata": {},
     "output_type": "execute_result"
    }
   ],
   "source": [
    "X.columns"
   ]
  },
  {
   "cell_type": "code",
   "execution_count": 111,
   "metadata": {
    "ExecuteTime": {
     "end_time": "2023-08-14T14:30:53.611592720Z",
     "start_time": "2023-08-14T14:30:53.541023272Z"
    }
   },
   "outputs": [
    {
     "name": "stdout",
     "output_type": "stream",
     "text": [
      "<class 'pandas.core.frame.DataFrame'>\n",
      "RangeIndex: 1649 entries, 0 to 1648\n",
      "Data columns (total 34 columns):\n",
      " #   Column                                                           Non-Null Count  Dtype  \n",
      "---  ------                                                           --------------  -----  \n",
      " 0   educ_center                                                      1649 non-null   float64\n",
      " 1   harass5_Does_not_apply_(i_do_not_have_a_job/superior/co-worker)  1649 non-null   int64  \n",
      " 2   harass5_No                                                       1649 non-null   int64  \n",
      " 3   harass5_Yes                                                      1649 non-null   int64  \n",
      " 4   harass5_unknown                                                  1649 non-null   int64  \n",
      " 5   polviews_Conservative                                            1649 non-null   int64  \n",
      " 6   polviews_Extremely_liberal                                       1649 non-null   int64  \n",
      " 7   polviews_Extrmly_conservative                                    1649 non-null   int64  \n",
      " 8   polviews_Liberal                                                 1649 non-null   int64  \n",
      " 9   polviews_Moderate                                                1649 non-null   int64  \n",
      " 10  polviews_Slghtly_conservative                                    1649 non-null   int64  \n",
      " 11  polviews_Slightly_liberal                                        1649 non-null   int64  \n",
      " 12  polviews_unknown                                                 1649 non-null   int64  \n",
      " 13  advfront_Agree                                                   1649 non-null   int64  \n",
      " 14  advfront_Disagree                                                1649 non-null   int64  \n",
      " 15  advfront_Dont_know                                               1649 non-null   int64  \n",
      " 16  advfront_Strongly_agree                                          1649 non-null   int64  \n",
      " 17  advfront_Strongly_disagree                                       1649 non-null   int64  \n",
      " 18  advfront_unknown                                                 1649 non-null   int64  \n",
      " 19  snapchat_No                                                      1649 non-null   int64  \n",
      " 20  snapchat_Yes                                                     1649 non-null   int64  \n",
      " 21  snapchat_unknown                                                 1649 non-null   int64  \n",
      " 22  instagrm_No                                                      1649 non-null   int64  \n",
      " 23  instagrm_Yes                                                     1649 non-null   int64  \n",
      " 24  instagrm_unknown                                                 1649 non-null   int64  \n",
      " 25  wrkstat_Keeping_house                                            1649 non-null   int64  \n",
      " 26  wrkstat_Other                                                    1649 non-null   int64  \n",
      " 27  wrkstat_Retired                                                  1649 non-null   int64  \n",
      " 28  wrkstat_School                                                   1649 non-null   int64  \n",
      " 29  wrkstat_Temp_not_working                                         1649 non-null   int64  \n",
      " 30  wrkstat_Unempl,_laid_off                                         1649 non-null   int64  \n",
      " 31  wrkstat_Working_fulltime                                         1649 non-null   int64  \n",
      " 32  wrkstat_Working_parttime                                         1649 non-null   int64  \n",
      " 33  wrkstat_unknown                                                  1649 non-null   int64  \n",
      "dtypes: float64(1), int64(33)\n",
      "memory usage: 438.1 KB\n"
     ]
    }
   ],
   "source": [
    "X.info()"
   ]
  },
  {
   "cell_type": "code",
   "execution_count": 112,
   "metadata": {
    "ExecuteTime": {
     "end_time": "2023-08-14T14:30:53.611634184Z",
     "start_time": "2023-08-14T14:30:53.542168242Z"
    }
   },
   "outputs": [],
   "source": [
    "size = y.shape[0]\n",
    "mu = 0\n",
    "sigma = 1e-3\n",
    "noise = np.random.normal(mu,sigma,size)"
   ]
  },
  {
   "cell_type": "code",
   "execution_count": 113,
   "metadata": {
    "ExecuteTime": {
     "end_time": "2023-08-14T14:30:53.668765080Z",
     "start_time": "2023-08-14T14:30:53.547033045Z"
    }
   },
   "outputs": [],
   "source": [
    "y['noise'] = y['email_time_center'] + sigma"
   ]
  },
  {
   "cell_type": "code",
   "execution_count": 114,
   "metadata": {
    "ExecuteTime": {
     "end_time": "2023-08-14T14:30:53.691758882Z",
     "start_time": "2023-08-14T14:30:53.632721585Z"
    }
   },
   "outputs": [
    {
     "data": {
      "text/html": [
       "<div>\n",
       "<style scoped>\n",
       "    .dataframe tbody tr th:only-of-type {\n",
       "        vertical-align: middle;\n",
       "    }\n",
       "\n",
       "    .dataframe tbody tr th {\n",
       "        vertical-align: top;\n",
       "    }\n",
       "\n",
       "    .dataframe thead th {\n",
       "        text-align: right;\n",
       "    }\n",
       "</style>\n",
       "<table border=\"1\" class=\"dataframe\">\n",
       "  <thead>\n",
       "    <tr style=\"text-align: right;\">\n",
       "      <th></th>\n",
       "      <th>email_time_center</th>\n",
       "      <th>noise</th>\n",
       "    </tr>\n",
       "  </thead>\n",
       "  <tbody>\n",
       "  </tbody>\n",
       "</table>\n",
       "</div>"
      ],
      "text/plain": [
       "Empty DataFrame\n",
       "Columns: [email_time_center, noise]\n",
       "Index: []"
      ]
     },
     "execution_count": 114,
     "metadata": {},
     "output_type": "execute_result"
    }
   ],
   "source": [
    "y[y['noise'] == 0]"
   ]
  },
  {
   "cell_type": "code",
   "execution_count": 115,
   "metadata": {
    "ExecuteTime": {
     "end_time": "2023-08-14T14:30:53.910311457Z",
     "start_time": "2023-08-14T14:30:53.676832033Z"
    }
   },
   "outputs": [
    {
     "data": {
      "text/plain": [
       "array([[<Axes: title={'center': 'email_time_center'}>,\n",
       "        <Axes: title={'center': 'noise'}>]], dtype=object)"
      ]
     },
     "execution_count": 115,
     "metadata": {},
     "output_type": "execute_result"
    },
    {
     "data": {
      "image/png": "[encoded data removed]",
      "text/plain": [
       "<Figure size 640x480 with 2 Axes>"
      ]
     },
     "metadata": {},
     "output_type": "display_data"
    }
   ],
   "source": [
    "y.hist()"
   ]
  },
  {
   "cell_type": "code",
   "execution_count": 116,
   "metadata": {
    "ExecuteTime": {
     "end_time": "2023-08-14T14:30:53.910495472Z",
     "start_time": "2023-08-14T14:30:53.909146236Z"
    }
   },
   "outputs": [],
   "source": [
    "X_train, X_test, y_train, y_test = train_test_split(X, y['noise'], test_size=0.2, random_state=0)"
   ]
  },
  {
   "cell_type": "code",
   "execution_count": 117,
   "metadata": {
    "ExecuteTime": {
     "end_time": "2023-08-14T14:30:53.910764185Z",
     "start_time": "2023-08-14T14:30:53.909337827Z"
    }
   },
   "outputs": [
    {
     "name": "stdout",
     "output_type": "stream",
     "text": [
      "(1319, 34)\n",
      "(330, 34)\n",
      "(1319,)\n",
      "(330,)\n"
     ]
    }
   ],
   "source": [
    "print(X_train.shape)\n",
    "print(X_test.shape)\n",
    "print(y_train.shape)\n",
    "print(y_test.shape)"
   ]
  },
  {
   "cell_type": "code",
   "execution_count": 118,
   "metadata": {
    "ExecuteTime": {
     "end_time": "2023-08-14T14:30:53.910815389Z",
     "start_time": "2023-08-14T14:30:53.909392157Z"
    }
   },
   "outputs": [],
   "source": [
    "def print_metrics(y_test, y_pred):\n",
    "  mse = mean_squared_error(y_test, y_pred)\n",
    "  rmse = np.sqrt(mse)\n",
    "  r2 = r2_score(y_test, y_pred)\n",
    "  \n",
    "  print(f'metrics, mse: {mse}, rmse: {rmse}, r2: {r2}')"
   ]
  },
  {
   "cell_type": "code",
   "execution_count": 119,
   "metadata": {
    "ExecuteTime": {
     "end_time": "2023-08-14T14:30:54.016134930Z",
     "start_time": "2023-08-14T14:30:53.909428920Z"
    }
   },
   "outputs": [
    {
     "name": "stderr",
     "output_type": "stream",
     "text": [
      "/home/linhnm/msc_code/social-stat-final-term/venv/lib/python3.10/site-packages/statsmodels/base/model.py:595: HessianInversionWarning: Inverting hessian failed, no bse or cov_params available\n",
      "  warnings.warn('Inverting hessian failed, no bse or cov_params '\n"
     ]
    },
    {
     "data": {
      "text/html": [
       "<table class=\"simpletable\">\n",
       "<caption>Generalized Linear Model Regression Results</caption>\n",
       "<tr>\n",
       "  <th>Dep. Variable:</th>         <td>noise</td>      <th>  No. Observations:  </th>  <td>  1319</td> \n",
       "</tr>\n",
       "<tr>\n",
       "  <th>Model:</th>                  <td>GLM</td>       <th>  Df Residuals:      </th>  <td>  1291</td> \n",
       "</tr>\n",
       "<tr>\n",
       "  <th>Model Family:</th>          <td>Gamma</td>      <th>  Df Model:          </th>  <td>    27</td> \n",
       "</tr>\n",
       "<tr>\n",
       "  <th>Link Function:</th>          <td>Log</td>       <th>  Scale:             </th> <td>  2.7239</td>\n",
       "</tr>\n",
       "<tr>\n",
       "  <th>Method:</th>                <td>lbfgs</td>      <th>  Log-Likelihood:    </th> <td>  2447.9</td>\n",
       "</tr>\n",
       "<tr>\n",
       "  <th>Date:</th>            <td>Mon, 14 Aug 2023</td> <th>  Deviance:          </th> <td>  2755.5</td>\n",
       "</tr>\n",
       "<tr>\n",
       "  <th>Time:</th>                <td>21:38:14</td>     <th>  Pearson chi2:      </th> <td>3.52e+03</td>\n",
       "</tr>\n",
       "<tr>\n",
       "  <th>No. Iterations:</th>         <td>80</td>        <th>  Pseudo R-squ. (CS):</th>  <td>0.1181</td> \n",
       "</tr>\n",
       "<tr>\n",
       "  <th>Covariance Type:</th>     <td>nonrobust</td>    <th>                     </th>     <td> </td>   \n",
       "</tr>\n",
       "</table>\n",
       "<table class=\"simpletable\">\n",
       "<tr>\n",
       "                                 <td></td>                                    <th>coef</th>     <th>std err</th>      <th>z</th>      <th>P>|z|</th>  <th>[0.025</th>    <th>0.975]</th>  \n",
       "</tr>\n",
       "<tr>\n",
       "  <th>educ_center</th>                                                     <td>    1.7716</td> <td>    0.336</td> <td>    5.265</td> <td> 0.000</td> <td>    1.112</td> <td>    2.431</td>\n",
       "</tr>\n",
       "<tr>\n",
       "  <th>harass5_Does_not_apply_(i_do_not_have_a_job/superior/co-worker)</th> <td>   -0.8868</td> <td>      nan</td> <td>      nan</td> <td>   nan</td> <td>      nan</td> <td>      nan</td>\n",
       "</tr>\n",
       "<tr>\n",
       "  <th>harass5_No</th>                                                      <td>    0.1778</td> <td>      nan</td> <td>      nan</td> <td>   nan</td> <td>      nan</td> <td>      nan</td>\n",
       "</tr>\n",
       "<tr>\n",
       "  <th>harass5_Yes</th>                                                     <td>    0.6711</td> <td>      nan</td> <td>      nan</td> <td>   nan</td> <td>      nan</td> <td>      nan</td>\n",
       "</tr>\n",
       "<tr>\n",
       "  <th>harass5_unknown</th>                                                 <td>   -2.1613</td> <td>      nan</td> <td>      nan</td> <td>   nan</td> <td>      nan</td> <td>      nan</td>\n",
       "</tr>\n",
       "<tr>\n",
       "  <th>polviews_Conservative</th>                                           <td>   -0.2150</td> <td> 4.75e+06</td> <td>-4.53e-08</td> <td> 1.000</td> <td>-9.31e+06</td> <td> 9.31e+06</td>\n",
       "</tr>\n",
       "<tr>\n",
       "  <th>polviews_Extremely_liberal</th>                                      <td>   -0.2829</td> <td>  5.7e+06</td> <td>-4.96e-08</td> <td> 1.000</td> <td>-1.12e+07</td> <td> 1.12e+07</td>\n",
       "</tr>\n",
       "<tr>\n",
       "  <th>polviews_Extrmly_conservative</th>                                   <td>   -0.7971</td> <td>  6.2e+06</td> <td>-1.28e-07</td> <td> 1.000</td> <td>-1.22e+07</td> <td> 1.22e+07</td>\n",
       "</tr>\n",
       "<tr>\n",
       "  <th>polviews_Liberal</th>                                                <td>   -0.3217</td> <td> 5.96e+06</td> <td> -5.4e-08</td> <td> 1.000</td> <td>-1.17e+07</td> <td> 1.17e+07</td>\n",
       "</tr>\n",
       "<tr>\n",
       "  <th>polviews_Moderate</th>                                               <td>   -0.1642</td> <td>  5.7e+06</td> <td>-2.88e-08</td> <td> 1.000</td> <td>-1.12e+07</td> <td> 1.12e+07</td>\n",
       "</tr>\n",
       "<tr>\n",
       "  <th>polviews_Slghtly_conservative</th>                                   <td>   -0.3474</td> <td> 5.96e+06</td> <td>-5.83e-08</td> <td> 1.000</td> <td>-1.17e+07</td> <td> 1.17e+07</td>\n",
       "</tr>\n",
       "<tr>\n",
       "  <th>polviews_Slightly_liberal</th>                                       <td>   -0.1373</td> <td> 5.96e+06</td> <td> -2.3e-08</td> <td> 1.000</td> <td>-1.17e+07</td> <td> 1.17e+07</td>\n",
       "</tr>\n",
       "<tr>\n",
       "  <th>polviews_unknown</th>                                                <td>    0.0666</td> <td>  4.2e+06</td> <td> 1.59e-08</td> <td> 1.000</td> <td>-8.23e+06</td> <td> 8.23e+06</td>\n",
       "</tr>\n",
       "<tr>\n",
       "  <th>advfront_Agree</th>                                                  <td>   -0.0715</td> <td>      nan</td> <td>      nan</td> <td>   nan</td> <td>      nan</td> <td>      nan</td>\n",
       "</tr>\n",
       "<tr>\n",
       "  <th>advfront_Disagree</th>                                               <td>    0.1699</td> <td>      nan</td> <td>      nan</td> <td>   nan</td> <td>      nan</td> <td>      nan</td>\n",
       "</tr>\n",
       "<tr>\n",
       "  <th>advfront_Dont_know</th>                                              <td>   -0.6111</td> <td>      nan</td> <td>      nan</td> <td>   nan</td> <td>      nan</td> <td>      nan</td>\n",
       "</tr>\n",
       "<tr>\n",
       "  <th>advfront_Strongly_agree</th>                                         <td>   -0.0320</td> <td> 3.98e+06</td> <td>-8.05e-09</td> <td> 1.000</td> <td>-7.79e+06</td> <td> 7.79e+06</td>\n",
       "</tr>\n",
       "<tr>\n",
       "  <th>advfront_Strongly_disagree</th>                                      <td>    0.9567</td> <td>    0.523</td> <td>    1.828</td> <td> 0.068</td> <td>   -0.069</td> <td>    1.983</td>\n",
       "</tr>\n",
       "<tr>\n",
       "  <th>advfront_unknown</th>                                                <td>   -2.6110</td> <td>        0</td> <td>     -inf</td> <td> 0.000</td> <td>   -2.611</td> <td>   -2.611</td>\n",
       "</tr>\n",
       "<tr>\n",
       "  <th>snapchat_No</th>                                                     <td>   -0.8369</td> <td> 9.01e+06</td> <td>-9.29e-08</td> <td> 1.000</td> <td>-1.77e+07</td> <td> 1.77e+07</td>\n",
       "</tr>\n",
       "<tr>\n",
       "  <th>snapchat_Yes</th>                                                    <td>   -0.5551</td> <td> 8.58e+06</td> <td>-6.47e-08</td> <td> 1.000</td> <td>-1.68e+07</td> <td> 1.68e+07</td>\n",
       "</tr>\n",
       "<tr>\n",
       "  <th>snapchat_unknown</th>                                                <td>   -0.8071</td> <td>      nan</td> <td>      nan</td> <td>   nan</td> <td>      nan</td> <td>      nan</td>\n",
       "</tr>\n",
       "<tr>\n",
       "  <th>instagrm_No</th>                                                     <td>   -0.6646</td> <td>      nan</td> <td>      nan</td> <td>   nan</td> <td>      nan</td> <td>      nan</td>\n",
       "</tr>\n",
       "<tr>\n",
       "  <th>instagrm_Yes</th>                                                    <td>   -0.7273</td> <td>      nan</td> <td>      nan</td> <td>   nan</td> <td>      nan</td> <td>      nan</td>\n",
       "</tr>\n",
       "<tr>\n",
       "  <th>instagrm_unknown</th>                                                <td>   -0.8071</td> <td>      nan</td> <td>      nan</td> <td>   nan</td> <td>      nan</td> <td>      nan</td>\n",
       "</tr>\n",
       "<tr>\n",
       "  <th>wrkstat_Keeping_house</th>                                           <td>   -0.7897</td> <td>    0.231</td> <td>   -3.412</td> <td> 0.001</td> <td>   -1.243</td> <td>   -0.336</td>\n",
       "</tr>\n",
       "<tr>\n",
       "  <th>wrkstat_Other</th>                                                   <td>   -0.1391</td> <td>    0.368</td> <td>   -0.378</td> <td> 0.706</td> <td>   -0.861</td> <td>    0.583</td>\n",
       "</tr>\n",
       "<tr>\n",
       "  <th>wrkstat_Retired</th>                                                 <td>   -0.4033</td> <td>    0.073</td> <td>   -5.505</td> <td> 0.000</td> <td>   -0.547</td> <td>   -0.260</td>\n",
       "</tr>\n",
       "<tr>\n",
       "  <th>wrkstat_School</th>                                                  <td>   -0.6189</td> <td>    0.192</td> <td>   -3.229</td> <td> 0.001</td> <td>   -0.994</td> <td>   -0.243</td>\n",
       "</tr>\n",
       "<tr>\n",
       "  <th>wrkstat_Temp_not_working</th>                                        <td>   -0.0706</td> <td>    0.300</td> <td>   -0.235</td> <td> 0.814</td> <td>   -0.659</td> <td>    0.518</td>\n",
       "</tr>\n",
       "<tr>\n",
       "  <th>wrkstat_Unempl,_laid_off</th>                                        <td>    0.0705</td> <td>    0.293</td> <td>    0.241</td> <td> 0.810</td> <td>   -0.504</td> <td>    0.645</td>\n",
       "</tr>\n",
       "<tr>\n",
       "  <th>wrkstat_Working_fulltime</th>                                        <td>    0.4427</td> <td>    0.127</td> <td>    3.475</td> <td> 0.001</td> <td>    0.193</td> <td>    0.692</td>\n",
       "</tr>\n",
       "<tr>\n",
       "  <th>wrkstat_Working_parttime</th>                                        <td>   -0.2121</td> <td>      nan</td> <td>      nan</td> <td>   nan</td> <td>      nan</td> <td>      nan</td>\n",
       "</tr>\n",
       "<tr>\n",
       "  <th>wrkstat_unknown</th>                                                 <td>   -0.4786</td> <td>    1.675</td> <td>   -0.286</td> <td> 0.775</td> <td>   -3.761</td> <td>    2.804</td>\n",
       "</tr>\n",
       "</table>"
      ],
      "text/latex": [
       "\\begin{center}\n",
       "\\begin{tabular}{lclc}\n",
       "\\toprule\n",
       "\\textbf{Dep. Variable:}                                                           &      noise       & \\textbf{  No. Observations:  } &     1319    \\\\\n",
       "\\textbf{Model:}                                                                   &       GLM        & \\textbf{  Df Residuals:      } &     1291    \\\\\n",
       "\\textbf{Model Family:}                                                            &      Gamma       & \\textbf{  Df Model:          } &       27    \\\\\n",
       "\\textbf{Link Function:}                                                           &       Log        & \\textbf{  Scale:             } &    2.7239   \\\\\n",
       "\\textbf{Method:}                                                                  &      lbfgs       & \\textbf{  Log-Likelihood:    } &    2447.9   \\\\\n",
       "\\textbf{Date:}                                                                    & Mon, 14 Aug 2023 & \\textbf{  Deviance:          } &    2755.5   \\\\\n",
       "\\textbf{Time:}                                                                    &     21:38:14     & \\textbf{  Pearson chi2:      } &  3.52e+03   \\\\\n",
       "\\textbf{No. Iterations:}                                                          &        80        & \\textbf{  Pseudo R-squ. (CS):} &   0.1181    \\\\\n",
       "\\textbf{Covariance Type:}                                                         &    nonrobust     & \\textbf{                     } &             \\\\\n",
       "\\bottomrule\n",
       "\\end{tabular}\n",
       "\\begin{tabular}{lcccccc}\n",
       "                                                                                  & \\textbf{coef} & \\textbf{std err} & \\textbf{z} & \\textbf{P$> |$z$|$} & \\textbf{[0.025} & \\textbf{0.975]}  \\\\\n",
       "\\midrule\n",
       "\\textbf{educ\\_center}                                                             &       1.7716  &        0.336     &     5.265  &         0.000        &        1.112    &        2.431     \\\\\n",
       "\\textbf{harass5\\_Does\\_not\\_apply\\_(i\\_do\\_not\\_have\\_a\\_job/superior/co-worker)} &      -0.8868  &          nan     &       nan  &           nan        &          nan    &          nan     \\\\\n",
       "\\textbf{harass5\\_No}                                                              &       0.1778  &          nan     &       nan  &           nan        &          nan    &          nan     \\\\\n",
       "\\textbf{harass5\\_Yes}                                                             &       0.6711  &          nan     &       nan  &           nan        &          nan    &          nan     \\\\\n",
       "\\textbf{harass5\\_unknown}                                                         &      -2.1613  &          nan     &       nan  &           nan        &          nan    &          nan     \\\\\n",
       "\\textbf{polviews\\_Conservative}                                                   &      -0.2150  &     4.75e+06     & -4.53e-08  &         1.000        &    -9.31e+06    &     9.31e+06     \\\\\n",
       "\\textbf{polviews\\_Extremely\\_liberal}                                             &      -0.2829  &      5.7e+06     & -4.96e-08  &         1.000        &    -1.12e+07    &     1.12e+07     \\\\\n",
       "\\textbf{polviews\\_Extrmly\\_conservative}                                          &      -0.7971  &      6.2e+06     & -1.28e-07  &         1.000        &    -1.22e+07    &     1.22e+07     \\\\\n",
       "\\textbf{polviews\\_Liberal}                                                        &      -0.3217  &     5.96e+06     &  -5.4e-08  &         1.000        &    -1.17e+07    &     1.17e+07     \\\\\n",
       "\\textbf{polviews\\_Moderate}                                                       &      -0.1642  &      5.7e+06     & -2.88e-08  &         1.000        &    -1.12e+07    &     1.12e+07     \\\\\n",
       "\\textbf{polviews\\_Slghtly\\_conservative}                                          &      -0.3474  &     5.96e+06     & -5.83e-08  &         1.000        &    -1.17e+07    &     1.17e+07     \\\\\n",
       "\\textbf{polviews\\_Slightly\\_liberal}                                              &      -0.1373  &     5.96e+06     &  -2.3e-08  &         1.000        &    -1.17e+07    &     1.17e+07     \\\\\n",
       "\\textbf{polviews\\_unknown}                                                        &       0.0666  &      4.2e+06     &  1.59e-08  &         1.000        &    -8.23e+06    &     8.23e+06     \\\\\n",
       "\\textbf{advfront\\_Agree}                                                          &      -0.0715  &          nan     &       nan  &           nan        &          nan    &          nan     \\\\\n",
       "\\textbf{advfront\\_Disagree}                                                       &       0.1699  &          nan     &       nan  &           nan        &          nan    &          nan     \\\\\n",
       "\\textbf{advfront\\_Dont\\_know}                                                     &      -0.6111  &          nan     &       nan  &           nan        &          nan    &          nan     \\\\\n",
       "\\textbf{advfront\\_Strongly\\_agree}                                                &      -0.0320  &     3.98e+06     & -8.05e-09  &         1.000        &    -7.79e+06    &     7.79e+06     \\\\\n",
       "\\textbf{advfront\\_Strongly\\_disagree}                                             &       0.9567  &        0.523     &     1.828  &         0.068        &       -0.069    &        1.983     \\\\\n",
       "\\textbf{advfront\\_unknown}                                                        &      -2.6110  &            0     &      -inf  &         0.000        &       -2.611    &       -2.611     \\\\\n",
       "\\textbf{snapchat\\_No}                                                             &      -0.8369  &     9.01e+06     & -9.29e-08  &         1.000        &    -1.77e+07    &     1.77e+07     \\\\\n",
       "\\textbf{snapchat\\_Yes}                                                            &      -0.5551  &     8.58e+06     & -6.47e-08  &         1.000        &    -1.68e+07    &     1.68e+07     \\\\\n",
       "\\textbf{snapchat\\_unknown}                                                        &      -0.8071  &          nan     &       nan  &           nan        &          nan    &          nan     \\\\\n",
       "\\textbf{instagrm\\_No}                                                             &      -0.6646  &          nan     &       nan  &           nan        &          nan    &          nan     \\\\\n",
       "\\textbf{instagrm\\_Yes}                                                            &      -0.7273  &          nan     &       nan  &           nan        &          nan    &          nan     \\\\\n",
       "\\textbf{instagrm\\_unknown}                                                        &      -0.8071  &          nan     &       nan  &           nan        &          nan    &          nan     \\\\\n",
       "\\textbf{wrkstat\\_Keeping\\_house}                                                  &      -0.7897  &        0.231     &    -3.412  &         0.001        &       -1.243    &       -0.336     \\\\\n",
       "\\textbf{wrkstat\\_Other}                                                           &      -0.1391  &        0.368     &    -0.378  &         0.706        &       -0.861    &        0.583     \\\\\n",
       "\\textbf{wrkstat\\_Retired}                                                         &      -0.4033  &        0.073     &    -5.505  &         0.000        &       -0.547    &       -0.260     \\\\\n",
       "\\textbf{wrkstat\\_School}                                                          &      -0.6189  &        0.192     &    -3.229  &         0.001        &       -0.994    &       -0.243     \\\\\n",
       "\\textbf{wrkstat\\_Temp\\_not\\_working}                                              &      -0.0706  &        0.300     &    -0.235  &         0.814        &       -0.659    &        0.518     \\\\\n",
       "\\textbf{wrkstat\\_Unempl,\\_laid\\_off}                                              &       0.0705  &        0.293     &     0.241  &         0.810        &       -0.504    &        0.645     \\\\\n",
       "\\textbf{wrkstat\\_Working\\_fulltime}                                               &       0.4427  &        0.127     &     3.475  &         0.001        &        0.193    &        0.692     \\\\\n",
       "\\textbf{wrkstat\\_Working\\_parttime}                                               &      -0.2121  &          nan     &       nan  &           nan        &          nan    &          nan     \\\\\n",
       "\\textbf{wrkstat\\_unknown}                                                         &      -0.4786  &        1.675     &    -0.286  &         0.775        &       -3.761    &        2.804     \\\\\n",
       "\\bottomrule\n",
       "\\end{tabular}\n",
       "%\\caption{Generalized Linear Model Regression Results}\n",
       "\\end{center}"
      ],
      "text/plain": [
       "<class 'statsmodels.iolib.summary.Summary'>\n",
       "\"\"\"\n",
       "                 Generalized Linear Model Regression Results                  \n",
       "==============================================================================\n",
       "Dep. Variable:                  noise   No. Observations:                 1319\n",
       "Model:                            GLM   Df Residuals:                     1291\n",
       "Model Family:                   Gamma   Df Model:                           27\n",
       "Link Function:                    Log   Scale:                          2.7239\n",
       "Method:                         lbfgs   Log-Likelihood:                 2447.9\n",
       "Date:                Mon, 14 Aug 2023   Deviance:                       2755.5\n",
       "Time:                        21:38:14   Pearson chi2:                 3.52e+03\n",
       "No. Iterations:                    80   Pseudo R-squ. (CS):             0.1181\n",
       "Covariance Type:            nonrobust                                         \n",
       "===================================================================================================================================\n",
       "                                                                      coef    std err          z      P>|z|      [0.025      0.975]\n",
       "-----------------------------------------------------------------------------------------------------------------------------------\n",
       "educ_center                                                         1.7716      0.336      5.265      0.000       1.112       2.431\n",
       "harass5_Does_not_apply_(i_do_not_have_a_job/superior/co-worker)    -0.8868        nan        nan        nan         nan         nan\n",
       "harass5_No                                                          0.1778        nan        nan        nan         nan         nan\n",
       "harass5_Yes                                                         0.6711        nan        nan        nan         nan         nan\n",
       "harass5_unknown                                                    -2.1613        nan        nan        nan         nan         nan\n",
       "polviews_Conservative                                              -0.2150   4.75e+06  -4.53e-08      1.000   -9.31e+06    9.31e+06\n",
       "polviews_Extremely_liberal                                         -0.2829    5.7e+06  -4.96e-08      1.000   -1.12e+07    1.12e+07\n",
       "polviews_Extrmly_conservative                                      -0.7971    6.2e+06  -1.28e-07      1.000   -1.22e+07    1.22e+07\n",
       "polviews_Liberal                                                   -0.3217   5.96e+06   -5.4e-08      1.000   -1.17e+07    1.17e+07\n",
       "polviews_Moderate                                                  -0.1642    5.7e+06  -2.88e-08      1.000   -1.12e+07    1.12e+07\n",
       "polviews_Slghtly_conservative                                      -0.3474   5.96e+06  -5.83e-08      1.000   -1.17e+07    1.17e+07\n",
       "polviews_Slightly_liberal                                          -0.1373   5.96e+06   -2.3e-08      1.000   -1.17e+07    1.17e+07\n",
       "polviews_unknown                                                    0.0666    4.2e+06   1.59e-08      1.000   -8.23e+06    8.23e+06\n",
       "advfront_Agree                                                     -0.0715        nan        nan        nan         nan         nan\n",
       "advfront_Disagree                                                   0.1699        nan        nan        nan         nan         nan\n",
       "advfront_Dont_know                                                 -0.6111        nan        nan        nan         nan         nan\n",
       "advfront_Strongly_agree                                            -0.0320   3.98e+06  -8.05e-09      1.000   -7.79e+06    7.79e+06\n",
       "advfront_Strongly_disagree                                          0.9567      0.523      1.828      0.068      -0.069       1.983\n",
       "advfront_unknown                                                   -2.6110          0       -inf      0.000      -2.611      -2.611\n",
       "snapchat_No                                                        -0.8369   9.01e+06  -9.29e-08      1.000   -1.77e+07    1.77e+07\n",
       "snapchat_Yes                                                       -0.5551   8.58e+06  -6.47e-08      1.000   -1.68e+07    1.68e+07\n",
       "snapchat_unknown                                                   -0.8071        nan        nan        nan         nan         nan\n",
       "instagrm_No                                                        -0.6646        nan        nan        nan         nan         nan\n",
       "instagrm_Yes                                                       -0.7273        nan        nan        nan         nan         nan\n",
       "instagrm_unknown                                                   -0.8071        nan        nan        nan         nan         nan\n",
       "wrkstat_Keeping_house                                              -0.7897      0.231     -3.412      0.001      -1.243      -0.336\n",
       "wrkstat_Other                                                      -0.1391      0.368     -0.378      0.706      -0.861       0.583\n",
       "wrkstat_Retired                                                    -0.4033      0.073     -5.505      0.000      -0.547      -0.260\n",
       "wrkstat_School                                                     -0.6189      0.192     -3.229      0.001      -0.994      -0.243\n",
       "wrkstat_Temp_not_working                                           -0.0706      0.300     -0.235      0.814      -0.659       0.518\n",
       "wrkstat_Unempl,_laid_off                                            0.0705      0.293      0.241      0.810      -0.504       0.645\n",
       "wrkstat_Working_fulltime                                            0.4427      0.127      3.475      0.001       0.193       0.692\n",
       "wrkstat_Working_parttime                                           -0.2121        nan        nan        nan         nan         nan\n",
       "wrkstat_unknown                                                    -0.4786      1.675     -0.286      0.775      -3.761       2.804\n",
       "===================================================================================================================================\n",
       "\"\"\""
      ]
     },
     "execution_count": 119,
     "metadata": {},
     "output_type": "execute_result"
    }
   ],
   "source": [
    "link_function = stm.genmod.families.links.Log()\n",
    "gamma_model = stm.api.GLM(y_train, X_train, family=stm.api.families.Gamma(link=link_function))\n",
    "# gamma_model = stm.api.GLM(y_train, X_train, family=stm.api.families.Gamma())\n",
    "gamma_results = gamma_model.fit(method='lbfgs')\n",
    "gamma_results.summary()"
   ]
  },
  {
   "cell_type": "code",
   "execution_count": 120,
   "metadata": {
    "ExecuteTime": {
     "end_time": "2023-08-14T14:31:36.807051648Z",
     "start_time": "2023-08-14T14:31:36.776968329Z"
    },
    "collapsed": false
   },
   "outputs": [
    {
     "data": {
      "text/html": [
       "<table class=\"simpletable\">\n",
       "<caption>Generalized Linear Model Regression Results</caption>\n",
       "<tr>\n",
       "  <th>Dep. Variable:</th>         <td>noise</td>      <th>  No. Observations:  </th>  <td>  1319</td> \n",
       "</tr>\n",
       "<tr>\n",
       "  <th>Model:</th>                  <td>GLM</td>       <th>  Df Residuals:      </th>  <td>  1291</td> \n",
       "</tr>\n",
       "<tr>\n",
       "  <th>Model Family:</th>          <td>Gamma</td>      <th>  Df Model:          </th>  <td>    27</td> \n",
       "</tr>\n",
       "<tr>\n",
       "  <th>Link Function:</th>          <td>Log</td>       <th>  Scale:             </th> <td>  2.7239</td>\n",
       "</tr>\n",
       "<tr>\n",
       "  <th>Method:</th>                <td>lbfgs</td>      <th>  Log-Likelihood:    </th> <td>  2447.9</td>\n",
       "</tr>\n",
       "<tr>\n",
       "  <th>Date:</th>            <td>Mon, 14 Aug 2023</td> <th>  Deviance:          </th> <td>  2755.5</td>\n",
       "</tr>\n",
       "<tr>\n",
       "  <th>Time:</th>                <td>21:38:14</td>     <th>  Pearson chi2:      </th> <td>3.52e+03</td>\n",
       "</tr>\n",
       "<tr>\n",
       "  <th>No. Iterations:</th>         <td>80</td>        <th>  Pseudo R-squ. (CS):</th>  <td>0.1181</td> \n",
       "</tr>\n",
       "<tr>\n",
       "  <th>Covariance Type:</th>     <td>nonrobust</td>    <th>                     </th>     <td> </td>   \n",
       "</tr>\n",
       "</table>\n",
       "<table class=\"simpletable\">\n",
       "<tr>\n",
       "                                 <td></td>                                    <th>coef</th>     <th>std err</th>      <th>z</th>      <th>P>|z|</th>  <th>[0.025</th>    <th>0.975]</th>  \n",
       "</tr>\n",
       "<tr>\n",
       "  <th>educ_center</th>                                                     <td>    1.7716</td> <td>    0.336</td> <td>    5.265</td> <td> 0.000</td> <td>    1.112</td> <td>    2.431</td>\n",
       "</tr>\n",
       "<tr>\n",
       "  <th>harass5_Does_not_apply_(i_do_not_have_a_job/superior/co-worker)</th> <td>   -0.8868</td> <td>      nan</td> <td>      nan</td> <td>   nan</td> <td>      nan</td> <td>      nan</td>\n",
       "</tr>\n",
       "<tr>\n",
       "  <th>harass5_No</th>                                                      <td>    0.1778</td> <td>      nan</td> <td>      nan</td> <td>   nan</td> <td>      nan</td> <td>      nan</td>\n",
       "</tr>\n",
       "<tr>\n",
       "  <th>harass5_Yes</th>                                                     <td>    0.6711</td> <td>      nan</td> <td>      nan</td> <td>   nan</td> <td>      nan</td> <td>      nan</td>\n",
       "</tr>\n",
       "<tr>\n",
       "  <th>harass5_unknown</th>                                                 <td>   -2.1613</td> <td>      nan</td> <td>      nan</td> <td>   nan</td> <td>      nan</td> <td>      nan</td>\n",
       "</tr>\n",
       "<tr>\n",
       "  <th>polviews_Conservative</th>                                           <td>   -0.2150</td> <td> 4.75e+06</td> <td>-4.53e-08</td> <td> 1.000</td> <td>-9.31e+06</td> <td> 9.31e+06</td>\n",
       "</tr>\n",
       "<tr>\n",
       "  <th>polviews_Extremely_liberal</th>                                      <td>   -0.2829</td> <td>  5.7e+06</td> <td>-4.96e-08</td> <td> 1.000</td> <td>-1.12e+07</td> <td> 1.12e+07</td>\n",
       "</tr>\n",
       "<tr>\n",
       "  <th>polviews_Extrmly_conservative</th>                                   <td>   -0.7971</td> <td>  6.2e+06</td> <td>-1.28e-07</td> <td> 1.000</td> <td>-1.22e+07</td> <td> 1.22e+07</td>\n",
       "</tr>\n",
       "<tr>\n",
       "  <th>polviews_Liberal</th>                                                <td>   -0.3217</td> <td> 5.96e+06</td> <td> -5.4e-08</td> <td> 1.000</td> <td>-1.17e+07</td> <td> 1.17e+07</td>\n",
       "</tr>\n",
       "<tr>\n",
       "  <th>polviews_Moderate</th>                                               <td>   -0.1642</td> <td>  5.7e+06</td> <td>-2.88e-08</td> <td> 1.000</td> <td>-1.12e+07</td> <td> 1.12e+07</td>\n",
       "</tr>\n",
       "<tr>\n",
       "  <th>polviews_Slghtly_conservative</th>                                   <td>   -0.3474</td> <td> 5.96e+06</td> <td>-5.83e-08</td> <td> 1.000</td> <td>-1.17e+07</td> <td> 1.17e+07</td>\n",
       "</tr>\n",
       "<tr>\n",
       "  <th>polviews_Slightly_liberal</th>                                       <td>   -0.1373</td> <td> 5.96e+06</td> <td> -2.3e-08</td> <td> 1.000</td> <td>-1.17e+07</td> <td> 1.17e+07</td>\n",
       "</tr>\n",
       "<tr>\n",
       "  <th>polviews_unknown</th>                                                <td>    0.0666</td> <td>  4.2e+06</td> <td> 1.59e-08</td> <td> 1.000</td> <td>-8.23e+06</td> <td> 8.23e+06</td>\n",
       "</tr>\n",
       "<tr>\n",
       "  <th>advfront_Agree</th>                                                  <td>   -0.0715</td> <td>      nan</td> <td>      nan</td> <td>   nan</td> <td>      nan</td> <td>      nan</td>\n",
       "</tr>\n",
       "<tr>\n",
       "  <th>advfront_Disagree</th>                                               <td>    0.1699</td> <td>      nan</td> <td>      nan</td> <td>   nan</td> <td>      nan</td> <td>      nan</td>\n",
       "</tr>\n",
       "<tr>\n",
       "  <th>advfront_Dont_know</th>                                              <td>   -0.6111</td> <td>      nan</td> <td>      nan</td> <td>   nan</td> <td>      nan</td> <td>      nan</td>\n",
       "</tr>\n",
       "<tr>\n",
       "  <th>advfront_Strongly_agree</th>                                         <td>   -0.0320</td> <td> 3.98e+06</td> <td>-8.05e-09</td> <td> 1.000</td> <td>-7.79e+06</td> <td> 7.79e+06</td>\n",
       "</tr>\n",
       "<tr>\n",
       "  <th>advfront_Strongly_disagree</th>                                      <td>    0.9567</td> <td>    0.523</td> <td>    1.828</td> <td> 0.068</td> <td>   -0.069</td> <td>    1.983</td>\n",
       "</tr>\n",
       "<tr>\n",
       "  <th>advfront_unknown</th>                                                <td>   -2.6110</td> <td>        0</td> <td>     -inf</td> <td> 0.000</td> <td>   -2.611</td> <td>   -2.611</td>\n",
       "</tr>\n",
       "<tr>\n",
       "  <th>snapchat_No</th>                                                     <td>   -0.8369</td> <td> 9.01e+06</td> <td>-9.29e-08</td> <td> 1.000</td> <td>-1.77e+07</td> <td> 1.77e+07</td>\n",
       "</tr>\n",
       "<tr>\n",
       "  <th>snapchat_Yes</th>                                                    <td>   -0.5551</td> <td> 8.58e+06</td> <td>-6.47e-08</td> <td> 1.000</td> <td>-1.68e+07</td> <td> 1.68e+07</td>\n",
       "</tr>\n",
       "<tr>\n",
       "  <th>snapchat_unknown</th>                                                <td>   -0.8071</td> <td>      nan</td> <td>      nan</td> <td>   nan</td> <td>      nan</td> <td>      nan</td>\n",
       "</tr>\n",
       "<tr>\n",
       "  <th>instagrm_No</th>                                                     <td>   -0.6646</td> <td>      nan</td> <td>      nan</td> <td>   nan</td> <td>      nan</td> <td>      nan</td>\n",
       "</tr>\n",
       "<tr>\n",
       "  <th>instagrm_Yes</th>                                                    <td>   -0.7273</td> <td>      nan</td> <td>      nan</td> <td>   nan</td> <td>      nan</td> <td>      nan</td>\n",
       "</tr>\n",
       "<tr>\n",
       "  <th>instagrm_unknown</th>                                                <td>   -0.8071</td> <td>      nan</td> <td>      nan</td> <td>   nan</td> <td>      nan</td> <td>      nan</td>\n",
       "</tr>\n",
       "<tr>\n",
       "  <th>wrkstat_Keeping_house</th>                                           <td>   -0.7897</td> <td>    0.231</td> <td>   -3.412</td> <td> 0.001</td> <td>   -1.243</td> <td>   -0.336</td>\n",
       "</tr>\n",
       "<tr>\n",
       "  <th>wrkstat_Other</th>                                                   <td>   -0.1391</td> <td>    0.368</td> <td>   -0.378</td> <td> 0.706</td> <td>   -0.861</td> <td>    0.583</td>\n",
       "</tr>\n",
       "<tr>\n",
       "  <th>wrkstat_Retired</th>                                                 <td>   -0.4033</td> <td>    0.073</td> <td>   -5.505</td> <td> 0.000</td> <td>   -0.547</td> <td>   -0.260</td>\n",
       "</tr>\n",
       "<tr>\n",
       "  <th>wrkstat_School</th>                                                  <td>   -0.6189</td> <td>    0.192</td> <td>   -3.229</td> <td> 0.001</td> <td>   -0.994</td> <td>   -0.243</td>\n",
       "</tr>\n",
       "<tr>\n",
       "  <th>wrkstat_Temp_not_working</th>                                        <td>   -0.0706</td> <td>    0.300</td> <td>   -0.235</td> <td> 0.814</td> <td>   -0.659</td> <td>    0.518</td>\n",
       "</tr>\n",
       "<tr>\n",
       "  <th>wrkstat_Unempl,_laid_off</th>                                        <td>    0.0705</td> <td>    0.293</td> <td>    0.241</td> <td> 0.810</td> <td>   -0.504</td> <td>    0.645</td>\n",
       "</tr>\n",
       "<tr>\n",
       "  <th>wrkstat_Working_fulltime</th>                                        <td>    0.4427</td> <td>    0.127</td> <td>    3.475</td> <td> 0.001</td> <td>    0.193</td> <td>    0.692</td>\n",
       "</tr>\n",
       "<tr>\n",
       "  <th>wrkstat_Working_parttime</th>                                        <td>   -0.2121</td> <td>      nan</td> <td>      nan</td> <td>   nan</td> <td>      nan</td> <td>      nan</td>\n",
       "</tr>\n",
       "<tr>\n",
       "  <th>wrkstat_unknown</th>                                                 <td>   -0.4786</td> <td>    1.675</td> <td>   -0.286</td> <td> 0.775</td> <td>   -3.761</td> <td>    2.804</td>\n",
       "</tr>\n",
       "</table>"
      ],
      "text/latex": [
       "\\begin{center}\n",
       "\\begin{tabular}{lclc}\n",
       "\\toprule\n",
       "\\textbf{Dep. Variable:}                                                           &      noise       & \\textbf{  No. Observations:  } &     1319    \\\\\n",
       "\\textbf{Model:}                                                                   &       GLM        & \\textbf{  Df Residuals:      } &     1291    \\\\\n",
       "\\textbf{Model Family:}                                                            &      Gamma       & \\textbf{  Df Model:          } &       27    \\\\\n",
       "\\textbf{Link Function:}                                                           &       Log        & \\textbf{  Scale:             } &    2.7239   \\\\\n",
       "\\textbf{Method:}                                                                  &      lbfgs       & \\textbf{  Log-Likelihood:    } &    2447.9   \\\\\n",
       "\\textbf{Date:}                                                                    & Mon, 14 Aug 2023 & \\textbf{  Deviance:          } &    2755.5   \\\\\n",
       "\\textbf{Time:}                                                                    &     21:38:14     & \\textbf{  Pearson chi2:      } &  3.52e+03   \\\\\n",
       "\\textbf{No. Iterations:}                                                          &        80        & \\textbf{  Pseudo R-squ. (CS):} &   0.1181    \\\\\n",
       "\\textbf{Covariance Type:}                                                         &    nonrobust     & \\textbf{                     } &             \\\\\n",
       "\\bottomrule\n",
       "\\end{tabular}\n",
       "\\begin{tabular}{lcccccc}\n",
       "                                                                                  & \\textbf{coef} & \\textbf{std err} & \\textbf{z} & \\textbf{P$> |$z$|$} & \\textbf{[0.025} & \\textbf{0.975]}  \\\\\n",
       "\\midrule\n",
       "\\textbf{educ\\_center}                                                             &       1.7716  &        0.336     &     5.265  &         0.000        &        1.112    &        2.431     \\\\\n",
       "\\textbf{harass5\\_Does\\_not\\_apply\\_(i\\_do\\_not\\_have\\_a\\_job/superior/co-worker)} &      -0.8868  &          nan     &       nan  &           nan        &          nan    &          nan     \\\\\n",
       "\\textbf{harass5\\_No}                                                              &       0.1778  &          nan     &       nan  &           nan        &          nan    &          nan     \\\\\n",
       "\\textbf{harass5\\_Yes}                                                             &       0.6711  &          nan     &       nan  &           nan        &          nan    &          nan     \\\\\n",
       "\\textbf{harass5\\_unknown}                                                         &      -2.1613  &          nan     &       nan  &           nan        &          nan    &          nan     \\\\\n",
       "\\textbf{polviews\\_Conservative}                                                   &      -0.2150  &     4.75e+06     & -4.53e-08  &         1.000        &    -9.31e+06    &     9.31e+06     \\\\\n",
       "\\textbf{polviews\\_Extremely\\_liberal}                                             &      -0.2829  &      5.7e+06     & -4.96e-08  &         1.000        &    -1.12e+07    &     1.12e+07     \\\\\n",
       "\\textbf{polviews\\_Extrmly\\_conservative}                                          &      -0.7971  &      6.2e+06     & -1.28e-07  &         1.000        &    -1.22e+07    &     1.22e+07     \\\\\n",
       "\\textbf{polviews\\_Liberal}                                                        &      -0.3217  &     5.96e+06     &  -5.4e-08  &         1.000        &    -1.17e+07    &     1.17e+07     \\\\\n",
       "\\textbf{polviews\\_Moderate}                                                       &      -0.1642  &      5.7e+06     & -2.88e-08  &         1.000        &    -1.12e+07    &     1.12e+07     \\\\\n",
       "\\textbf{polviews\\_Slghtly\\_conservative}                                          &      -0.3474  &     5.96e+06     & -5.83e-08  &         1.000        &    -1.17e+07    &     1.17e+07     \\\\\n",
       "\\textbf{polviews\\_Slightly\\_liberal}                                              &      -0.1373  &     5.96e+06     &  -2.3e-08  &         1.000        &    -1.17e+07    &     1.17e+07     \\\\\n",
       "\\textbf{polviews\\_unknown}                                                        &       0.0666  &      4.2e+06     &  1.59e-08  &         1.000        &    -8.23e+06    &     8.23e+06     \\\\\n",
       "\\textbf{advfront\\_Agree}                                                          &      -0.0715  &          nan     &       nan  &           nan        &          nan    &          nan     \\\\\n",
       "\\textbf{advfront\\_Disagree}                                                       &       0.1699  &          nan     &       nan  &           nan        &          nan    &          nan     \\\\\n",
       "\\textbf{advfront\\_Dont\\_know}                                                     &      -0.6111  &          nan     &       nan  &           nan        &          nan    &          nan     \\\\\n",
       "\\textbf{advfront\\_Strongly\\_agree}                                                &      -0.0320  &     3.98e+06     & -8.05e-09  &         1.000        &    -7.79e+06    &     7.79e+06     \\\\\n",
       "\\textbf{advfront\\_Strongly\\_disagree}                                             &       0.9567  &        0.523     &     1.828  &         0.068        &       -0.069    &        1.983     \\\\\n",
       "\\textbf{advfront\\_unknown}                                                        &      -2.6110  &            0     &      -inf  &         0.000        &       -2.611    &       -2.611     \\\\\n",
       "\\textbf{snapchat\\_No}                                                             &      -0.8369  &     9.01e+06     & -9.29e-08  &         1.000        &    -1.77e+07    &     1.77e+07     \\\\\n",
       "\\textbf{snapchat\\_Yes}                                                            &      -0.5551  &     8.58e+06     & -6.47e-08  &         1.000        &    -1.68e+07    &     1.68e+07     \\\\\n",
       "\\textbf{snapchat\\_unknown}                                                        &      -0.8071  &          nan     &       nan  &           nan        &          nan    &          nan     \\\\\n",
       "\\textbf{instagrm\\_No}                                                             &      -0.6646  &          nan     &       nan  &           nan        &          nan    &          nan     \\\\\n",
       "\\textbf{instagrm\\_Yes}                                                            &      -0.7273  &          nan     &       nan  &           nan        &          nan    &          nan     \\\\\n",
       "\\textbf{instagrm\\_unknown}                                                        &      -0.8071  &          nan     &       nan  &           nan        &          nan    &          nan     \\\\\n",
       "\\textbf{wrkstat\\_Keeping\\_house}                                                  &      -0.7897  &        0.231     &    -3.412  &         0.001        &       -1.243    &       -0.336     \\\\\n",
       "\\textbf{wrkstat\\_Other}                                                           &      -0.1391  &        0.368     &    -0.378  &         0.706        &       -0.861    &        0.583     \\\\\n",
       "\\textbf{wrkstat\\_Retired}                                                         &      -0.4033  &        0.073     &    -5.505  &         0.000        &       -0.547    &       -0.260     \\\\\n",
       "\\textbf{wrkstat\\_School}                                                          &      -0.6189  &        0.192     &    -3.229  &         0.001        &       -0.994    &       -0.243     \\\\\n",
       "\\textbf{wrkstat\\_Temp\\_not\\_working}                                              &      -0.0706  &        0.300     &    -0.235  &         0.814        &       -0.659    &        0.518     \\\\\n",
       "\\textbf{wrkstat\\_Unempl,\\_laid\\_off}                                              &       0.0705  &        0.293     &     0.241  &         0.810        &       -0.504    &        0.645     \\\\\n",
       "\\textbf{wrkstat\\_Working\\_fulltime}                                               &       0.4427  &        0.127     &     3.475  &         0.001        &        0.193    &        0.692     \\\\\n",
       "\\textbf{wrkstat\\_Working\\_parttime}                                               &      -0.2121  &          nan     &       nan  &           nan        &          nan    &          nan     \\\\\n",
       "\\textbf{wrkstat\\_unknown}                                                         &      -0.4786  &        1.675     &    -0.286  &         0.775        &       -3.761    &        2.804     \\\\\n",
       "\\bottomrule\n",
       "\\end{tabular}\n",
       "%\\caption{Generalized Linear Model Regression Results}\n",
       "\\end{center}"
      ],
      "text/plain": [
       "<class 'statsmodels.iolib.summary.Summary'>\n",
       "\"\"\"\n",
       "                 Generalized Linear Model Regression Results                  \n",
       "==============================================================================\n",
       "Dep. Variable:                  noise   No. Observations:                 1319\n",
       "Model:                            GLM   Df Residuals:                     1291\n",
       "Model Family:                   Gamma   Df Model:                           27\n",
       "Link Function:                    Log   Scale:                          2.7239\n",
       "Method:                         lbfgs   Log-Likelihood:                 2447.9\n",
       "Date:                Mon, 14 Aug 2023   Deviance:                       2755.5\n",
       "Time:                        21:38:14   Pearson chi2:                 3.52e+03\n",
       "No. Iterations:                    80   Pseudo R-squ. (CS):             0.1181\n",
       "Covariance Type:            nonrobust                                         \n",
       "===================================================================================================================================\n",
       "                                                                      coef    std err          z      P>|z|      [0.025      0.975]\n",
       "-----------------------------------------------------------------------------------------------------------------------------------\n",
       "educ_center                                                         1.7716      0.336      5.265      0.000       1.112       2.431\n",
       "harass5_Does_not_apply_(i_do_not_have_a_job/superior/co-worker)    -0.8868        nan        nan        nan         nan         nan\n",
       "harass5_No                                                          0.1778        nan        nan        nan         nan         nan\n",
       "harass5_Yes                                                         0.6711        nan        nan        nan         nan         nan\n",
       "harass5_unknown                                                    -2.1613        nan        nan        nan         nan         nan\n",
       "polviews_Conservative                                              -0.2150   4.75e+06  -4.53e-08      1.000   -9.31e+06    9.31e+06\n",
       "polviews_Extremely_liberal                                         -0.2829    5.7e+06  -4.96e-08      1.000   -1.12e+07    1.12e+07\n",
       "polviews_Extrmly_conservative                                      -0.7971    6.2e+06  -1.28e-07      1.000   -1.22e+07    1.22e+07\n",
       "polviews_Liberal                                                   -0.3217   5.96e+06   -5.4e-08      1.000   -1.17e+07    1.17e+07\n",
       "polviews_Moderate                                                  -0.1642    5.7e+06  -2.88e-08      1.000   -1.12e+07    1.12e+07\n",
       "polviews_Slghtly_conservative                                      -0.3474   5.96e+06  -5.83e-08      1.000   -1.17e+07    1.17e+07\n",
       "polviews_Slightly_liberal                                          -0.1373   5.96e+06   -2.3e-08      1.000   -1.17e+07    1.17e+07\n",
       "polviews_unknown                                                    0.0666    4.2e+06   1.59e-08      1.000   -8.23e+06    8.23e+06\n",
       "advfront_Agree                                                     -0.0715        nan        nan        nan         nan         nan\n",
       "advfront_Disagree                                                   0.1699        nan        nan        nan         nan         nan\n",
       "advfront_Dont_know                                                 -0.6111        nan        nan        nan         nan         nan\n",
       "advfront_Strongly_agree                                            -0.0320   3.98e+06  -8.05e-09      1.000   -7.79e+06    7.79e+06\n",
       "advfront_Strongly_disagree                                          0.9567      0.523      1.828      0.068      -0.069       1.983\n",
       "advfront_unknown                                                   -2.6110          0       -inf      0.000      -2.611      -2.611\n",
       "snapchat_No                                                        -0.8369   9.01e+06  -9.29e-08      1.000   -1.77e+07    1.77e+07\n",
       "snapchat_Yes                                                       -0.5551   8.58e+06  -6.47e-08      1.000   -1.68e+07    1.68e+07\n",
       "snapchat_unknown                                                   -0.8071        nan        nan        nan         nan         nan\n",
       "instagrm_No                                                        -0.6646        nan        nan        nan         nan         nan\n",
       "instagrm_Yes                                                       -0.7273        nan        nan        nan         nan         nan\n",
       "instagrm_unknown                                                   -0.8071        nan        nan        nan         nan         nan\n",
       "wrkstat_Keeping_house                                              -0.7897      0.231     -3.412      0.001      -1.243      -0.336\n",
       "wrkstat_Other                                                      -0.1391      0.368     -0.378      0.706      -0.861       0.583\n",
       "wrkstat_Retired                                                    -0.4033      0.073     -5.505      0.000      -0.547      -0.260\n",
       "wrkstat_School                                                     -0.6189      0.192     -3.229      0.001      -0.994      -0.243\n",
       "wrkstat_Temp_not_working                                           -0.0706      0.300     -0.235      0.814      -0.659       0.518\n",
       "wrkstat_Unempl,_laid_off                                            0.0705      0.293      0.241      0.810      -0.504       0.645\n",
       "wrkstat_Working_fulltime                                            0.4427      0.127      3.475      0.001       0.193       0.692\n",
       "wrkstat_Working_parttime                                           -0.2121        nan        nan        nan         nan         nan\n",
       "wrkstat_unknown                                                    -0.4786      1.675     -0.286      0.775      -3.761       2.804\n",
       "===================================================================================================================================\n",
       "\"\"\""
      ]
     },
     "execution_count": 120,
     "metadata": {},
     "output_type": "execute_result"
    }
   ],
   "source": [
    "gamma_results.summary()"
   ]
  },
  {
   "cell_type": "code",
   "execution_count": 121,
   "metadata": {
    "ExecuteTime": {
     "end_time": "2023-08-14T14:30:54.027243541Z",
     "start_time": "2023-08-14T14:30:54.012809226Z"
    }
   },
   "outputs": [
    {
     "name": "stdout",
     "output_type": "stream",
     "text": [
      "metrics, mse: 0.009030379207018904, rmse: 0.09502830739847419, r2: 0.08798772882752548\n"
     ]
    }
   ],
   "source": [
    "y_pred = gamma_results.predict(X_test)\n",
    "print_metrics(y_test, y_pred)"
   ]
  },
  {
   "cell_type": "code",
   "execution_count": 122,
   "metadata": {
    "ExecuteTime": {
     "end_time": "2023-08-14T14:30:54.027419160Z",
     "start_time": "2023-08-14T14:30:54.012932534Z"
    }
   },
   "outputs": [],
   "source": [
    "choices = ['educ_center', 'wrkstat_Working_fulltime']\n",
    "# choices = ['educ_center', 'polviews_Extrmly conservative']\n",
    "X_train_choice = X_train[X_train.columns.intersection(choices)]\n",
    "X_test_choice = X_test[X_test.columns.intersection(choices)]"
   ]
  },
  {
   "cell_type": "code",
   "execution_count": 123,
   "metadata": {},
   "outputs": [
    {
     "name": "stdout",
     "output_type": "stream",
     "text": [
      "<class 'pandas.core.frame.DataFrame'>\n",
      "Index: 1319 entries, 887 to 684\n",
      "Data columns (total 2 columns):\n",
      " #   Column                    Non-Null Count  Dtype  \n",
      "---  ------                    --------------  -----  \n",
      " 0   educ_center               1319 non-null   float64\n",
      " 1   wrkstat_Working_fulltime  1319 non-null   int64  \n",
      "dtypes: float64(1), int64(1)\n",
      "memory usage: 30.9 KB\n"
     ]
    }
   ],
   "source": [
    "X_train_choice.info()"
   ]
  },
  {
   "cell_type": "code",
   "execution_count": 124,
   "metadata": {
    "ExecuteTime": {
     "end_time": "2023-08-14T14:30:54.030798161Z",
     "start_time": "2023-08-14T14:30:54.012977735Z"
    }
   },
   "outputs": [
    {
     "data": {
      "text/html": [
       "<table class=\"simpletable\">\n",
       "<caption>Generalized Linear Model Regression Results</caption>\n",
       "<tr>\n",
       "  <th>Dep. Variable:</th>         <td>noise</td>      <th>  No. Observations:  </th>  <td>  1319</td> \n",
       "</tr>\n",
       "<tr>\n",
       "  <th>Model:</th>                  <td>GLM</td>       <th>  Df Residuals:      </th>  <td>  1317</td> \n",
       "</tr>\n",
       "<tr>\n",
       "  <th>Model Family:</th>          <td>Gamma</td>      <th>  Df Model:          </th>  <td>     1</td> \n",
       "</tr>\n",
       "<tr>\n",
       "  <th>Link Function:</th>          <td>Log</td>       <th>  Scale:             </th> <td>  2.7854</td>\n",
       "</tr>\n",
       "<tr>\n",
       "  <th>Method:</th>                <td>lbfgs</td>      <th>  Log-Likelihood:    </th> <td>  2248.6</td>\n",
       "</tr>\n",
       "<tr>\n",
       "  <th>Date:</th>            <td>Mon, 14 Aug 2023</td> <th>  Deviance:          </th> <td>  3818.5</td>\n",
       "</tr>\n",
       "<tr>\n",
       "  <th>Time:</th>                <td>21:38:14</td>     <th>  Pearson chi2:      </th> <td>3.67e+03</td>\n",
       "</tr>\n",
       "<tr>\n",
       "  <th>No. Iterations:</th>          <td>3</td>        <th>  Pseudo R-squ. (CS):</th>  <td>-0.1811</td>\n",
       "</tr>\n",
       "<tr>\n",
       "  <th>Covariance Type:</th>     <td>nonrobust</td>    <th>                     </th>     <td> </td>   \n",
       "</tr>\n",
       "</table>\n",
       "<table class=\"simpletable\">\n",
       "<tr>\n",
       "              <td></td>                <th>coef</th>     <th>std err</th>      <th>z</th>      <th>P>|z|</th>  <th>[0.025</th>    <th>0.975]</th>  \n",
       "</tr>\n",
       "<tr>\n",
       "  <th>educ_center</th>              <td>   -3.8550</td> <td>    0.097</td> <td>  -39.835</td> <td> 0.000</td> <td>   -4.045</td> <td>   -3.665</td>\n",
       "</tr>\n",
       "<tr>\n",
       "  <th>wrkstat_Working_fulltime</th> <td>    0.6379</td> <td>    0.101</td> <td>    6.324</td> <td> 0.000</td> <td>    0.440</td> <td>    0.836</td>\n",
       "</tr>\n",
       "</table>"
      ],
      "text/latex": [
       "\\begin{center}\n",
       "\\begin{tabular}{lclc}\n",
       "\\toprule\n",
       "\\textbf{Dep. Variable:}             &      noise       & \\textbf{  No. Observations:  } &     1319    \\\\\n",
       "\\textbf{Model:}                     &       GLM        & \\textbf{  Df Residuals:      } &     1317    \\\\\n",
       "\\textbf{Model Family:}              &      Gamma       & \\textbf{  Df Model:          } &        1    \\\\\n",
       "\\textbf{Link Function:}             &       Log        & \\textbf{  Scale:             } &    2.7854   \\\\\n",
       "\\textbf{Method:}                    &      lbfgs       & \\textbf{  Log-Likelihood:    } &    2248.6   \\\\\n",
       "\\textbf{Date:}                      & Mon, 14 Aug 2023 & \\textbf{  Deviance:          } &    3818.5   \\\\\n",
       "\\textbf{Time:}                      &     21:38:14     & \\textbf{  Pearson chi2:      } &  3.67e+03   \\\\\n",
       "\\textbf{No. Iterations:}            &        3         & \\textbf{  Pseudo R-squ. (CS):} &  -0.1811    \\\\\n",
       "\\textbf{Covariance Type:}           &    nonrobust     & \\textbf{                     } &             \\\\\n",
       "\\bottomrule\n",
       "\\end{tabular}\n",
       "\\begin{tabular}{lcccccc}\n",
       "                                    & \\textbf{coef} & \\textbf{std err} & \\textbf{z} & \\textbf{P$> |$z$|$} & \\textbf{[0.025} & \\textbf{0.975]}  \\\\\n",
       "\\midrule\n",
       "\\textbf{educ\\_center}               &      -3.8550  &        0.097     &   -39.835  &         0.000        &       -4.045    &       -3.665     \\\\\n",
       "\\textbf{wrkstat\\_Working\\_fulltime} &       0.6379  &        0.101     &     6.324  &         0.000        &        0.440    &        0.836     \\\\\n",
       "\\bottomrule\n",
       "\\end{tabular}\n",
       "%\\caption{Generalized Linear Model Regression Results}\n",
       "\\end{center}"
      ],
      "text/plain": [
       "<class 'statsmodels.iolib.summary.Summary'>\n",
       "\"\"\"\n",
       "                 Generalized Linear Model Regression Results                  \n",
       "==============================================================================\n",
       "Dep. Variable:                  noise   No. Observations:                 1319\n",
       "Model:                            GLM   Df Residuals:                     1317\n",
       "Model Family:                   Gamma   Df Model:                            1\n",
       "Link Function:                    Log   Scale:                          2.7854\n",
       "Method:                         lbfgs   Log-Likelihood:                 2248.6\n",
       "Date:                Mon, 14 Aug 2023   Deviance:                       3818.5\n",
       "Time:                        21:38:14   Pearson chi2:                 3.67e+03\n",
       "No. Iterations:                     3   Pseudo R-squ. (CS):            -0.1811\n",
       "Covariance Type:            nonrobust                                         \n",
       "============================================================================================\n",
       "                               coef    std err          z      P>|z|      [0.025      0.975]\n",
       "--------------------------------------------------------------------------------------------\n",
       "educ_center                 -3.8550      0.097    -39.835      0.000      -4.045      -3.665\n",
       "wrkstat_Working_fulltime     0.6379      0.101      6.324      0.000       0.440       0.836\n",
       "============================================================================================\n",
       "\"\"\""
      ]
     },
     "execution_count": 124,
     "metadata": {},
     "output_type": "execute_result"
    }
   ],
   "source": [
    "link_function = stm.genmod.families.links.Log()\n",
    "gm_model = stm.api.GLM(y_train, X_train_choice, family=stm.api.families.Gamma(link=link_function))\n",
    "gm_res = gm_model.fit(method='lbfgs')\n",
    "gm_res.summary()"
   ]
  },
  {
   "cell_type": "code",
   "execution_count": 125,
   "metadata": {
    "ExecuteTime": {
     "end_time": "2023-08-14T14:30:54.065624879Z",
     "start_time": "2023-08-14T14:30:54.025721213Z"
    }
   },
   "outputs": [],
   "source": [
    "y_pred = gm_res.predict(X_test_choice)"
   ]
  },
  {
   "cell_type": "code",
   "execution_count": 126,
   "metadata": {
    "ExecuteTime": {
     "end_time": "2023-08-14T14:30:54.101022381Z",
     "start_time": "2023-08-14T14:30:54.034802481Z"
    }
   },
   "outputs": [
    {
     "name": "stdout",
     "output_type": "stream",
     "text": [
      "(330,)\n"
     ]
    }
   ],
   "source": [
    "print(y_pred.shape)"
   ]
  },
  {
   "cell_type": "code",
   "execution_count": 127,
   "metadata": {
    "ExecuteTime": {
     "end_time": "2023-08-14T14:30:54.105421392Z",
     "start_time": "2023-08-14T14:30:54.044973065Z"
    }
   },
   "outputs": [
    {
     "name": "stdout",
     "output_type": "stream",
     "text": [
      "metrics, mse: 0.019575321230113085, rmse: 0.13991183377439195, r2: -0.9769859897057167\n"
     ]
    }
   ],
   "source": [
    "print_metrics(y_test, y_pred)"
   ]
  }
 ],
 "metadata": {
  "kernelspec": {
   "display_name": "venv",
   "language": "python",
   "name": "python3"
  },
  "language_info": {
   "codemirror_mode": {
    "name": "ipython",
    "version": 3
   },
   "file_extension": ".py",
   "mimetype": "text/x-python",
   "name": "python",
   "nbconvert_exporter": "python",
   "pygments_lexer": "ipython3",
   "version": "3.10.8"
  },
  "orig_nbformat": 4
 },
 "nbformat": 4,
 "nbformat_minor": 2
}
