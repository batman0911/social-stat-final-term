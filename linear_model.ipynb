{
 "cells": [
  {
   "cell_type": "code",
   "execution_count": 1,
   "metadata": {
    "ExecuteTime": {
     "end_time": "2023-08-14T14:30:53.610836593Z",
     "start_time": "2023-08-14T14:30:53.497243399Z"
    }
   },
   "outputs": [],
   "source": [
    "import sklearn as sk\n",
    "from sklearn import linear_model\n",
    "import pandas as pd\n",
    "import numpy as np\n",
    "from sklearn.metrics import mean_squared_error, r2_score\n",
    "from sklearn.model_selection import train_test_split\n",
    "import statsmodels.api as sm\n",
    "import statsmodels as stm"
   ]
  },
  {
   "cell_type": "code",
   "execution_count": 2,
   "metadata": {
    "ExecuteTime": {
     "end_time": "2023-08-14T14:30:53.611151924Z",
     "start_time": "2023-08-14T14:30:53.540870938Z"
    }
   },
   "outputs": [],
   "source": [
    "X = pd.read_csv('data/preprocessing/X.csv')\n",
    "y = pd.read_csv('data/preprocessing/y.csv')"
   ]
  },
  {
   "cell_type": "code",
   "execution_count": 3,
   "metadata": {
    "ExecuteTime": {
     "end_time": "2023-08-14T14:30:53.611451050Z",
     "start_time": "2023-08-14T14:30:53.540986333Z"
    }
   },
   "outputs": [
    {
     "data": {
      "text/plain": [
       "Index(['educ_center',\n",
       "       'harass5_Does_not_apply_(i_do_not_have_a_job/superior/co-worker)',\n",
       "       'harass5_No', 'harass5_Yes', 'polviews_Conservative',\n",
       "       'polviews_Extremely_liberal', 'polviews_Extrmly_conservative',\n",
       "       'polviews_Liberal', 'polviews_Moderate',\n",
       "       'polviews_Slghtly_conservative', 'polviews_Slightly_liberal',\n",
       "       'advfront_Agree', 'advfront_Disagree', 'advfront_Dont_know',\n",
       "       'advfront_Strongly_agree', 'advfront_Strongly_disagree', 'snapchat_No',\n",
       "       'snapchat_Yes', 'instagrm_No', 'instagrm_Yes', 'wrkstat_Keeping_house',\n",
       "       'wrkstat_Other', 'wrkstat_Retired', 'wrkstat_School',\n",
       "       'wrkstat_Temp_not_working', 'wrkstat_Unempl,_laid_off',\n",
       "       'wrkstat_Working_fulltime', 'wrkstat_Working_parttime'],\n",
       "      dtype='object')"
      ]
     },
     "execution_count": 3,
     "metadata": {},
     "output_type": "execute_result"
    }
   ],
   "source": [
    "X.columns"
   ]
  },
  {
   "cell_type": "code",
   "execution_count": 4,
   "metadata": {
    "ExecuteTime": {
     "end_time": "2023-08-14T14:30:53.611592720Z",
     "start_time": "2023-08-14T14:30:53.541023272Z"
    }
   },
   "outputs": [
    {
     "name": "stdout",
     "output_type": "stream",
     "text": [
      "<class 'pandas.core.frame.DataFrame'>\n",
      "RangeIndex: 1649 entries, 0 to 1648\n",
      "Data columns (total 28 columns):\n",
      " #   Column                                                           Non-Null Count  Dtype  \n",
      "---  ------                                                           --------------  -----  \n",
      " 0   educ_center                                                      1649 non-null   float64\n",
      " 1   harass5_Does_not_apply_(i_do_not_have_a_job/superior/co-worker)  1649 non-null   int64  \n",
      " 2   harass5_No                                                       1649 non-null   int64  \n",
      " 3   harass5_Yes                                                      1649 non-null   int64  \n",
      " 4   polviews_Conservative                                            1649 non-null   int64  \n",
      " 5   polviews_Extremely_liberal                                       1649 non-null   int64  \n",
      " 6   polviews_Extrmly_conservative                                    1649 non-null   int64  \n",
      " 7   polviews_Liberal                                                 1649 non-null   int64  \n",
      " 8   polviews_Moderate                                                1649 non-null   int64  \n",
      " 9   polviews_Slghtly_conservative                                    1649 non-null   int64  \n",
      " 10  polviews_Slightly_liberal                                        1649 non-null   int64  \n",
      " 11  advfront_Agree                                                   1649 non-null   int64  \n",
      " 12  advfront_Disagree                                                1649 non-null   int64  \n",
      " 13  advfront_Dont_know                                               1649 non-null   int64  \n",
      " 14  advfront_Strongly_agree                                          1649 non-null   int64  \n",
      " 15  advfront_Strongly_disagree                                       1649 non-null   int64  \n",
      " 16  snapchat_No                                                      1649 non-null   int64  \n",
      " 17  snapchat_Yes                                                     1649 non-null   int64  \n",
      " 18  instagrm_No                                                      1649 non-null   int64  \n",
      " 19  instagrm_Yes                                                     1649 non-null   int64  \n",
      " 20  wrkstat_Keeping_house                                            1649 non-null   int64  \n",
      " 21  wrkstat_Other                                                    1649 non-null   int64  \n",
      " 22  wrkstat_Retired                                                  1649 non-null   int64  \n",
      " 23  wrkstat_School                                                   1649 non-null   int64  \n",
      " 24  wrkstat_Temp_not_working                                         1649 non-null   int64  \n",
      " 25  wrkstat_Unempl,_laid_off                                         1649 non-null   int64  \n",
      " 26  wrkstat_Working_fulltime                                         1649 non-null   int64  \n",
      " 27  wrkstat_Working_parttime                                         1649 non-null   int64  \n",
      "dtypes: float64(1), int64(27)\n",
      "memory usage: 360.8 KB\n"
     ]
    }
   ],
   "source": [
    "X.info()"
   ]
  },
  {
   "cell_type": "code",
   "execution_count": 5,
   "metadata": {
    "ExecuteTime": {
     "end_time": "2023-08-14T14:30:53.611634184Z",
     "start_time": "2023-08-14T14:30:53.542168242Z"
    }
   },
   "outputs": [],
   "source": [
    "sigma = 1e-3"
   ]
  },
  {
   "cell_type": "code",
   "execution_count": 6,
   "metadata": {
    "ExecuteTime": {
     "end_time": "2023-08-14T14:30:53.668765080Z",
     "start_time": "2023-08-14T14:30:53.547033045Z"
    }
   },
   "outputs": [],
   "source": [
    "y['noise'] = y['email_time_center'] + sigma"
   ]
  },
  {
   "cell_type": "code",
   "execution_count": 7,
   "metadata": {
    "ExecuteTime": {
     "end_time": "2023-08-14T14:30:53.691758882Z",
     "start_time": "2023-08-14T14:30:53.632721585Z"
    }
   },
   "outputs": [
    {
     "data": {
      "text/html": [
       "<div>\n",
       "<style scoped>\n",
       "    .dataframe tbody tr th:only-of-type {\n",
       "        vertical-align: middle;\n",
       "    }\n",
       "\n",
       "    .dataframe tbody tr th {\n",
       "        vertical-align: top;\n",
       "    }\n",
       "\n",
       "    .dataframe thead th {\n",
       "        text-align: right;\n",
       "    }\n",
       "</style>\n",
       "<table border=\"1\" class=\"dataframe\">\n",
       "  <thead>\n",
       "    <tr style=\"text-align: right;\">\n",
       "      <th></th>\n",
       "      <th>email_time_center</th>\n",
       "      <th>noise</th>\n",
       "    </tr>\n",
       "  </thead>\n",
       "  <tbody>\n",
       "  </tbody>\n",
       "</table>\n",
       "</div>"
      ],
      "text/plain": [
       "Empty DataFrame\n",
       "Columns: [email_time_center, noise]\n",
       "Index: []"
      ]
     },
     "execution_count": 7,
     "metadata": {},
     "output_type": "execute_result"
    }
   ],
   "source": [
    "y[y['noise'] == 0]"
   ]
  },
  {
   "cell_type": "code",
   "execution_count": 8,
   "metadata": {
    "ExecuteTime": {
     "end_time": "2023-08-14T14:30:53.910311457Z",
     "start_time": "2023-08-14T14:30:53.676832033Z"
    }
   },
   "outputs": [
    {
     "data": {
      "text/plain": [
       "array([[<Axes: title={'center': 'email_time_center'}>,\n",
       "        <Axes: title={'center': 'noise'}>]], dtype=object)"
      ]
     },
     "execution_count": 8,
     "metadata": {},
     "output_type": "execute_result"
    },
    {
     "data": {
      "image/png": "[encoded data removed]",
      "text/plain": [
       "<Figure size 640x480 with 2 Axes>"
      ]
     },
     "metadata": {},
     "output_type": "display_data"
    }
   ],
   "source": [
    "y.hist()"
   ]
  },
  {
   "cell_type": "code",
   "execution_count": 9,
   "metadata": {
    "ExecuteTime": {
     "end_time": "2023-08-14T14:30:53.910495472Z",
     "start_time": "2023-08-14T14:30:53.909146236Z"
    }
   },
   "outputs": [],
   "source": [
    "X_train, X_test, y_train, y_test = train_test_split(X, y['noise'], test_size=0.2, random_state=0)"
   ]
  },
  {
   "cell_type": "code",
   "execution_count": 10,
   "metadata": {
    "ExecuteTime": {
     "end_time": "2023-08-14T14:30:53.910764185Z",
     "start_time": "2023-08-14T14:30:53.909337827Z"
    }
   },
   "outputs": [
    {
     "name": "stdout",
     "output_type": "stream",
     "text": [
      "(1319, 28)\n",
      "(330, 28)\n",
      "(1319,)\n",
      "(330,)\n"
     ]
    }
   ],
   "source": [
    "print(X_train.shape)\n",
    "print(X_test.shape)\n",
    "print(y_train.shape)\n",
    "print(y_test.shape)"
   ]
  },
  {
   "cell_type": "code",
   "execution_count": 11,
   "metadata": {
    "ExecuteTime": {
     "end_time": "2023-08-14T14:30:53.910815389Z",
     "start_time": "2023-08-14T14:30:53.909392157Z"
    }
   },
   "outputs": [],
   "source": [
    "def print_metrics(y_test, y_pred):\n",
    "  mse = mean_squared_error(y_test, y_pred)\n",
    "  rmse = np.sqrt(mse)\n",
    "  r2 = r2_score(y_test, y_pred)\n",
    "  \n",
    "  print(f'metrics, mse: {mse}, rmse: {rmse}, r2: {r2}')"
   ]
  },
  {
   "cell_type": "code",
   "execution_count": 12,
   "metadata": {
    "ExecuteTime": {
     "end_time": "2023-08-14T14:30:54.016134930Z",
     "start_time": "2023-08-14T14:30:53.909428920Z"
    }
   },
   "outputs": [
    {
     "data": {
      "text/html": [
       "<table class=\"simpletable\">\n",
       "<caption>Generalized Linear Model Regression Results</caption>\n",
       "<tr>\n",
       "  <th>Dep. Variable:</th>         <td>noise</td>      <th>  No. Observations:  </th>  <td>  1319</td> \n",
       "</tr>\n",
       "<tr>\n",
       "  <th>Model:</th>                  <td>GLM</td>       <th>  Df Residuals:      </th>  <td>  1292</td> \n",
       "</tr>\n",
       "<tr>\n",
       "  <th>Model Family:</th>          <td>Gamma</td>      <th>  Df Model:          </th>  <td>    26</td> \n",
       "</tr>\n",
       "<tr>\n",
       "  <th>Link Function:</th>          <td>Log</td>       <th>  Scale:             </th> <td>  2.7223</td>\n",
       "</tr>\n",
       "<tr>\n",
       "  <th>Method:</th>                <td>lbfgs</td>      <th>  Log-Likelihood:    </th> <td>  2446.1</td>\n",
       "</tr>\n",
       "<tr>\n",
       "  <th>Date:</th>            <td>Tue, 15 Aug 2023</td> <th>  Deviance:          </th> <td>  2766.4</td>\n",
       "</tr>\n",
       "<tr>\n",
       "  <th>Time:</th>                <td>15:20:40</td>     <th>  Pearson chi2:      </th> <td>3.52e+03</td>\n",
       "</tr>\n",
       "<tr>\n",
       "  <th>No. Iterations:</th>         <td>61</td>        <th>  Pseudo R-squ. (CS):</th>  <td>0.1155</td> \n",
       "</tr>\n",
       "<tr>\n",
       "  <th>Covariance Type:</th>     <td>nonrobust</td>    <th>                     </th>     <td> </td>   \n",
       "</tr>\n",
       "</table>\n",
       "<table class=\"simpletable\">\n",
       "<tr>\n",
       "                                 <td></td>                                    <th>coef</th>     <th>std err</th>      <th>z</th>      <th>P>|z|</th>  <th>[0.025</th>    <th>0.975]</th>  \n",
       "</tr>\n",
       "<tr>\n",
       "  <th>educ_center</th>                                                     <td>    1.7504</td> <td>    0.336</td> <td>    5.209</td> <td> 0.000</td> <td>    1.092</td> <td>    2.409</td>\n",
       "</tr>\n",
       "<tr>\n",
       "  <th>harass5_Does_not_apply_(i_do_not_have_a_job/superior/co-worker)</th> <td>    0.5726</td> <td>    1.707</td> <td>    0.335</td> <td> 0.737</td> <td>   -2.774</td> <td>    3.919</td>\n",
       "</tr>\n",
       "<tr>\n",
       "  <th>harass5_No</th>                                                      <td>    1.6409</td> <td>    1.661</td> <td>    0.988</td> <td> 0.323</td> <td>   -1.614</td> <td>    4.896</td>\n",
       "</tr>\n",
       "<tr>\n",
       "  <th>harass5_Yes</th>                                                     <td>    2.1350</td> <td>    1.674</td> <td>    1.276</td> <td> 0.202</td> <td>   -1.145</td> <td>    5.415</td>\n",
       "</tr>\n",
       "<tr>\n",
       "  <th>polviews_Conservative</th>                                           <td>   -0.3099</td> <td>    0.287</td> <td>   -1.080</td> <td> 0.280</td> <td>   -0.872</td> <td>    0.253</td>\n",
       "</tr>\n",
       "<tr>\n",
       "  <th>polviews_Extremely_liberal</th>                                      <td>   -0.3727</td> <td>    0.339</td> <td>   -1.098</td> <td> 0.272</td> <td>   -1.038</td> <td>    0.292</td>\n",
       "</tr>\n",
       "<tr>\n",
       "  <th>polviews_Extrmly_conservative</th>                                   <td>   -0.8873</td> <td>    0.349</td> <td>   -2.544</td> <td> 0.011</td> <td>   -1.571</td> <td>   -0.204</td>\n",
       "</tr>\n",
       "<tr>\n",
       "  <th>polviews_Liberal</th>                                                <td>   -0.4093</td> <td>    0.292</td> <td>   -1.401</td> <td> 0.161</td> <td>   -0.982</td> <td>    0.163</td>\n",
       "</tr>\n",
       "<tr>\n",
       "  <th>polviews_Moderate</th>                                               <td>   -0.2547</td> <td>    0.267</td> <td>   -0.954</td> <td> 0.340</td> <td>   -0.778</td> <td>    0.268</td>\n",
       "</tr>\n",
       "<tr>\n",
       "  <th>polviews_Slghtly_conservative</th>                                   <td>   -0.4435</td> <td>    0.286</td> <td>   -1.548</td> <td> 0.122</td> <td>   -1.005</td> <td>    0.118</td>\n",
       "</tr>\n",
       "<tr>\n",
       "  <th>polviews_Slightly_liberal</th>                                       <td>   -0.2259</td> <td>    0.294</td> <td>   -0.770</td> <td> 0.441</td> <td>   -0.801</td> <td>    0.349</td>\n",
       "</tr>\n",
       "<tr>\n",
       "  <th>advfront_Agree</th>                                                  <td>    1.8369</td> <td>    1.661</td> <td>    1.106</td> <td> 0.269</td> <td>   -1.418</td> <td>    5.092</td>\n",
       "</tr>\n",
       "<tr>\n",
       "  <th>advfront_Disagree</th>                                               <td>    2.0684</td> <td>    1.666</td> <td>    1.241</td> <td> 0.214</td> <td>   -1.197</td> <td>    5.334</td>\n",
       "</tr>\n",
       "<tr>\n",
       "  <th>advfront_Dont_know</th>                                              <td>    1.3021</td> <td>    1.721</td> <td>    0.757</td> <td> 0.449</td> <td>   -2.070</td> <td>    4.674</td>\n",
       "</tr>\n",
       "<tr>\n",
       "  <th>advfront_Strongly_agree</th>                                         <td>    1.8781</td> <td>    1.662</td> <td>    1.130</td> <td> 0.258</td> <td>   -1.379</td> <td>    5.136</td>\n",
       "</tr>\n",
       "<tr>\n",
       "  <th>advfront_Strongly_disagree</th>                                      <td>    2.8559</td> <td>    1.792</td> <td>    1.594</td> <td> 0.111</td> <td>   -0.657</td> <td>    6.368</td>\n",
       "</tr>\n",
       "<tr>\n",
       "  <th>snapchat_No</th>                                                     <td>   -0.0356</td> <td>      nan</td> <td>      nan</td> <td>   nan</td> <td>      nan</td> <td>      nan</td>\n",
       "</tr>\n",
       "<tr>\n",
       "  <th>snapchat_Yes</th>                                                    <td>    0.2511</td> <td>      nan</td> <td>      nan</td> <td>   nan</td> <td>      nan</td> <td>      nan</td>\n",
       "</tr>\n",
       "<tr>\n",
       "  <th>instagrm_No</th>                                                     <td>    0.1412</td> <td>      nan</td> <td>      nan</td> <td>   nan</td> <td>      nan</td> <td>      nan</td>\n",
       "</tr>\n",
       "<tr>\n",
       "  <th>instagrm_Yes</th>                                                    <td>    0.0743</td> <td>      nan</td> <td>      nan</td> <td>   nan</td> <td>      nan</td> <td>      nan</td>\n",
       "</tr>\n",
       "<tr>\n",
       "  <th>wrkstat_Keeping_house</th>                                           <td>   -6.3664</td> <td>    1.693</td> <td>   -3.759</td> <td> 0.000</td> <td>   -9.686</td> <td>   -3.047</td>\n",
       "</tr>\n",
       "<tr>\n",
       "  <th>wrkstat_Other</th>                                                   <td>   -5.7130</td> <td>    1.729</td> <td>   -3.304</td> <td> 0.001</td> <td>   -9.102</td> <td>   -2.324</td>\n",
       "</tr>\n",
       "<tr>\n",
       "  <th>wrkstat_Retired</th>                                                 <td>   -5.9791</td> <td>    1.694</td> <td>   -3.530</td> <td> 0.000</td> <td>   -9.299</td> <td>   -2.659</td>\n",
       "</tr>\n",
       "<tr>\n",
       "  <th>wrkstat_School</th>                                                  <td>   -6.1974</td> <td>    1.710</td> <td>   -3.623</td> <td> 0.000</td> <td>   -9.550</td> <td>   -2.845</td>\n",
       "</tr>\n",
       "<tr>\n",
       "  <th>wrkstat_Temp_not_working</th>                                        <td>   -5.6435</td> <td>    1.724</td> <td>   -3.273</td> <td> 0.001</td> <td>   -9.023</td> <td>   -2.264</td>\n",
       "</tr>\n",
       "<tr>\n",
       "  <th>wrkstat_Unempl,_laid_off</th>                                        <td>   -5.5098</td> <td>    1.700</td> <td>   -3.241</td> <td> 0.001</td> <td>   -8.842</td> <td>   -2.178</td>\n",
       "</tr>\n",
       "<tr>\n",
       "  <th>wrkstat_Working_fulltime</th>                                        <td>   -5.1336</td> <td>    1.691</td> <td>   -3.036</td> <td> 0.002</td> <td>   -8.448</td> <td>   -1.819</td>\n",
       "</tr>\n",
       "<tr>\n",
       "  <th>wrkstat_Working_parttime</th>                                        <td>   -5.7969</td> <td>    1.683</td> <td>   -3.444</td> <td> 0.001</td> <td>   -9.096</td> <td>   -2.498</td>\n",
       "</tr>\n",
       "</table>"
      ],
      "text/latex": [
       "\\begin{center}\n",
       "\\begin{tabular}{lclc}\n",
       "\\toprule\n",
       "\\textbf{Dep. Variable:}                                                           &      noise       & \\textbf{  No. Observations:  } &     1319    \\\\\n",
       "\\textbf{Model:}                                                                   &       GLM        & \\textbf{  Df Residuals:      } &     1292    \\\\\n",
       "\\textbf{Model Family:}                                                            &      Gamma       & \\textbf{  Df Model:          } &       26    \\\\\n",
       "\\textbf{Link Function:}                                                           &       Log        & \\textbf{  Scale:             } &    2.7223   \\\\\n",
       "\\textbf{Method:}                                                                  &      lbfgs       & \\textbf{  Log-Likelihood:    } &    2446.1   \\\\\n",
       "\\textbf{Date:}                                                                    & Tue, 15 Aug 2023 & \\textbf{  Deviance:          } &    2766.4   \\\\\n",
       "\\textbf{Time:}                                                                    &     15:20:40     & \\textbf{  Pearson chi2:      } &  3.52e+03   \\\\\n",
       "\\textbf{No. Iterations:}                                                          &        61        & \\textbf{  Pseudo R-squ. (CS):} &   0.1155    \\\\\n",
       "\\textbf{Covariance Type:}                                                         &    nonrobust     & \\textbf{                     } &             \\\\\n",
       "\\bottomrule\n",
       "\\end{tabular}\n",
       "\\begin{tabular}{lcccccc}\n",
       "                                                                                  & \\textbf{coef} & \\textbf{std err} & \\textbf{z} & \\textbf{P$> |$z$|$} & \\textbf{[0.025} & \\textbf{0.975]}  \\\\\n",
       "\\midrule\n",
       "\\textbf{educ\\_center}                                                             &       1.7504  &        0.336     &     5.209  &         0.000        &        1.092    &        2.409     \\\\\n",
       "\\textbf{harass5\\_Does\\_not\\_apply\\_(i\\_do\\_not\\_have\\_a\\_job/superior/co-worker)} &       0.5726  &        1.707     &     0.335  &         0.737        &       -2.774    &        3.919     \\\\\n",
       "\\textbf{harass5\\_No}                                                              &       1.6409  &        1.661     &     0.988  &         0.323        &       -1.614    &        4.896     \\\\\n",
       "\\textbf{harass5\\_Yes}                                                             &       2.1350  &        1.674     &     1.276  &         0.202        &       -1.145    &        5.415     \\\\\n",
       "\\textbf{polviews\\_Conservative}                                                   &      -0.3099  &        0.287     &    -1.080  &         0.280        &       -0.872    &        0.253     \\\\\n",
       "\\textbf{polviews\\_Extremely\\_liberal}                                             &      -0.3727  &        0.339     &    -1.098  &         0.272        &       -1.038    &        0.292     \\\\\n",
       "\\textbf{polviews\\_Extrmly\\_conservative}                                          &      -0.8873  &        0.349     &    -2.544  &         0.011        &       -1.571    &       -0.204     \\\\\n",
       "\\textbf{polviews\\_Liberal}                                                        &      -0.4093  &        0.292     &    -1.401  &         0.161        &       -0.982    &        0.163     \\\\\n",
       "\\textbf{polviews\\_Moderate}                                                       &      -0.2547  &        0.267     &    -0.954  &         0.340        &       -0.778    &        0.268     \\\\\n",
       "\\textbf{polviews\\_Slghtly\\_conservative}                                          &      -0.4435  &        0.286     &    -1.548  &         0.122        &       -1.005    &        0.118     \\\\\n",
       "\\textbf{polviews\\_Slightly\\_liberal}                                              &      -0.2259  &        0.294     &    -0.770  &         0.441        &       -0.801    &        0.349     \\\\\n",
       "\\textbf{advfront\\_Agree}                                                          &       1.8369  &        1.661     &     1.106  &         0.269        &       -1.418    &        5.092     \\\\\n",
       "\\textbf{advfront\\_Disagree}                                                       &       2.0684  &        1.666     &     1.241  &         0.214        &       -1.197    &        5.334     \\\\\n",
       "\\textbf{advfront\\_Dont\\_know}                                                     &       1.3021  &        1.721     &     0.757  &         0.449        &       -2.070    &        4.674     \\\\\n",
       "\\textbf{advfront\\_Strongly\\_agree}                                                &       1.8781  &        1.662     &     1.130  &         0.258        &       -1.379    &        5.136     \\\\\n",
       "\\textbf{advfront\\_Strongly\\_disagree}                                             &       2.8559  &        1.792     &     1.594  &         0.111        &       -0.657    &        6.368     \\\\\n",
       "\\textbf{snapchat\\_No}                                                             &      -0.0356  &          nan     &       nan  &           nan        &          nan    &          nan     \\\\\n",
       "\\textbf{snapchat\\_Yes}                                                            &       0.2511  &          nan     &       nan  &           nan        &          nan    &          nan     \\\\\n",
       "\\textbf{instagrm\\_No}                                                             &       0.1412  &          nan     &       nan  &           nan        &          nan    &          nan     \\\\\n",
       "\\textbf{instagrm\\_Yes}                                                            &       0.0743  &          nan     &       nan  &           nan        &          nan    &          nan     \\\\\n",
       "\\textbf{wrkstat\\_Keeping\\_house}                                                  &      -6.3664  &        1.693     &    -3.759  &         0.000        &       -9.686    &       -3.047     \\\\\n",
       "\\textbf{wrkstat\\_Other}                                                           &      -5.7130  &        1.729     &    -3.304  &         0.001        &       -9.102    &       -2.324     \\\\\n",
       "\\textbf{wrkstat\\_Retired}                                                         &      -5.9791  &        1.694     &    -3.530  &         0.000        &       -9.299    &       -2.659     \\\\\n",
       "\\textbf{wrkstat\\_School}                                                          &      -6.1974  &        1.710     &    -3.623  &         0.000        &       -9.550    &       -2.845     \\\\\n",
       "\\textbf{wrkstat\\_Temp\\_not\\_working}                                              &      -5.6435  &        1.724     &    -3.273  &         0.001        &       -9.023    &       -2.264     \\\\\n",
       "\\textbf{wrkstat\\_Unempl,\\_laid\\_off}                                              &      -5.5098  &        1.700     &    -3.241  &         0.001        &       -8.842    &       -2.178     \\\\\n",
       "\\textbf{wrkstat\\_Working\\_fulltime}                                               &      -5.1336  &        1.691     &    -3.036  &         0.002        &       -8.448    &       -1.819     \\\\\n",
       "\\textbf{wrkstat\\_Working\\_parttime}                                               &      -5.7969  &        1.683     &    -3.444  &         0.001        &       -9.096    &       -2.498     \\\\\n",
       "\\bottomrule\n",
       "\\end{tabular}\n",
       "%\\caption{Generalized Linear Model Regression Results}\n",
       "\\end{center}"
      ],
      "text/plain": [
       "<class 'statsmodels.iolib.summary.Summary'>\n",
       "\"\"\"\n",
       "                 Generalized Linear Model Regression Results                  \n",
       "==============================================================================\n",
       "Dep. Variable:                  noise   No. Observations:                 1319\n",
       "Model:                            GLM   Df Residuals:                     1292\n",
       "Model Family:                   Gamma   Df Model:                           26\n",
       "Link Function:                    Log   Scale:                          2.7223\n",
       "Method:                         lbfgs   Log-Likelihood:                 2446.1\n",
       "Date:                Tue, 15 Aug 2023   Deviance:                       2766.4\n",
       "Time:                        15:20:40   Pearson chi2:                 3.52e+03\n",
       "No. Iterations:                    61   Pseudo R-squ. (CS):             0.1155\n",
       "Covariance Type:            nonrobust                                         \n",
       "===================================================================================================================================\n",
       "                                                                      coef    std err          z      P>|z|      [0.025      0.975]\n",
       "-----------------------------------------------------------------------------------------------------------------------------------\n",
       "educ_center                                                         1.7504      0.336      5.209      0.000       1.092       2.409\n",
       "harass5_Does_not_apply_(i_do_not_have_a_job/superior/co-worker)     0.5726      1.707      0.335      0.737      -2.774       3.919\n",
       "harass5_No                                                          1.6409      1.661      0.988      0.323      -1.614       4.896\n",
       "harass5_Yes                                                         2.1350      1.674      1.276      0.202      -1.145       5.415\n",
       "polviews_Conservative                                              -0.3099      0.287     -1.080      0.280      -0.872       0.253\n",
       "polviews_Extremely_liberal                                         -0.3727      0.339     -1.098      0.272      -1.038       0.292\n",
       "polviews_Extrmly_conservative                                      -0.8873      0.349     -2.544      0.011      -1.571      -0.204\n",
       "polviews_Liberal                                                   -0.4093      0.292     -1.401      0.161      -0.982       0.163\n",
       "polviews_Moderate                                                  -0.2547      0.267     -0.954      0.340      -0.778       0.268\n",
       "polviews_Slghtly_conservative                                      -0.4435      0.286     -1.548      0.122      -1.005       0.118\n",
       "polviews_Slightly_liberal                                          -0.2259      0.294     -0.770      0.441      -0.801       0.349\n",
       "advfront_Agree                                                      1.8369      1.661      1.106      0.269      -1.418       5.092\n",
       "advfront_Disagree                                                   2.0684      1.666      1.241      0.214      -1.197       5.334\n",
       "advfront_Dont_know                                                  1.3021      1.721      0.757      0.449      -2.070       4.674\n",
       "advfront_Strongly_agree                                             1.8781      1.662      1.130      0.258      -1.379       5.136\n",
       "advfront_Strongly_disagree                                          2.8559      1.792      1.594      0.111      -0.657       6.368\n",
       "snapchat_No                                                        -0.0356        nan        nan        nan         nan         nan\n",
       "snapchat_Yes                                                        0.2511        nan        nan        nan         nan         nan\n",
       "instagrm_No                                                         0.1412        nan        nan        nan         nan         nan\n",
       "instagrm_Yes                                                        0.0743        nan        nan        nan         nan         nan\n",
       "wrkstat_Keeping_house                                              -6.3664      1.693     -3.759      0.000      -9.686      -3.047\n",
       "wrkstat_Other                                                      -5.7130      1.729     -3.304      0.001      -9.102      -2.324\n",
       "wrkstat_Retired                                                    -5.9791      1.694     -3.530      0.000      -9.299      -2.659\n",
       "wrkstat_School                                                     -6.1974      1.710     -3.623      0.000      -9.550      -2.845\n",
       "wrkstat_Temp_not_working                                           -5.6435      1.724     -3.273      0.001      -9.023      -2.264\n",
       "wrkstat_Unempl,_laid_off                                           -5.5098      1.700     -3.241      0.001      -8.842      -2.178\n",
       "wrkstat_Working_fulltime                                           -5.1336      1.691     -3.036      0.002      -8.448      -1.819\n",
       "wrkstat_Working_parttime                                           -5.7969      1.683     -3.444      0.001      -9.096      -2.498\n",
       "===================================================================================================================================\n",
       "\"\"\""
      ]
     },
     "execution_count": 12,
     "metadata": {},
     "output_type": "execute_result"
    }
   ],
   "source": [
    "link_function = stm.genmod.families.links.Log()\n",
    "gamma_model = stm.api.GLM(y_train, X_train, family=stm.api.families.Gamma(link=link_function))\n",
    "gamma_results = gamma_model.fit(method='lbfgs')\n",
    "gamma_results.summary()"
   ]
  },
  {
   "cell_type": "code",
   "execution_count": 13,
   "metadata": {
    "ExecuteTime": {
     "end_time": "2023-08-14T14:31:36.807051648Z",
     "start_time": "2023-08-14T14:31:36.776968329Z"
    },
    "collapsed": false
   },
   "outputs": [
    {
     "data": {
      "text/html": [
       "<table class=\"simpletable\">\n",
       "<caption>Generalized Linear Model Regression Results</caption>\n",
       "<tr>\n",
       "  <th>Dep. Variable:</th>         <td>noise</td>      <th>  No. Observations:  </th>  <td>  1319</td> \n",
       "</tr>\n",
       "<tr>\n",
       "  <th>Model:</th>                  <td>GLM</td>       <th>  Df Residuals:      </th>  <td>  1292</td> \n",
       "</tr>\n",
       "<tr>\n",
       "  <th>Model Family:</th>          <td>Gamma</td>      <th>  Df Model:          </th>  <td>    26</td> \n",
       "</tr>\n",
       "<tr>\n",
       "  <th>Link Function:</th>          <td>Log</td>       <th>  Scale:             </th> <td>  2.7223</td>\n",
       "</tr>\n",
       "<tr>\n",
       "  <th>Method:</th>                <td>lbfgs</td>      <th>  Log-Likelihood:    </th> <td>  2446.1</td>\n",
       "</tr>\n",
       "<tr>\n",
       "  <th>Date:</th>            <td>Tue, 15 Aug 2023</td> <th>  Deviance:          </th> <td>  2766.4</td>\n",
       "</tr>\n",
       "<tr>\n",
       "  <th>Time:</th>                <td>15:20:40</td>     <th>  Pearson chi2:      </th> <td>3.52e+03</td>\n",
       "</tr>\n",
       "<tr>\n",
       "  <th>No. Iterations:</th>         <td>61</td>        <th>  Pseudo R-squ. (CS):</th>  <td>0.1155</td> \n",
       "</tr>\n",
       "<tr>\n",
       "  <th>Covariance Type:</th>     <td>nonrobust</td>    <th>                     </th>     <td> </td>   \n",
       "</tr>\n",
       "</table>\n",
       "<table class=\"simpletable\">\n",
       "<tr>\n",
       "                                 <td></td>                                    <th>coef</th>     <th>std err</th>      <th>z</th>      <th>P>|z|</th>  <th>[0.025</th>    <th>0.975]</th>  \n",
       "</tr>\n",
       "<tr>\n",
       "  <th>educ_center</th>                                                     <td>    1.7504</td> <td>    0.336</td> <td>    5.209</td> <td> 0.000</td> <td>    1.092</td> <td>    2.409</td>\n",
       "</tr>\n",
       "<tr>\n",
       "  <th>harass5_Does_not_apply_(i_do_not_have_a_job/superior/co-worker)</th> <td>    0.5726</td> <td>    1.707</td> <td>    0.335</td> <td> 0.737</td> <td>   -2.774</td> <td>    3.919</td>\n",
       "</tr>\n",
       "<tr>\n",
       "  <th>harass5_No</th>                                                      <td>    1.6409</td> <td>    1.661</td> <td>    0.988</td> <td> 0.323</td> <td>   -1.614</td> <td>    4.896</td>\n",
       "</tr>\n",
       "<tr>\n",
       "  <th>harass5_Yes</th>                                                     <td>    2.1350</td> <td>    1.674</td> <td>    1.276</td> <td> 0.202</td> <td>   -1.145</td> <td>    5.415</td>\n",
       "</tr>\n",
       "<tr>\n",
       "  <th>polviews_Conservative</th>                                           <td>   -0.3099</td> <td>    0.287</td> <td>   -1.080</td> <td> 0.280</td> <td>   -0.872</td> <td>    0.253</td>\n",
       "</tr>\n",
       "<tr>\n",
       "  <th>polviews_Extremely_liberal</th>                                      <td>   -0.3727</td> <td>    0.339</td> <td>   -1.098</td> <td> 0.272</td> <td>   -1.038</td> <td>    0.292</td>\n",
       "</tr>\n",
       "<tr>\n",
       "  <th>polviews_Extrmly_conservative</th>                                   <td>   -0.8873</td> <td>    0.349</td> <td>   -2.544</td> <td> 0.011</td> <td>   -1.571</td> <td>   -0.204</td>\n",
       "</tr>\n",
       "<tr>\n",
       "  <th>polviews_Liberal</th>                                                <td>   -0.4093</td> <td>    0.292</td> <td>   -1.401</td> <td> 0.161</td> <td>   -0.982</td> <td>    0.163</td>\n",
       "</tr>\n",
       "<tr>\n",
       "  <th>polviews_Moderate</th>                                               <td>   -0.2547</td> <td>    0.267</td> <td>   -0.954</td> <td> 0.340</td> <td>   -0.778</td> <td>    0.268</td>\n",
       "</tr>\n",
       "<tr>\n",
       "  <th>polviews_Slghtly_conservative</th>                                   <td>   -0.4435</td> <td>    0.286</td> <td>   -1.548</td> <td> 0.122</td> <td>   -1.005</td> <td>    0.118</td>\n",
       "</tr>\n",
       "<tr>\n",
       "  <th>polviews_Slightly_liberal</th>                                       <td>   -0.2259</td> <td>    0.294</td> <td>   -0.770</td> <td> 0.441</td> <td>   -0.801</td> <td>    0.349</td>\n",
       "</tr>\n",
       "<tr>\n",
       "  <th>advfront_Agree</th>                                                  <td>    1.8369</td> <td>    1.661</td> <td>    1.106</td> <td> 0.269</td> <td>   -1.418</td> <td>    5.092</td>\n",
       "</tr>\n",
       "<tr>\n",
       "  <th>advfront_Disagree</th>                                               <td>    2.0684</td> <td>    1.666</td> <td>    1.241</td> <td> 0.214</td> <td>   -1.197</td> <td>    5.334</td>\n",
       "</tr>\n",
       "<tr>\n",
       "  <th>advfront_Dont_know</th>                                              <td>    1.3021</td> <td>    1.721</td> <td>    0.757</td> <td> 0.449</td> <td>   -2.070</td> <td>    4.674</td>\n",
       "</tr>\n",
       "<tr>\n",
       "  <th>advfront_Strongly_agree</th>                                         <td>    1.8781</td> <td>    1.662</td> <td>    1.130</td> <td> 0.258</td> <td>   -1.379</td> <td>    5.136</td>\n",
       "</tr>\n",
       "<tr>\n",
       "  <th>advfront_Strongly_disagree</th>                                      <td>    2.8559</td> <td>    1.792</td> <td>    1.594</td> <td> 0.111</td> <td>   -0.657</td> <td>    6.368</td>\n",
       "</tr>\n",
       "<tr>\n",
       "  <th>snapchat_No</th>                                                     <td>   -0.0356</td> <td>      nan</td> <td>      nan</td> <td>   nan</td> <td>      nan</td> <td>      nan</td>\n",
       "</tr>\n",
       "<tr>\n",
       "  <th>snapchat_Yes</th>                                                    <td>    0.2511</td> <td>      nan</td> <td>      nan</td> <td>   nan</td> <td>      nan</td> <td>      nan</td>\n",
       "</tr>\n",
       "<tr>\n",
       "  <th>instagrm_No</th>                                                     <td>    0.1412</td> <td>      nan</td> <td>      nan</td> <td>   nan</td> <td>      nan</td> <td>      nan</td>\n",
       "</tr>\n",
       "<tr>\n",
       "  <th>instagrm_Yes</th>                                                    <td>    0.0743</td> <td>      nan</td> <td>      nan</td> <td>   nan</td> <td>      nan</td> <td>      nan</td>\n",
       "</tr>\n",
       "<tr>\n",
       "  <th>wrkstat_Keeping_house</th>                                           <td>   -6.3664</td> <td>    1.693</td> <td>   -3.759</td> <td> 0.000</td> <td>   -9.686</td> <td>   -3.047</td>\n",
       "</tr>\n",
       "<tr>\n",
       "  <th>wrkstat_Other</th>                                                   <td>   -5.7130</td> <td>    1.729</td> <td>   -3.304</td> <td> 0.001</td> <td>   -9.102</td> <td>   -2.324</td>\n",
       "</tr>\n",
       "<tr>\n",
       "  <th>wrkstat_Retired</th>                                                 <td>   -5.9791</td> <td>    1.694</td> <td>   -3.530</td> <td> 0.000</td> <td>   -9.299</td> <td>   -2.659</td>\n",
       "</tr>\n",
       "<tr>\n",
       "  <th>wrkstat_School</th>                                                  <td>   -6.1974</td> <td>    1.710</td> <td>   -3.623</td> <td> 0.000</td> <td>   -9.550</td> <td>   -2.845</td>\n",
       "</tr>\n",
       "<tr>\n",
       "  <th>wrkstat_Temp_not_working</th>                                        <td>   -5.6435</td> <td>    1.724</td> <td>   -3.273</td> <td> 0.001</td> <td>   -9.023</td> <td>   -2.264</td>\n",
       "</tr>\n",
       "<tr>\n",
       "  <th>wrkstat_Unempl,_laid_off</th>                                        <td>   -5.5098</td> <td>    1.700</td> <td>   -3.241</td> <td> 0.001</td> <td>   -8.842</td> <td>   -2.178</td>\n",
       "</tr>\n",
       "<tr>\n",
       "  <th>wrkstat_Working_fulltime</th>                                        <td>   -5.1336</td> <td>    1.691</td> <td>   -3.036</td> <td> 0.002</td> <td>   -8.448</td> <td>   -1.819</td>\n",
       "</tr>\n",
       "<tr>\n",
       "  <th>wrkstat_Working_parttime</th>                                        <td>   -5.7969</td> <td>    1.683</td> <td>   -3.444</td> <td> 0.001</td> <td>   -9.096</td> <td>   -2.498</td>\n",
       "</tr>\n",
       "</table>"
      ],
      "text/latex": [
       "\\begin{center}\n",
       "\\begin{tabular}{lclc}\n",
       "\\toprule\n",
       "\\textbf{Dep. Variable:}                                                           &      noise       & \\textbf{  No. Observations:  } &     1319    \\\\\n",
       "\\textbf{Model:}                                                                   &       GLM        & \\textbf{  Df Residuals:      } &     1292    \\\\\n",
       "\\textbf{Model Family:}                                                            &      Gamma       & \\textbf{  Df Model:          } &       26    \\\\\n",
       "\\textbf{Link Function:}                                                           &       Log        & \\textbf{  Scale:             } &    2.7223   \\\\\n",
       "\\textbf{Method:}                                                                  &      lbfgs       & \\textbf{  Log-Likelihood:    } &    2446.1   \\\\\n",
       "\\textbf{Date:}                                                                    & Tue, 15 Aug 2023 & \\textbf{  Deviance:          } &    2766.4   \\\\\n",
       "\\textbf{Time:}                                                                    &     15:20:40     & \\textbf{  Pearson chi2:      } &  3.52e+03   \\\\\n",
       "\\textbf{No. Iterations:}                                                          &        61        & \\textbf{  Pseudo R-squ. (CS):} &   0.1155    \\\\\n",
       "\\textbf{Covariance Type:}                                                         &    nonrobust     & \\textbf{                     } &             \\\\\n",
       "\\bottomrule\n",
       "\\end{tabular}\n",
       "\\begin{tabular}{lcccccc}\n",
       "                                                                                  & \\textbf{coef} & \\textbf{std err} & \\textbf{z} & \\textbf{P$> |$z$|$} & \\textbf{[0.025} & \\textbf{0.975]}  \\\\\n",
       "\\midrule\n",
       "\\textbf{educ\\_center}                                                             &       1.7504  &        0.336     &     5.209  &         0.000        &        1.092    &        2.409     \\\\\n",
       "\\textbf{harass5\\_Does\\_not\\_apply\\_(i\\_do\\_not\\_have\\_a\\_job/superior/co-worker)} &       0.5726  &        1.707     &     0.335  &         0.737        &       -2.774    &        3.919     \\\\\n",
       "\\textbf{harass5\\_No}                                                              &       1.6409  &        1.661     &     0.988  &         0.323        &       -1.614    &        4.896     \\\\\n",
       "\\textbf{harass5\\_Yes}                                                             &       2.1350  &        1.674     &     1.276  &         0.202        &       -1.145    &        5.415     \\\\\n",
       "\\textbf{polviews\\_Conservative}                                                   &      -0.3099  &        0.287     &    -1.080  &         0.280        &       -0.872    &        0.253     \\\\\n",
       "\\textbf{polviews\\_Extremely\\_liberal}                                             &      -0.3727  &        0.339     &    -1.098  &         0.272        &       -1.038    &        0.292     \\\\\n",
       "\\textbf{polviews\\_Extrmly\\_conservative}                                          &      -0.8873  &        0.349     &    -2.544  &         0.011        &       -1.571    &       -0.204     \\\\\n",
       "\\textbf{polviews\\_Liberal}                                                        &      -0.4093  &        0.292     &    -1.401  &         0.161        &       -0.982    &        0.163     \\\\\n",
       "\\textbf{polviews\\_Moderate}                                                       &      -0.2547  &        0.267     &    -0.954  &         0.340        &       -0.778    &        0.268     \\\\\n",
       "\\textbf{polviews\\_Slghtly\\_conservative}                                          &      -0.4435  &        0.286     &    -1.548  &         0.122        &       -1.005    &        0.118     \\\\\n",
       "\\textbf{polviews\\_Slightly\\_liberal}                                              &      -0.2259  &        0.294     &    -0.770  &         0.441        &       -0.801    &        0.349     \\\\\n",
       "\\textbf{advfront\\_Agree}                                                          &       1.8369  &        1.661     &     1.106  &         0.269        &       -1.418    &        5.092     \\\\\n",
       "\\textbf{advfront\\_Disagree}                                                       &       2.0684  &        1.666     &     1.241  &         0.214        &       -1.197    &        5.334     \\\\\n",
       "\\textbf{advfront\\_Dont\\_know}                                                     &       1.3021  &        1.721     &     0.757  &         0.449        &       -2.070    &        4.674     \\\\\n",
       "\\textbf{advfront\\_Strongly\\_agree}                                                &       1.8781  &        1.662     &     1.130  &         0.258        &       -1.379    &        5.136     \\\\\n",
       "\\textbf{advfront\\_Strongly\\_disagree}                                             &       2.8559  &        1.792     &     1.594  &         0.111        &       -0.657    &        6.368     \\\\\n",
       "\\textbf{snapchat\\_No}                                                             &      -0.0356  &          nan     &       nan  &           nan        &          nan    &          nan     \\\\\n",
       "\\textbf{snapchat\\_Yes}                                                            &       0.2511  &          nan     &       nan  &           nan        &          nan    &          nan     \\\\\n",
       "\\textbf{instagrm\\_No}                                                             &       0.1412  &          nan     &       nan  &           nan        &          nan    &          nan     \\\\\n",
       "\\textbf{instagrm\\_Yes}                                                            &       0.0743  &          nan     &       nan  &           nan        &          nan    &          nan     \\\\\n",
       "\\textbf{wrkstat\\_Keeping\\_house}                                                  &      -6.3664  &        1.693     &    -3.759  &         0.000        &       -9.686    &       -3.047     \\\\\n",
       "\\textbf{wrkstat\\_Other}                                                           &      -5.7130  &        1.729     &    -3.304  &         0.001        &       -9.102    &       -2.324     \\\\\n",
       "\\textbf{wrkstat\\_Retired}                                                         &      -5.9791  &        1.694     &    -3.530  &         0.000        &       -9.299    &       -2.659     \\\\\n",
       "\\textbf{wrkstat\\_School}                                                          &      -6.1974  &        1.710     &    -3.623  &         0.000        &       -9.550    &       -2.845     \\\\\n",
       "\\textbf{wrkstat\\_Temp\\_not\\_working}                                              &      -5.6435  &        1.724     &    -3.273  &         0.001        &       -9.023    &       -2.264     \\\\\n",
       "\\textbf{wrkstat\\_Unempl,\\_laid\\_off}                                              &      -5.5098  &        1.700     &    -3.241  &         0.001        &       -8.842    &       -2.178     \\\\\n",
       "\\textbf{wrkstat\\_Working\\_fulltime}                                               &      -5.1336  &        1.691     &    -3.036  &         0.002        &       -8.448    &       -1.819     \\\\\n",
       "\\textbf{wrkstat\\_Working\\_parttime}                                               &      -5.7969  &        1.683     &    -3.444  &         0.001        &       -9.096    &       -2.498     \\\\\n",
       "\\bottomrule\n",
       "\\end{tabular}\n",
       "%\\caption{Generalized Linear Model Regression Results}\n",
       "\\end{center}"
      ],
      "text/plain": [
       "<class 'statsmodels.iolib.summary.Summary'>\n",
       "\"\"\"\n",
       "                 Generalized Linear Model Regression Results                  \n",
       "==============================================================================\n",
       "Dep. Variable:                  noise   No. Observations:                 1319\n",
       "Model:                            GLM   Df Residuals:                     1292\n",
       "Model Family:                   Gamma   Df Model:                           26\n",
       "Link Function:                    Log   Scale:                          2.7223\n",
       "Method:                         lbfgs   Log-Likelihood:                 2446.1\n",
       "Date:                Tue, 15 Aug 2023   Deviance:                       2766.4\n",
       "Time:                        15:20:40   Pearson chi2:                 3.52e+03\n",
       "No. Iterations:                    61   Pseudo R-squ. (CS):             0.1155\n",
       "Covariance Type:            nonrobust                                         \n",
       "===================================================================================================================================\n",
       "                                                                      coef    std err          z      P>|z|      [0.025      0.975]\n",
       "-----------------------------------------------------------------------------------------------------------------------------------\n",
       "educ_center                                                         1.7504      0.336      5.209      0.000       1.092       2.409\n",
       "harass5_Does_not_apply_(i_do_not_have_a_job/superior/co-worker)     0.5726      1.707      0.335      0.737      -2.774       3.919\n",
       "harass5_No                                                          1.6409      1.661      0.988      0.323      -1.614       4.896\n",
       "harass5_Yes                                                         2.1350      1.674      1.276      0.202      -1.145       5.415\n",
       "polviews_Conservative                                              -0.3099      0.287     -1.080      0.280      -0.872       0.253\n",
       "polviews_Extremely_liberal                                         -0.3727      0.339     -1.098      0.272      -1.038       0.292\n",
       "polviews_Extrmly_conservative                                      -0.8873      0.349     -2.544      0.011      -1.571      -0.204\n",
       "polviews_Liberal                                                   -0.4093      0.292     -1.401      0.161      -0.982       0.163\n",
       "polviews_Moderate                                                  -0.2547      0.267     -0.954      0.340      -0.778       0.268\n",
       "polviews_Slghtly_conservative                                      -0.4435      0.286     -1.548      0.122      -1.005       0.118\n",
       "polviews_Slightly_liberal                                          -0.2259      0.294     -0.770      0.441      -0.801       0.349\n",
       "advfront_Agree                                                      1.8369      1.661      1.106      0.269      -1.418       5.092\n",
       "advfront_Disagree                                                   2.0684      1.666      1.241      0.214      -1.197       5.334\n",
       "advfront_Dont_know                                                  1.3021      1.721      0.757      0.449      -2.070       4.674\n",
       "advfront_Strongly_agree                                             1.8781      1.662      1.130      0.258      -1.379       5.136\n",
       "advfront_Strongly_disagree                                          2.8559      1.792      1.594      0.111      -0.657       6.368\n",
       "snapchat_No                                                        -0.0356        nan        nan        nan         nan         nan\n",
       "snapchat_Yes                                                        0.2511        nan        nan        nan         nan         nan\n",
       "instagrm_No                                                         0.1412        nan        nan        nan         nan         nan\n",
       "instagrm_Yes                                                        0.0743        nan        nan        nan         nan         nan\n",
       "wrkstat_Keeping_house                                              -6.3664      1.693     -3.759      0.000      -9.686      -3.047\n",
       "wrkstat_Other                                                      -5.7130      1.729     -3.304      0.001      -9.102      -2.324\n",
       "wrkstat_Retired                                                    -5.9791      1.694     -3.530      0.000      -9.299      -2.659\n",
       "wrkstat_School                                                     -6.1974      1.710     -3.623      0.000      -9.550      -2.845\n",
       "wrkstat_Temp_not_working                                           -5.6435      1.724     -3.273      0.001      -9.023      -2.264\n",
       "wrkstat_Unempl,_laid_off                                           -5.5098      1.700     -3.241      0.001      -8.842      -2.178\n",
       "wrkstat_Working_fulltime                                           -5.1336      1.691     -3.036      0.002      -8.448      -1.819\n",
       "wrkstat_Working_parttime                                           -5.7969      1.683     -3.444      0.001      -9.096      -2.498\n",
       "===================================================================================================================================\n",
       "\"\"\""
      ]
     },
     "execution_count": 13,
     "metadata": {},
     "output_type": "execute_result"
    }
   ],
   "source": [
    "gamma_results.summary()"
   ]
  },
  {
   "cell_type": "code",
   "execution_count": 14,
   "metadata": {
    "ExecuteTime": {
     "end_time": "2023-08-14T14:30:54.027243541Z",
     "start_time": "2023-08-14T14:30:54.012809226Z"
    }
   },
   "outputs": [
    {
     "name": "stdout",
     "output_type": "stream",
     "text": [
      "metrics, mse: 0.009016917088084164, rmse: 0.09495744882885263, r2: 0.08934731931459183\n"
     ]
    }
   ],
   "source": [
    "y_pred = gamma_results.predict(X_test)\n",
    "print_metrics(y_test, y_pred)"
   ]
  },
  {
   "cell_type": "code",
   "execution_count": 15,
   "metadata": {
    "ExecuteTime": {
     "end_time": "2023-08-14T14:30:54.027419160Z",
     "start_time": "2023-08-14T14:30:54.012932534Z"
    }
   },
   "outputs": [],
   "source": [
    "choices = ['educ_center', 'wrkstat_Keeping_house', 'wrkstat_Other', 'wrkstat_Retired', 'wrkstat_School', 'wrkstat_Temp_not_working', 'wrkstat_Unempl,_laid_off', 'wrkstat_Working_fulltime', 'wrkstat_Working_parttime']\n",
    "X_train_choice = X_train[X_train.columns.intersection(choices)]\n",
    "X_test_choice = X_test[X_test.columns.intersection(choices)]"
   ]
  },
  {
   "cell_type": "code",
   "execution_count": 16,
   "metadata": {},
   "outputs": [
    {
     "name": "stdout",
     "output_type": "stream",
     "text": [
      "<class 'pandas.core.frame.DataFrame'>\n",
      "Index: 1319 entries, 887 to 684\n",
      "Data columns (total 9 columns):\n",
      " #   Column                    Non-Null Count  Dtype  \n",
      "---  ------                    --------------  -----  \n",
      " 0   educ_center               1319 non-null   float64\n",
      " 1   wrkstat_Keeping_house     1319 non-null   int64  \n",
      " 2   wrkstat_Other             1319 non-null   int64  \n",
      " 3   wrkstat_Retired           1319 non-null   int64  \n",
      " 4   wrkstat_School            1319 non-null   int64  \n",
      " 5   wrkstat_Temp_not_working  1319 non-null   int64  \n",
      " 6   wrkstat_Unempl,_laid_off  1319 non-null   int64  \n",
      " 7   wrkstat_Working_fulltime  1319 non-null   int64  \n",
      " 8   wrkstat_Working_parttime  1319 non-null   int64  \n",
      "dtypes: float64(1), int64(8)\n",
      "memory usage: 103.0 KB\n"
     ]
    }
   ],
   "source": [
    "X_train_choice.info()"
   ]
  },
  {
   "cell_type": "code",
   "execution_count": 17,
   "metadata": {
    "ExecuteTime": {
     "end_time": "2023-08-14T14:30:54.030798161Z",
     "start_time": "2023-08-14T14:30:54.012977735Z"
    }
   },
   "outputs": [
    {
     "data": {
      "text/html": [
       "<table class=\"simpletable\">\n",
       "<caption>Generalized Linear Model Regression Results</caption>\n",
       "<tr>\n",
       "  <th>Dep. Variable:</th>         <td>noise</td>      <th>  No. Observations:  </th>  <td>  1319</td> \n",
       "</tr>\n",
       "<tr>\n",
       "  <th>Model:</th>                  <td>GLM</td>       <th>  Df Residuals:      </th>  <td>  1310</td> \n",
       "</tr>\n",
       "<tr>\n",
       "  <th>Model Family:</th>          <td>Gamma</td>      <th>  Df Model:          </th>  <td>     8</td> \n",
       "</tr>\n",
       "<tr>\n",
       "  <th>Link Function:</th>          <td>Log</td>       <th>  Scale:             </th> <td>  3.1713</td>\n",
       "</tr>\n",
       "<tr>\n",
       "  <th>Method:</th>                <td>lbfgs</td>      <th>  Log-Likelihood:    </th> <td>  2367.1</td>\n",
       "</tr>\n",
       "<tr>\n",
       "  <th>Date:</th>            <td>Tue, 15 Aug 2023</td> <th>  Deviance:          </th> <td>  2861.4</td>\n",
       "</tr>\n",
       "<tr>\n",
       "  <th>Time:</th>                <td>15:20:40</td>     <th>  Pearson chi2:      </th> <td>4.15e+03</td>\n",
       "</tr>\n",
       "<tr>\n",
       "  <th>No. Iterations:</th>         <td>16</td>        <th>  Pseudo R-squ. (CS):</th>  <td>0.07930</td>\n",
       "</tr>\n",
       "<tr>\n",
       "  <th>Covariance Type:</th>     <td>nonrobust</td>    <th>                     </th>     <td> </td>   \n",
       "</tr>\n",
       "</table>\n",
       "<table class=\"simpletable\">\n",
       "<tr>\n",
       "              <td></td>                <th>coef</th>     <th>std err</th>      <th>z</th>      <th>P>|z|</th>  <th>[0.025</th>    <th>0.975]</th>  \n",
       "</tr>\n",
       "<tr>\n",
       "  <th>educ_center</th>              <td>    1.4805</td> <td>    0.331</td> <td>    4.476</td> <td> 0.000</td> <td>    0.832</td> <td>    2.129</td>\n",
       "</tr>\n",
       "<tr>\n",
       "  <th>wrkstat_Keeping_house</th>    <td>   -4.5508</td> <td>    0.267</td> <td>  -17.043</td> <td> 0.000</td> <td>   -5.074</td> <td>   -4.027</td>\n",
       "</tr>\n",
       "<tr>\n",
       "  <th>wrkstat_Other</th>            <td>   -3.9870</td> <td>    0.418</td> <td>   -9.535</td> <td> 0.000</td> <td>   -4.807</td> <td>   -3.167</td>\n",
       "</tr>\n",
       "<tr>\n",
       "  <th>wrkstat_Retired</th>          <td>   -4.2569</td> <td>    0.241</td> <td>  -17.699</td> <td> 0.000</td> <td>   -4.728</td> <td>   -3.786</td>\n",
       "</tr>\n",
       "<tr>\n",
       "  <th>wrkstat_School</th>           <td>   -4.4415</td> <td>    0.356</td> <td>  -12.479</td> <td> 0.000</td> <td>   -5.139</td> <td>   -3.744</td>\n",
       "</tr>\n",
       "<tr>\n",
       "  <th>wrkstat_Temp_not_working</th> <td>   -3.8865</td> <td>    0.416</td> <td>   -9.342</td> <td> 0.000</td> <td>   -4.702</td> <td>   -3.071</td>\n",
       "</tr>\n",
       "<tr>\n",
       "  <th>wrkstat_Unempl,_laid_off</th> <td>   -3.7014</td> <td>    0.319</td> <td>  -11.608</td> <td> 0.000</td> <td>   -4.326</td> <td>   -3.076</td>\n",
       "</tr>\n",
       "<tr>\n",
       "  <th>wrkstat_Working_fulltime</th> <td>   -3.3562</td> <td>    0.241</td> <td>  -13.943</td> <td> 0.000</td> <td>   -3.828</td> <td>   -2.884</td>\n",
       "</tr>\n",
       "<tr>\n",
       "  <th>wrkstat_Working_parttime</th> <td>   -3.9947</td> <td>    0.258</td> <td>  -15.489</td> <td> 0.000</td> <td>   -4.500</td> <td>   -3.489</td>\n",
       "</tr>\n",
       "</table>"
      ],
      "text/latex": [
       "\\begin{center}\n",
       "\\begin{tabular}{lclc}\n",
       "\\toprule\n",
       "\\textbf{Dep. Variable:}              &      noise       & \\textbf{  No. Observations:  } &     1319    \\\\\n",
       "\\textbf{Model:}                      &       GLM        & \\textbf{  Df Residuals:      } &     1310    \\\\\n",
       "\\textbf{Model Family:}               &      Gamma       & \\textbf{  Df Model:          } &        8    \\\\\n",
       "\\textbf{Link Function:}              &       Log        & \\textbf{  Scale:             } &    3.1713   \\\\\n",
       "\\textbf{Method:}                     &      lbfgs       & \\textbf{  Log-Likelihood:    } &    2367.1   \\\\\n",
       "\\textbf{Date:}                       & Tue, 15 Aug 2023 & \\textbf{  Deviance:          } &    2861.4   \\\\\n",
       "\\textbf{Time:}                       &     15:20:40     & \\textbf{  Pearson chi2:      } &  4.15e+03   \\\\\n",
       "\\textbf{No. Iterations:}             &        16        & \\textbf{  Pseudo R-squ. (CS):} &  0.07930    \\\\\n",
       "\\textbf{Covariance Type:}            &    nonrobust     & \\textbf{                     } &             \\\\\n",
       "\\bottomrule\n",
       "\\end{tabular}\n",
       "\\begin{tabular}{lcccccc}\n",
       "                                     & \\textbf{coef} & \\textbf{std err} & \\textbf{z} & \\textbf{P$> |$z$|$} & \\textbf{[0.025} & \\textbf{0.975]}  \\\\\n",
       "\\midrule\n",
       "\\textbf{educ\\_center}                &       1.4805  &        0.331     &     4.476  &         0.000        &        0.832    &        2.129     \\\\\n",
       "\\textbf{wrkstat\\_Keeping\\_house}     &      -4.5508  &        0.267     &   -17.043  &         0.000        &       -5.074    &       -4.027     \\\\\n",
       "\\textbf{wrkstat\\_Other}              &      -3.9870  &        0.418     &    -9.535  &         0.000        &       -4.807    &       -3.167     \\\\\n",
       "\\textbf{wrkstat\\_Retired}            &      -4.2569  &        0.241     &   -17.699  &         0.000        &       -4.728    &       -3.786     \\\\\n",
       "\\textbf{wrkstat\\_School}             &      -4.4415  &        0.356     &   -12.479  &         0.000        &       -5.139    &       -3.744     \\\\\n",
       "\\textbf{wrkstat\\_Temp\\_not\\_working} &      -3.8865  &        0.416     &    -9.342  &         0.000        &       -4.702    &       -3.071     \\\\\n",
       "\\textbf{wrkstat\\_Unempl,\\_laid\\_off} &      -3.7014  &        0.319     &   -11.608  &         0.000        &       -4.326    &       -3.076     \\\\\n",
       "\\textbf{wrkstat\\_Working\\_fulltime}  &      -3.3562  &        0.241     &   -13.943  &         0.000        &       -3.828    &       -2.884     \\\\\n",
       "\\textbf{wrkstat\\_Working\\_parttime}  &      -3.9947  &        0.258     &   -15.489  &         0.000        &       -4.500    &       -3.489     \\\\\n",
       "\\bottomrule\n",
       "\\end{tabular}\n",
       "%\\caption{Generalized Linear Model Regression Results}\n",
       "\\end{center}"
      ],
      "text/plain": [
       "<class 'statsmodels.iolib.summary.Summary'>\n",
       "\"\"\"\n",
       "                 Generalized Linear Model Regression Results                  \n",
       "==============================================================================\n",
       "Dep. Variable:                  noise   No. Observations:                 1319\n",
       "Model:                            GLM   Df Residuals:                     1310\n",
       "Model Family:                   Gamma   Df Model:                            8\n",
       "Link Function:                    Log   Scale:                          3.1713\n",
       "Method:                         lbfgs   Log-Likelihood:                 2367.1\n",
       "Date:                Tue, 15 Aug 2023   Deviance:                       2861.4\n",
       "Time:                        15:20:40   Pearson chi2:                 4.15e+03\n",
       "No. Iterations:                    16   Pseudo R-squ. (CS):            0.07930\n",
       "Covariance Type:            nonrobust                                         \n",
       "============================================================================================\n",
       "                               coef    std err          z      P>|z|      [0.025      0.975]\n",
       "--------------------------------------------------------------------------------------------\n",
       "educ_center                  1.4805      0.331      4.476      0.000       0.832       2.129\n",
       "wrkstat_Keeping_house       -4.5508      0.267    -17.043      0.000      -5.074      -4.027\n",
       "wrkstat_Other               -3.9870      0.418     -9.535      0.000      -4.807      -3.167\n",
       "wrkstat_Retired             -4.2569      0.241    -17.699      0.000      -4.728      -3.786\n",
       "wrkstat_School              -4.4415      0.356    -12.479      0.000      -5.139      -3.744\n",
       "wrkstat_Temp_not_working    -3.8865      0.416     -9.342      0.000      -4.702      -3.071\n",
       "wrkstat_Unempl,_laid_off    -3.7014      0.319    -11.608      0.000      -4.326      -3.076\n",
       "wrkstat_Working_fulltime    -3.3562      0.241    -13.943      0.000      -3.828      -2.884\n",
       "wrkstat_Working_parttime    -3.9947      0.258    -15.489      0.000      -4.500      -3.489\n",
       "============================================================================================\n",
       "\"\"\""
      ]
     },
     "execution_count": 17,
     "metadata": {},
     "output_type": "execute_result"
    }
   ],
   "source": [
    "link_function = stm.genmod.families.links.Log()\n",
    "gm_model = stm.api.GLM(y_train, X_train_choice, family=stm.api.families.Gamma(link=link_function))\n",
    "gm_res = gm_model.fit(method='lbfgs')\n",
    "gm_res.summary()"
   ]
  },
  {
   "cell_type": "code",
   "execution_count": 18,
   "metadata": {
    "ExecuteTime": {
     "end_time": "2023-08-14T14:30:54.065624879Z",
     "start_time": "2023-08-14T14:30:54.025721213Z"
    }
   },
   "outputs": [],
   "source": [
    "y_pred = gm_res.predict(X_test_choice)"
   ]
  },
  {
   "cell_type": "code",
   "execution_count": 19,
   "metadata": {
    "ExecuteTime": {
     "end_time": "2023-08-14T14:30:54.101022381Z",
     "start_time": "2023-08-14T14:30:54.034802481Z"
    }
   },
   "outputs": [
    {
     "name": "stdout",
     "output_type": "stream",
     "text": [
      "(330,)\n"
     ]
    }
   ],
   "source": [
    "print(y_pred.shape)"
   ]
  },
  {
   "cell_type": "code",
   "execution_count": 20,
   "metadata": {
    "ExecuteTime": {
     "end_time": "2023-08-14T14:30:54.105421392Z",
     "start_time": "2023-08-14T14:30:54.044973065Z"
    }
   },
   "outputs": [
    {
     "name": "stdout",
     "output_type": "stream",
     "text": [
      "metrics, mse: 0.008810617366608623, rmse: 0.09386488889147328, r2: 0.1101823112027418\n"
     ]
    }
   ],
   "source": [
    "print_metrics(y_test, y_pred)"
   ]
  },
  {
   "cell_type": "code",
   "execution_count": 21,
   "metadata": {},
   "outputs": [],
   "source": [
    "# link_function = stm.genmod.families.links.Log()\n",
    "# gm_reg_model = stm.api.GLM(y_train, X_train, family=stm.api.families.Gamma(link=link_function))\n",
    "# gm_reg_res = gm_reg_model.fit_regularized(method='elastic_net', alpha=0.3, opt_method='bfgs')"
   ]
  },
  {
   "cell_type": "code",
   "execution_count": 22,
   "metadata": {},
   "outputs": [],
   "source": [
    "# y_pred = gm_reg_res.predict(X_test)\n",
    "# print_metrics(y_test, y_pred)"
   ]
  },
  {
   "cell_type": "code",
   "execution_count": 322,
   "metadata": {},
   "outputs": [
    {
     "data": {
      "text/html": [
       "<table class=\"simpletable\">\n",
       "<caption>Generalized Linear Model Regression Results</caption>\n",
       "<tr>\n",
       "  <th>Dep. Variable:</th>         <td>noise</td>      <th>  No. Observations:  </th>  <td>  1319</td> \n",
       "</tr>\n",
       "<tr>\n",
       "  <th>Model:</th>                <td>GLMGam</td>      <th>  Df Residuals:      </th> <td> 1292.55</td>\n",
       "</tr>\n",
       "<tr>\n",
       "  <th>Model Family:</th>          <td>Gamma</td>      <th>  Df Model:          </th> <td>   25.45</td>\n",
       "</tr>\n",
       "<tr>\n",
       "  <th>Link Function:</th>          <td>Log</td>       <th>  Scale:             </th> <td>  2.7201</td>\n",
       "</tr>\n",
       "<tr>\n",
       "  <th>Method:</th>                <td>PIRLS</td>      <th>  Log-Likelihood:    </th> <td>  2446.5</td>\n",
       "</tr>\n",
       "<tr>\n",
       "  <th>Date:</th>            <td>Tue, 15 Aug 2023</td> <th>  Deviance:          </th> <td>  2765.8</td>\n",
       "</tr>\n",
       "<tr>\n",
       "  <th>Time:</th>                <td>16:06:36</td>     <th>  Pearson chi2:      </th> <td>3.52e+03</td>\n",
       "</tr>\n",
       "<tr>\n",
       "  <th>No. Iterations:</th>         <td>42</td>        <th>  Pseudo R-squ. (CS):</th>  <td>0.1157</td> \n",
       "</tr>\n",
       "<tr>\n",
       "  <th>Covariance Type:</th>     <td>nonrobust</td>    <th>                     </th>     <td> </td>   \n",
       "</tr>\n",
       "</table>\n",
       "<table class=\"simpletable\">\n",
       "<tr>\n",
       "                                 <td></td>                                    <th>coef</th>     <th>std err</th>      <th>z</th>      <th>P>|z|</th>  <th>[0.025</th>    <th>0.975]</th>  \n",
       "</tr>\n",
       "<tr>\n",
       "  <th>advfront_Agree</th>                                                  <td>    1.8387</td> <td>    0.972</td> <td>    1.891</td> <td> 0.059</td> <td>   -0.067</td> <td>    3.744</td>\n",
       "</tr>\n",
       "<tr>\n",
       "  <th>advfront_Disagree</th>                                               <td>    2.0712</td> <td>    0.972</td> <td>    2.131</td> <td> 0.033</td> <td>    0.166</td> <td>    3.976</td>\n",
       "</tr>\n",
       "<tr>\n",
       "  <th>advfront_Dont_know</th>                                              <td>    1.3040</td> <td>    1.081</td> <td>    1.206</td> <td> 0.228</td> <td>   -0.814</td> <td>    3.422</td>\n",
       "</tr>\n",
       "<tr>\n",
       "  <th>advfront_Strongly_agree</th>                                         <td>    1.8806</td> <td>    0.975</td> <td>    1.929</td> <td> 0.054</td> <td>   -0.030</td> <td>    3.791</td>\n",
       "</tr>\n",
       "<tr>\n",
       "  <th>advfront_Strongly_disagree</th>                                      <td>    2.8598</td> <td>    1.176</td> <td>    2.431</td> <td> 0.015</td> <td>    0.554</td> <td>    5.166</td>\n",
       "</tr>\n",
       "<tr>\n",
       "  <th>harass5_Does_not_apply_(i_do_not_have_a_job/superior/co-worker)</th> <td>    0.5753</td> <td>    1.047</td> <td>    0.550</td> <td> 0.583</td> <td>   -1.476</td> <td>    2.627</td>\n",
       "</tr>\n",
       "<tr>\n",
       "  <th>harass5_No</th>                                                      <td>    1.6428</td> <td>    0.974</td> <td>    1.686</td> <td> 0.092</td> <td>   -0.267</td> <td>    3.553</td>\n",
       "</tr>\n",
       "<tr>\n",
       "  <th>harass5_Yes</th>                                                     <td>    2.1372</td> <td>    1.000</td> <td>    2.138</td> <td> 0.033</td> <td>    0.178</td> <td>    4.097</td>\n",
       "</tr>\n",
       "<tr>\n",
       "  <th>instagrm_No</th>                                                     <td>    0.1417</td> <td>  2.4e+05</td> <td> 5.89e-07</td> <td> 1.000</td> <td>-4.71e+05</td> <td> 4.71e+05</td>\n",
       "</tr>\n",
       "<tr>\n",
       "  <th>instagrm_Yes</th>                                                    <td>    0.0744</td> <td>  2.4e+05</td> <td> 3.09e-07</td> <td> 1.000</td> <td>-4.71e+05</td> <td> 4.71e+05</td>\n",
       "</tr>\n",
       "<tr>\n",
       "  <th>polviews_Conservative</th>                                           <td>   -0.3104</td> <td>    0.271</td> <td>   -1.145</td> <td> 0.252</td> <td>   -0.842</td> <td>    0.221</td>\n",
       "</tr>\n",
       "<tr>\n",
       "  <th>polviews_Extremely_liberal</th>                                      <td>   -0.3729</td> <td>    0.327</td> <td>   -1.140</td> <td> 0.254</td> <td>   -1.014</td> <td>    0.268</td>\n",
       "</tr>\n",
       "<tr>\n",
       "  <th>polviews_Extrmly_conservative</th>                                   <td>   -0.8880</td> <td>    0.341</td> <td>   -2.605</td> <td> 0.009</td> <td>   -1.556</td> <td>   -0.220</td>\n",
       "</tr>\n",
       "<tr>\n",
       "  <th>polviews_Liberal</th>                                                <td>   -0.4095</td> <td>    0.278</td> <td>   -1.472</td> <td> 0.141</td> <td>   -0.955</td> <td>    0.136</td>\n",
       "</tr>\n",
       "<tr>\n",
       "  <th>polviews_Moderate</th>                                               <td>   -0.2554</td> <td>    0.255</td> <td>   -1.002</td> <td> 0.316</td> <td>   -0.755</td> <td>    0.244</td>\n",
       "</tr>\n",
       "<tr>\n",
       "  <th>polviews_Slghtly_conservative</th>                                   <td>   -0.4443</td> <td>    0.273</td> <td>   -1.628</td> <td> 0.103</td> <td>   -0.979</td> <td>    0.090</td>\n",
       "</tr>\n",
       "<tr>\n",
       "  <th>polviews_Slightly_liberal</th>                                       <td>   -0.2268</td> <td>    0.281</td> <td>   -0.807</td> <td> 0.420</td> <td>   -0.777</td> <td>    0.324</td>\n",
       "</tr>\n",
       "<tr>\n",
       "  <th>snapchat_No</th>                                                     <td>   -0.0357</td> <td>  2.4e+05</td> <td>-1.49e-07</td> <td> 1.000</td> <td>-4.71e+05</td> <td> 4.71e+05</td>\n",
       "</tr>\n",
       "<tr>\n",
       "  <th>snapchat_Yes</th>                                                    <td>    0.2516</td> <td>  2.4e+05</td> <td> 1.05e-06</td> <td> 1.000</td> <td>-4.71e+05</td> <td> 4.71e+05</td>\n",
       "</tr>\n",
       "<tr>\n",
       "  <th>wrkstat_Keeping_house</th>                                           <td>   -6.3757</td> <td>    0.990</td> <td>   -6.439</td> <td> 0.000</td> <td>   -8.316</td> <td>   -4.435</td>\n",
       "</tr>\n",
       "<tr>\n",
       "  <th>wrkstat_Other</th>                                                   <td>   -5.7226</td> <td>    1.038</td> <td>   -5.515</td> <td> 0.000</td> <td>   -7.756</td> <td>   -3.689</td>\n",
       "</tr>\n",
       "<tr>\n",
       "  <th>wrkstat_Retired</th>                                                 <td>   -5.9878</td> <td>    0.987</td> <td>   -6.064</td> <td> 0.000</td> <td>   -7.923</td> <td>   -4.053</td>\n",
       "</tr>\n",
       "<tr>\n",
       "  <th>wrkstat_School</th>                                                  <td>   -6.2067</td> <td>    1.020</td> <td>   -6.088</td> <td> 0.000</td> <td>   -8.205</td> <td>   -4.208</td>\n",
       "</tr>\n",
       "<tr>\n",
       "  <th>wrkstat_Temp_not_working</th>                                        <td>   -5.6520</td> <td>    1.031</td> <td>   -5.483</td> <td> 0.000</td> <td>   -7.672</td> <td>   -3.632</td>\n",
       "</tr>\n",
       "<tr>\n",
       "  <th>wrkstat_Unempl,_laid_off</th>                                        <td>   -5.5194</td> <td>    1.005</td> <td>   -5.492</td> <td> 0.000</td> <td>   -7.489</td> <td>   -3.550</td>\n",
       "</tr>\n",
       "<tr>\n",
       "  <th>wrkstat_Working_fulltime</th>                                        <td>   -5.1428</td> <td>    0.983</td> <td>   -5.231</td> <td> 0.000</td> <td>   -7.070</td> <td>   -3.216</td>\n",
       "</tr>\n",
       "<tr>\n",
       "  <th>wrkstat_Working_parttime</th>                                        <td>   -5.8062</td> <td>    0.985</td> <td>   -5.896</td> <td> 0.000</td> <td>   -7.736</td> <td>   -3.876</td>\n",
       "</tr>\n",
       "<tr>\n",
       "  <th>educ_center_s0</th>                                                  <td>    0.3259</td> <td>    0.077</td> <td>    4.236</td> <td> 0.000</td> <td>    0.175</td> <td>    0.477</td>\n",
       "</tr>\n",
       "<tr>\n",
       "  <th>educ_center_s1</th>                                                  <td>    0.6835</td> <td>    0.151</td> <td>    4.517</td> <td> 0.000</td> <td>    0.387</td> <td>    0.980</td>\n",
       "</tr>\n",
       "<tr>\n",
       "  <th>educ_center_s2</th>                                                  <td>    1.1112</td> <td>    0.217</td> <td>    5.117</td> <td> 0.000</td> <td>    0.686</td> <td>    1.537</td>\n",
       "</tr>\n",
       "<tr>\n",
       "  <th>educ_center_s3</th>                                                  <td>    1.2414</td> <td>    0.237</td> <td>    5.228</td> <td> 0.000</td> <td>    0.776</td> <td>    1.707</td>\n",
       "</tr>\n",
       "<tr>\n",
       "  <th>educ_center_s4</th>                                                  <td>    1.4664</td> <td>    0.273</td> <td>    5.376</td> <td> 0.000</td> <td>    0.932</td> <td>    2.001</td>\n",
       "</tr>\n",
       "<tr>\n",
       "  <th>educ_center_s5</th>                                                  <td>    1.6246</td> <td>    0.298</td> <td>    5.448</td> <td> 0.000</td> <td>    1.040</td> <td>    2.209</td>\n",
       "</tr>\n",
       "<tr>\n",
       "  <th>educ_center_s6</th>                                                  <td>    1.7515</td> <td>    0.319</td> <td>    5.484</td> <td> 0.000</td> <td>    1.126</td> <td>    2.377</td>\n",
       "</tr>\n",
       "</table>"
      ],
      "text/latex": [
       "\\begin{center}\n",
       "\\begin{tabular}{lclc}\n",
       "\\toprule\n",
       "\\textbf{Dep. Variable:}                                                           &      noise       & \\textbf{  No. Observations:  } &     1319    \\\\\n",
       "\\textbf{Model:}                                                                   &      GLMGam      & \\textbf{  Df Residuals:      } &   1292.55   \\\\\n",
       "\\textbf{Model Family:}                                                            &      Gamma       & \\textbf{  Df Model:          } &     25.45   \\\\\n",
       "\\textbf{Link Function:}                                                           &       Log        & \\textbf{  Scale:             } &    2.7201   \\\\\n",
       "\\textbf{Method:}                                                                  &      PIRLS       & \\textbf{  Log-Likelihood:    } &    2446.5   \\\\\n",
       "\\textbf{Date:}                                                                    & Tue, 15 Aug 2023 & \\textbf{  Deviance:          } &    2765.8   \\\\\n",
       "\\textbf{Time:}                                                                    &     16:06:36     & \\textbf{  Pearson chi2:      } &  3.52e+03   \\\\\n",
       "\\textbf{No. Iterations:}                                                          &        42        & \\textbf{  Pseudo R-squ. (CS):} &   0.1157    \\\\\n",
       "\\textbf{Covariance Type:}                                                         &    nonrobust     & \\textbf{                     } &             \\\\\n",
       "\\bottomrule\n",
       "\\end{tabular}\n",
       "\\begin{tabular}{lcccccc}\n",
       "                                                                                  & \\textbf{coef} & \\textbf{std err} & \\textbf{z} & \\textbf{P$> |$z$|$} & \\textbf{[0.025} & \\textbf{0.975]}  \\\\\n",
       "\\midrule\n",
       "\\textbf{advfront\\_Agree}                                                          &       1.8387  &        0.972     &     1.891  &         0.059        &       -0.067    &        3.744     \\\\\n",
       "\\textbf{advfront\\_Disagree}                                                       &       2.0712  &        0.972     &     2.131  &         0.033        &        0.166    &        3.976     \\\\\n",
       "\\textbf{advfront\\_Dont\\_know}                                                     &       1.3040  &        1.081     &     1.206  &         0.228        &       -0.814    &        3.422     \\\\\n",
       "\\textbf{advfront\\_Strongly\\_agree}                                                &       1.8806  &        0.975     &     1.929  &         0.054        &       -0.030    &        3.791     \\\\\n",
       "\\textbf{advfront\\_Strongly\\_disagree}                                             &       2.8598  &        1.176     &     2.431  &         0.015        &        0.554    &        5.166     \\\\\n",
       "\\textbf{harass5\\_Does\\_not\\_apply\\_(i\\_do\\_not\\_have\\_a\\_job/superior/co-worker)} &       0.5753  &        1.047     &     0.550  &         0.583        &       -1.476    &        2.627     \\\\\n",
       "\\textbf{harass5\\_No}                                                              &       1.6428  &        0.974     &     1.686  &         0.092        &       -0.267    &        3.553     \\\\\n",
       "\\textbf{harass5\\_Yes}                                                             &       2.1372  &        1.000     &     2.138  &         0.033        &        0.178    &        4.097     \\\\\n",
       "\\textbf{instagrm\\_No}                                                             &       0.1417  &      2.4e+05     &  5.89e-07  &         1.000        &    -4.71e+05    &     4.71e+05     \\\\\n",
       "\\textbf{instagrm\\_Yes}                                                            &       0.0744  &      2.4e+05     &  3.09e-07  &         1.000        &    -4.71e+05    &     4.71e+05     \\\\\n",
       "\\textbf{polviews\\_Conservative}                                                   &      -0.3104  &        0.271     &    -1.145  &         0.252        &       -0.842    &        0.221     \\\\\n",
       "\\textbf{polviews\\_Extremely\\_liberal}                                             &      -0.3729  &        0.327     &    -1.140  &         0.254        &       -1.014    &        0.268     \\\\\n",
       "\\textbf{polviews\\_Extrmly\\_conservative}                                          &      -0.8880  &        0.341     &    -2.605  &         0.009        &       -1.556    &       -0.220     \\\\\n",
       "\\textbf{polviews\\_Liberal}                                                        &      -0.4095  &        0.278     &    -1.472  &         0.141        &       -0.955    &        0.136     \\\\\n",
       "\\textbf{polviews\\_Moderate}                                                       &      -0.2554  &        0.255     &    -1.002  &         0.316        &       -0.755    &        0.244     \\\\\n",
       "\\textbf{polviews\\_Slghtly\\_conservative}                                          &      -0.4443  &        0.273     &    -1.628  &         0.103        &       -0.979    &        0.090     \\\\\n",
       "\\textbf{polviews\\_Slightly\\_liberal}                                              &      -0.2268  &        0.281     &    -0.807  &         0.420        &       -0.777    &        0.324     \\\\\n",
       "\\textbf{snapchat\\_No}                                                             &      -0.0357  &      2.4e+05     & -1.49e-07  &         1.000        &    -4.71e+05    &     4.71e+05     \\\\\n",
       "\\textbf{snapchat\\_Yes}                                                            &       0.2516  &      2.4e+05     &  1.05e-06  &         1.000        &    -4.71e+05    &     4.71e+05     \\\\\n",
       "\\textbf{wrkstat\\_Keeping\\_house}                                                  &      -6.3757  &        0.990     &    -6.439  &         0.000        &       -8.316    &       -4.435     \\\\\n",
       "\\textbf{wrkstat\\_Other}                                                           &      -5.7226  &        1.038     &    -5.515  &         0.000        &       -7.756    &       -3.689     \\\\\n",
       "\\textbf{wrkstat\\_Retired}                                                         &      -5.9878  &        0.987     &    -6.064  &         0.000        &       -7.923    &       -4.053     \\\\\n",
       "\\textbf{wrkstat\\_School}                                                          &      -6.2067  &        1.020     &    -6.088  &         0.000        &       -8.205    &       -4.208     \\\\\n",
       "\\textbf{wrkstat\\_Temp\\_not\\_working}                                              &      -5.6520  &        1.031     &    -5.483  &         0.000        &       -7.672    &       -3.632     \\\\\n",
       "\\textbf{wrkstat\\_Unempl,\\_laid\\_off}                                              &      -5.5194  &        1.005     &    -5.492  &         0.000        &       -7.489    &       -3.550     \\\\\n",
       "\\textbf{wrkstat\\_Working\\_fulltime}                                               &      -5.1428  &        0.983     &    -5.231  &         0.000        &       -7.070    &       -3.216     \\\\\n",
       "\\textbf{wrkstat\\_Working\\_parttime}                                               &      -5.8062  &        0.985     &    -5.896  &         0.000        &       -7.736    &       -3.876     \\\\\n",
       "\\textbf{educ\\_center\\_s0}                                                         &       0.3259  &        0.077     &     4.236  &         0.000        &        0.175    &        0.477     \\\\\n",
       "\\textbf{educ\\_center\\_s1}                                                         &       0.6835  &        0.151     &     4.517  &         0.000        &        0.387    &        0.980     \\\\\n",
       "\\textbf{educ\\_center\\_s2}                                                         &       1.1112  &        0.217     &     5.117  &         0.000        &        0.686    &        1.537     \\\\\n",
       "\\textbf{educ\\_center\\_s3}                                                         &       1.2414  &        0.237     &     5.228  &         0.000        &        0.776    &        1.707     \\\\\n",
       "\\textbf{educ\\_center\\_s4}                                                         &       1.4664  &        0.273     &     5.376  &         0.000        &        0.932    &        2.001     \\\\\n",
       "\\textbf{educ\\_center\\_s5}                                                         &       1.6246  &        0.298     &     5.448  &         0.000        &        1.040    &        2.209     \\\\\n",
       "\\textbf{educ\\_center\\_s6}                                                         &       1.7515  &        0.319     &     5.484  &         0.000        &        1.126    &        2.377     \\\\\n",
       "\\bottomrule\n",
       "\\end{tabular}\n",
       "%\\caption{Generalized Linear Model Regression Results}\n",
       "\\end{center}"
      ],
      "text/plain": [
       "<class 'statsmodels.iolib.summary.Summary'>\n",
       "\"\"\"\n",
       "                 Generalized Linear Model Regression Results                  \n",
       "==============================================================================\n",
       "Dep. Variable:                  noise   No. Observations:                 1319\n",
       "Model:                         GLMGam   Df Residuals:                  1292.55\n",
       "Model Family:                   Gamma   Df Model:                        25.45\n",
       "Link Function:                    Log   Scale:                          2.7201\n",
       "Method:                         PIRLS   Log-Likelihood:                 2446.5\n",
       "Date:                Tue, 15 Aug 2023   Deviance:                       2765.8\n",
       "Time:                        16:06:36   Pearson chi2:                 3.52e+03\n",
       "No. Iterations:                    42   Pseudo R-squ. (CS):             0.1157\n",
       "Covariance Type:            nonrobust                                         \n",
       "===================================================================================================================================\n",
       "                                                                      coef    std err          z      P>|z|      [0.025      0.975]\n",
       "-----------------------------------------------------------------------------------------------------------------------------------\n",
       "advfront_Agree                                                      1.8387      0.972      1.891      0.059      -0.067       3.744\n",
       "advfront_Disagree                                                   2.0712      0.972      2.131      0.033       0.166       3.976\n",
       "advfront_Dont_know                                                  1.3040      1.081      1.206      0.228      -0.814       3.422\n",
       "advfront_Strongly_agree                                             1.8806      0.975      1.929      0.054      -0.030       3.791\n",
       "advfront_Strongly_disagree                                          2.8598      1.176      2.431      0.015       0.554       5.166\n",
       "harass5_Does_not_apply_(i_do_not_have_a_job/superior/co-worker)     0.5753      1.047      0.550      0.583      -1.476       2.627\n",
       "harass5_No                                                          1.6428      0.974      1.686      0.092      -0.267       3.553\n",
       "harass5_Yes                                                         2.1372      1.000      2.138      0.033       0.178       4.097\n",
       "instagrm_No                                                         0.1417    2.4e+05   5.89e-07      1.000   -4.71e+05    4.71e+05\n",
       "instagrm_Yes                                                        0.0744    2.4e+05   3.09e-07      1.000   -4.71e+05    4.71e+05\n",
       "polviews_Conservative                                              -0.3104      0.271     -1.145      0.252      -0.842       0.221\n",
       "polviews_Extremely_liberal                                         -0.3729      0.327     -1.140      0.254      -1.014       0.268\n",
       "polviews_Extrmly_conservative                                      -0.8880      0.341     -2.605      0.009      -1.556      -0.220\n",
       "polviews_Liberal                                                   -0.4095      0.278     -1.472      0.141      -0.955       0.136\n",
       "polviews_Moderate                                                  -0.2554      0.255     -1.002      0.316      -0.755       0.244\n",
       "polviews_Slghtly_conservative                                      -0.4443      0.273     -1.628      0.103      -0.979       0.090\n",
       "polviews_Slightly_liberal                                          -0.2268      0.281     -0.807      0.420      -0.777       0.324\n",
       "snapchat_No                                                        -0.0357    2.4e+05  -1.49e-07      1.000   -4.71e+05    4.71e+05\n",
       "snapchat_Yes                                                        0.2516    2.4e+05   1.05e-06      1.000   -4.71e+05    4.71e+05\n",
       "wrkstat_Keeping_house                                              -6.3757      0.990     -6.439      0.000      -8.316      -4.435\n",
       "wrkstat_Other                                                      -5.7226      1.038     -5.515      0.000      -7.756      -3.689\n",
       "wrkstat_Retired                                                    -5.9878      0.987     -6.064      0.000      -7.923      -4.053\n",
       "wrkstat_School                                                     -6.2067      1.020     -6.088      0.000      -8.205      -4.208\n",
       "wrkstat_Temp_not_working                                           -5.6520      1.031     -5.483      0.000      -7.672      -3.632\n",
       "wrkstat_Unempl,_laid_off                                           -5.5194      1.005     -5.492      0.000      -7.489      -3.550\n",
       "wrkstat_Working_fulltime                                           -5.1428      0.983     -5.231      0.000      -7.070      -3.216\n",
       "wrkstat_Working_parttime                                           -5.8062      0.985     -5.896      0.000      -7.736      -3.876\n",
       "educ_center_s0                                                      0.3259      0.077      4.236      0.000       0.175       0.477\n",
       "educ_center_s1                                                      0.6835      0.151      4.517      0.000       0.387       0.980\n",
       "educ_center_s2                                                      1.1112      0.217      5.117      0.000       0.686       1.537\n",
       "educ_center_s3                                                      1.2414      0.237      5.228      0.000       0.776       1.707\n",
       "educ_center_s4                                                      1.4664      0.273      5.376      0.000       0.932       2.001\n",
       "educ_center_s5                                                      1.6246      0.298      5.448      0.000       1.040       2.209\n",
       "educ_center_s6                                                      1.7515      0.319      5.484      0.000       1.126       2.377\n",
       "===================================================================================================================================\n",
       "\"\"\""
      ]
     },
     "execution_count": 322,
     "metadata": {},
     "output_type": "execute_result"
    }
   ],
   "source": [
    "x_spline = X_train[\"educ_center\"]\n",
    "bs = stm.gam.api.BSplines(x_spline, df=8, degree=3)\n",
    "\n",
    "X_train_wt_educ = X_train[X_train.columns.difference(['educ_center'])]\n",
    "X_test_wt_educ = X_test[X_test.columns.difference(['educ_center'])]\n",
    "\n",
    "alpha = 10\n",
    "gam_bs = stm.gam.api.GLMGam(y_train, X_train_wt_educ, alpha=alpha, smoother=bs, family=sm.families.Gamma(link=sm.families.links.Log()))\n",
    "fitted_gam = gam_bs.fit()\n",
    "fitted_gam.summary()"
   ]
  },
  {
   "cell_type": "code",
   "execution_count": 323,
   "metadata": {},
   "outputs": [
    {
     "name": "stdout",
     "output_type": "stream",
     "text": [
      "(1319, 28)\n",
      "(330, 28)\n"
     ]
    }
   ],
   "source": [
    "print(X_train.shape)\n",
    "print(X_test.shape)"
   ]
  },
  {
   "cell_type": "code",
   "execution_count": 325,
   "metadata": {},
   "outputs": [
    {
     "name": "stdout",
     "output_type": "stream",
     "text": [
      "metrics, mse: 0.00901438641701245, rmse: 0.0949441226038371, r2: 0.08960290139135685\n"
     ]
    }
   ],
   "source": [
    "y_pred = fitted_gam.predict(exog=X_test_wt_educ, exog_smooth=X_test['educ_center'])\n",
    "print_metrics(y_test, y_pred)"
   ]
  },
  {
   "cell_type": "code",
   "execution_count": 326,
   "metadata": {},
   "outputs": [
    {
     "data": {
      "text/html": [
       "<table class=\"simpletable\">\n",
       "<caption>Generalized Linear Model Regression Results</caption>\n",
       "<tr>\n",
       "  <th>Dep. Variable:</th>         <td>noise</td>      <th>  No. Observations:  </th>  <td>  1319</td> \n",
       "</tr>\n",
       "<tr>\n",
       "  <th>Model:</th>                <td>GLMGam</td>      <th>  Df Residuals:      </th> <td> 1310.00</td>\n",
       "</tr>\n",
       "<tr>\n",
       "  <th>Model Family:</th>          <td>Gamma</td>      <th>  Df Model:          </th> <td>    8.00</td>\n",
       "</tr>\n",
       "<tr>\n",
       "  <th>Link Function:</th>          <td>Log</td>       <th>  Scale:             </th> <td>  3.1711</td>\n",
       "</tr>\n",
       "<tr>\n",
       "  <th>Method:</th>                <td>PIRLS</td>      <th>  Log-Likelihood:    </th> <td>  2367.2</td>\n",
       "</tr>\n",
       "<tr>\n",
       "  <th>Date:</th>            <td>Tue, 15 Aug 2023</td> <th>  Deviance:          </th> <td>  2861.0</td>\n",
       "</tr>\n",
       "<tr>\n",
       "  <th>Time:</th>                <td>16:08:20</td>     <th>  Pearson chi2:      </th> <td>4.15e+03</td>\n",
       "</tr>\n",
       "<tr>\n",
       "  <th>No. Iterations:</th>         <td>10</td>        <th>  Pseudo R-squ. (CS):</th>  <td>0.07938</td>\n",
       "</tr>\n",
       "<tr>\n",
       "  <th>Covariance Type:</th>     <td>nonrobust</td>    <th>                     </th>     <td> </td>   \n",
       "</tr>\n",
       "</table>\n",
       "<table class=\"simpletable\">\n",
       "<tr>\n",
       "              <td></td>                <th>coef</th>     <th>std err</th>      <th>z</th>      <th>P>|z|</th>  <th>[0.025</th>    <th>0.975]</th>  \n",
       "</tr>\n",
       "<tr>\n",
       "  <th>wrkstat_Keeping_house</th>    <td>   -4.5498</td> <td>    0.272</td> <td>  -16.710</td> <td> 0.000</td> <td>   -5.083</td> <td>   -4.016</td>\n",
       "</tr>\n",
       "<tr>\n",
       "  <th>wrkstat_Other</th>            <td>   -3.9859</td> <td>    0.426</td> <td>   -9.360</td> <td> 0.000</td> <td>   -4.821</td> <td>   -3.151</td>\n",
       "</tr>\n",
       "<tr>\n",
       "  <th>wrkstat_Retired</th>          <td>   -4.2557</td> <td>    0.262</td> <td>  -16.242</td> <td> 0.000</td> <td>   -4.769</td> <td>   -3.742</td>\n",
       "</tr>\n",
       "<tr>\n",
       "  <th>wrkstat_School</th>           <td>   -4.4407</td> <td>    0.369</td> <td>  -12.033</td> <td> 0.000</td> <td>   -5.164</td> <td>   -3.717</td>\n",
       "</tr>\n",
       "<tr>\n",
       "  <th>wrkstat_Temp_not_working</th> <td>   -3.8853</td> <td>    0.410</td> <td>   -9.483</td> <td> 0.000</td> <td>   -4.688</td> <td>   -3.082</td>\n",
       "</tr>\n",
       "<tr>\n",
       "  <th>wrkstat_Unempl,_laid_off</th> <td>   -3.7004</td> <td>    0.333</td> <td>  -11.098</td> <td> 0.000</td> <td>   -4.354</td> <td>   -3.047</td>\n",
       "</tr>\n",
       "<tr>\n",
       "  <th>wrkstat_Working_fulltime</th> <td>   -3.3554</td> <td>    0.251</td> <td>  -13.373</td> <td> 0.000</td> <td>   -3.847</td> <td>   -2.864</td>\n",
       "</tr>\n",
       "<tr>\n",
       "  <th>wrkstat_Working_parttime</th> <td>   -3.9938</td> <td>    0.267</td> <td>  -14.933</td> <td> 0.000</td> <td>   -4.518</td> <td>   -3.470</td>\n",
       "</tr>\n",
       "<tr>\n",
       "  <th>educ_center_s0</th>           <td>    0.2728</td> <td>    0.081</td> <td>    3.369</td> <td> 0.001</td> <td>    0.114</td> <td>    0.431</td>\n",
       "</tr>\n",
       "<tr>\n",
       "  <th>educ_center_s1</th>           <td>    0.5708</td> <td>    0.159</td> <td>    3.597</td> <td> 0.000</td> <td>    0.260</td> <td>    0.882</td>\n",
       "</tr>\n",
       "<tr>\n",
       "  <th>educ_center_s2</th>           <td>    0.9321</td> <td>    0.226</td> <td>    4.125</td> <td> 0.000</td> <td>    0.489</td> <td>    1.375</td>\n",
       "</tr>\n",
       "<tr>\n",
       "  <th>educ_center_s3</th>           <td>    1.0424</td> <td>    0.247</td> <td>    4.226</td> <td> 0.000</td> <td>    0.559</td> <td>    1.526</td>\n",
       "</tr>\n",
       "<tr>\n",
       "  <th>educ_center_s4</th>           <td>    1.2334</td> <td>    0.283</td> <td>    4.362</td> <td> 0.000</td> <td>    0.679</td> <td>    1.788</td>\n",
       "</tr>\n",
       "<tr>\n",
       "  <th>educ_center_s5</th>           <td>    1.3680</td> <td>    0.309</td> <td>    4.431</td> <td> 0.000</td> <td>    0.763</td> <td>    1.973</td>\n",
       "</tr>\n",
       "<tr>\n",
       "  <th>educ_center_s6</th>           <td>    1.4759</td> <td>    0.330</td> <td>    4.466</td> <td> 0.000</td> <td>    0.828</td> <td>    2.124</td>\n",
       "</tr>\n",
       "</table>"
      ],
      "text/latex": [
       "\\begin{center}\n",
       "\\begin{tabular}{lclc}\n",
       "\\toprule\n",
       "\\textbf{Dep. Variable:}              &      noise       & \\textbf{  No. Observations:  } &     1319    \\\\\n",
       "\\textbf{Model:}                      &      GLMGam      & \\textbf{  Df Residuals:      } &   1310.00   \\\\\n",
       "\\textbf{Model Family:}               &      Gamma       & \\textbf{  Df Model:          } &      8.00   \\\\\n",
       "\\textbf{Link Function:}              &       Log        & \\textbf{  Scale:             } &    3.1711   \\\\\n",
       "\\textbf{Method:}                     &      PIRLS       & \\textbf{  Log-Likelihood:    } &    2367.2   \\\\\n",
       "\\textbf{Date:}                       & Tue, 15 Aug 2023 & \\textbf{  Deviance:          } &    2861.0   \\\\\n",
       "\\textbf{Time:}                       &     16:08:20     & \\textbf{  Pearson chi2:      } &  4.15e+03   \\\\\n",
       "\\textbf{No. Iterations:}             &        10        & \\textbf{  Pseudo R-squ. (CS):} &  0.07938    \\\\\n",
       "\\textbf{Covariance Type:}            &    nonrobust     & \\textbf{                     } &             \\\\\n",
       "\\bottomrule\n",
       "\\end{tabular}\n",
       "\\begin{tabular}{lcccccc}\n",
       "                                     & \\textbf{coef} & \\textbf{std err} & \\textbf{z} & \\textbf{P$> |$z$|$} & \\textbf{[0.025} & \\textbf{0.975]}  \\\\\n",
       "\\midrule\n",
       "\\textbf{wrkstat\\_Keeping\\_house}     &      -4.5498  &        0.272     &   -16.710  &         0.000        &       -5.083    &       -4.016     \\\\\n",
       "\\textbf{wrkstat\\_Other}              &      -3.9859  &        0.426     &    -9.360  &         0.000        &       -4.821    &       -3.151     \\\\\n",
       "\\textbf{wrkstat\\_Retired}            &      -4.2557  &        0.262     &   -16.242  &         0.000        &       -4.769    &       -3.742     \\\\\n",
       "\\textbf{wrkstat\\_School}             &      -4.4407  &        0.369     &   -12.033  &         0.000        &       -5.164    &       -3.717     \\\\\n",
       "\\textbf{wrkstat\\_Temp\\_not\\_working} &      -3.8853  &        0.410     &    -9.483  &         0.000        &       -4.688    &       -3.082     \\\\\n",
       "\\textbf{wrkstat\\_Unempl,\\_laid\\_off} &      -3.7004  &        0.333     &   -11.098  &         0.000        &       -4.354    &       -3.047     \\\\\n",
       "\\textbf{wrkstat\\_Working\\_fulltime}  &      -3.3554  &        0.251     &   -13.373  &         0.000        &       -3.847    &       -2.864     \\\\\n",
       "\\textbf{wrkstat\\_Working\\_parttime}  &      -3.9938  &        0.267     &   -14.933  &         0.000        &       -4.518    &       -3.470     \\\\\n",
       "\\textbf{educ\\_center\\_s0}            &       0.2728  &        0.081     &     3.369  &         0.001        &        0.114    &        0.431     \\\\\n",
       "\\textbf{educ\\_center\\_s1}            &       0.5708  &        0.159     &     3.597  &         0.000        &        0.260    &        0.882     \\\\\n",
       "\\textbf{educ\\_center\\_s2}            &       0.9321  &        0.226     &     4.125  &         0.000        &        0.489    &        1.375     \\\\\n",
       "\\textbf{educ\\_center\\_s3}            &       1.0424  &        0.247     &     4.226  &         0.000        &        0.559    &        1.526     \\\\\n",
       "\\textbf{educ\\_center\\_s4}            &       1.2334  &        0.283     &     4.362  &         0.000        &        0.679    &        1.788     \\\\\n",
       "\\textbf{educ\\_center\\_s5}            &       1.3680  &        0.309     &     4.431  &         0.000        &        0.763    &        1.973     \\\\\n",
       "\\textbf{educ\\_center\\_s6}            &       1.4759  &        0.330     &     4.466  &         0.000        &        0.828    &        2.124     \\\\\n",
       "\\bottomrule\n",
       "\\end{tabular}\n",
       "%\\caption{Generalized Linear Model Regression Results}\n",
       "\\end{center}"
      ],
      "text/plain": [
       "<class 'statsmodels.iolib.summary.Summary'>\n",
       "\"\"\"\n",
       "                 Generalized Linear Model Regression Results                  \n",
       "==============================================================================\n",
       "Dep. Variable:                  noise   No. Observations:                 1319\n",
       "Model:                         GLMGam   Df Residuals:                  1310.00\n",
       "Model Family:                   Gamma   Df Model:                         8.00\n",
       "Link Function:                    Log   Scale:                          3.1711\n",
       "Method:                         PIRLS   Log-Likelihood:                 2367.2\n",
       "Date:                Tue, 15 Aug 2023   Deviance:                       2861.0\n",
       "Time:                        16:08:20   Pearson chi2:                 4.15e+03\n",
       "No. Iterations:                    10   Pseudo R-squ. (CS):            0.07938\n",
       "Covariance Type:            nonrobust                                         \n",
       "============================================================================================\n",
       "                               coef    std err          z      P>|z|      [0.025      0.975]\n",
       "--------------------------------------------------------------------------------------------\n",
       "wrkstat_Keeping_house       -4.5498      0.272    -16.710      0.000      -5.083      -4.016\n",
       "wrkstat_Other               -3.9859      0.426     -9.360      0.000      -4.821      -3.151\n",
       "wrkstat_Retired             -4.2557      0.262    -16.242      0.000      -4.769      -3.742\n",
       "wrkstat_School              -4.4407      0.369    -12.033      0.000      -5.164      -3.717\n",
       "wrkstat_Temp_not_working    -3.8853      0.410     -9.483      0.000      -4.688      -3.082\n",
       "wrkstat_Unempl,_laid_off    -3.7004      0.333    -11.098      0.000      -4.354      -3.047\n",
       "wrkstat_Working_fulltime    -3.3554      0.251    -13.373      0.000      -3.847      -2.864\n",
       "wrkstat_Working_parttime    -3.9938      0.267    -14.933      0.000      -4.518      -3.470\n",
       "educ_center_s0               0.2728      0.081      3.369      0.001       0.114       0.431\n",
       "educ_center_s1               0.5708      0.159      3.597      0.000       0.260       0.882\n",
       "educ_center_s2               0.9321      0.226      4.125      0.000       0.489       1.375\n",
       "educ_center_s3               1.0424      0.247      4.226      0.000       0.559       1.526\n",
       "educ_center_s4               1.2334      0.283      4.362      0.000       0.679       1.788\n",
       "educ_center_s5               1.3680      0.309      4.431      0.000       0.763       1.973\n",
       "educ_center_s6               1.4759      0.330      4.466      0.000       0.828       2.124\n",
       "============================================================================================\n",
       "\"\"\""
      ]
     },
     "execution_count": 326,
     "metadata": {},
     "output_type": "execute_result"
    }
   ],
   "source": [
    "x_spline = X_train[\"educ_center\"]\n",
    "bs = stm.gam.api.BSplines(x_spline, df=8, degree=3)\n",
    "\n",
    "X_train_choice_wt_educ = X_train_choice[X_train_choice.columns.difference(['educ_center'])]\n",
    "X_test_choice_wt_educ = X_test_choice[X_test_choice.columns.difference(['educ_center'])]\n",
    "\n",
    "alpha = 10\n",
    "gam_bs = stm.gam.api.GLMGam(y_train, X_train_choice_wt_educ, alpha=alpha, smoother=bs, family=sm.families.Gamma(link=sm.families.links.Log()))\n",
    "fitted_gam = gam_bs.fit()\n",
    "fitted_gam.summary()"
   ]
  },
  {
   "cell_type": "code",
   "execution_count": 328,
   "metadata": {},
   "outputs": [
    {
     "name": "stdout",
     "output_type": "stream",
     "text": [
      "metrics, mse: 0.008808015983073438, rmse: 0.09385103080453319, r2: 0.11044503479958379\n"
     ]
    }
   ],
   "source": [
    "y_pred = fitted_gam.predict(exog=X_test_choice_wt_educ, exog_smooth=X_test['educ_center'])\n",
    "print_metrics(y_test, y_pred)"
   ]
  }
 ],
 "metadata": {
  "kernelspec": {
   "display_name": "venv",
   "language": "python",
   "name": "python3"
  },
  "language_info": {
   "codemirror_mode": {
    "name": "ipython",
    "version": 3
   },
   "file_extension": ".py",
   "mimetype": "text/x-python",
   "name": "python",
   "nbconvert_exporter": "python",
   "pygments_lexer": "ipython3",
   "version": "3.10.12"
  },
  "orig_nbformat": 4
 },
 "nbformat": 4,
 "nbformat_minor": 2
}
