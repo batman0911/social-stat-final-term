{
 "cells": [
  {
   "cell_type": "code",
   "execution_count": 9,
   "metadata": {},
   "outputs": [],
   "source": [
    "import pyreadr"
   ]
  },
  {
   "cell_type": "code",
   "execution_count": 10,
   "metadata": {},
   "outputs": [
    {
     "name": "stdout",
     "output_type": "stream",
     "text": [
      "  harass5  emailmin  emailhr  educ          polviews        advfront snapchat   \n",
      "0     NaN       0.0     12.0  16.0          Moderate  Strongly agree      NaN  \\\n",
      "1     NaN      30.0      0.0  12.0           Liberal        Disagree       No   \n",
      "2      No       NaN      NaN  16.0      Conservative             NaN       No   \n",
      "3     NaN      10.0      0.0  12.0          Moderate        Disagree      NaN   \n",
      "4      No       NaN      NaN  18.0  Slightly liberal             NaN      Yes   \n",
      "\n",
      "  instagrm           wrkstat  \n",
      "0      NaN  Working fulltime  \n",
      "1       No  Working fulltime  \n",
      "2       No           Retired  \n",
      "3      NaN  Working parttime  \n",
      "4      Yes  Working parttime  \n"
     ]
    }
   ],
   "source": [
    "df = pyreadr.read_r('./data/gss16.rda')\n",
    "gss16_data = df['gss16']"
   ]
  },
  {
   "cell_type": "code",
   "execution_count": 11,
   "metadata": {},
   "outputs": [
    {
     "name": "stdout",
     "output_type": "stream",
     "text": [
      "<class 'pandas.core.frame.DataFrame'>\n",
      "RangeIndex: 2867 entries, 0 to 2866\n",
      "Data columns (total 9 columns):\n",
      " #   Column    Non-Null Count  Dtype  \n",
      "---  ------    --------------  -----  \n",
      " 0   harass5   1469 non-null   object \n",
      " 1   emailmin  1649 non-null   float64\n",
      " 2   emailhr   1649 non-null   float64\n",
      " 3   educ      2858 non-null   float64\n",
      " 4   polviews  2756 non-null   object \n",
      " 5   advfront  1385 non-null   object \n",
      " 6   snapchat  1372 non-null   object \n",
      " 7   instagrm  1372 non-null   object \n",
      " 8   wrkstat   2864 non-null   object \n",
      "dtypes: float64(3), object(6)\n",
      "memory usage: 201.7+ KB\n"
     ]
    }
   ],
   "source": [
    "gss16_data.info()"
   ]
  },
  {
   "cell_type": "code",
   "execution_count": 12,
   "metadata": {},
   "outputs": [
    {
     "data": {
      "text/html": [
       "<div>\n",
       "<style scoped>\n",
       "    .dataframe tbody tr th:only-of-type {\n",
       "        vertical-align: middle;\n",
       "    }\n",
       "\n",
       "    .dataframe tbody tr th {\n",
       "        vertical-align: top;\n",
       "    }\n",
       "\n",
       "    .dataframe thead th {\n",
       "        text-align: right;\n",
       "    }\n",
       "</style>\n",
       "<table border=\"1\" class=\"dataframe\">\n",
       "  <thead>\n",
       "    <tr style=\"text-align: right;\">\n",
       "      <th></th>\n",
       "      <th>harass5</th>\n",
       "      <th>emailmin</th>\n",
       "      <th>emailhr</th>\n",
       "      <th>educ</th>\n",
       "      <th>polviews</th>\n",
       "      <th>advfront</th>\n",
       "      <th>snapchat</th>\n",
       "      <th>instagrm</th>\n",
       "      <th>wrkstat</th>\n",
       "    </tr>\n",
       "  </thead>\n",
       "  <tbody>\n",
       "    <tr>\n",
       "      <th>0</th>\n",
       "      <td>NaN</td>\n",
       "      <td>0.0</td>\n",
       "      <td>12.0</td>\n",
       "      <td>16.0</td>\n",
       "      <td>Moderate</td>\n",
       "      <td>Strongly agree</td>\n",
       "      <td>NaN</td>\n",
       "      <td>NaN</td>\n",
       "      <td>Working fulltime</td>\n",
       "    </tr>\n",
       "    <tr>\n",
       "      <th>1</th>\n",
       "      <td>NaN</td>\n",
       "      <td>30.0</td>\n",
       "      <td>0.0</td>\n",
       "      <td>12.0</td>\n",
       "      <td>Liberal</td>\n",
       "      <td>Disagree</td>\n",
       "      <td>No</td>\n",
       "      <td>No</td>\n",
       "      <td>Working fulltime</td>\n",
       "    </tr>\n",
       "    <tr>\n",
       "      <th>2</th>\n",
       "      <td>No</td>\n",
       "      <td>NaN</td>\n",
       "      <td>NaN</td>\n",
       "      <td>16.0</td>\n",
       "      <td>Conservative</td>\n",
       "      <td>NaN</td>\n",
       "      <td>No</td>\n",
       "      <td>No</td>\n",
       "      <td>Retired</td>\n",
       "    </tr>\n",
       "    <tr>\n",
       "      <th>3</th>\n",
       "      <td>NaN</td>\n",
       "      <td>10.0</td>\n",
       "      <td>0.0</td>\n",
       "      <td>12.0</td>\n",
       "      <td>Moderate</td>\n",
       "      <td>Disagree</td>\n",
       "      <td>NaN</td>\n",
       "      <td>NaN</td>\n",
       "      <td>Working parttime</td>\n",
       "    </tr>\n",
       "    <tr>\n",
       "      <th>4</th>\n",
       "      <td>No</td>\n",
       "      <td>NaN</td>\n",
       "      <td>NaN</td>\n",
       "      <td>18.0</td>\n",
       "      <td>Slightly liberal</td>\n",
       "      <td>NaN</td>\n",
       "      <td>Yes</td>\n",
       "      <td>Yes</td>\n",
       "      <td>Working parttime</td>\n",
       "    </tr>\n",
       "  </tbody>\n",
       "</table>\n",
       "</div>"
      ],
      "text/plain": [
       "  harass5  emailmin  emailhr  educ          polviews        advfront snapchat   \n",
       "0     NaN       0.0     12.0  16.0          Moderate  Strongly agree      NaN  \\\n",
       "1     NaN      30.0      0.0  12.0           Liberal        Disagree       No   \n",
       "2      No       NaN      NaN  16.0      Conservative             NaN       No   \n",
       "3     NaN      10.0      0.0  12.0          Moderate        Disagree      NaN   \n",
       "4      No       NaN      NaN  18.0  Slightly liberal             NaN      Yes   \n",
       "\n",
       "  instagrm           wrkstat  \n",
       "0      NaN  Working fulltime  \n",
       "1       No  Working fulltime  \n",
       "2       No           Retired  \n",
       "3      NaN  Working parttime  \n",
       "4      Yes  Working parttime  "
      ]
     },
     "execution_count": 12,
     "metadata": {},
     "output_type": "execute_result"
    }
   ],
   "source": [
    "gss16_data.head()"
   ]
  },
  {
   "cell_type": "code",
   "execution_count": 13,
   "metadata": {},
   "outputs": [],
   "source": [
    "gss16_data.dropna(subset=['emailmin', 'emailhr'], inplace=True)"
   ]
  },
  {
   "cell_type": "code",
   "execution_count": 14,
   "metadata": {},
   "outputs": [],
   "source": [
    "gss16_data['email_time'] = gss16_data['emailhr'] * 60 + gss16_data['emailmin']"
   ]
  },
  {
   "cell_type": "code",
   "execution_count": 16,
   "metadata": {},
   "outputs": [],
   "source": [
    "max_email_time = gss16_data['email_time'].max()\n",
    "min_email_time = gss16_data['email_time'].min()\n",
    "gss16_data['email_time_center'] = (gss16_data['email_time'] - min_email_time) / (max_email_time - min_email_time)"
   ]
  },
  {
   "cell_type": "code",
   "execution_count": 17,
   "metadata": {},
   "outputs": [
    {
     "data": {
      "text/plain": [
       "0       0.120000\n",
       "1       0.005000\n",
       "3       0.001667\n",
       "5       0.020000\n",
       "6       0.400000\n",
       "          ...   \n",
       "2860    0.010000\n",
       "2862    0.200000\n",
       "2863    0.020000\n",
       "2864    0.000000\n",
       "2865    0.010000\n",
       "Name: email_time_center, Length: 1649, dtype: float64"
      ]
     },
     "execution_count": 17,
     "metadata": {},
     "output_type": "execute_result"
    }
   ],
   "source": [
    "gss16_data['email_time_center']"
   ]
  },
  {
   "cell_type": "code",
   "execution_count": 19,
   "metadata": {},
   "outputs": [],
   "source": [
    "max_educ = gss16_data['educ'].max()\n",
    "min_educ = gss16_data['educ'].min()\n",
    "gss16_data['educ_center'] = (gss16_data['educ'] - min_educ) / (max_educ - min_educ)"
   ]
  },
  {
   "cell_type": "code",
   "execution_count": 20,
   "metadata": {},
   "outputs": [
    {
     "data": {
      "text/plain": [
       "0       0.777778\n",
       "1       0.555556\n",
       "3       0.555556\n",
       "5       0.666667\n",
       "6       0.666667\n",
       "          ...   \n",
       "2860    0.611111\n",
       "2862    1.000000\n",
       "2863    0.722222\n",
       "2864    0.666667\n",
       "2865    0.666667\n",
       "Name: educ_center, Length: 1649, dtype: float64"
      ]
     },
     "execution_count": 20,
     "metadata": {},
     "output_type": "execute_result"
    }
   ],
   "source": [
    "gss16_data['educ_center']"
   ]
  },
  {
   "cell_type": "code",
   "execution_count": null,
   "metadata": {},
   "outputs": [],
   "source": []
  }
 ],
 "metadata": {
  "kernelspec": {
   "display_name": "venv",
   "language": "python",
   "name": "python3"
  },
  "language_info": {
   "codemirror_mode": {
    "name": "ipython",
    "version": 3
   },
   "file_extension": ".py",
   "mimetype": "text/x-python",
   "name": "python",
   "nbconvert_exporter": "python",
   "pygments_lexer": "ipython3",
   "version": "3.10.10"
  },
  "orig_nbformat": 4
 },
 "nbformat": 4,
 "nbformat_minor": 2
}
