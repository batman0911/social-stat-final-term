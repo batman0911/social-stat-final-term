{
 "cells": [
  {
   "cell_type": "markdown",
   "metadata": {},
   "source": [
    "# Social stat"
   ]
  },
  {
   "cell_type": "markdown",
   "metadata": {},
   "source": [
    "## Cơ sở lý thuyết"
   ]
  },
  {
   "cell_type": "markdown",
   "metadata": {},
   "source": [
    "Import các thư viện cần thiết"
   ]
  },
  {
   "cell_type": "code",
   "execution_count": 33,
   "outputs": [],
   "source": [
    "import copy\n",
    "import pyreadr\n",
    "import pandas as pd\n",
    "import numpy as np\n",
    "import matplotlib.pyplot as plt\n",
    "from sklearn.metrics import mean_squared_error, r2_score\n",
    "from sklearn.model_selection import train_test_split\n",
    "import statsmodels as stm\n",
    "import torch \n",
    "import torch.nn as nn \n",
    "import torch.optim as optim\n",
    "import tqdm"
   ],
   "metadata": {
    "collapsed": false,
    "ExecuteTime": {
     "end_time": "2023-08-14T13:03:19.561202882Z",
     "start_time": "2023-08-14T13:03:19.525706391Z"
    }
   }
  },
  {
   "cell_type": "markdown",
   "metadata": {},
   "source": [
    "## Thống kê mô tả dữ liệu\n",
    "<!-- Thống kê mô tả dữ liệu -->"
   ]
  },
  {
   "cell_type": "markdown",
   "metadata": {},
   "source": [
    "## Tiền xử lý dữ liệu\n",
    "<!-- Phát hiện outlier -->"
   ]
  },
  {
   "cell_type": "markdown",
   "source": [
    "Đọc dữ liệu"
   ],
   "metadata": {
    "collapsed": false
   }
  },
  {
   "cell_type": "code",
   "execution_count": 34,
   "metadata": {
    "vscode": {
     "languageId": "plaintext"
    },
    "ExecuteTime": {
     "end_time": "2023-08-14T13:03:19.804499064Z",
     "start_time": "2023-08-14T13:03:19.529319428Z"
    }
   },
   "outputs": [
    {
     "name": "stdout",
     "output_type": "stream",
     "text": [
      "<class 'pandas.core.frame.DataFrame'>\n",
      "RangeIndex: 2867 entries, 0 to 2866\n",
      "Data columns (total 9 columns):\n",
      " #   Column    Non-Null Count  Dtype  \n",
      "---  ------    --------------  -----  \n",
      " 0   harass5   1469 non-null   object \n",
      " 1   emailmin  1649 non-null   float64\n",
      " 2   emailhr   1649 non-null   float64\n",
      " 3   educ      2858 non-null   float64\n",
      " 4   polviews  2756 non-null   object \n",
      " 5   advfront  1385 non-null   object \n",
      " 6   snapchat  1372 non-null   object \n",
      " 7   instagrm  1372 non-null   object \n",
      " 8   wrkstat   2864 non-null   object \n",
      "dtypes: float64(3), object(6)\n",
      "memory usage: 201.7+ KB\n",
      "None\n",
      "  harass5  emailmin  emailhr  educ          polviews        advfront snapchat   \n",
      "0     NaN       0.0     12.0  16.0          Moderate  Strongly agree      NaN  \\\n",
      "1     NaN      30.0      0.0  12.0           Liberal        Disagree       No   \n",
      "2      No       NaN      NaN  16.0      Conservative             NaN       No   \n",
      "3     NaN      10.0      0.0  12.0          Moderate        Disagree      NaN   \n",
      "4      No       NaN      NaN  18.0  Slightly liberal             NaN      Yes   \n",
      "\n",
      "  instagrm           wrkstat  \n",
      "0      NaN  Working fulltime  \n",
      "1       No  Working fulltime  \n",
      "2       No           Retired  \n",
      "3      NaN  Working parttime  \n",
      "4      Yes  Working parttime  \n"
     ]
    }
   ],
   "source": [
    "df = pyreadr.read_r('./data/gss16.rda')\n",
    "gss16_data = df['gss16']\n",
    "print(gss16_data.info())\n",
    "print(gss16_data.head())"
   ]
  },
  {
   "cell_type": "markdown",
   "source": [],
   "metadata": {
    "collapsed": false
   }
  },
  {
   "cell_type": "code",
   "execution_count": 35,
   "outputs": [
    {
     "name": "stdout",
     "output_type": "stream",
     "text": [
      "cat na: harass5     1218\n",
      "polviews      55\n",
      "advfront     433\n",
      "snapchat     969\n",
      "instagrm     969\n",
      "wrkstat        1\n",
      "dtype: int64\n",
      "cat fill na: harass5     0\n",
      "polviews    0\n",
      "advfront    0\n",
      "snapchat    0\n",
      "instagrm    0\n",
      "wrkstat     0\n",
      "dtype: int64\n",
      "<class 'pandas.core.frame.DataFrame'>\n",
      "Index: 1649 entries, 0 to 2865\n",
      "Data columns (total 6 columns):\n",
      " #   Column    Non-Null Count  Dtype \n",
      "---  ------    --------------  ----- \n",
      " 0   harass5   431 non-null    object\n",
      " 1   polviews  1594 non-null   object\n",
      " 2   advfront  1216 non-null   object\n",
      " 3   snapchat  680 non-null    object\n",
      " 4   instagrm  680 non-null    object\n",
      " 5   wrkstat   1648 non-null   object\n",
      "dtypes: object(6)\n",
      "memory usage: 90.2+ KB\n",
      "None\n",
      "<class 'pandas.core.frame.DataFrame'>\n",
      "Index: 1649 entries, 0 to 2865\n",
      "Data columns (total 3 columns):\n",
      " #   Column    Non-Null Count  Dtype  \n",
      "---  ------    --------------  -----  \n",
      " 0   emailmin  1649 non-null   float64\n",
      " 1   emailhr   1649 non-null   float64\n",
      " 2   educ      1649 non-null   float64\n",
      "dtypes: float64(3)\n",
      "memory usage: 51.5 KB\n",
      "None\n"
     ]
    }
   ],
   "source": [
    "gss16_data.dropna(subset=['emailmin', 'emailhr'], inplace=True)\n",
    "gss16_data['educ'].fillna(gss16_data['educ'].mean(), inplace = True)\n",
    "\n",
    "col_num = ['emailmin', 'emailhr', 'educ']\n",
    "col_cat = ['harass5', 'polviews', 'advfront', 'snapchat', 'instagrm', 'wrkstat']\n",
    "\n",
    "df_cat = gss16_data[gss16_data.columns.intersection(col_cat)]\n",
    "df_num = gss16_data[gss16_data.columns.intersection(col_num)]\n",
    "df_cat_fill = df_cat.fillna('unknown')\n",
    "\n",
    "print(f'cat na: {df_cat.isna().sum()}')\n",
    "print(f'cat fill na: {df_cat_fill.isna().sum()}')\n",
    "\n",
    "print(df_cat.info())\n",
    "print(df_num.info())"
   ],
   "metadata": {
    "collapsed": false,
    "ExecuteTime": {
     "end_time": "2023-08-14T13:03:19.825215470Z",
     "start_time": "2023-08-14T13:03:19.551341245Z"
    }
   }
  },
  {
   "cell_type": "code",
   "execution_count": 36,
   "outputs": [
    {
     "name": "stderr",
     "output_type": "stream",
     "text": [
      "/tmp/ipykernel_65744/711746736.py:1: SettingWithCopyWarning: \n",
      "A value is trying to be set on a copy of a slice from a DataFrame.\n",
      "Try using .loc[row_indexer,col_indexer] = value instead\n",
      "\n",
      "See the caveats in the documentation: https://pandas.pydata.org/pandas-docs/stable/user_guide/indexing.html#returning-a-view-versus-a-copy\n",
      "  df_num['email_time'] = df_num['emailhr'] * 60 + df_num['emailmin']\n",
      "/tmp/ipykernel_65744/711746736.py:5: SettingWithCopyWarning: \n",
      "A value is trying to be set on a copy of a slice from a DataFrame.\n",
      "Try using .loc[row_indexer,col_indexer] = value instead\n",
      "\n",
      "See the caveats in the documentation: https://pandas.pydata.org/pandas-docs/stable/user_guide/indexing.html#returning-a-view-versus-a-copy\n",
      "  df_num['email_time_center'] = (df_num['email_time'] - min_email_time) / (max_email_time - min_email_time)\n"
     ]
    }
   ],
   "source": [
    "df_num['email_time'] = df_num['emailhr'] * 60 + df_num['emailmin']\n",
    "\n",
    "max_email_time = df_num['email_time'].max()\n",
    "min_email_time = df_num['email_time'].min()\n",
    "df_num['email_time_center'] = (df_num['email_time'] - min_email_time) / (max_email_time - min_email_time)"
   ],
   "metadata": {
    "collapsed": false,
    "ExecuteTime": {
     "end_time": "2023-08-14T13:03:19.825583214Z",
     "start_time": "2023-08-14T13:03:19.608848940Z"
    }
   }
  },
  {
   "cell_type": "code",
   "execution_count": 37,
   "outputs": [
    {
     "name": "stderr",
     "output_type": "stream",
     "text": [
      "/tmp/ipykernel_65744/3923756970.py:3: SettingWithCopyWarning: \n",
      "A value is trying to be set on a copy of a slice from a DataFrame.\n",
      "Try using .loc[row_indexer,col_indexer] = value instead\n",
      "\n",
      "See the caveats in the documentation: https://pandas.pydata.org/pandas-docs/stable/user_guide/indexing.html#returning-a-view-versus-a-copy\n",
      "  df_num['educ_center'] = (df_num['educ'] - min_educ) / (max_educ - min_educ)\n"
     ]
    }
   ],
   "source": [
    "max_educ = df_num['educ'].max()\n",
    "min_educ = df_num['educ'].min()\n",
    "df_num['educ_center'] = (df_num['educ'] - min_educ) / (max_educ - min_educ)"
   ],
   "metadata": {
    "collapsed": false,
    "ExecuteTime": {
     "end_time": "2023-08-14T13:03:19.825799449Z",
     "start_time": "2023-08-14T13:03:19.609049109Z"
    }
   }
  },
  {
   "cell_type": "markdown",
   "source": [
    "Ghi các tập dữ liệu đã tiền xử lý ra file. Trong đó X, X_fill và y lần lượt là tập đầu vào không coi NaN là một thuộc tính, tập đầu vào coi NaN là thuộc tính (\"unlnown\"), tập đầu ra"
   ],
   "metadata": {
    "collapsed": false
   }
  },
  {
   "cell_type": "code",
   "execution_count": 38,
   "outputs": [],
   "source": [
    "df_cat_dum = pd.get_dummies(df_cat, dtype=int)\n",
    "df_cat_fill_dum = pd.get_dummies(df_cat_fill, dtype=int)\n",
    "\n",
    "df_num.to_csv('./data/preprocessing/gss16_number_columns', index=False)\n",
    "df_cat_dum.to_csv('./data/preprocessing/gss16_dummies_column', index=False)\n",
    "df_cat_fill_dum.to_csv('./data/preprocessing/gss16_dummies_column_fillna', index=False)\n",
    "\n",
    "X = pd.concat([df_num['educ_center'], df_cat_dum], axis=1)\n",
    "X_fill = pd.concat([df_num['educ_center'], df_cat_fill_dum], axis=1)\n",
    "y = df_num['email_time_center']\n",
    "\n",
    "X.to_csv('./data/preprocessing/X.csv', index=False)\n",
    "X_fill.to_csv('./data/preprocessing/X_fill.csv', index=False)\n",
    "y.to_csv('./data/preprocessing/y.csv', index=False)"
   ],
   "metadata": {
    "collapsed": false,
    "ExecuteTime": {
     "end_time": "2023-08-14T13:03:19.826197377Z",
     "start_time": "2023-08-14T13:03:19.609125095Z"
    }
   }
  },
  {
   "cell_type": "markdown",
   "source": [
    "Chia tập train, test với tỉ lệ 80/20, cố định `random_state = 42`"
   ],
   "metadata": {
    "collapsed": false
   }
  },
  {
   "cell_type": "code",
   "execution_count": 39,
   "outputs": [],
   "source": [
    "X_train, X_test, y_train, y_test = train_test_split(X_fill, y, test_size=0.2, random_state=42)"
   ],
   "metadata": {
    "collapsed": false,
    "ExecuteTime": {
     "end_time": "2023-08-14T13:03:19.826300776Z",
     "start_time": "2023-08-14T13:03:19.652837870Z"
    }
   }
  },
  {
   "cell_type": "markdown",
   "metadata": {},
   "source": [
    "## Các mô hình tuyến tính"
   ]
  },
  {
   "cell_type": "markdown",
   "metadata": {},
   "source": [
    "### Mô hình GLM "
   ]
  },
  {
   "cell_type": "markdown",
   "metadata": {},
   "source": [
    "### Mô hình GAM"
   ]
  },
  {
   "cell_type": "markdown",
   "metadata": {},
   "source": [
    "### Mô hình GLM với penalty"
   ]
  },
  {
   "cell_type": "markdown",
   "metadata": {},
   "source": [
    "### Mô hình GLM với Bayes"
   ]
  },
  {
   "cell_type": "markdown",
   "metadata": {},
   "source": [
    "### Mô hình Random forest"
   ]
  },
  {
   "cell_type": "markdown",
   "metadata": {},
   "source": [
    "### Mô hình Deep Learning \n",
    "Phần này sử dụng một mạng neural network đơn giản để fit mô hình. "
   ]
  },
  {
   "cell_type": "code",
   "execution_count": 40,
   "outputs": [
    {
     "data": {
      "text/plain": "True"
     },
     "execution_count": 40,
     "metadata": {},
     "output_type": "execute_result"
    }
   ],
   "source": [
    "torch.cuda.is_available()"
   ],
   "metadata": {
    "collapsed": false,
    "ExecuteTime": {
     "end_time": "2023-08-14T13:03:19.826495824Z",
     "start_time": "2023-08-14T13:03:19.652973025Z"
    }
   }
  },
  {
   "cell_type": "markdown",
   "source": [
    "Định nghĩa mô hình và thuật toán tối ưu. \n",
    "Mạng gồm 2 hidden layers.\n",
    "Loss function sử dụng là hàm Mean Square Error.\n",
    "Thuật toán tối ưu là thuật toán Adam với learning rate 0.0001"
   ],
   "metadata": {
    "collapsed": false
   }
  },
  {
   "cell_type": "code",
   "execution_count": 41,
   "outputs": [],
   "source": [
    "model = nn.Sequential(\n",
    "  nn.Linear(34, 64),\n",
    "  nn.ReLU(),\n",
    "  nn.Linear(64, 32),\n",
    "  nn.Sigmoid(),\n",
    "  nn.Linear(32, 1)\n",
    ")\n",
    "\n",
    "loss_fn = nn.MSELoss()\n",
    "optimizer = optim.Adam(model.parameters(), lr=0.0001)"
   ],
   "metadata": {
    "collapsed": false,
    "ExecuteTime": {
     "end_time": "2023-08-14T13:03:19.826581766Z",
     "start_time": "2023-08-14T13:03:19.653041352Z"
    }
   }
  },
  {
   "cell_type": "markdown",
   "source": [
    "Đưa dữ liệu vào vRAM của GPU"
   ],
   "metadata": {
    "collapsed": false
   }
  },
  {
   "cell_type": "code",
   "execution_count": 42,
   "outputs": [],
   "source": [
    "X_train = torch.tensor(X_train.to_numpy(), dtype=torch.float32)\n",
    "y_train = torch.tensor(y_train.to_numpy(), dtype=torch.float32).reshape(-1, 1)\n",
    "X_test = torch.tensor(X_test.to_numpy(), dtype=torch.float32)\n",
    "y_test = torch.tensor(y_test.to_numpy(), dtype=torch.float32).reshape(-1, 1)"
   ],
   "metadata": {
    "collapsed": false,
    "ExecuteTime": {
     "end_time": "2023-08-14T13:03:19.826669636Z",
     "start_time": "2023-08-14T13:03:19.653098892Z"
    }
   }
  },
  {
   "cell_type": "markdown",
   "source": [
    "Các tham số cơ bản"
   ],
   "metadata": {
    "collapsed": false
   }
  },
  {
   "cell_type": "code",
   "execution_count": 43,
   "outputs": [],
   "source": [
    "# training parameters\n",
    "n_epochs = 100   # number of epochs to run\n",
    "batch_size = 10  # size of each batch\n",
    "batch_start = torch.arange(0, len(X_train), batch_size)\n",
    "\n",
    "# Hold the best model\n",
    "best_mse = np.inf   # init to infinity\n",
    "best_weights = None\n",
    "history = []\n",
    "early_stopping_epoches = 10"
   ],
   "metadata": {
    "collapsed": false,
    "ExecuteTime": {
     "end_time": "2023-08-14T13:03:19.826755375Z",
     "start_time": "2023-08-14T13:03:19.653207728Z"
    }
   }
  },
  {
   "cell_type": "markdown",
   "source": [
    "Huấn luyện mô hình"
   ],
   "metadata": {
    "collapsed": false
   }
  },
  {
   "cell_type": "code",
   "execution_count": 44,
   "outputs": [
    {
     "name": "stdout",
     "output_type": "stream",
     "text": [
      "process epoch: 0\n",
      "complete epoch 0 with mse 0.014326960779726505\n",
      "process epoch: 1\n",
      "complete epoch 1 with mse 0.014125876128673553\n",
      "process epoch: 2\n",
      "complete epoch 2 with mse 0.013956520706415176\n",
      "process epoch: 3\n",
      "complete epoch 3 with mse 0.013820012100040913\n",
      "process epoch: 4\n",
      "complete epoch 4 with mse 0.013713710941374302\n",
      "process epoch: 5\n",
      "complete epoch 5 with mse 0.013633067719638348\n",
      "process epoch: 6\n",
      "complete epoch 6 with mse 0.01357328798621893\n",
      "process epoch: 7\n",
      "complete epoch 7 with mse 0.013529235497117043\n",
      "process epoch: 8\n",
      "complete epoch 8 with mse 0.013493734411895275\n",
      "process epoch: 9\n",
      "complete epoch 9 with mse 0.013466090895235538\n",
      "process epoch: 10\n",
      "complete epoch 10 with mse 0.013443461619317532\n",
      "process epoch: 11\n",
      "complete epoch 11 with mse 0.013423372060060501\n",
      "process epoch: 12\n",
      "complete epoch 12 with mse 0.013405011035501957\n",
      "process epoch: 13\n",
      "complete epoch 13 with mse 0.013388932682573795\n",
      "process epoch: 14\n",
      "complete epoch 14 with mse 0.013374043628573418\n",
      "process epoch: 15\n",
      "complete epoch 15 with mse 0.013362221419811249\n",
      "process epoch: 16\n",
      "complete epoch 16 with mse 0.013349857181310654\n",
      "process epoch: 17\n",
      "complete epoch 17 with mse 0.013339118100702763\n",
      "process epoch: 18\n",
      "complete epoch 18 with mse 0.013329233042895794\n",
      "process epoch: 19\n",
      "complete epoch 19 with mse 0.013318140059709549\n",
      "process epoch: 20\n",
      "complete epoch 20 with mse 0.013308955356478691\n",
      "process epoch: 21\n",
      "complete epoch 21 with mse 0.013300832360982895\n",
      "process epoch: 22\n",
      "complete epoch 22 with mse 0.013294086791574955\n",
      "process epoch: 23\n",
      "complete epoch 23 with mse 0.013286087661981583\n",
      "process epoch: 24\n",
      "complete epoch 24 with mse 0.013279825448989868\n",
      "process epoch: 25\n",
      "complete epoch 25 with mse 0.013274376280605793\n",
      "process epoch: 26\n",
      "complete epoch 26 with mse 0.013269693590700626\n",
      "process epoch: 27\n",
      "complete epoch 27 with mse 0.013264546170830727\n",
      "process epoch: 28\n",
      "complete epoch 28 with mse 0.013262814842164516\n",
      "process epoch: 29\n",
      "complete epoch 29 with mse 0.013258874416351318\n",
      "process epoch: 30\n",
      "complete epoch 30 with mse 0.013255522586405277\n",
      "process epoch: 31\n",
      "complete epoch 31 with mse 0.013254404067993164\n",
      "process epoch: 32\n",
      "complete epoch 32 with mse 0.013252339325845242\n",
      "process epoch: 33\n",
      "complete epoch 33 with mse 0.01325159054249525\n",
      "process epoch: 34\n",
      "complete epoch 34 with mse 0.013249779120087624\n",
      "process epoch: 35\n",
      "complete epoch 35 with mse 0.013249321840703487\n",
      "process epoch: 36\n",
      "complete epoch 36 with mse 0.013247949071228504\n",
      "process epoch: 37\n",
      "complete epoch 37 with mse 0.013249202631413937\n",
      "process epoch: 38\n",
      "complete epoch 38 with mse 0.013251064345240593\n",
      "process epoch: 39\n",
      "complete epoch 39 with mse 0.013250313699245453\n",
      "process epoch: 40\n",
      "complete epoch 40 with mse 0.013251650147140026\n",
      "process epoch: 41\n",
      "complete epoch 41 with mse 0.013254489749670029\n",
      "process epoch: 42\n",
      "complete epoch 42 with mse 0.01325810607522726\n",
      "process epoch: 43\n",
      "complete epoch 43 with mse 0.013260545209050179\n",
      "process epoch: 44\n",
      "complete epoch 44 with mse 0.013264414854347706\n",
      "process epoch: 45\n",
      "complete epoch 45 with mse 0.013267132453620434\n",
      "process epoch: 46\n",
      "complete epoch 46 with mse 0.01327139139175415\n",
      "process epoch: 47\n",
      "complete epoch 47 with mse 0.013276280835270882\n",
      "early stopping\n"
     ]
    }
   ],
   "source": [
    "# training loop\n",
    "early = 0\n",
    "for epoch in range(n_epochs):\n",
    "    print(f'process epoch: {epoch}')\n",
    "    model.train()\n",
    "    with tqdm.tqdm(batch_start, unit=\"batch\", mininterval=0, disable=True) as bar:\n",
    "        bar.set_description(f\"Epoch {epoch}\")\n",
    "        for start in bar:\n",
    "            # take a batch\n",
    "            X_batch = X_train[start:start+batch_size]\n",
    "            y_batch = y_train[start:start+batch_size]\n",
    "            # forward pass\n",
    "            y_pred = model(X_batch)\n",
    "            loss = loss_fn(y_pred, y_batch)\n",
    "            # backward pass\n",
    "            optimizer.zero_grad()\n",
    "            loss.backward()\n",
    "            # update weights\n",
    "            optimizer.step()\n",
    "            # print progress\n",
    "            bar.set_postfix(mse=float(loss))\n",
    "    # evaluate accuracy at end of each epoch\n",
    "    model.eval()\n",
    "    y_pred = model(X_test)\n",
    "    mse = loss_fn(y_pred, y_test)\n",
    "    mse = float(mse)\n",
    "    history.append(mse)\n",
    "    \n",
    "    print(f'complete epoch {epoch} with mse {mse}')\n",
    "    if mse > best_mse:\n",
    "        early += 1\n",
    "        if early > early_stopping_epoches:\n",
    "            print(f'early stopping')\n",
    "            break\n",
    "    \n",
    "    if mse < best_mse:\n",
    "        best_mse = mse\n",
    "        best_weights = copy.deepcopy(model.state_dict())"
   ],
   "metadata": {
    "collapsed": false,
    "ExecuteTime": {
     "end_time": "2023-08-14T13:03:25.530241711Z",
     "start_time": "2023-08-14T13:03:19.696919345Z"
    }
   }
  },
  {
   "cell_type": "markdown",
   "source": [
    "Vẽ đồ thị loss function theo epoch"
   ],
   "metadata": {
    "collapsed": false
   }
  },
  {
   "cell_type": "code",
   "execution_count": 45,
   "outputs": [
    {
     "data": {
      "text/plain": "<Figure size 640x480 with 1 Axes>",
      "image/png": "[encoded data removed]"
     },
     "metadata": {},
     "output_type": "display_data"
    }
   ],
   "source": [
    "# restore model and return best accuracy\n",
    "model.load_state_dict(best_weights)\n",
    "plt.xlabel('epoch')\n",
    "plt.ylabel('loss')\n",
    "plt.title('loss by epoch')\n",
    "plt.plot(history)\n",
    "plt.show()"
   ],
   "metadata": {
    "collapsed": false,
    "ExecuteTime": {
     "end_time": "2023-08-14T13:03:25.616878739Z",
     "start_time": "2023-08-14T13:03:25.530870231Z"
    }
   }
  },
  {
   "cell_type": "markdown",
   "source": [
    "In ra các độ đo"
   ],
   "metadata": {
    "collapsed": false
   }
  },
  {
   "cell_type": "code",
   "execution_count": 46,
   "outputs": [
    {
     "name": "stdout",
     "output_type": "stream",
     "text": [
      "MSE: 0.013247950933873653\n",
      "RMSE: 0.11509974300861359\n",
      "R2: 0.07854985973329653\n"
     ]
    }
   ],
   "source": [
    "y_pred = model(X_test)\n",
    "y_pred_df = pd.DataFrame(y_pred.detach().numpy())\n",
    "y_test_df = pd.DataFrame(y_test.detach().numpy())\n",
    "\n",
    "mse = mean_squared_error(y_test_df, y_pred_df)\n",
    "r2 = r2_score(y_test_df, y_pred_df)\n",
    "\n",
    "print(f'MSE: {mse}')\n",
    "print(f'RMSE: {np.sqrt(mse)}')\n",
    "print(f'R2: {r2}')"
   ],
   "metadata": {
    "collapsed": false,
    "ExecuteTime": {
     "end_time": "2023-08-14T13:03:25.625675764Z",
     "start_time": "2023-08-14T13:03:25.617386337Z"
    }
   }
  }
 ],
 "metadata": {
  "language_info": {
   "name": "python"
  },
  "orig_nbformat": 4,
  "kernelspec": {
   "name": "python3",
   "language": "python",
   "display_name": "Python 3 (ipykernel)"
  }
 },
 "nbformat": 4,
 "nbformat_minor": 2
}
