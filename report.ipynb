{
 "cells": [
  {
   "cell_type": "markdown",
   "metadata": {},
   "source": [
    "# Social stat"
   ]
  },
  {
   "cell_type": "markdown",
   "metadata": {},
   "source": [
    "## Cơ sở lý thuyết"
   ]
  },
  {
   "cell_type": "markdown",
   "source": [
    "**Giới thiệu về dữ liệu**\n",
    "\n",
    "Dữ liệu từ Điều tra xã hội chung 2016 (GSS16) Sự miêu tả GSS thu thập dữ\n",
    "liệu về xã hội Mỹ đương đại để theo dõi và giải thích các xu hướng và\n",
    "hằng số về thái độ, hành vi và thuộc tính. Hàng trăm xu hướng đã được\n",
    "theo dõi kể từ năm 1972. Ngoài ra, kể từ khi GSS áp dụng các câu hỏi từ\n",
    "các cuộc khảo sát trước đó, các xu hướng có thể được theo dõi trong tối\n",
    "đa 70 năm. GSS chứa cốt lõi tiêu chuẩn gồm các câu hỏi về nhân khẩu học,\n",
    "hành vi và thái độ, cộng với các chủ đề được quan tâm đặc biệt. Trong số\n",
    "các chủ đề được đề cập là quyền tự do dân sự, tội phạm và bạo lực, lòng\n",
    "khoan dung giữa các nhóm, đạo đức, ưu tiên chi tiêu quốc gia, sức khỏe\n",
    "tâm lý, tính di động xã hội, căng thẳng và các sự kiện đau buồn.\n",
    "\n",
    "Chi tiết Dữ liệu đến từ NORC tại Đại học Chicago. Dữ liệu đã được sửa\n",
    "đổi để phục vụ tốt hơn cho các mục tiêu giáo dục cơ bản về khoa học dữ\n",
    "liệu. Chỉ có 9 trong số 935 biến ban đầu được chọn cho tập dữ liệu này.\n",
    "\n",
    "Đối tượng nghiên cứu\n",
    "\n",
    "Trong nhiệm vụ này, chúng tôi phân tích dữ liệu từ GSS 2016, sử dụng nó\n",
    "để ước tính giá trị dân số các thông số quan tâm về người lớn ở Hoa Kỳ.\n",
    "Định dạng GSS16 chứa 2867 hàng và 9 cột.\n",
    "\n",
    "Các trường được sử dụng để nghiên cứu\n",
    "\n",
    "-   harass5: Trả lời câu hỏi \\\"Trong 5 năm qua, bạn có bị cấp trên hoặc\n",
    "    đồng nghiệp quấy rối tại nơi làm việc không, ví dụ, bạn có bị bắt\n",
    "    nạt, lạm dụng thể chất hoặc tâm lý không?\\\" Các câu trả lời có thể\n",
    "    là Có, Không và Không áp dụng.\n",
    "\n",
    "-   emalmin: Số thư điện tử Số phút dành cho email hàng tuần; thêm vào\n",
    "    số giờ trong emailhrs (ví dụ: emailmin = 30 trong 2,5 giờ trên\n",
    "    email).\n",
    "\n",
    "-   emailhr: thư điện tử Số giờ dành cho email hàng tuần.\n",
    "\n",
    "-   educ: Số năm đi học.\n",
    "\n",
    "-   polviews: Quan điểm chính trị. Trả lời câu hỏi \"Ngày nay chúng ta\n",
    "    nghe nói nhiều về phe tự do và phe bảo thủ. Tôi sẽ cho bạn thấy một\n",
    "    thang điểm bảy mà trên đó các quan điểm chính trị mà mọi người có\n",
    "    thể nắm giữ được sắp xếp từ cực kỳ tự do--điểm 1--đến cực kỳ bảo\n",
    "    thủ-- điểm 7. Bạn sẽ đặt mình ở đâu trên thang điểm này?\" Các câu\n",
    "    trả lời có thể là Cực kỳ tự do, Tự do, Hơi tự do, Trung bình, Hơi\n",
    "    bảo thủ, Bảo thủ, Cực kỳ bảo thủ.\n",
    "\n",
    "-   Advfront: Trả lời cho câu hỏi \\\"Ngay cả khi nó không mang lại lợi\n",
    "    ích ngay lập tức, nghiên cứu khoa học nhằm nâng cao tri thức là cần\n",
    "    thiết và cần được chính phủ liên bang hỗ trợ.\\\" Các câu trả lời có\n",
    "    thể là Rất đồng ý, Đồng ý, Không biết, Không đồng ý và Rất không\n",
    "    đồng ý.\n",
    "\n",
    "-   snapchat: người trả lời sẽ trả lời câu hỏi có sử dụng Snapchat hay\n",
    "    không.\n",
    "\n",
    "-   instagram: người trả lời sẽ trả lời câu hỏi có sử dụng Instagram hay\n",
    "    không.\n",
    "\n",
    "-   Wrkstat: Tình trạng công việc.\n",
    "\n",
    "**Phát biểu bài toán:**\n",
    "\n",
    "Bài toán được đặt ra để trả lời câu hỏi về mức độ sử dụng email dựa trên\n",
    "công việc; tần suất sử dụng một số mạng xã hội như Snapchat, Instagram;\n",
    "số năm đi học; quan điểm về chính trị, nghiên cứu khoa học; và việc có\n",
    "bị quấy rối, bắt nạt hay không.\n",
    "\n",
    "**Giới thiệu lý thuyết:**\n",
    "\n",
    "**Mô hình GLM (Generalized Linear Model)** là một họ các mô hình thống\n",
    "kê mạnh mẽ và linh hoạt được sử dụng để mô hình hóa mối quan hệ giữa\n",
    "biến phụ thuộc và các biến độc lập trong các tình huống không phải là\n",
    "phân phối chuẩn. GLM mở rộng mô hình hồi quy tuyến tính thông thường để\n",
    "bao gồm các phân phối khác và các hàm liên kết không tuyến tính để xác\n",
    "định mối quan hệ giữa biến phụ thuộc và biến độc lập.\n",
    "\n",
    "Mô hình GLM bao gồm ba thành phần chính:\n",
    "\n",
    "-   Hàm Liên kết (Link function): Đây là hàm xác định mối quan hệ giữa\n",
    "    giá trị kỳ vọng của biến phụ thuộc và tổng trọng số của biến độc\n",
    "    lập. Hàm liên kết cần phải là một hàm liên tục, đồng biến và có đạo\n",
    "    hàm.\n",
    "\n",
    "-   Phân phối (Distribution): Đây là phân phối xác định biểu diễn phân\n",
    "    phối của biến phụ thuộc. Các phân phối thường được sử dụng trong GLM\n",
    "    bao gồm phân phối Poisson (cho mô hình đếm), phân phối Gaussian (cho\n",
    "    mô hình hồi quy tuyến tính), phân phối Bernoulli (cho mô hình\n",
    "    logistic), và nhiều phân phối khác.\n",
    "\n",
    "-   Hàm liên hệ (Link function): Đây là một ánh xạ giữa giá trị kỳ vọng\n",
    "    của biến phụ thuộc và tổng trọng số của biến độc lập. Ví dụ, trong\n",
    "    mô hình hồi quy tuyến tính, hàm liên hệ thường là hàm đồng biến\n",
    "    (identity function) để duy trì mối quan hệ tuyến tính. Trong trường\n",
    "    hợp của mô hình logistic, hàm liên hệ là hàm logit.\n",
    "\n",
    "Mô hình GLM có thể được sử dụng cho nhiều loại dữ liệu và mục tiêu khác\n",
    "nhau, bao gồm:\n",
    "\n",
    "-   Hồi quy tuyến tính (Linear Regression): Sử dụng khi biến phụ thuộc\n",
    "    là liên tục và phân phối Gaussian.\n",
    "\n",
    "-   Hồi quy logistic (Logistic Regression): Sử dụng khi biến phụ thuộc\n",
    "    là nhị phân (0/1) và phân phối Bernoulli. Thường được sử dụng trong\n",
    "    dự đoán xác suất của một sự kiện.\n",
    "\n",
    "-   Hồi quy Poisson (Poisson Regression): Sử dụng khi biến phụ thuộc là\n",
    "    số lượng đếm và phân phối Poisson. Thường được sử dụng trong việc mô\n",
    "    hình hóa tần suất của các sự kiện.\n",
    "\n",
    "-   Hồi quy nhị thức âm (Negative Binomial Regression): Sử dụng khi biến\n",
    "    phụ thuộc là số lượng đếm và phân phối negative binomial. Thường\n",
    "    được sử dụng khi dữ liệu có phương sai không ổn định hơn so với phân\n",
    "    phối Poisson.\n",
    "\n",
    "**Lý thuyết Bayes Generalized Linear Model (Bayes GLM)** là một phương\n",
    "pháp thống kê kết hợp lý thuyết Bayes và mô hình tuyến tính tổng quát\n",
    "(Generalized Linear Model - GLM) để ước tính tham số và dự đoán trong mô\n",
    "hình tuyến tính mà đầu vào không phải là dữ liệu có phân phối chuẩn.\n",
    "\n",
    "Để hiểu rõ hơn về Bayes GLM, chúng ta cần nắm vững hai khái niệm chính:\n",
    "GLM và lý thuyết Bayes.\n",
    "\n",
    "Generalized Linear Model (GLM):\n",
    "\n",
    "Mô hình tuyến tính tổng quát (GLM) là một phương pháp cho phép xây dựng\n",
    "mô hình tuyến tính giữa biến phụ thuộc và một tập các biến độc lập,\n",
    "nhưng cho phép biến phụ thuộc không phải là một biến phân phối chuẩn.\n",
    "GLM bao gồm ba thành phần chính: hàm liên kết (link function), phân phối\n",
    "của biến phụ thuộc và hàm dự đoán.\n",
    "\n",
    "**Lý thuyết Bayes:**\n",
    "\n",
    "Lý thuyết Bayes là một lý thuyết trong xác suất thống kê dựa trên Định\n",
    "lý Bayes, giúp chúng ta cập nhật kiến thức về một sự kiện dựa trên dữ\n",
    "liệu mới. Lý thuyết Bayes thường sử dụng phân phối xác suất để thể hiện\n",
    "sự không chắc chắn và cập nhật kiến thức dựa trên dữ liệu.\n",
    "\n",
    "Khi kết hợp cả hai khái niệm này, Bayes GLM là một phương pháp ước tính\n",
    "tham số trong mô hình tuyến tính tổng quát bằng cách sử dụng lý thuyết\n",
    "Bayes. Thay vì sử dụng phương pháp cực đại hóa hàm hợp lý (Maximum\n",
    "Likelihood Estimation - MLE) như trong GLM truyền thống, Bayes GLM sử\n",
    "dụng phân phối xác suất a priori để mô tả sự không chắc chắn về các tham\n",
    "số mô hình. Khi có dữ liệu mới, phân phối a priori này sẽ được cập nhật\n",
    "thành phân phối hậu nghiệm (posterior distribution) dựa trên lý thuyết\n",
    "Bayes.\n",
    "\n",
    "Cách thức thực hiện Bayes GLM thường liên quan đến việc sử dụng phương\n",
    "pháp MCMC (Markov Chain Monte Carlo) để xấp xỉ phân phối hậu nghiệm.\n",
    "Điều này có thể phức tạp và đòi hỏi kiến thức sâu về xác suất thống kê\n",
    "và lập trình.\n",
    "\n",
    "**Hàm phạt trong các mô hình hồi quy**\n",
    "\n",
    "Trong các mô hình hồi quy, hàm phạt (regularization) được sử dụng để\n",
    "kiểm soát overfitting bằng cách thêm một thành phần phạt vào hàm mất\n",
    "mát. Hàm phạt giúp giảm thiểu các trọng số của mô hình, từ đó làm giảm\n",
    "sự phức tạp của mô hình và cân bằng giữa việc đánh đổi giữa sự khớp tốt\n",
    "với dữ liệu huấn luyện và khả năng tổng quát hóa cho dữ liệu mới. Hai\n",
    "hàm phạt phổ biến trong các mô hình hồi quy là Ridge và Lasso\n",
    "\n",
    "Ridge Regression (L2 Regularization): Trong Ridge Regression, một thành\n",
    "phần phạt được thêm vào hàm mất mát là tổng bình phương của các trọng số\n",
    "(hệ số) của mô hình. Biểu thức của hàm mất mát trong Ridge Regression\n",
    "là:\n",
    "\n",
    "$$J(\\theta) = Mất\\ mát\\ ban\\ đầu*\\ \\alpha*\\left\\| \\theta \\right\\|^{2}$$\n",
    "\n",
    "Trong đó:\n",
    "\n",
    "$J(\\theta)$: Hàm mất mát\n",
    "\n",
    "$\\alpha$: Tham số điều chỉnh mức độ phạt\n",
    "\n",
    "$\\theta$: Vector trọng số của mô hình hồi quy\n",
    "\n",
    "$\\left\\| \\theta \\right\\|^{2}$: Chuẩn L2 của vector trọng số\n",
    "\n",
    "**Lasso Regression (L1 Regularization)**: Lasso cũng thêm một thành phần\n",
    "phạt vào hàm mất mát, nhưng ở đây là tổng trị tuyệt đối của các trọng số\n",
    "của mô hình\n",
    "\n",
    "$$J(\\theta) = Mất\\ mát\\ ban\\ đầu*\\ \\alpha*\\left\\| \\theta \\right\\|_{1}$$\n",
    "\n",
    "Trong đó:\n",
    "\n",
    "$J(\\theta)$: Hàm mất mát\n",
    "\n",
    "$\\alpha$: Tham số điều chỉnh mức độ phạt\n",
    "\n",
    "$\\theta$: Vector trọng số của mô hình hồi quy\n",
    "\n",
    "$\\left\\| \\theta \\right\\|_{1}$: Chuẩn L1 của vector trọng số\n",
    "\n",
    "**Các metrics để đánh giá mô hình GLM**\n",
    "\n",
    "**Mean Squared Error (MSE)**: Đây là một trong những metric phổ biến\n",
    "nhất trong mô hình hồi quy. Nó tính toán trung bình của bình phương sai\n",
    "giữa giá trị dự đoán và giá trị thực tế\n",
    "\n",
    "Công thức:\n",
    "$MSE = \\ \\frac{1}{n}*\\sum_{}^{}{{(y}_{i} - \\ {\\widehat{y}}_{i})}^{2}$\n",
    "\n",
    "Trong đó:\n",
    "\n",
    "$n$: Số mẫu của dữ liệu\n",
    "\n",
    "$y_{i}$: Giá trị thực tế thứ i\n",
    "\n",
    "$\\widehat{y}$: Giá trị dự đoán của mô hình\n",
    "\n",
    "Đặc điểm của MSE:\n",
    "\n",
    "-   Giá trị MSE càng nhỏ, mô hình càng tốt vì nó cho biết các dự đoán dự\n",
    "    đoán gần với giá trị thực tế.\n",
    "\n",
    "-   MSE có thể bị ảnh hưởng bởi các giá trị ngoại lai (outliers) vì\n",
    "    chúng có thể gây ra sai số bình phương lớn.\n",
    "\n",
    "-   MSE không có đơn vị cụ thể vì nó được tính bằng bình phương của đơn\n",
    "    vị gốc (ví dụ, nếu dữ liệu đơn vị là đô la, thì MSE có đơn vị \\\"đô\n",
    "    la bình phương\\\").\n",
    "\n",
    "MSE thường được sử dụng cùng với các metric khác để đánh giá và so sánh\n",
    "mô hình hồi quy.\n",
    "\n",
    "**Root Mean Squared Error (RMSE)**: Đây là căn bậc hai của MSE và thường\n",
    "được sử dụng để đo lường sai số trung bình theo đơn vị gốc\n",
    "\n",
    "Công thức: $RMSE = \\ \\sqrt{MSE}$\n",
    "\n",
    "**Mean Absolute Error (MAE)**: MAE tính trung bình giá trị tuyệt đối của\n",
    "sai số giữa giá trị dự đoán và giá trị thực tế\n",
    "\n",
    "Công thức:\n",
    "$MAE = \\ \\frac{1}{n}*\\ \\sum_{}^{}\\left| {(y}_{i} - \\ {\\widehat{y}}_{i} \\right|$\n",
    "\n",
    "**Coefficient of Determination (R²):** R² đo lường mức độ biến thiên của\n",
    "biến phụ thuộc mà mô hình có thể giải thích. Giá trị R² nằm trong khoảng\n",
    "\\[0, 1\\], và giá trị càng gần 1 thì mô hình càng tốt:\n",
    "\n",
    "Công thức:\n",
    "$R^{2} = 1 - \\ \\left( \\frac{\\sum_{}^{}{{(y}_{i} - \\ {\\widehat{y}}_{i})}^{2}}{\\sum_{}^{}{{(y}_{i} - \\ \\overline{y})}^{2}} \\right)$\n",
    "\n",
    "Trong đó:\n",
    "\n",
    "$n$: Số mẫu của dữ liệu\n",
    "\n",
    "$y_{i}$: Giá trị thực tế thứ i\n",
    "\n",
    "${\\widehat{y}}_{i}$: Giá trị dự đoán của mô hình\n",
    "\n",
    "$\\overline{y}$: Giá trị trung bình của mô hình\n",
    "\n",
    "**Random Forest** là một thuật toán học máy dựa trên việc xây dựng nhiều\n",
    "cây quyết định (Decision Trees) độc lập và kết hợp kết quả từ các cây\n",
    "này để đưa ra dự đoán cuối cùng. Nó giúp cải thiện hiệu suất dự đoán và\n",
    "ổn định mô hình bằng cách giảm thiểu overfitting và tăng tính tổng quát\n",
    "hóa. Dưới đây là chi tiết về thuật toán Random Forest:\n",
    "\n",
    "-   Tạo dữ liệu mẫu (Bootstrapping): Để xây dựng mỗi cây quyết định\n",
    "    trong Random Forest, chúng ta sẽ tạo ra một tập dữ liệu mẫu từ tập\n",
    "    dữ liệu huấn luyện bằng cách lấy ngẫu nhiên và có thay thế các mẫu.\n",
    "    Quá trình này được gọi là bootstrapping.\n",
    "\n",
    "-   Xây dựng cây quyết định: Với mỗi tập dữ liệu mẫu, ta sẽ xây dựng một\n",
    "    cây quyết định độc lập bằng cách phân chia dữ liệu theo các thuộc\n",
    "    tính và giá trị để tối ưu hóa một hàm mục tiêu, thường là tối thiểu\n",
    "    hóa sai số hoặc tối ưu hóa Gini index (trong trường hợp cây phân\n",
    "    loại). Quá trình này tiếp tục cho đến khi một điều kiện dừng được\n",
    "    đáp ứng, chẳng hạn như độ sâu tối đa của cây.\n",
    "\n",
    "-   Kết hợp dự đoán từ các cây: Khi đã xây dựng các cây quyết định,\n",
    "    chúng ta có thể sử dụng chúng để đưa ra dự đoán cho các mẫu dữ liệu\n",
    "    mới. Dự đoán từ mỗi cây đóng vai trò như một phiếu bầu cho một lớp\n",
    "    (trong trường hợp phân loại) hoặc một giá trị (trong trường hợp hồi\n",
    "    quy).\n",
    "\n",
    "-   Kết hợp kết quả từ các cây: Để đưa ra dự đoán cuối cùng, chúng ta\n",
    "    kết hợp kết quả từ tất cả các cây trong Random Forest. Trong trường\n",
    "    hợp phân loại, kết quả cuối cùng thường là lớp có số phiếu bầu nhiều\n",
    "    nhất từ các cây. Trong trường hợp hồi quy, kết quả cuối cùng thường\n",
    "    là trung bình hoặc trung vị của các dự đoán từ các cây.\n",
    "\n",
    "Một trong những lợi ích quan trọng của Random Forest là khả năng kiểm\n",
    "soát overfitting. Bằng cách sử dụng nhiều cây quyết định độc lập, thuật\n",
    "toán giảm khả năng mô hình bị overfitting vào dữ liệu huấn luyện. Random\n",
    "Forest có thể được áp dụng cho cả các vấn đề phân loại và hồi quy. Nó\n",
    "cũng có thể xử lý cả dữ liệu dạng số và dữ liệu dạng danh mục. Thuật\n",
    "toán Random Forest đã được chứng minh là một công cụ mạnh mẽ trong học\n",
    "máy và có thể được sử dụng trong nhiều ứng dụng khác nhau như phân loại\n",
    "hình ảnh, dự đoán giá cổ phiếu, dự đoán bệnh tật, và nhiều lĩnh vực\n",
    "khác.\n"
   ],
   "metadata": {
    "collapsed": false
   }
  },
  {
   "cell_type": "markdown",
   "metadata": {},
   "source": [
    "Import các thư viện cần thiết"
   ]
  },
  {
   "cell_type": "code",
   "execution_count": 120,
   "outputs": [],
   "source": [
    "import os\n",
    "import random\n",
    "import copy\n",
    "import pyreadr\n",
    "import pandas as pd\n",
    "import numpy as np\n",
    "import matplotlib.pyplot as plt\n",
    "from sklearn.metrics import mean_squared_error, r2_score\n",
    "from sklearn.model_selection import train_test_split\n",
    "import statsmodels as stm\n",
    "import torch \n",
    "import torch.nn as nn \n",
    "import torch.optim as optim\n",
    "import tqdm"
   ],
   "metadata": {
    "collapsed": false,
    "ExecuteTime": {
     "end_time": "2023-08-14T13:12:50.429081588Z",
     "start_time": "2023-08-14T13:12:50.379439457Z"
    }
   }
  },
  {
   "cell_type": "markdown",
   "metadata": {},
   "source": [
    "## Thống kê mô tả dữ liệu\n",
    "<!-- Thống kê mô tả dữ liệu -->"
   ]
  },
  {
   "cell_type": "markdown",
   "metadata": {},
   "source": [
    "## Tiền xử lý dữ liệu\n",
    "<!-- Phát hiện outlier -->"
   ]
  },
  {
   "cell_type": "code",
   "execution_count": 121,
   "outputs": [
    {
     "name": "stdout",
     "output_type": "stream",
     "text": [
      "Random seed set as 0\n"
     ]
    }
   ],
   "source": [
    "def set_seed(seed: int = 42) -> None:\n",
    "    np.random.seed(seed)\n",
    "    random.seed(seed)\n",
    "    torch.manual_seed(seed)\n",
    "    torch.cuda.manual_seed(seed)\n",
    "    # When running on the CuDNN backend, two further options must be set\n",
    "    torch.backends.cudnn.deterministic = True\n",
    "    torch.backends.cudnn.benchmark = False\n",
    "    # Set a fixed value for the hash seed\n",
    "    os.environ[\"PYTHONHASHSEED\"] = str(seed)\n",
    "    print(f\"Random seed set as {seed}\")\n",
    "\n",
    "set_seed(0)\n"
   ],
   "metadata": {
    "collapsed": false,
    "ExecuteTime": {
     "end_time": "2023-08-14T13:12:50.458639364Z",
     "start_time": "2023-08-14T13:12:50.383602604Z"
    }
   }
  },
  {
   "cell_type": "markdown",
   "source": [
    "Đọc dữ liệu"
   ],
   "metadata": {
    "collapsed": false
   }
  },
  {
   "cell_type": "code",
   "execution_count": 122,
   "metadata": {
    "vscode": {
     "languageId": "plaintext"
    },
    "ExecuteTime": {
     "end_time": "2023-08-14T13:12:50.528216593Z",
     "start_time": "2023-08-14T13:12:50.401522191Z"
    }
   },
   "outputs": [
    {
     "name": "stdout",
     "output_type": "stream",
     "text": [
      "<class 'pandas.core.frame.DataFrame'>\n",
      "RangeIndex: 2867 entries, 0 to 2866\n",
      "Data columns (total 9 columns):\n",
      " #   Column    Non-Null Count  Dtype  \n",
      "---  ------    --------------  -----  \n",
      " 0   harass5   1469 non-null   object \n",
      " 1   emailmin  1649 non-null   float64\n",
      " 2   emailhr   1649 non-null   float64\n",
      " 3   educ      2858 non-null   float64\n",
      " 4   polviews  2756 non-null   object \n",
      " 5   advfront  1385 non-null   object \n",
      " 6   snapchat  1372 non-null   object \n",
      " 7   instagrm  1372 non-null   object \n",
      " 8   wrkstat   2864 non-null   object \n",
      "dtypes: float64(3), object(6)\n",
      "memory usage: 201.7+ KB\n",
      "None\n",
      "  harass5  emailmin  emailhr  educ          polviews        advfront snapchat   \n",
      "0     NaN       0.0     12.0  16.0          Moderate  Strongly agree      NaN  \\\n",
      "1     NaN      30.0      0.0  12.0           Liberal        Disagree       No   \n",
      "2      No       NaN      NaN  16.0      Conservative             NaN       No   \n",
      "3     NaN      10.0      0.0  12.0          Moderate        Disagree      NaN   \n",
      "4      No       NaN      NaN  18.0  Slightly liberal             NaN      Yes   \n",
      "\n",
      "  instagrm           wrkstat  \n",
      "0      NaN  Working fulltime  \n",
      "1       No  Working fulltime  \n",
      "2       No           Retired  \n",
      "3      NaN  Working parttime  \n",
      "4      Yes  Working parttime  \n"
     ]
    }
   ],
   "source": [
    "df = pyreadr.read_r('./data/gss16.rda')\n",
    "gss16_data = df['gss16']\n",
    "print(gss16_data.info())\n",
    "print(gss16_data.head())"
   ]
  },
  {
   "cell_type": "markdown",
   "source": [],
   "metadata": {
    "collapsed": false
   }
  },
  {
   "cell_type": "code",
   "execution_count": 123,
   "outputs": [
    {
     "name": "stdout",
     "output_type": "stream",
     "text": [
      "cat na: harass5     1218\n",
      "polviews      55\n",
      "advfront     433\n",
      "snapchat     969\n",
      "instagrm     969\n",
      "wrkstat        1\n",
      "dtype: int64\n",
      "cat fill na: harass5     0\n",
      "polviews    0\n",
      "advfront    0\n",
      "snapchat    0\n",
      "instagrm    0\n",
      "wrkstat     0\n",
      "dtype: int64\n",
      "<class 'pandas.core.frame.DataFrame'>\n",
      "Index: 1649 entries, 0 to 2865\n",
      "Data columns (total 6 columns):\n",
      " #   Column    Non-Null Count  Dtype \n",
      "---  ------    --------------  ----- \n",
      " 0   harass5   431 non-null    object\n",
      " 1   polviews  1594 non-null   object\n",
      " 2   advfront  1216 non-null   object\n",
      " 3   snapchat  680 non-null    object\n",
      " 4   instagrm  680 non-null    object\n",
      " 5   wrkstat   1648 non-null   object\n",
      "dtypes: object(6)\n",
      "memory usage: 90.2+ KB\n",
      "None\n",
      "<class 'pandas.core.frame.DataFrame'>\n",
      "Index: 1649 entries, 0 to 2865\n",
      "Data columns (total 3 columns):\n",
      " #   Column    Non-Null Count  Dtype  \n",
      "---  ------    --------------  -----  \n",
      " 0   emailmin  1649 non-null   float64\n",
      " 1   emailhr   1649 non-null   float64\n",
      " 2   educ      1649 non-null   float64\n",
      "dtypes: float64(3)\n",
      "memory usage: 51.5 KB\n",
      "None\n"
     ]
    }
   ],
   "source": [
    "gss16_data.dropna(subset=['emailmin', 'emailhr'], inplace=True)\n",
    "gss16_data['educ'].fillna(gss16_data['educ'].mean(), inplace = True)\n",
    "\n",
    "col_num = ['emailmin', 'emailhr', 'educ']\n",
    "col_cat = ['harass5', 'polviews', 'advfront', 'snapchat', 'instagrm', 'wrkstat']\n",
    "\n",
    "df_cat = gss16_data[gss16_data.columns.intersection(col_cat)]\n",
    "df_num = gss16_data[gss16_data.columns.intersection(col_num)]\n",
    "df_cat_fill = df_cat.fillna('unknown')\n",
    "\n",
    "print(f'cat na: {df_cat.isna().sum()}')\n",
    "print(f'cat fill na: {df_cat_fill.isna().sum()}')\n",
    "\n",
    "print(df_cat.info())\n",
    "print(df_num.info())"
   ],
   "metadata": {
    "collapsed": false,
    "ExecuteTime": {
     "end_time": "2023-08-14T13:12:50.547395101Z",
     "start_time": "2023-08-14T13:12:50.460823564Z"
    }
   }
  },
  {
   "cell_type": "code",
   "execution_count": 124,
   "outputs": [
    {
     "name": "stderr",
     "output_type": "stream",
     "text": [
      "/tmp/ipykernel_65744/711746736.py:1: SettingWithCopyWarning: \n",
      "A value is trying to be set on a copy of a slice from a DataFrame.\n",
      "Try using .loc[row_indexer,col_indexer] = value instead\n",
      "\n",
      "See the caveats in the documentation: https://pandas.pydata.org/pandas-docs/stable/user_guide/indexing.html#returning-a-view-versus-a-copy\n",
      "  df_num['email_time'] = df_num['emailhr'] * 60 + df_num['emailmin']\n",
      "/tmp/ipykernel_65744/711746736.py:5: SettingWithCopyWarning: \n",
      "A value is trying to be set on a copy of a slice from a DataFrame.\n",
      "Try using .loc[row_indexer,col_indexer] = value instead\n",
      "\n",
      "See the caveats in the documentation: https://pandas.pydata.org/pandas-docs/stable/user_guide/indexing.html#returning-a-view-versus-a-copy\n",
      "  df_num['email_time_center'] = (df_num['email_time'] - min_email_time) / (max_email_time - min_email_time)\n"
     ]
    }
   ],
   "source": [
    "df_num['email_time'] = df_num['emailhr'] * 60 + df_num['emailmin']\n",
    "\n",
    "max_email_time = df_num['email_time'].max()\n",
    "min_email_time = df_num['email_time'].min()\n",
    "df_num['email_time_center'] = (df_num['email_time'] - min_email_time) / (max_email_time - min_email_time)"
   ],
   "metadata": {
    "collapsed": false,
    "ExecuteTime": {
     "end_time": "2023-08-14T13:12:50.547753262Z",
     "start_time": "2023-08-14T13:12:50.460935696Z"
    }
   }
  },
  {
   "cell_type": "code",
   "execution_count": 125,
   "outputs": [
    {
     "name": "stderr",
     "output_type": "stream",
     "text": [
      "/tmp/ipykernel_65744/3923756970.py:3: SettingWithCopyWarning: \n",
      "A value is trying to be set on a copy of a slice from a DataFrame.\n",
      "Try using .loc[row_indexer,col_indexer] = value instead\n",
      "\n",
      "See the caveats in the documentation: https://pandas.pydata.org/pandas-docs/stable/user_guide/indexing.html#returning-a-view-versus-a-copy\n",
      "  df_num['educ_center'] = (df_num['educ'] - min_educ) / (max_educ - min_educ)\n"
     ]
    }
   ],
   "source": [
    "max_educ = df_num['educ'].max()\n",
    "min_educ = df_num['educ'].min()\n",
    "df_num['educ_center'] = (df_num['educ'] - min_educ) / (max_educ - min_educ)"
   ],
   "metadata": {
    "collapsed": false,
    "ExecuteTime": {
     "end_time": "2023-08-14T13:12:50.547947496Z",
     "start_time": "2023-08-14T13:12:50.461000242Z"
    }
   }
  },
  {
   "cell_type": "markdown",
   "source": [
    "Ghi các tập dữ liệu đã tiền xử lý ra file. Trong đó X, X_fill và y lần lượt là tập đầu vào không coi NaN là một thuộc tính, tập đầu vào coi NaN là thuộc tính (\"unlnown\"), tập đầu ra"
   ],
   "metadata": {
    "collapsed": false
   }
  },
  {
   "cell_type": "code",
   "execution_count": 126,
   "outputs": [],
   "source": [
    "df_cat_dum = pd.get_dummies(df_cat, dtype=int)\n",
    "df_cat_fill_dum = pd.get_dummies(df_cat_fill, dtype=int)\n",
    "\n",
    "df_num.to_csv('./data/preprocessing/gss16_number_columns', index=False)\n",
    "df_cat_dum.to_csv('./data/preprocessing/gss16_dummies_column', index=False)\n",
    "df_cat_fill_dum.to_csv('./data/preprocessing/gss16_dummies_column_fillna', index=False)\n",
    "\n",
    "X = pd.concat([df_num['educ_center'], df_cat_dum], axis=1)\n",
    "X_fill = pd.concat([df_num['educ_center'], df_cat_fill_dum], axis=1)\n",
    "y = df_num['email_time_center']\n",
    "\n",
    "X.to_csv('./data/preprocessing/X.csv', index=False)\n",
    "X_fill.to_csv('./data/preprocessing/X_fill.csv', index=False)\n",
    "y.to_csv('./data/preprocessing/y.csv', index=False)"
   ],
   "metadata": {
    "collapsed": false,
    "ExecuteTime": {
     "end_time": "2023-08-14T13:12:50.548923875Z",
     "start_time": "2023-08-14T13:12:50.461049098Z"
    }
   }
  },
  {
   "cell_type": "markdown",
   "source": [
    "Chia tập train, test với tỉ lệ 80/20, cố định `random_state = 42`"
   ],
   "metadata": {
    "collapsed": false
   }
  },
  {
   "cell_type": "code",
   "execution_count": 127,
   "outputs": [],
   "source": [
    "X_train, X_test, y_train, y_test = train_test_split(X_fill, y, test_size=0.2, random_state=0)"
   ],
   "metadata": {
    "collapsed": false,
    "ExecuteTime": {
     "end_time": "2023-08-14T13:12:50.549073843Z",
     "start_time": "2023-08-14T13:12:50.483011039Z"
    }
   }
  },
  {
   "cell_type": "markdown",
   "metadata": {},
   "source": [
    "## Các mô hình tuyến tính"
   ]
  },
  {
   "cell_type": "markdown",
   "metadata": {},
   "source": [
    "### Mô hình GLM "
   ]
  },
  {
   "cell_type": "markdown",
   "metadata": {},
   "source": [
    "### Mô hình GAM"
   ]
  },
  {
   "cell_type": "markdown",
   "metadata": {},
   "source": [
    "### Mô hình GLM với penalty"
   ]
  },
  {
   "cell_type": "markdown",
   "metadata": {},
   "source": [
    "### Mô hình GLM với Bayes"
   ]
  },
  {
   "cell_type": "markdown",
   "metadata": {},
   "source": [
    "### Mô hình Random forest"
   ]
  },
  {
   "cell_type": "markdown",
   "metadata": {},
   "source": [
    "### Mô hình Deep Learning \n",
    "Phần này sử dụng một mạng neural network đơn giản để fit mô hình. "
   ]
  },
  {
   "cell_type": "code",
   "execution_count": 128,
   "outputs": [
    {
     "data": {
      "text/plain": "True"
     },
     "execution_count": 128,
     "metadata": {},
     "output_type": "execute_result"
    }
   ],
   "source": [
    "torch.cuda.is_available()"
   ],
   "metadata": {
    "collapsed": false,
    "ExecuteTime": {
     "end_time": "2023-08-14T13:12:50.549354133Z",
     "start_time": "2023-08-14T13:12:50.485095618Z"
    }
   }
  },
  {
   "cell_type": "markdown",
   "source": [
    "Định nghĩa mô hình và thuật toán tối ưu. \n",
    "Mạng gồm 2 hidden layers.\n",
    "Loss function sử dụng là hàm Mean Square Error.\n",
    "Thuật toán tối ưu là thuật toán Adam với learning rate 0.0001"
   ],
   "metadata": {
    "collapsed": false
   }
  },
  {
   "cell_type": "code",
   "execution_count": 129,
   "outputs": [],
   "source": [
    "model = nn.Sequential(\n",
    "  nn.Linear(34, 64),\n",
    "  nn.ReLU(),\n",
    "  nn.Linear(64, 32),\n",
    "  nn.Sigmoid(),\n",
    "  nn.Linear(32, 1)\n",
    ")\n",
    "\n",
    "loss_fn = nn.MSELoss()\n",
    "optimizer = optim.Adam(model.parameters(), lr=0.0001)"
   ],
   "metadata": {
    "collapsed": false,
    "ExecuteTime": {
     "end_time": "2023-08-14T13:12:50.549461516Z",
     "start_time": "2023-08-14T13:12:50.496180007Z"
    }
   }
  },
  {
   "cell_type": "markdown",
   "source": [
    "Đưa dữ liệu vào vRAM của GPU"
   ],
   "metadata": {
    "collapsed": false
   }
  },
  {
   "cell_type": "code",
   "execution_count": 130,
   "outputs": [],
   "source": [
    "X_train = torch.tensor(X_train.to_numpy(), dtype=torch.float32)\n",
    "y_train = torch.tensor(y_train.to_numpy(), dtype=torch.float32).reshape(-1, 1)\n",
    "X_test = torch.tensor(X_test.to_numpy(), dtype=torch.float32)\n",
    "y_test = torch.tensor(y_test.to_numpy(), dtype=torch.float32).reshape(-1, 1)"
   ],
   "metadata": {
    "collapsed": false,
    "ExecuteTime": {
     "end_time": "2023-08-14T13:12:50.612967320Z",
     "start_time": "2023-08-14T13:12:50.506271239Z"
    }
   }
  },
  {
   "cell_type": "markdown",
   "source": [
    "Các tham số cơ bản"
   ],
   "metadata": {
    "collapsed": false
   }
  },
  {
   "cell_type": "code",
   "execution_count": 131,
   "outputs": [],
   "source": [
    "# training parameters\n",
    "n_epochs = 100   # number of epochs to run\n",
    "batch_size = 10  # size of each batch\n",
    "batch_start = torch.arange(0, len(X_train), batch_size)\n",
    "\n",
    "# Hold the best model\n",
    "best_mse = np.inf   # init to infinity\n",
    "best_weights = None\n",
    "history = []\n",
    "early_stopping_epoches = 10"
   ],
   "metadata": {
    "collapsed": false,
    "ExecuteTime": {
     "end_time": "2023-08-14T13:12:50.618134988Z",
     "start_time": "2023-08-14T13:12:50.552758302Z"
    }
   }
  },
  {
   "cell_type": "markdown",
   "source": [
    "Huấn luyện mô hình"
   ],
   "metadata": {
    "collapsed": false
   }
  },
  {
   "cell_type": "code",
   "execution_count": 132,
   "outputs": [
    {
     "name": "stdout",
     "output_type": "stream",
     "text": [
      "process epoch: 0\n",
      "complete epoch 0 with mse 0.010031425394117832\n",
      "process epoch: 1\n",
      "complete epoch 1 with mse 0.009739500470459461\n",
      "process epoch: 2\n",
      "complete epoch 2 with mse 0.00951495859771967\n",
      "process epoch: 3\n",
      "complete epoch 3 with mse 0.009347761049866676\n",
      "process epoch: 4\n",
      "complete epoch 4 with mse 0.009239904582500458\n",
      "process epoch: 5\n",
      "complete epoch 5 with mse 0.009174576960504055\n",
      "process epoch: 6\n",
      "complete epoch 6 with mse 0.009139987640082836\n",
      "process epoch: 7\n",
      "complete epoch 7 with mse 0.009124045260250568\n",
      "process epoch: 8\n",
      "complete epoch 8 with mse 0.009116451255977154\n",
      "process epoch: 9\n",
      "complete epoch 9 with mse 0.009111744351685047\n",
      "process epoch: 10\n",
      "complete epoch 10 with mse 0.009109902195632458\n",
      "process epoch: 11\n",
      "complete epoch 11 with mse 0.009108904749155045\n",
      "process epoch: 12\n",
      "complete epoch 12 with mse 0.009107954800128937\n",
      "process epoch: 13\n",
      "complete epoch 13 with mse 0.00910917017608881\n",
      "process epoch: 14\n",
      "complete epoch 14 with mse 0.00910990685224533\n",
      "process epoch: 15\n",
      "complete epoch 15 with mse 0.00911007821559906\n",
      "process epoch: 16\n",
      "complete epoch 16 with mse 0.009111190214753151\n",
      "process epoch: 17\n",
      "complete epoch 17 with mse 0.009112445637583733\n",
      "process epoch: 18\n",
      "complete epoch 18 with mse 0.009114289656281471\n",
      "process epoch: 19\n",
      "complete epoch 19 with mse 0.009115795604884624\n",
      "process epoch: 20\n",
      "complete epoch 20 with mse 0.009119915775954723\n",
      "process epoch: 21\n",
      "complete epoch 21 with mse 0.009124120697379112\n",
      "process epoch: 22\n",
      "complete epoch 22 with mse 0.009128094650804996\n",
      "process epoch: 23\n",
      "complete epoch 23 with mse 0.009131436236202717\n",
      "early stopping\n"
     ]
    }
   ],
   "source": [
    "# training loop\n",
    "early = 0\n",
    "for epoch in range(n_epochs):\n",
    "    print(f'process epoch: {epoch}')\n",
    "    model.train()\n",
    "    with tqdm.tqdm(batch_start, unit=\"batch\", mininterval=0, disable=True) as bar:\n",
    "        bar.set_description(f\"Epoch {epoch}\")\n",
    "        for start in bar:\n",
    "            # take a batch\n",
    "            X_batch = X_train[start:start+batch_size]\n",
    "            y_batch = y_train[start:start+batch_size]\n",
    "            # forward pass\n",
    "            y_pred = model(X_batch)\n",
    "            loss = loss_fn(y_pred, y_batch)\n",
    "            # backward pass\n",
    "            optimizer.zero_grad()\n",
    "            loss.backward()\n",
    "            # update weights\n",
    "            optimizer.step()\n",
    "            # print progress\n",
    "            bar.set_postfix(mse=float(loss))\n",
    "    # evaluate accuracy at end of each epoch\n",
    "    model.eval()\n",
    "    y_pred = model(X_test)\n",
    "    mse = loss_fn(y_pred, y_test)\n",
    "    mse = float(mse)\n",
    "    history.append(mse)\n",
    "    \n",
    "    print(f'complete epoch {epoch} with mse {mse}')\n",
    "    if mse > best_mse:\n",
    "        early += 1\n",
    "        if early > early_stopping_epoches:\n",
    "            print(f'early stopping')\n",
    "            break\n",
    "    \n",
    "    if mse < best_mse:\n",
    "        best_mse = mse\n",
    "        best_weights = copy.deepcopy(model.state_dict())"
   ],
   "metadata": {
    "collapsed": false,
    "ExecuteTime": {
     "end_time": "2023-08-14T13:12:53.244846338Z",
     "start_time": "2023-08-14T13:12:50.552852765Z"
    }
   }
  },
  {
   "cell_type": "markdown",
   "source": [
    "Vẽ đồ thị loss function theo epoch"
   ],
   "metadata": {
    "collapsed": false
   }
  },
  {
   "cell_type": "code",
   "execution_count": 133,
   "outputs": [
    {
     "data": {
      "text/plain": "<Figure size 640x480 with 1 Axes>",
      "image/png": "[encoded data removed]"
     },
     "metadata": {},
     "output_type": "display_data"
    }
   ],
   "source": [
    "# restore model and return best accuracy\n",
    "model.load_state_dict(best_weights)\n",
    "plt.xlabel('epoch')\n",
    "plt.ylabel('loss')\n",
    "plt.title('loss by epoch')\n",
    "plt.plot(history)\n",
    "plt.show()"
   ],
   "metadata": {
    "collapsed": false,
    "ExecuteTime": {
     "end_time": "2023-08-14T13:12:53.333219244Z",
     "start_time": "2023-08-14T13:12:53.284680634Z"
    }
   }
  },
  {
   "cell_type": "markdown",
   "source": [
    "In ra các độ đo"
   ],
   "metadata": {
    "collapsed": false
   }
  },
  {
   "cell_type": "code",
   "execution_count": 134,
   "outputs": [
    {
     "name": "stdout",
     "output_type": "stream",
     "text": [
      "MSE: 0.009107955731451511\n",
      "RMSE: 0.09543561190366745\n",
      "R2: 0.08015310318547786\n"
     ]
    }
   ],
   "source": [
    "y_pred = model(X_test)\n",
    "y_pred_df = pd.DataFrame(y_pred.detach().numpy())\n",
    "y_test_df = pd.DataFrame(y_test.detach().numpy())\n",
    "\n",
    "mse = mean_squared_error(y_test_df, y_pred_df)\n",
    "r2 = r2_score(y_test_df, y_pred_df)\n",
    "\n",
    "print(f'MSE: {mse}')\n",
    "print(f'RMSE: {np.sqrt(mse)}')\n",
    "print(f'R2: {r2}')"
   ],
   "metadata": {
    "collapsed": false,
    "ExecuteTime": {
     "end_time": "2023-08-14T13:12:53.333576104Z",
     "start_time": "2023-08-14T13:12:53.332870729Z"
    }
   }
  }
 ],
 "metadata": {
  "language_info": {
   "name": "python"
  },
  "orig_nbformat": 4,
  "kernelspec": {
   "name": "python3",
   "language": "python",
   "display_name": "Python 3 (ipykernel)"
  }
 },
 "nbformat": 4,
 "nbformat_minor": 2
}
