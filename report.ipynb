{
 "cells": [
  {
   "cell_type": "markdown",
   "metadata": {},
   "source": [
    "# Social stat"
   ]
  },
  {
   "cell_type": "markdown",
   "metadata": {},
   "source": [
    "## Cơ sở lý thuyết"
   ]
  },
  {
   "cell_type": "markdown",
   "metadata": {
    "collapsed": false
   },
   "source": [
    "**Giới thiệu về dữ liệu**\n",
    "\n",
    "Dữ liệu từ Điều tra xã hội chung 2016 (GSS16) Sự miêu tả GSS thu thập dữ\n",
    "liệu về xã hội Mỹ đương đại để theo dõi và giải thích các xu hướng và\n",
    "hằng số về thái độ, hành vi và thuộc tính. Hàng trăm xu hướng đã được\n",
    "theo dõi kể từ năm 1972. Ngoài ra, kể từ khi GSS áp dụng các câu hỏi từ\n",
    "các cuộc khảo sát trước đó, các xu hướng có thể được theo dõi trong tối\n",
    "đa 70 năm. GSS chứa cốt lõi tiêu chuẩn gồm các câu hỏi về nhân khẩu học,\n",
    "hành vi và thái độ, cộng với các chủ đề được quan tâm đặc biệt. Trong số\n",
    "các chủ đề được đề cập là quyền tự do dân sự, tội phạm và bạo lực, lòng\n",
    "khoan dung giữa các nhóm, đạo đức, ưu tiên chi tiêu quốc gia, sức khỏe\n",
    "tâm lý, tính di động xã hội, căng thẳng và các sự kiện đau buồn.\n",
    "\n",
    "Chi tiết Dữ liệu đến từ NORC tại Đại học Chicago. Dữ liệu đã được sửa\n",
    "đổi để phục vụ tốt hơn cho các mục tiêu giáo dục cơ bản về khoa học dữ\n",
    "liệu. Chỉ có 9 trong số 935 biến ban đầu được chọn cho tập dữ liệu này.\n",
    "\n",
    "Đối tượng nghiên cứu\n",
    "\n",
    "Trong nhiệm vụ này, chúng tôi phân tích dữ liệu từ GSS 2016, sử dụng nó\n",
    "để ước tính giá trị dân số các thông số quan tâm về người lớn ở Hoa Kỳ.\n",
    "Định dạng GSS16 chứa 2867 hàng và 9 cột.\n",
    "\n",
    "Các trường được sử dụng để nghiên cứu\n",
    "\n",
    "-   harass5: Trả lời câu hỏi \\\"Trong 5 năm qua, bạn có bị cấp trên hoặc\n",
    "    đồng nghiệp quấy rối tại nơi làm việc không, ví dụ, bạn có bị bắt\n",
    "    nạt, lạm dụng thể chất hoặc tâm lý không?\\\" Các câu trả lời có thể\n",
    "    là Có, Không và Không áp dụng.\n",
    "\n",
    "-   emalmin: Số thư điện tử Số phút dành cho email hàng tuần; thêm vào\n",
    "    số giờ trong emailhrs (ví dụ: emailmin = 30 trong 2,5 giờ trên\n",
    "    email).\n",
    "\n",
    "-   emailhr: thư điện tử Số giờ dành cho email hàng tuần.\n",
    "\n",
    "-   educ: Số năm đi học.\n",
    "\n",
    "-   polviews: Quan điểm chính trị. Trả lời câu hỏi \"Ngày nay chúng ta\n",
    "    nghe nói nhiều về phe tự do và phe bảo thủ. Tôi sẽ cho bạn thấy một\n",
    "    thang điểm bảy mà trên đó các quan điểm chính trị mà mọi người có\n",
    "    thể nắm giữ được sắp xếp từ cực kỳ tự do--điểm 1--đến cực kỳ bảo\n",
    "    thủ-- điểm 7. Bạn sẽ đặt mình ở đâu trên thang điểm này?\" Các câu\n",
    "    trả lời có thể là Cực kỳ tự do, Tự do, Hơi tự do, Trung bình, Hơi\n",
    "    bảo thủ, Bảo thủ, Cực kỳ bảo thủ.\n",
    "\n",
    "-   Advfront: Trả lời cho câu hỏi \\\"Ngay cả khi nó không mang lại lợi\n",
    "    ích ngay lập tức, nghiên cứu khoa học nhằm nâng cao tri thức là cần\n",
    "    thiết và cần được chính phủ liên bang hỗ trợ.\\\" Các câu trả lời có\n",
    "    thể là Rất đồng ý, Đồng ý, Không biết, Không đồng ý và Rất không\n",
    "    đồng ý.\n",
    "\n",
    "-   snapchat: người trả lời sẽ trả lời câu hỏi có sử dụng Snapchat hay\n",
    "    không.\n",
    "\n",
    "-   instagram: người trả lời sẽ trả lời câu hỏi có sử dụng Instagram hay\n",
    "    không.\n",
    "\n",
    "-   Wrkstat: Tình trạng công việc.\n",
    "\n",
    "**Phát biểu bài toán:**\n",
    "\n",
    "Bài toán được đặt ra để trả lời câu hỏi về mức độ sử dụng email dựa trên\n",
    "công việc; tần suất sử dụng một số mạng xã hội như Snapchat, Instagram;\n",
    "số năm đi học; quan điểm về chính trị, nghiên cứu khoa học; và việc có\n",
    "bị quấy rối, bắt nạt hay không.\n",
    "\n",
    "**Giới thiệu lý thuyết:**\n",
    "\n",
    "**Mô hình GLM (Generalized Linear Model)** là một họ các mô hình thống\n",
    "kê mạnh mẽ và linh hoạt được sử dụng để mô hình hóa mối quan hệ giữa\n",
    "biến phụ thuộc và các biến độc lập trong các tình huống không phải là\n",
    "phân phối chuẩn. GLM mở rộng mô hình hồi quy tuyến tính thông thường để\n",
    "bao gồm các phân phối khác và các hàm liên kết không tuyến tính để xác\n",
    "định mối quan hệ giữa biến phụ thuộc và biến độc lập.\n",
    "\n",
    "Mô hình GLM bao gồm ba thành phần chính:\n",
    "\n",
    "-   Hàm Liên kết (Link function): Đây là hàm xác định mối quan hệ giữa\n",
    "    giá trị kỳ vọng của biến phụ thuộc và tổng trọng số của biến độc\n",
    "    lập. Hàm liên kết cần phải là một hàm liên tục, đồng biến và có đạo\n",
    "    hàm.\n",
    "\n",
    "-   Phân phối (Distribution): Đây là phân phối xác định biểu diễn phân\n",
    "    phối của biến phụ thuộc. Các phân phối thường được sử dụng trong GLM\n",
    "    bao gồm phân phối Poisson (cho mô hình đếm), phân phối Gaussian (cho\n",
    "    mô hình hồi quy tuyến tính), phân phối Bernoulli (cho mô hình\n",
    "    logistic), và nhiều phân phối khác.\n",
    "\n",
    "-   Hàm liên hệ (Link function): Đây là một ánh xạ giữa giá trị kỳ vọng\n",
    "    của biến phụ thuộc và tổng trọng số của biến độc lập. Ví dụ, trong\n",
    "    mô hình hồi quy tuyến tính, hàm liên hệ thường là hàm đồng biến\n",
    "    (identity function) để duy trì mối quan hệ tuyến tính. Trong trường\n",
    "    hợp của mô hình logistic, hàm liên hệ là hàm logit.\n",
    "\n",
    "Mô hình GLM có thể được sử dụng cho nhiều loại dữ liệu và mục tiêu khác\n",
    "nhau, bao gồm:\n",
    "\n",
    "-   Hồi quy tuyến tính (Linear Regression): Sử dụng khi biến phụ thuộc\n",
    "    là liên tục và phân phối Gaussian.\n",
    "\n",
    "-   Hồi quy logistic (Logistic Regression): Sử dụng khi biến phụ thuộc\n",
    "    là nhị phân (0/1) và phân phối Bernoulli. Thường được sử dụng trong\n",
    "    dự đoán xác suất của một sự kiện.\n",
    "\n",
    "-   Hồi quy Poisson (Poisson Regression): Sử dụng khi biến phụ thuộc là\n",
    "    số lượng đếm và phân phối Poisson. Thường được sử dụng trong việc mô\n",
    "    hình hóa tần suất của các sự kiện.\n",
    "\n",
    "-   Hồi quy nhị thức âm (Negative Binomial Regression): Sử dụng khi biến\n",
    "    phụ thuộc là số lượng đếm và phân phối negative binomial. Thường\n",
    "    được sử dụng khi dữ liệu có phương sai không ổn định hơn so với phân\n",
    "    phối Poisson.\n",
    "\n",
    "**Lý thuyết Bayes Generalized Linear Model (Bayes GLM)** là một phương\n",
    "pháp thống kê kết hợp lý thuyết Bayes và mô hình tuyến tính tổng quát\n",
    "(Generalized Linear Model - GLM) để ước tính tham số và dự đoán trong mô\n",
    "hình tuyến tính mà đầu vào không phải là dữ liệu có phân phối chuẩn.\n",
    "\n",
    "Để hiểu rõ hơn về Bayes GLM, chúng ta cần nắm vững hai khái niệm chính:\n",
    "GLM và lý thuyết Bayes.\n",
    "\n",
    "Generalized Linear Model (GLM):\n",
    "\n",
    "Mô hình tuyến tính tổng quát (GLM) là một phương pháp cho phép xây dựng\n",
    "mô hình tuyến tính giữa biến phụ thuộc và một tập các biến độc lập,\n",
    "nhưng cho phép biến phụ thuộc không phải là một biến phân phối chuẩn.\n",
    "GLM bao gồm ba thành phần chính: hàm liên kết (link function), phân phối\n",
    "của biến phụ thuộc và hàm dự đoán.\n",
    "\n",
    "**Lý thuyết Bayes:**\n",
    "\n",
    "Lý thuyết Bayes là một lý thuyết trong xác suất thống kê dựa trên Định\n",
    "lý Bayes, giúp chúng ta cập nhật kiến thức về một sự kiện dựa trên dữ\n",
    "liệu mới. Lý thuyết Bayes thường sử dụng phân phối xác suất để thể hiện\n",
    "sự không chắc chắn và cập nhật kiến thức dựa trên dữ liệu.\n",
    "\n",
    "Khi kết hợp cả hai khái niệm này, Bayes GLM là một phương pháp ước tính\n",
    "tham số trong mô hình tuyến tính tổng quát bằng cách sử dụng lý thuyết\n",
    "Bayes. Thay vì sử dụng phương pháp cực đại hóa hàm hợp lý (Maximum\n",
    "Likelihood Estimation - MLE) như trong GLM truyền thống, Bayes GLM sử\n",
    "dụng phân phối xác suất a priori để mô tả sự không chắc chắn về các tham\n",
    "số mô hình. Khi có dữ liệu mới, phân phối a priori này sẽ được cập nhật\n",
    "thành phân phối hậu nghiệm (posterior distribution) dựa trên lý thuyết\n",
    "Bayes.\n",
    "\n",
    "Cách thức thực hiện Bayes GLM thường liên quan đến việc sử dụng phương\n",
    "pháp MCMC (Markov Chain Monte Carlo) để xấp xỉ phân phối hậu nghiệm.\n",
    "Điều này có thể phức tạp và đòi hỏi kiến thức sâu về xác suất thống kê\n",
    "và lập trình.\n",
    "\n",
    "**Hàm phạt trong các mô hình hồi quy**\n",
    "\n",
    "Trong các mô hình hồi quy, hàm phạt (regularization) được sử dụng để\n",
    "kiểm soát overfitting bằng cách thêm một thành phần phạt vào hàm mất\n",
    "mát. Hàm phạt giúp giảm thiểu các trọng số của mô hình, từ đó làm giảm\n",
    "sự phức tạp của mô hình và cân bằng giữa việc đánh đổi giữa sự khớp tốt\n",
    "với dữ liệu huấn luyện và khả năng tổng quát hóa cho dữ liệu mới. Hai\n",
    "hàm phạt phổ biến trong các mô hình hồi quy là Ridge và Lasso\n",
    "\n",
    "Ridge Regression (L2 Regularization): Trong Ridge Regression, một thành\n",
    "phần phạt được thêm vào hàm mất mát là tổng bình phương của các trọng số\n",
    "(hệ số) của mô hình. Biểu thức của hàm mất mát trong Ridge Regression\n",
    "là:\n",
    "\n",
    "$$J(\\theta) = Mất\\ mát\\ ban\\ đầu*\\ \\alpha*\\left\\| \\theta \\right\\|^{2}$$\n",
    "\n",
    "Trong đó:\n",
    "\n",
    "$J(\\theta)$: Hàm mất mát\n",
    "\n",
    "$\\alpha$: Tham số điều chỉnh mức độ phạt\n",
    "\n",
    "$\\theta$: Vector trọng số của mô hình hồi quy\n",
    "\n",
    "$\\left\\| \\theta \\right\\|^{2}$: Chuẩn L2 của vector trọng số\n",
    "\n",
    "**Lasso Regression (L1 Regularization)**: Lasso cũng thêm một thành phần\n",
    "phạt vào hàm mất mát, nhưng ở đây là tổng trị tuyệt đối của các trọng số\n",
    "của mô hình\n",
    "\n",
    "$$J(\\theta) = Mất\\ mát\\ ban\\ đầu*\\ \\alpha*\\left\\| \\theta \\right\\|_{1}$$\n",
    "\n",
    "Trong đó:\n",
    "\n",
    "$J(\\theta)$: Hàm mất mát\n",
    "\n",
    "$\\alpha$: Tham số điều chỉnh mức độ phạt\n",
    "\n",
    "$\\theta$: Vector trọng số của mô hình hồi quy\n",
    "\n",
    "$\\left\\| \\theta \\right\\|_{1}$: Chuẩn L1 của vector trọng số\n",
    "\n",
    "**Các metrics để đánh giá mô hình GLM**\n",
    "\n",
    "**Mean Squared Error (MSE)**: Đây là một trong những metric phổ biến\n",
    "nhất trong mô hình hồi quy. Nó tính toán trung bình của bình phương sai\n",
    "giữa giá trị dự đoán và giá trị thực tế\n",
    "\n",
    "Công thức:\n",
    "$MSE = \\ \\frac{1}{n}*\\sum_{}^{}{{(y}_{i} - \\ {\\widehat{y}}_{i})}^{2}$\n",
    "\n",
    "Trong đó:\n",
    "\n",
    "$n$: Số mẫu của dữ liệu\n",
    "\n",
    "$y_{i}$: Giá trị thực tế thứ i\n",
    "\n",
    "$\\widehat{y}$: Giá trị dự đoán của mô hình\n",
    "\n",
    "Đặc điểm của MSE:\n",
    "\n",
    "-   Giá trị MSE càng nhỏ, mô hình càng tốt vì nó cho biết các dự đoán dự\n",
    "    đoán gần với giá trị thực tế.\n",
    "\n",
    "-   MSE có thể bị ảnh hưởng bởi các giá trị ngoại lai (outliers) vì\n",
    "    chúng có thể gây ra sai số bình phương lớn.\n",
    "\n",
    "-   MSE không có đơn vị cụ thể vì nó được tính bằng bình phương của đơn\n",
    "    vị gốc (ví dụ, nếu dữ liệu đơn vị là đô la, thì MSE có đơn vị \\\"đô\n",
    "    la bình phương\\\").\n",
    "\n",
    "MSE thường được sử dụng cùng với các metric khác để đánh giá và so sánh\n",
    "mô hình hồi quy.\n",
    "\n",
    "**Root Mean Squared Error (RMSE)**: Đây là căn bậc hai của MSE và thường\n",
    "được sử dụng để đo lường sai số trung bình theo đơn vị gốc\n",
    "\n",
    "Công thức: $RMSE = \\ \\sqrt{MSE}$\n",
    "\n",
    "**Mean Absolute Error (MAE)**: MAE tính trung bình giá trị tuyệt đối của\n",
    "sai số giữa giá trị dự đoán và giá trị thực tế\n",
    "\n",
    "Công thức:\n",
    "$MAE = \\ \\frac{1}{n}*\\ \\sum_{}^{}\\left| {(y}_{i} - \\ {\\widehat{y}}_{i} \\right|$\n",
    "\n",
    "**Coefficient of Determination (R²):** R² đo lường mức độ biến thiên của\n",
    "biến phụ thuộc mà mô hình có thể giải thích. Giá trị R² nằm trong khoảng\n",
    "\\[0, 1\\], và giá trị càng gần 1 thì mô hình càng tốt:\n",
    "\n",
    "Công thức:\n",
    "$R^{2} = 1 - \\ \\left( \\frac{\\sum_{}^{}{{(y}_{i} - \\ {\\widehat{y}}_{i})}^{2}}{\\sum_{}^{}{{(y}_{i} - \\ \\overline{y})}^{2}} \\right)$\n",
    "\n",
    "Trong đó:\n",
    "\n",
    "$n$: Số mẫu của dữ liệu\n",
    "\n",
    "$y_{i}$: Giá trị thực tế thứ i\n",
    "\n",
    "${\\widehat{y}}_{i}$: Giá trị dự đoán của mô hình\n",
    "\n",
    "$\\overline{y}$: Giá trị trung bình của mô hình\n",
    "\n",
    "**Random Forest** là một thuật toán học máy dựa trên việc xây dựng nhiều\n",
    "cây quyết định (Decision Trees) độc lập và kết hợp kết quả từ các cây\n",
    "này để đưa ra dự đoán cuối cùng. Nó giúp cải thiện hiệu suất dự đoán và\n",
    "ổn định mô hình bằng cách giảm thiểu overfitting và tăng tính tổng quát\n",
    "hóa. Dưới đây là chi tiết về thuật toán Random Forest:\n",
    "\n",
    "-   Tạo dữ liệu mẫu (Bootstrapping): Để xây dựng mỗi cây quyết định\n",
    "    trong Random Forest, chúng ta sẽ tạo ra một tập dữ liệu mẫu từ tập\n",
    "    dữ liệu huấn luyện bằng cách lấy ngẫu nhiên và có thay thế các mẫu.\n",
    "    Quá trình này được gọi là bootstrapping.\n",
    "\n",
    "-   Xây dựng cây quyết định: Với mỗi tập dữ liệu mẫu, ta sẽ xây dựng một\n",
    "    cây quyết định độc lập bằng cách phân chia dữ liệu theo các thuộc\n",
    "    tính và giá trị để tối ưu hóa một hàm mục tiêu, thường là tối thiểu\n",
    "    hóa sai số hoặc tối ưu hóa Gini index (trong trường hợp cây phân\n",
    "    loại). Quá trình này tiếp tục cho đến khi một điều kiện dừng được\n",
    "    đáp ứng, chẳng hạn như độ sâu tối đa của cây.\n",
    "\n",
    "-   Kết hợp dự đoán từ các cây: Khi đã xây dựng các cây quyết định,\n",
    "    chúng ta có thể sử dụng chúng để đưa ra dự đoán cho các mẫu dữ liệu\n",
    "    mới. Dự đoán từ mỗi cây đóng vai trò như một phiếu bầu cho một lớp\n",
    "    (trong trường hợp phân loại) hoặc một giá trị (trong trường hợp hồi\n",
    "    quy).\n",
    "\n",
    "-   Kết hợp kết quả từ các cây: Để đưa ra dự đoán cuối cùng, chúng ta\n",
    "    kết hợp kết quả từ tất cả các cây trong Random Forest. Trong trường\n",
    "    hợp phân loại, kết quả cuối cùng thường là lớp có số phiếu bầu nhiều\n",
    "    nhất từ các cây. Trong trường hợp hồi quy, kết quả cuối cùng thường\n",
    "    là trung bình hoặc trung vị của các dự đoán từ các cây.\n",
    "\n",
    "Một trong những lợi ích quan trọng của Random Forest là khả năng kiểm\n",
    "soát overfitting. Bằng cách sử dụng nhiều cây quyết định độc lập, thuật\n",
    "toán giảm khả năng mô hình bị overfitting vào dữ liệu huấn luyện. Random\n",
    "Forest có thể được áp dụng cho cả các vấn đề phân loại và hồi quy. Nó\n",
    "cũng có thể xử lý cả dữ liệu dạng số và dữ liệu dạng danh mục. Thuật\n",
    "toán Random Forest đã được chứng minh là một công cụ mạnh mẽ trong học\n",
    "máy và có thể được sử dụng trong nhiều ứng dụng khác nhau như phân loại\n",
    "hình ảnh, dự đoán giá cổ phiếu, dự đoán bệnh tật, và nhiều lĩnh vực\n",
    "khác.\n"
   ]
  },
  {
   "cell_type": "markdown",
   "metadata": {},
   "source": [
    "Import các thư viện cần thiết"
   ]
  },
  {
   "cell_type": "code",
   "execution_count": 552,
   "metadata": {
    "ExecuteTime": {
     "end_time": "2023-08-14T14:26:06.329919356Z",
     "start_time": "2023-08-14T14:26:06.232242376Z"
    },
    "collapsed": false
   },
   "outputs": [],
   "source": [
    "import os\n",
    "import random\n",
    "import copy\n",
    "import pyreadr\n",
    "import pandas as pd\n",
    "import numpy as np\n",
    "import matplotlib.pyplot as plt\n",
    "from sklearn.metrics import mean_squared_error, r2_score, make_scorer\n",
    "from sklearn.model_selection import train_test_split, GridSearchCV\n",
    "\n",
    "import re\n",
    "import bambi as bmb\n",
    "import arviz as az\n",
    "\n",
    "import torch \n",
    "import torch.nn as nn \n",
    "import torch.optim as optim\n",
    "import tqdm\n",
    "\n",
    "\n",
    "import statsmodels.api as sm\n",
    "import statsmodels as stm"
   ]
  },
  {
   "cell_type": "markdown",
   "metadata": {},
   "source": [
    "## Thống kê mô tả dữ liệu\n",
    "<!-- Thống kê mô tả dữ liệu -->"
   ]
  },
  {
   "cell_type": "markdown",
   "metadata": {},
   "source": [
    "## Tiền xử lý dữ liệu\n",
    "<!-- Phát hiện outlier -->"
   ]
  },
  {
   "cell_type": "code",
   "execution_count": 553,
   "metadata": {
    "ExecuteTime": {
     "end_time": "2023-08-14T14:26:06.405037531Z",
     "start_time": "2023-08-14T14:26:06.237043299Z"
    },
    "collapsed": false
   },
   "outputs": [],
   "source": [
    "def seed_everything(seed: int):\n",
    "    import random, os\n",
    "    import numpy as np\n",
    "    import torch\n",
    "    \n",
    "    random.seed(seed)\n",
    "    os.environ['PYTHONHASHSEED'] = str(seed)\n",
    "    np.random.seed(seed)\n",
    "    torch.manual_seed(seed)\n",
    "    torch.cuda.manual_seed(seed)\n",
    "    torch.backends.cudnn.deterministic = True\n",
    "    torch.backends.cudnn.benchmark = True\n",
    "    \n",
    "seed_everything(0)"
   ]
  },
  {
   "cell_type": "markdown",
   "metadata": {
    "collapsed": false
   },
   "source": [
    "Đọc dữ liệu"
   ]
  },
  {
   "cell_type": "code",
   "execution_count": 554,
   "metadata": {
    "ExecuteTime": {
     "end_time": "2023-08-14T14:26:06.470049887Z",
     "start_time": "2023-08-14T14:26:06.259422904Z"
    }
   },
   "outputs": [
    {
     "name": "stdout",
     "output_type": "stream",
     "text": [
      "<class 'pandas.core.frame.DataFrame'>\n",
      "RangeIndex: 2867 entries, 0 to 2866\n",
      "Data columns (total 9 columns):\n",
      " #   Column    Non-Null Count  Dtype  \n",
      "---  ------    --------------  -----  \n",
      " 0   harass5   1469 non-null   object \n",
      " 1   emailmin  1649 non-null   float64\n",
      " 2   emailhr   1649 non-null   float64\n",
      " 3   educ      2858 non-null   float64\n",
      " 4   polviews  2756 non-null   object \n",
      " 5   advfront  1385 non-null   object \n",
      " 6   snapchat  1372 non-null   object \n",
      " 7   instagrm  1372 non-null   object \n",
      " 8   wrkstat   2864 non-null   object \n",
      "dtypes: float64(3), object(6)\n",
      "memory usage: 201.7+ KB\n",
      "None\n",
      "  harass5  emailmin  emailhr  educ          polviews        advfront snapchat   \n",
      "0     NaN       0.0     12.0  16.0          Moderate  Strongly agree      NaN  \\\n",
      "1     NaN      30.0      0.0  12.0           Liberal        Disagree       No   \n",
      "2      No       NaN      NaN  16.0      Conservative             NaN       No   \n",
      "3     NaN      10.0      0.0  12.0          Moderate        Disagree      NaN   \n",
      "4      No       NaN      NaN  18.0  Slightly liberal             NaN      Yes   \n",
      "\n",
      "  instagrm           wrkstat  \n",
      "0      NaN  Working fulltime  \n",
      "1       No  Working fulltime  \n",
      "2       No           Retired  \n",
      "3      NaN  Working parttime  \n",
      "4      Yes  Working parttime  \n"
     ]
    }
   ],
   "source": [
    "df = pyreadr.read_r('./data/gss16.rda')\n",
    "gss16_data = df['gss16']\n",
    "print(gss16_data.info())\n",
    "print(gss16_data.head())"
   ]
  },
  {
   "cell_type": "markdown",
   "metadata": {
    "collapsed": false
   },
   "source": []
  },
  {
   "cell_type": "code",
   "execution_count": 555,
   "metadata": {
    "ExecuteTime": {
     "end_time": "2023-08-14T14:26:06.539497401Z",
     "start_time": "2023-08-14T14:26:06.273742174Z"
    },
    "collapsed": false
   },
   "outputs": [
    {
     "name": "stdout",
     "output_type": "stream",
     "text": [
      "cat na: harass5     1218\n",
      "polviews      55\n",
      "advfront     433\n",
      "snapchat     969\n",
      "instagrm     969\n",
      "wrkstat        1\n",
      "dtype: int64\n",
      "cat fill na: harass5     0\n",
      "polviews    0\n",
      "advfront    0\n",
      "snapchat    0\n",
      "instagrm    0\n",
      "wrkstat     0\n",
      "dtype: int64\n",
      "<class 'pandas.core.frame.DataFrame'>\n",
      "Index: 1649 entries, 0 to 2865\n",
      "Data columns (total 6 columns):\n",
      " #   Column    Non-Null Count  Dtype \n",
      "---  ------    --------------  ----- \n",
      " 0   harass5   431 non-null    object\n",
      " 1   polviews  1594 non-null   object\n",
      " 2   advfront  1216 non-null   object\n",
      " 3   snapchat  680 non-null    object\n",
      " 4   instagrm  680 non-null    object\n",
      " 5   wrkstat   1648 non-null   object\n",
      "dtypes: object(6)\n",
      "memory usage: 90.2+ KB\n",
      "None\n",
      "<class 'pandas.core.frame.DataFrame'>\n",
      "Index: 1649 entries, 0 to 2865\n",
      "Data columns (total 3 columns):\n",
      " #   Column    Non-Null Count  Dtype  \n",
      "---  ------    --------------  -----  \n",
      " 0   emailmin  1649 non-null   float64\n",
      " 1   emailhr   1649 non-null   float64\n",
      " 2   educ      1649 non-null   float64\n",
      "dtypes: float64(3)\n",
      "memory usage: 51.5 KB\n",
      "None\n"
     ]
    }
   ],
   "source": [
    "gss16_data.dropna(subset=['emailmin', 'emailhr'], inplace=True)\n",
    "gss16_data['educ'].fillna(gss16_data['educ'].mean(), inplace = True)\n",
    "\n",
    "col_num = ['emailmin', 'emailhr', 'educ']\n",
    "col_cat = ['harass5', 'polviews', 'advfront', 'snapchat', 'instagrm', 'wrkstat']\n",
    "\n",
    "df_cat = gss16_data[gss16_data.columns.intersection(col_cat)]\n",
    "df_num = gss16_data[gss16_data.columns.intersection(col_num)]\n",
    "df_cat_fill = df_cat.fillna('unknown')\n",
    "\n",
    "print(f'cat na: {df_cat.isna().sum()}')\n",
    "print(f'cat fill na: {df_cat_fill.isna().sum()}')\n",
    "\n",
    "print(df_cat.info())\n",
    "print(df_num.info())"
   ]
  },
  {
   "cell_type": "code",
   "execution_count": 556,
   "metadata": {
    "ExecuteTime": {
     "end_time": "2023-08-14T14:26:06.539761286Z",
     "start_time": "2023-08-14T14:26:06.329002222Z"
    },
    "collapsed": false
   },
   "outputs": [
    {
     "name": "stderr",
     "output_type": "stream",
     "text": [
      "/tmp/ipykernel_84079/1697783655.py:1: SettingWithCopyWarning: \n",
      "A value is trying to be set on a copy of a slice from a DataFrame.\n",
      "Try using .loc[row_indexer,col_indexer] = value instead\n",
      "\n",
      "See the caveats in the documentation: https://pandas.pydata.org/pandas-docs/stable/user_guide/indexing.html#returning-a-view-versus-a-copy\n",
      "  df_num['email_time'] = df_num['emailhr'] * 60 + df_num['emailmin']\n",
      "/tmp/ipykernel_84079/1697783655.py:5: SettingWithCopyWarning: \n",
      "A value is trying to be set on a copy of a slice from a DataFrame.\n",
      "Try using .loc[row_indexer,col_indexer] = value instead\n",
      "\n",
      "See the caveats in the documentation: https://pandas.pydata.org/pandas-docs/stable/user_guide/indexing.html#returning-a-view-versus-a-copy\n",
      "  df_num['email_time_center'] = (df_num['email_time'] - min_email_time) / (max_email_time - min_email_time)\n"
     ]
    }
   ],
   "source": [
    "df_num['email_time'] = df_num['emailhr'] * 60 + df_num['emailmin']\n",
    "\n",
    "max_email_time = df_num['email_time'].max()\n",
    "min_email_time = df_num['email_time'].min()\n",
    "df_num['email_time_center'] = (df_num['email_time'] - min_email_time) / (max_email_time - min_email_time)"
   ]
  },
  {
   "cell_type": "code",
   "execution_count": 557,
   "metadata": {
    "ExecuteTime": {
     "end_time": "2023-08-14T14:26:06.539860968Z",
     "start_time": "2023-08-14T14:26:06.329326888Z"
    },
    "collapsed": false
   },
   "outputs": [
    {
     "name": "stderr",
     "output_type": "stream",
     "text": [
      "/tmp/ipykernel_84079/2774885650.py:3: SettingWithCopyWarning: \n",
      "A value is trying to be set on a copy of a slice from a DataFrame.\n",
      "Try using .loc[row_indexer,col_indexer] = value instead\n",
      "\n",
      "See the caveats in the documentation: https://pandas.pydata.org/pandas-docs/stable/user_guide/indexing.html#returning-a-view-versus-a-copy\n",
      "  df_num['educ_center'] = (df_num['educ'] - min_educ) / (max_educ - min_educ)\n"
     ]
    }
   ],
   "source": [
    "max_educ = df_num['educ'].max()\n",
    "min_educ = df_num['educ'].min()\n",
    "df_num['educ_center'] = (df_num['educ'] - min_educ) / (max_educ - min_educ)"
   ]
  },
  {
   "cell_type": "markdown",
   "metadata": {
    "collapsed": false
   },
   "source": [
    "Ghi các tập dữ liệu đã tiền xử lý ra file. Trong đó X, X_fill và y lần lượt là tập đầu vào không coi NaN là một thuộc tính, tập đầu vào coi NaN là thuộc tính (\"unlnown\"), tập đầu ra"
   ]
  },
  {
   "cell_type": "code",
   "execution_count": 558,
   "metadata": {
    "ExecuteTime": {
     "end_time": "2023-08-14T14:26:06.546790135Z",
     "start_time": "2023-08-14T14:26:06.329518370Z"
    },
    "collapsed": false
   },
   "outputs": [],
   "source": [
    "df_cat_dum = pd.get_dummies(df_cat, dtype=int)\n",
    "df_cat_fill_dum = pd.get_dummies(df_cat_fill, dtype=int)\n",
    "\n",
    "df_num.to_csv('./data/preprocessing/gss16_number_columns', index=False)\n",
    "df_cat_dum.to_csv('./data/preprocessing/gss16_dummies_column', index=False)\n",
    "df_cat_fill_dum.to_csv('./data/preprocessing/gss16_dummies_column_fillna', index=False)\n",
    "\n",
    "X = pd.concat([df_num['educ_center'], df_cat_dum], axis=1)\n",
    "X_fill = pd.concat([df_num['educ_center'], df_cat_fill_dum], axis=1)\n",
    "y = df_num['email_time_center']\n",
    "\n",
    "f = lambda x: re.sub(' ','_', x, flags = re.IGNORECASE)\n",
    "X.rename(columns = f, inplace = True)\n",
    "X_fill.rename(columns = f, inplace = True)\n",
    "\n",
    "X.to_csv('./data/preprocessing/X.csv', index=False)\n",
    "X_fill.to_csv('./data/preprocessing/X_fill.csv', index=False)\n",
    "y.to_csv('./data/preprocessing/y.csv', index=False)"
   ]
  },
  {
   "cell_type": "markdown",
   "metadata": {
    "collapsed": false
   },
   "source": [
    "Chia tập train, test với tỉ lệ 80/20, cố định `random_state = 0`"
   ]
  },
  {
   "cell_type": "code",
   "execution_count": 559,
   "metadata": {
    "ExecuteTime": {
     "end_time": "2023-08-14T14:26:06.547234328Z",
     "start_time": "2023-08-14T14:26:06.349080354Z"
    },
    "collapsed": false
   },
   "outputs": [],
   "source": [
    "X_train, X_test, y_train, y_test = train_test_split(X, y, test_size=0.2, random_state=0)"
   ]
  },
  {
   "cell_type": "code",
   "execution_count": 560,
   "metadata": {
    "ExecuteTime": {
     "end_time": "2023-08-14T14:26:06.547384115Z",
     "start_time": "2023-08-14T14:26:06.392978050Z"
    },
    "collapsed": false
   },
   "outputs": [
    {
     "name": "stdout",
     "output_type": "stream",
     "text": [
      "<class 'pandas.core.series.Series'>\n",
      "Index: 1319 entries, 1537 to 1168\n",
      "Series name: email_time_center\n",
      "Non-Null Count  Dtype  \n",
      "--------------  -----  \n",
      "1319 non-null   float64\n",
      "dtypes: float64(1)\n",
      "memory usage: 20.6 KB\n"
     ]
    }
   ],
   "source": [
    "y_train.info()"
   ]
  },
  {
   "cell_type": "code",
   "execution_count": 561,
   "metadata": {},
   "outputs": [],
   "source": [
    "def print_metrics(y_test, y_pred):\n",
    "  mse = mean_squared_error(y_test, y_pred)\n",
    "  rmse = np.sqrt(mse)\n",
    "  r2 = r2_score(y_test, y_pred)\n",
    "  \n",
    "  print(f'metrics, mse: {mse}, rmse: {rmse}, r2: {r2}')\n",
    "  return {\n",
    "    'mse': mse,\n",
    "    'rmse': rmse,\n",
    "    'r2': r2\n",
    "  }"
   ]
  },
  {
   "cell_type": "markdown",
   "metadata": {},
   "source": [
    "## Các mô hình tuyến tính"
   ]
  },
  {
   "cell_type": "markdown",
   "metadata": {},
   "source": [
    "### Mô hình GLM "
   ]
  },
  {
   "cell_type": "code",
   "execution_count": 562,
   "metadata": {},
   "outputs": [],
   "source": [
    "X = pd.read_csv('data/preprocessing/X.csv')\n",
    "y = pd.read_csv('data/preprocessing/y.csv')"
   ]
  },
  {
   "cell_type": "markdown",
   "metadata": {},
   "source": [
    "Như nhận xét ở phần thống kê mô tả, ta thấy rằng biến đầu ra có dáng điệu của phân bố Gamma, ta sẽ thử xây dựng mô hình GLM với phân bố này.\n",
    "Trước hết, để tránh biến đầu ra có giá trị 0 (phân bố Gamma áp dụng cho biến đầu ra > 0) ta sẽ cộng một nhiễu nhỏ vào biến y."
   ]
  },
  {
   "cell_type": "code",
   "execution_count": 563,
   "metadata": {},
   "outputs": [
    {
     "data": {
      "text/plain": [
       "array([[<Axes: title={'center': 'email_time_center'}>,\n",
       "        <Axes: title={'center': 'noise'}>]], dtype=object)"
      ]
     },
     "execution_count": 563,
     "metadata": {},
     "output_type": "execute_result"
    },
    {
     "data": {
      "image/png": "[encoded data removed]",
      "text/plain": [
       "<Figure size 640x480 with 2 Axes>"
      ]
     },
     "metadata": {},
     "output_type": "display_data"
    }
   ],
   "source": [
    "sigma = 1e-3\n",
    "y['noise'] = y['email_time_center'] + sigma\n",
    "y.hist()"
   ]
  },
  {
   "cell_type": "markdown",
   "metadata": {},
   "source": [
    "Chia lại train, test"
   ]
  },
  {
   "cell_type": "code",
   "execution_count": 564,
   "metadata": {},
   "outputs": [],
   "source": [
    "X_train, X_test, y_train, y_test = train_test_split(X, y['noise'], test_size=0.2, random_state=0)"
   ]
  },
  {
   "cell_type": "markdown",
   "metadata": {},
   "source": [
    "Cấu hình mô hình GLM với link function là hàm `log`, thuật toán tối ưu là `lbfgs`"
   ]
  },
  {
   "cell_type": "code",
   "execution_count": 565,
   "metadata": {},
   "outputs": [
    {
     "name": "stderr",
     "output_type": "stream",
     "text": [
      "/home/linhnm/msc_code/social-stat-final-term/venv/lib/python3.10/site-packages/statsmodels/base/model.py:595: HessianInversionWarning: Inverting hessian failed, no bse or cov_params available\n",
      "  warnings.warn('Inverting hessian failed, no bse or cov_params '\n"
     ]
    },
    {
     "data": {
      "text/html": [
       "<table class=\"simpletable\">\n",
       "<caption>Generalized Linear Model Regression Results</caption>\n",
       "<tr>\n",
       "  <th>Dep. Variable:</th>         <td>noise</td>      <th>  No. Observations:  </th>  <td>  1319</td> \n",
       "</tr>\n",
       "<tr>\n",
       "  <th>Model:</th>                  <td>GLM</td>       <th>  Df Residuals:      </th>  <td>  1292</td> \n",
       "</tr>\n",
       "<tr>\n",
       "  <th>Model Family:</th>          <td>Gamma</td>      <th>  Df Model:          </th>  <td>    26</td> \n",
       "</tr>\n",
       "<tr>\n",
       "  <th>Link Function:</th>          <td>Log</td>       <th>  Scale:             </th> <td>  2.7225</td>\n",
       "</tr>\n",
       "<tr>\n",
       "  <th>Method:</th>                <td>lbfgs</td>      <th>  Log-Likelihood:    </th> <td>  2446.1</td>\n",
       "</tr>\n",
       "<tr>\n",
       "  <th>Date:</th>            <td>Tue, 15 Aug 2023</td> <th>  Deviance:          </th> <td>  2766.4</td>\n",
       "</tr>\n",
       "<tr>\n",
       "  <th>Time:</th>                <td>11:50:39</td>     <th>  Pearson chi2:      </th> <td>3.52e+03</td>\n",
       "</tr>\n",
       "<tr>\n",
       "  <th>No. Iterations:</th>         <td>76</td>        <th>  Pseudo R-squ. (CS):</th>  <td>0.1155</td> \n",
       "</tr>\n",
       "<tr>\n",
       "  <th>Covariance Type:</th>     <td>nonrobust</td>    <th>                     </th>     <td> </td>   \n",
       "</tr>\n",
       "</table>\n",
       "<table class=\"simpletable\">\n",
       "<tr>\n",
       "                                 <td></td>                                    <th>coef</th>     <th>std err</th>      <th>z</th>      <th>P>|z|</th>  <th>[0.025</th>    <th>0.975]</th>  \n",
       "</tr>\n",
       "<tr>\n",
       "  <th>educ_center</th>                                                     <td>    1.7498</td> <td>    0.336</td> <td>    5.207</td> <td> 0.000</td> <td>    1.091</td> <td>    2.409</td>\n",
       "</tr>\n",
       "<tr>\n",
       "  <th>harass5_Does_not_apply_(i_do_not_have_a_job/superior/co-worker)</th> <td>    0.5757</td> <td>    1.705</td> <td>    0.338</td> <td> 0.736</td> <td>   -2.767</td> <td>    3.918</td>\n",
       "</tr>\n",
       "<tr>\n",
       "  <th>harass5_No</th>                                                      <td>    1.6434</td> <td>    1.659</td> <td>    0.991</td> <td> 0.322</td> <td>   -1.608</td> <td>    4.895</td>\n",
       "</tr>\n",
       "<tr>\n",
       "  <th>harass5_Yes</th>                                                     <td>    2.1376</td> <td>    1.672</td> <td>    1.279</td> <td> 0.201</td> <td>   -1.139</td> <td>    5.414</td>\n",
       "</tr>\n",
       "<tr>\n",
       "  <th>polviews_Conservative</th>                                           <td>   -0.3103</td> <td>    0.287</td> <td>   -1.081</td> <td> 0.280</td> <td>   -0.873</td> <td>    0.252</td>\n",
       "</tr>\n",
       "<tr>\n",
       "  <th>polviews_Extremely_liberal</th>                                      <td>   -0.3731</td> <td>    0.339</td> <td>   -1.100</td> <td> 0.272</td> <td>   -1.038</td> <td>    0.292</td>\n",
       "</tr>\n",
       "<tr>\n",
       "  <th>polviews_Extrmly_conservative</th>                                   <td>   -0.8881</td> <td>    0.349</td> <td>   -2.546</td> <td> 0.011</td> <td>   -1.572</td> <td>   -0.205</td>\n",
       "</tr>\n",
       "<tr>\n",
       "  <th>polviews_Liberal</th>                                                <td>   -0.4096</td> <td>    0.292</td> <td>   -1.402</td> <td> 0.161</td> <td>   -0.982</td> <td>    0.163</td>\n",
       "</tr>\n",
       "<tr>\n",
       "  <th>polviews_Moderate</th>                                               <td>   -0.2551</td> <td>    0.267</td> <td>   -0.956</td> <td> 0.339</td> <td>   -0.778</td> <td>    0.268</td>\n",
       "</tr>\n",
       "<tr>\n",
       "  <th>polviews_Slghtly_conservative</th>                                   <td>   -0.4439</td> <td>    0.287</td> <td>   -1.550</td> <td> 0.121</td> <td>   -1.005</td> <td>    0.118</td>\n",
       "</tr>\n",
       "<tr>\n",
       "  <th>polviews_Slightly_liberal</th>                                       <td>   -0.2263</td> <td>    0.294</td> <td>   -0.771</td> <td> 0.441</td> <td>   -0.802</td> <td>    0.349</td>\n",
       "</tr>\n",
       "<tr>\n",
       "  <th>advfront_Agree</th>                                                  <td>    1.8392</td> <td>    1.659</td> <td>    1.109</td> <td> 0.268</td> <td>   -1.412</td> <td>    5.090</td>\n",
       "</tr>\n",
       "<tr>\n",
       "  <th>advfront_Disagree</th>                                               <td>    2.0708</td> <td>    1.664</td> <td>    1.244</td> <td> 0.213</td> <td>   -1.191</td> <td>    5.333</td>\n",
       "</tr>\n",
       "<tr>\n",
       "  <th>advfront_Dont_know</th>                                              <td>    1.3055</td> <td>    1.719</td> <td>    0.760</td> <td> 0.448</td> <td>   -2.063</td> <td>    4.674</td>\n",
       "</tr>\n",
       "<tr>\n",
       "  <th>advfront_Strongly_agree</th>                                         <td>    1.8806</td> <td>    1.660</td> <td>    1.133</td> <td> 0.257</td> <td>   -1.373</td> <td>    5.134</td>\n",
       "</tr>\n",
       "<tr>\n",
       "  <th>advfront_Strongly_disagree</th>                                      <td>    2.8589</td> <td>    1.790</td> <td>    1.597</td> <td> 0.110</td> <td>   -0.650</td> <td>    6.368</td>\n",
       "</tr>\n",
       "<tr>\n",
       "  <th>snapchat_No</th>                                                     <td>   -0.0356</td> <td> 5.93e+06</td> <td>   -6e-09</td> <td> 1.000</td> <td>-1.16e+07</td> <td> 1.16e+07</td>\n",
       "</tr>\n",
       "<tr>\n",
       "  <th>snapchat_Yes</th>                                                    <td>    0.2510</td> <td> 5.93e+06</td> <td> 4.23e-08</td> <td> 1.000</td> <td>-1.16e+07</td> <td> 1.16e+07</td>\n",
       "</tr>\n",
       "<tr>\n",
       "  <th>instagrm_No</th>                                                     <td>    0.1412</td> <td> 5.93e+06</td> <td> 2.38e-08</td> <td> 1.000</td> <td>-1.16e+07</td> <td> 1.16e+07</td>\n",
       "</tr>\n",
       "<tr>\n",
       "  <th>instagrm_Yes</th>                                                    <td>    0.0742</td> <td> 5.93e+06</td> <td> 1.25e-08</td> <td> 1.000</td> <td>-1.16e+07</td> <td> 1.16e+07</td>\n",
       "</tr>\n",
       "<tr>\n",
       "  <th>wrkstat_Keeping_house</th>                                           <td>   -6.3681</td> <td>    1.692</td> <td>   -3.764</td> <td> 0.000</td> <td>   -9.684</td> <td>   -3.053</td>\n",
       "</tr>\n",
       "<tr>\n",
       "  <th>wrkstat_Other</th>                                                   <td>   -5.7151</td> <td>    1.727</td> <td>   -3.308</td> <td> 0.001</td> <td>   -9.101</td> <td>   -2.329</td>\n",
       "</tr>\n",
       "<tr>\n",
       "  <th>wrkstat_Retired</th>                                                 <td>   -5.9808</td> <td>    1.692</td> <td>   -3.534</td> <td> 0.000</td> <td>   -9.297</td> <td>   -2.664</td>\n",
       "</tr>\n",
       "<tr>\n",
       "  <th>wrkstat_School</th>                                                  <td>   -6.1987</td> <td>    1.709</td> <td>   -3.628</td> <td> 0.000</td> <td>   -9.547</td> <td>   -2.850</td>\n",
       "</tr>\n",
       "<tr>\n",
       "  <th>wrkstat_Temp_not_working</th>                                        <td>   -5.6451</td> <td>    1.722</td> <td>   -3.278</td> <td> 0.001</td> <td>   -9.021</td> <td>   -2.269</td>\n",
       "</tr>\n",
       "<tr>\n",
       "  <th>wrkstat_Unempl,_laid_off</th>                                        <td>   -5.5115</td> <td>    1.698</td> <td>   -3.246</td> <td> 0.001</td> <td>   -8.840</td> <td>   -2.183</td>\n",
       "</tr>\n",
       "<tr>\n",
       "  <th>wrkstat_Working_fulltime</th>                                        <td>   -5.1353</td> <td>    1.689</td> <td>   -3.040</td> <td> 0.002</td> <td>   -8.446</td> <td>   -1.825</td>\n",
       "</tr>\n",
       "<tr>\n",
       "  <th>wrkstat_Working_parttime</th>                                        <td>   -5.7987</td> <td>    1.681</td> <td>   -3.449</td> <td> 0.001</td> <td>   -9.094</td> <td>   -2.504</td>\n",
       "</tr>\n",
       "</table>"
      ],
      "text/latex": [
       "\\begin{center}\n",
       "\\begin{tabular}{lclc}\n",
       "\\toprule\n",
       "\\textbf{Dep. Variable:}                                                           &      noise       & \\textbf{  No. Observations:  } &     1319    \\\\\n",
       "\\textbf{Model:}                                                                   &       GLM        & \\textbf{  Df Residuals:      } &     1292    \\\\\n",
       "\\textbf{Model Family:}                                                            &      Gamma       & \\textbf{  Df Model:          } &       26    \\\\\n",
       "\\textbf{Link Function:}                                                           &       Log        & \\textbf{  Scale:             } &    2.7225   \\\\\n",
       "\\textbf{Method:}                                                                  &      lbfgs       & \\textbf{  Log-Likelihood:    } &    2446.1   \\\\\n",
       "\\textbf{Date:}                                                                    & Tue, 15 Aug 2023 & \\textbf{  Deviance:          } &    2766.4   \\\\\n",
       "\\textbf{Time:}                                                                    &     11:50:39     & \\textbf{  Pearson chi2:      } &  3.52e+03   \\\\\n",
       "\\textbf{No. Iterations:}                                                          &        76        & \\textbf{  Pseudo R-squ. (CS):} &   0.1155    \\\\\n",
       "\\textbf{Covariance Type:}                                                         &    nonrobust     & \\textbf{                     } &             \\\\\n",
       "\\bottomrule\n",
       "\\end{tabular}\n",
       "\\begin{tabular}{lcccccc}\n",
       "                                                                                  & \\textbf{coef} & \\textbf{std err} & \\textbf{z} & \\textbf{P$> |$z$|$} & \\textbf{[0.025} & \\textbf{0.975]}  \\\\\n",
       "\\midrule\n",
       "\\textbf{educ\\_center}                                                             &       1.7498  &        0.336     &     5.207  &         0.000        &        1.091    &        2.409     \\\\\n",
       "\\textbf{harass5\\_Does\\_not\\_apply\\_(i\\_do\\_not\\_have\\_a\\_job/superior/co-worker)} &       0.5757  &        1.705     &     0.338  &         0.736        &       -2.767    &        3.918     \\\\\n",
       "\\textbf{harass5\\_No}                                                              &       1.6434  &        1.659     &     0.991  &         0.322        &       -1.608    &        4.895     \\\\\n",
       "\\textbf{harass5\\_Yes}                                                             &       2.1376  &        1.672     &     1.279  &         0.201        &       -1.139    &        5.414     \\\\\n",
       "\\textbf{polviews\\_Conservative}                                                   &      -0.3103  &        0.287     &    -1.081  &         0.280        &       -0.873    &        0.252     \\\\\n",
       "\\textbf{polviews\\_Extremely\\_liberal}                                             &      -0.3731  &        0.339     &    -1.100  &         0.272        &       -1.038    &        0.292     \\\\\n",
       "\\textbf{polviews\\_Extrmly\\_conservative}                                          &      -0.8881  &        0.349     &    -2.546  &         0.011        &       -1.572    &       -0.205     \\\\\n",
       "\\textbf{polviews\\_Liberal}                                                        &      -0.4096  &        0.292     &    -1.402  &         0.161        &       -0.982    &        0.163     \\\\\n",
       "\\textbf{polviews\\_Moderate}                                                       &      -0.2551  &        0.267     &    -0.956  &         0.339        &       -0.778    &        0.268     \\\\\n",
       "\\textbf{polviews\\_Slghtly\\_conservative}                                          &      -0.4439  &        0.287     &    -1.550  &         0.121        &       -1.005    &        0.118     \\\\\n",
       "\\textbf{polviews\\_Slightly\\_liberal}                                              &      -0.2263  &        0.294     &    -0.771  &         0.441        &       -0.802    &        0.349     \\\\\n",
       "\\textbf{advfront\\_Agree}                                                          &       1.8392  &        1.659     &     1.109  &         0.268        &       -1.412    &        5.090     \\\\\n",
       "\\textbf{advfront\\_Disagree}                                                       &       2.0708  &        1.664     &     1.244  &         0.213        &       -1.191    &        5.333     \\\\\n",
       "\\textbf{advfront\\_Dont\\_know}                                                     &       1.3055  &        1.719     &     0.760  &         0.448        &       -2.063    &        4.674     \\\\\n",
       "\\textbf{advfront\\_Strongly\\_agree}                                                &       1.8806  &        1.660     &     1.133  &         0.257        &       -1.373    &        5.134     \\\\\n",
       "\\textbf{advfront\\_Strongly\\_disagree}                                             &       2.8589  &        1.790     &     1.597  &         0.110        &       -0.650    &        6.368     \\\\\n",
       "\\textbf{snapchat\\_No}                                                             &      -0.0356  &     5.93e+06     &    -6e-09  &         1.000        &    -1.16e+07    &     1.16e+07     \\\\\n",
       "\\textbf{snapchat\\_Yes}                                                            &       0.2510  &     5.93e+06     &  4.23e-08  &         1.000        &    -1.16e+07    &     1.16e+07     \\\\\n",
       "\\textbf{instagrm\\_No}                                                             &       0.1412  &     5.93e+06     &  2.38e-08  &         1.000        &    -1.16e+07    &     1.16e+07     \\\\\n",
       "\\textbf{instagrm\\_Yes}                                                            &       0.0742  &     5.93e+06     &  1.25e-08  &         1.000        &    -1.16e+07    &     1.16e+07     \\\\\n",
       "\\textbf{wrkstat\\_Keeping\\_house}                                                  &      -6.3681  &        1.692     &    -3.764  &         0.000        &       -9.684    &       -3.053     \\\\\n",
       "\\textbf{wrkstat\\_Other}                                                           &      -5.7151  &        1.727     &    -3.308  &         0.001        &       -9.101    &       -2.329     \\\\\n",
       "\\textbf{wrkstat\\_Retired}                                                         &      -5.9808  &        1.692     &    -3.534  &         0.000        &       -9.297    &       -2.664     \\\\\n",
       "\\textbf{wrkstat\\_School}                                                          &      -6.1987  &        1.709     &    -3.628  &         0.000        &       -9.547    &       -2.850     \\\\\n",
       "\\textbf{wrkstat\\_Temp\\_not\\_working}                                              &      -5.6451  &        1.722     &    -3.278  &         0.001        &       -9.021    &       -2.269     \\\\\n",
       "\\textbf{wrkstat\\_Unempl,\\_laid\\_off}                                              &      -5.5115  &        1.698     &    -3.246  &         0.001        &       -8.840    &       -2.183     \\\\\n",
       "\\textbf{wrkstat\\_Working\\_fulltime}                                               &      -5.1353  &        1.689     &    -3.040  &         0.002        &       -8.446    &       -1.825     \\\\\n",
       "\\textbf{wrkstat\\_Working\\_parttime}                                               &      -5.7987  &        1.681     &    -3.449  &         0.001        &       -9.094    &       -2.504     \\\\\n",
       "\\bottomrule\n",
       "\\end{tabular}\n",
       "%\\caption{Generalized Linear Model Regression Results}\n",
       "\\end{center}"
      ],
      "text/plain": [
       "<class 'statsmodels.iolib.summary.Summary'>\n",
       "\"\"\"\n",
       "                 Generalized Linear Model Regression Results                  \n",
       "==============================================================================\n",
       "Dep. Variable:                  noise   No. Observations:                 1319\n",
       "Model:                            GLM   Df Residuals:                     1292\n",
       "Model Family:                   Gamma   Df Model:                           26\n",
       "Link Function:                    Log   Scale:                          2.7225\n",
       "Method:                         lbfgs   Log-Likelihood:                 2446.1\n",
       "Date:                Tue, 15 Aug 2023   Deviance:                       2766.4\n",
       "Time:                        11:50:39   Pearson chi2:                 3.52e+03\n",
       "No. Iterations:                    76   Pseudo R-squ. (CS):             0.1155\n",
       "Covariance Type:            nonrobust                                         \n",
       "===================================================================================================================================\n",
       "                                                                      coef    std err          z      P>|z|      [0.025      0.975]\n",
       "-----------------------------------------------------------------------------------------------------------------------------------\n",
       "educ_center                                                         1.7498      0.336      5.207      0.000       1.091       2.409\n",
       "harass5_Does_not_apply_(i_do_not_have_a_job/superior/co-worker)     0.5757      1.705      0.338      0.736      -2.767       3.918\n",
       "harass5_No                                                          1.6434      1.659      0.991      0.322      -1.608       4.895\n",
       "harass5_Yes                                                         2.1376      1.672      1.279      0.201      -1.139       5.414\n",
       "polviews_Conservative                                              -0.3103      0.287     -1.081      0.280      -0.873       0.252\n",
       "polviews_Extremely_liberal                                         -0.3731      0.339     -1.100      0.272      -1.038       0.292\n",
       "polviews_Extrmly_conservative                                      -0.8881      0.349     -2.546      0.011      -1.572      -0.205\n",
       "polviews_Liberal                                                   -0.4096      0.292     -1.402      0.161      -0.982       0.163\n",
       "polviews_Moderate                                                  -0.2551      0.267     -0.956      0.339      -0.778       0.268\n",
       "polviews_Slghtly_conservative                                      -0.4439      0.287     -1.550      0.121      -1.005       0.118\n",
       "polviews_Slightly_liberal                                          -0.2263      0.294     -0.771      0.441      -0.802       0.349\n",
       "advfront_Agree                                                      1.8392      1.659      1.109      0.268      -1.412       5.090\n",
       "advfront_Disagree                                                   2.0708      1.664      1.244      0.213      -1.191       5.333\n",
       "advfront_Dont_know                                                  1.3055      1.719      0.760      0.448      -2.063       4.674\n",
       "advfront_Strongly_agree                                             1.8806      1.660      1.133      0.257      -1.373       5.134\n",
       "advfront_Strongly_disagree                                          2.8589      1.790      1.597      0.110      -0.650       6.368\n",
       "snapchat_No                                                        -0.0356   5.93e+06     -6e-09      1.000   -1.16e+07    1.16e+07\n",
       "snapchat_Yes                                                        0.2510   5.93e+06   4.23e-08      1.000   -1.16e+07    1.16e+07\n",
       "instagrm_No                                                         0.1412   5.93e+06   2.38e-08      1.000   -1.16e+07    1.16e+07\n",
       "instagrm_Yes                                                        0.0742   5.93e+06   1.25e-08      1.000   -1.16e+07    1.16e+07\n",
       "wrkstat_Keeping_house                                              -6.3681      1.692     -3.764      0.000      -9.684      -3.053\n",
       "wrkstat_Other                                                      -5.7151      1.727     -3.308      0.001      -9.101      -2.329\n",
       "wrkstat_Retired                                                    -5.9808      1.692     -3.534      0.000      -9.297      -2.664\n",
       "wrkstat_School                                                     -6.1987      1.709     -3.628      0.000      -9.547      -2.850\n",
       "wrkstat_Temp_not_working                                           -5.6451      1.722     -3.278      0.001      -9.021      -2.269\n",
       "wrkstat_Unempl,_laid_off                                           -5.5115      1.698     -3.246      0.001      -8.840      -2.183\n",
       "wrkstat_Working_fulltime                                           -5.1353      1.689     -3.040      0.002      -8.446      -1.825\n",
       "wrkstat_Working_parttime                                           -5.7987      1.681     -3.449      0.001      -9.094      -2.504\n",
       "===================================================================================================================================\n",
       "\"\"\""
      ]
     },
     "execution_count": 565,
     "metadata": {},
     "output_type": "execute_result"
    }
   ],
   "source": [
    "link_function = stm.genmod.families.links.Log()\n",
    "gamma_model = stm.api.GLM(y_train, X_train, family=stm.api.families.Gamma(link=link_function))\n",
    "gamma_results = gamma_model.fit(method='lbfgs')\n",
    "gamma_results.summary()"
   ]
  },
  {
   "cell_type": "code",
   "execution_count": 566,
   "metadata": {},
   "outputs": [
    {
     "name": "stdout",
     "output_type": "stream",
     "text": [
      "metrics, mse: 0.00901724897484081, rmse: 0.094959196367918, r2: 0.08931380081135276\n"
     ]
    },
    {
     "data": {
      "text/plain": [
       "{'mse': 0.00901724897484081,\n",
       " 'rmse': 0.094959196367918,\n",
       " 'r2': 0.08931380081135276}"
      ]
     },
     "execution_count": 566,
     "metadata": {},
     "output_type": "execute_result"
    }
   ],
   "source": [
    "y_pred = gamma_results.predict(X_test)\n",
    "print_metrics(y_test, y_pred)"
   ]
  },
  {
   "cell_type": "markdown",
   "metadata": {},
   "source": [
    "Dựa vào kết quả summary, ta có thể bỏ đi các biến giải thích ít đóng góp tới mô hình (có pvalue > 0.05)."
   ]
  },
  {
   "cell_type": "code",
   "execution_count": 567,
   "metadata": {},
   "outputs": [],
   "source": [
    "choices = ['educ_center', 'wrkstat_Keeping_house', 'wrkstat_Other', 'wrkstat_Retired', 'wrkstat_School', 'wrkstat_Temp_not_working', 'wrkstat_Unempl,_laid_off', 'wrkstat_Working_fulltime', 'wrkstat_Working_parttime']\n",
    "X_train_choice = X_train[X_train.columns.intersection(choices)]\n",
    "X_test_choice = X_test[X_test.columns.intersection(choices)]"
   ]
  },
  {
   "cell_type": "markdown",
   "metadata": {},
   "source": [
    "Xây dựng lại mô hình với các biến giải thích được chọn"
   ]
  },
  {
   "cell_type": "code",
   "execution_count": 568,
   "metadata": {},
   "outputs": [
    {
     "data": {
      "text/html": [
       "<table class=\"simpletable\">\n",
       "<caption>Generalized Linear Model Regression Results</caption>\n",
       "<tr>\n",
       "  <th>Dep. Variable:</th>         <td>noise</td>      <th>  No. Observations:  </th>  <td>  1319</td> \n",
       "</tr>\n",
       "<tr>\n",
       "  <th>Model:</th>                  <td>GLM</td>       <th>  Df Residuals:      </th>  <td>  1310</td> \n",
       "</tr>\n",
       "<tr>\n",
       "  <th>Model Family:</th>          <td>Gamma</td>      <th>  Df Model:          </th>  <td>     8</td> \n",
       "</tr>\n",
       "<tr>\n",
       "  <th>Link Function:</th>          <td>Log</td>       <th>  Scale:             </th> <td>  3.1713</td>\n",
       "</tr>\n",
       "<tr>\n",
       "  <th>Method:</th>                <td>lbfgs</td>      <th>  Log-Likelihood:    </th> <td>  2367.1</td>\n",
       "</tr>\n",
       "<tr>\n",
       "  <th>Date:</th>            <td>Tue, 15 Aug 2023</td> <th>  Deviance:          </th> <td>  2861.4</td>\n",
       "</tr>\n",
       "<tr>\n",
       "  <th>Time:</th>                <td>11:50:39</td>     <th>  Pearson chi2:      </th> <td>4.15e+03</td>\n",
       "</tr>\n",
       "<tr>\n",
       "  <th>No. Iterations:</th>         <td>16</td>        <th>  Pseudo R-squ. (CS):</th>  <td>0.07930</td>\n",
       "</tr>\n",
       "<tr>\n",
       "  <th>Covariance Type:</th>     <td>nonrobust</td>    <th>                     </th>     <td> </td>   \n",
       "</tr>\n",
       "</table>\n",
       "<table class=\"simpletable\">\n",
       "<tr>\n",
       "              <td></td>                <th>coef</th>     <th>std err</th>      <th>z</th>      <th>P>|z|</th>  <th>[0.025</th>    <th>0.975]</th>  \n",
       "</tr>\n",
       "<tr>\n",
       "  <th>educ_center</th>              <td>    1.4805</td> <td>    0.331</td> <td>    4.476</td> <td> 0.000</td> <td>    0.832</td> <td>    2.129</td>\n",
       "</tr>\n",
       "<tr>\n",
       "  <th>wrkstat_Keeping_house</th>    <td>   -4.5508</td> <td>    0.267</td> <td>  -17.043</td> <td> 0.000</td> <td>   -5.074</td> <td>   -4.027</td>\n",
       "</tr>\n",
       "<tr>\n",
       "  <th>wrkstat_Other</th>            <td>   -3.9870</td> <td>    0.418</td> <td>   -9.535</td> <td> 0.000</td> <td>   -4.807</td> <td>   -3.167</td>\n",
       "</tr>\n",
       "<tr>\n",
       "  <th>wrkstat_Retired</th>          <td>   -4.2569</td> <td>    0.241</td> <td>  -17.699</td> <td> 0.000</td> <td>   -4.728</td> <td>   -3.786</td>\n",
       "</tr>\n",
       "<tr>\n",
       "  <th>wrkstat_School</th>           <td>   -4.4415</td> <td>    0.356</td> <td>  -12.479</td> <td> 0.000</td> <td>   -5.139</td> <td>   -3.744</td>\n",
       "</tr>\n",
       "<tr>\n",
       "  <th>wrkstat_Temp_not_working</th> <td>   -3.8865</td> <td>    0.416</td> <td>   -9.342</td> <td> 0.000</td> <td>   -4.702</td> <td>   -3.071</td>\n",
       "</tr>\n",
       "<tr>\n",
       "  <th>wrkstat_Unempl,_laid_off</th> <td>   -3.7014</td> <td>    0.319</td> <td>  -11.608</td> <td> 0.000</td> <td>   -4.326</td> <td>   -3.076</td>\n",
       "</tr>\n",
       "<tr>\n",
       "  <th>wrkstat_Working_fulltime</th> <td>   -3.3562</td> <td>    0.241</td> <td>  -13.943</td> <td> 0.000</td> <td>   -3.828</td> <td>   -2.884</td>\n",
       "</tr>\n",
       "<tr>\n",
       "  <th>wrkstat_Working_parttime</th> <td>   -3.9947</td> <td>    0.258</td> <td>  -15.489</td> <td> 0.000</td> <td>   -4.500</td> <td>   -3.489</td>\n",
       "</tr>\n",
       "</table>"
      ],
      "text/latex": [
       "\\begin{center}\n",
       "\\begin{tabular}{lclc}\n",
       "\\toprule\n",
       "\\textbf{Dep. Variable:}              &      noise       & \\textbf{  No. Observations:  } &     1319    \\\\\n",
       "\\textbf{Model:}                      &       GLM        & \\textbf{  Df Residuals:      } &     1310    \\\\\n",
       "\\textbf{Model Family:}               &      Gamma       & \\textbf{  Df Model:          } &        8    \\\\\n",
       "\\textbf{Link Function:}              &       Log        & \\textbf{  Scale:             } &    3.1713   \\\\\n",
       "\\textbf{Method:}                     &      lbfgs       & \\textbf{  Log-Likelihood:    } &    2367.1   \\\\\n",
       "\\textbf{Date:}                       & Tue, 15 Aug 2023 & \\textbf{  Deviance:          } &    2861.4   \\\\\n",
       "\\textbf{Time:}                       &     11:50:39     & \\textbf{  Pearson chi2:      } &  4.15e+03   \\\\\n",
       "\\textbf{No. Iterations:}             &        16        & \\textbf{  Pseudo R-squ. (CS):} &  0.07930    \\\\\n",
       "\\textbf{Covariance Type:}            &    nonrobust     & \\textbf{                     } &             \\\\\n",
       "\\bottomrule\n",
       "\\end{tabular}\n",
       "\\begin{tabular}{lcccccc}\n",
       "                                     & \\textbf{coef} & \\textbf{std err} & \\textbf{z} & \\textbf{P$> |$z$|$} & \\textbf{[0.025} & \\textbf{0.975]}  \\\\\n",
       "\\midrule\n",
       "\\textbf{educ\\_center}                &       1.4805  &        0.331     &     4.476  &         0.000        &        0.832    &        2.129     \\\\\n",
       "\\textbf{wrkstat\\_Keeping\\_house}     &      -4.5508  &        0.267     &   -17.043  &         0.000        &       -5.074    &       -4.027     \\\\\n",
       "\\textbf{wrkstat\\_Other}              &      -3.9870  &        0.418     &    -9.535  &         0.000        &       -4.807    &       -3.167     \\\\\n",
       "\\textbf{wrkstat\\_Retired}            &      -4.2569  &        0.241     &   -17.699  &         0.000        &       -4.728    &       -3.786     \\\\\n",
       "\\textbf{wrkstat\\_School}             &      -4.4415  &        0.356     &   -12.479  &         0.000        &       -5.139    &       -3.744     \\\\\n",
       "\\textbf{wrkstat\\_Temp\\_not\\_working} &      -3.8865  &        0.416     &    -9.342  &         0.000        &       -4.702    &       -3.071     \\\\\n",
       "\\textbf{wrkstat\\_Unempl,\\_laid\\_off} &      -3.7014  &        0.319     &   -11.608  &         0.000        &       -4.326    &       -3.076     \\\\\n",
       "\\textbf{wrkstat\\_Working\\_fulltime}  &      -3.3562  &        0.241     &   -13.943  &         0.000        &       -3.828    &       -2.884     \\\\\n",
       "\\textbf{wrkstat\\_Working\\_parttime}  &      -3.9947  &        0.258     &   -15.489  &         0.000        &       -4.500    &       -3.489     \\\\\n",
       "\\bottomrule\n",
       "\\end{tabular}\n",
       "%\\caption{Generalized Linear Model Regression Results}\n",
       "\\end{center}"
      ],
      "text/plain": [
       "<class 'statsmodels.iolib.summary.Summary'>\n",
       "\"\"\"\n",
       "                 Generalized Linear Model Regression Results                  \n",
       "==============================================================================\n",
       "Dep. Variable:                  noise   No. Observations:                 1319\n",
       "Model:                            GLM   Df Residuals:                     1310\n",
       "Model Family:                   Gamma   Df Model:                            8\n",
       "Link Function:                    Log   Scale:                          3.1713\n",
       "Method:                         lbfgs   Log-Likelihood:                 2367.1\n",
       "Date:                Tue, 15 Aug 2023   Deviance:                       2861.4\n",
       "Time:                        11:50:39   Pearson chi2:                 4.15e+03\n",
       "No. Iterations:                    16   Pseudo R-squ. (CS):            0.07930\n",
       "Covariance Type:            nonrobust                                         \n",
       "============================================================================================\n",
       "                               coef    std err          z      P>|z|      [0.025      0.975]\n",
       "--------------------------------------------------------------------------------------------\n",
       "educ_center                  1.4805      0.331      4.476      0.000       0.832       2.129\n",
       "wrkstat_Keeping_house       -4.5508      0.267    -17.043      0.000      -5.074      -4.027\n",
       "wrkstat_Other               -3.9870      0.418     -9.535      0.000      -4.807      -3.167\n",
       "wrkstat_Retired             -4.2569      0.241    -17.699      0.000      -4.728      -3.786\n",
       "wrkstat_School              -4.4415      0.356    -12.479      0.000      -5.139      -3.744\n",
       "wrkstat_Temp_not_working    -3.8865      0.416     -9.342      0.000      -4.702      -3.071\n",
       "wrkstat_Unempl,_laid_off    -3.7014      0.319    -11.608      0.000      -4.326      -3.076\n",
       "wrkstat_Working_fulltime    -3.3562      0.241    -13.943      0.000      -3.828      -2.884\n",
       "wrkstat_Working_parttime    -3.9947      0.258    -15.489      0.000      -4.500      -3.489\n",
       "============================================================================================\n",
       "\"\"\""
      ]
     },
     "execution_count": 568,
     "metadata": {},
     "output_type": "execute_result"
    }
   ],
   "source": [
    "link_function = stm.genmod.families.links.Log()\n",
    "gm_model = stm.api.GLM(y_train, X_train_choice, family=stm.api.families.Gamma(link=link_function))\n",
    "gm_res = gm_model.fit(method='lbfgs')\n",
    "gm_res.summary()"
   ]
  },
  {
   "cell_type": "markdown",
   "metadata": {},
   "source": [
    "Ta thử đưa vào hàm phạt với hiệu chỉnh L1, L2 với các tỉ lệ khác nhau"
   ]
  },
  {
   "cell_type": "code",
   "execution_count": 569,
   "metadata": {},
   "outputs": [
    {
     "name": "stderr",
     "output_type": "stream",
     "text": [
      "/home/linhnm/msc_code/social-stat-final-term/venv/lib/python3.10/site-packages/statsmodels/genmod/generalized_linear_model.py:1379: UserWarning: Elastic net fitting did not converge\n",
      "  warnings.warn(\"Elastic net fitting did not converge\")\n"
     ]
    },
    {
     "name": "stdout",
     "output_type": "stream",
     "text": [
      "metrics, mse: 0.00887307113577514, rmse: 0.0941969805024298, r2: 0.10387486800959611\n",
      "metrics, mse: 0.014813793056454935, rmse: 0.12171192651689865, r2: -0.49610118693526273\n",
      "metrics, mse: 0.015027482078590535, rmse: 0.12258663091296104, r2: -0.5176824523433685\n",
      "metrics, mse: 0.01537122380470522, rmse: 0.12398073965219444, r2: -0.55239823394498\n",
      "metrics, mse: 0.015525499042163705, rmse: 0.1246013605148985, r2: -0.5679790757318701\n",
      "metrics, mse: 0.01601139161872097, rmse: 0.12653612772137834, r2: -0.6170512112571873\n",
      "metrics, mse: 0.017451128977645242, rmse: 0.13210272131052123, r2: -0.7624557516981696\n",
      "metrics, mse: 0.019522168778995406, rmse: 0.1397217548522613, r2: -0.9716179219257346\n",
      "metrics, mse: 0.019797347365364926, rmse: 0.1407030467522467, r2: -0.9994092518111766\n",
      "metrics, mse: 0.020161349363094636, rmse: 0.14199066646471745, r2: -1.0361711951416144\n",
      "metrics, mse: 0.020665199736611847, rmse: 0.14375395555118423, r2: -1.0870569567412343\n",
      "metrics, mse: 0.021483116105197406, rmse: 0.1465711980751928, r2: -1.1696614352290333\n",
      "metrics, mse: 0.021808175404001266, rmse: 0.14767591341854386, r2: -1.2024904075868514\n",
      "metrics, mse: 0.022151181222027607, rmse: 0.14883272900147873, r2: -1.2371318670374611\n",
      "metrics, mse: 0.0225134537872117, rmse: 0.15004483925550954, r2: -1.2737191484110078\n",
      "metrics, mse: 0.02289643729166779, rmse: 0.15131568752666655, r2: -1.3123981061505794\n",
      "metrics, mse: 0.023301714199270185, rmse: 0.15264899016786906, r2: -1.353328559289129\n",
      "metrics, mse: 0.023731021527230615, rmse: 0.15404876347192994, r2: -1.3966859357877652\n",
      "metrics, mse: 0.024186269420530274, rmse: 0.15551935384552712, r2: -1.4426631484381485\n",
      "metrics, mse: 0.02466956239741255, rmse: 0.15706547169066964, r2: -1.4914727405254355\n",
      "metrics, mse: 0.02518322371606035, rmse: 0.1586922295390053, r2: -1.5433493467115094\n",
      "metrics, mse: 0.02572982340006906, rmse: 0.1604051850785038, r2: -1.5985525234338636\n",
      "metrics, mse: 0.02631221056718298, rmse: 0.16221038982501393, r2: -1.6573700139074017\n",
      "metrics, mse: 0.026933550836824305, rmse: 0.16411444432719596, r2: -1.7201215260527674\n",
      "metrics, mse: 0.027597369753397598, rmse: 0.16612456095772712, r2: -1.787163117980679\n",
      "metrics, mse: 0.028307603362154942, rmse: 0.168248635543219, r2: -1.8588923058405142\n",
      "metrics, mse: 0.02906865732284768, rmse: 0.17049532932854108, r2: -1.9357540339323651\n",
      "metrics, mse: 0.02988547625685413, rmse: 0.17287416306913572, r2: -2.018247678336676\n",
      "metrics, mse: 0.030763625413470976, rmse: 0.17539562541144227, r2: -2.106935294702978\n",
      "metrics, mse: 0.03170938723365435, rmse: 0.17807129817478826, r2: -2.2024513705886104\n",
      "metrics, mse: 0.03272987601526324, rmse: 0.1809140017114851, r2: -2.3055144059368673\n",
      "metrics, mse: 0.03383317468360627, rmse: 0.18393796422600275, r2: -2.4169407260536357\n",
      "metrics, mse: 0.03502849869969342, rmse: 0.18715901981922597, r2: -2.537661035323851\n",
      "metrics, mse: 0.03632639347040377, rmse: 0.19059484114320557, r2: -2.6687403544136172\n",
      "metrics, mse: 0.037738973361369874, rmse: 0.1942652139765889, r2: -2.8114021590885785\n",
      "metrics, mse: 0.03928021269469178, rmse: 0.19819236285662417, r2: -2.9670577691775475\n",
      "metrics, mse: 0.04096630213418186, rmse: 0.20240133925985238, r2: -3.137342341271049\n",
      "metrics, mse: 0.04281608789378753, rmse: 0.2069204868875664, r2: -3.324159226046965\n",
      "metrics, mse: 0.04485161663733924, rmse: 0.21178200262850297, r2: -3.529734999764255\n",
      "metrics, mse: 0.04709881632477775, rmse: 0.21702261708121057, r2: -3.7566882255076335\n",
      "metrics, mse: 0.049588353406062276, rmse: 0.2226844256028299, r2: -4.0081160244538445\n",
      "metrics, mse: 0.05235672084974854, rmse: 0.22881591039468505, r2: -4.287703960007409\n",
      "metrics, mse: 0.05544763127425057, rmse: 0.23547320712609868, r2: -4.599866735414419\n",
      "metrics, mse: 0.05891381757289517, rmse: 0.24272168747949815, r2: -4.949930045721112\n",
      "metrics, mse: 0.06281938394015618, rmse: 0.25063795390993, r2: -5.344368016836658\n",
      "metrics, mse: 0.06724290941727368, rmse: 0.2593123780641288, r2: -5.791116644384828\n",
      "metrics, mse: 0.07228159395495626, rmse: 0.2688523646073366, r2: -6.299992520312804\n",
      "metrics, mse: 0.07805686962779146, rmse: 0.27938659529009524, r2: -6.883259530731999\n",
      "metrics, mse: 0.0847221035202297, rmse: 0.291070616037122, r2: -7.556406799610098\n",
      "metrics, mse: 0.09247333854514286, rmse: 0.30409429219428447, r2: -8.339233444804368\n"
     ]
    },
    {
     "name": "stdout",
     "output_type": "stream",
     "text": [
      "metrics, mse: 0.10156453103604643, rmse: 0.31869190613513615, r2: -9.257387480334865\n",
      "metrics, mse: 0.11232958587345111, rmse: 0.33515606196733355, r2: -10.344591227429639\n",
      "metrics, mse: 0.12521491055448178, rmse: 0.35385718949101735, r2: -11.64592907357541\n",
      "metrics, mse: 0.14082868008281604, rmse: 0.3752714751787245, r2: -13.22282292073873\n",
      "metrics, mse: 0.1600174485914844, rmse: 0.40002181014475247, r2: -15.160769483934132\n",
      "metrics, mse: 0.1839890506037058, rmse: 0.4289394486448009, r2: -17.58175255603104\n",
      "metrics, mse: 0.21451695940622575, rmse: 0.46315975581458474, r2: -20.66488193552512\n",
      "metrics, mse: 0.25429460767386197, rmse: 0.5042763207546652, r2: -24.682177611244885\n",
      "metrics, mse: 0.30758086657392475, rmse: 0.554599735461463, r2: -30.063759147041075\n",
      "metrics, mse: 0.3814479615440346, rmse: 0.6176147355301965, r2: -37.52387743268748\n",
      "metrics, mse: 0.48837652028288686, rmse: 0.6988394095089994, r2: -48.32299843004515\n",
      "metrics, mse: 0.652170143668469, rmse: 0.807570519316096, r2: -64.86513813901175\n",
      "metrics, mse: 0.8785576067340068, rmse: 0.9373140384812375, r2: -87.72886729391784\n",
      "metrics, mse: 0.8785576067340068, rmse: 0.9373140384812375, r2: -87.72886729391784\n",
      "metrics, mse: 0.8785576067340068, rmse: 0.9373140384812375, r2: -87.72886729391784\n",
      "metrics, mse: 0.8785576067340068, rmse: 0.9373140384812375, r2: -87.72886729391784\n",
      "metrics, mse: 0.8785576067340068, rmse: 0.9373140384812375, r2: -87.72886729391784\n",
      "metrics, mse: 0.8785576067340068, rmse: 0.9373140384812375, r2: -87.72886729391784\n",
      "metrics, mse: 0.8785576067340068, rmse: 0.9373140384812375, r2: -87.72886729391784\n",
      "metrics, mse: 0.8785576067340068, rmse: 0.9373140384812375, r2: -87.72886729391784\n",
      "metrics, mse: 0.8785576067340068, rmse: 0.9373140384812375, r2: -87.72886729391784\n",
      "metrics, mse: 0.8785576067340068, rmse: 0.9373140384812375, r2: -87.72886729391784\n",
      "metrics, mse: 0.8785576067340068, rmse: 0.9373140384812375, r2: -87.72886729391784\n",
      "metrics, mse: 0.8785576067340068, rmse: 0.9373140384812375, r2: -87.72886729391784\n",
      "metrics, mse: 0.8785576067340068, rmse: 0.9373140384812375, r2: -87.72886729391784\n",
      "metrics, mse: 0.8785576067340068, rmse: 0.9373140384812375, r2: -87.72886729391784\n",
      "metrics, mse: 0.8785576067340068, rmse: 0.9373140384812375, r2: -87.72886729391784\n",
      "metrics, mse: 0.8785576067340068, rmse: 0.9373140384812375, r2: -87.72886729391784\n",
      "metrics, mse: 0.8785576067340068, rmse: 0.9373140384812375, r2: -87.72886729391784\n",
      "metrics, mse: 0.8785576067340068, rmse: 0.9373140384812375, r2: -87.72886729391784\n",
      "metrics, mse: 0.8785576067340068, rmse: 0.9373140384812375, r2: -87.72886729391784\n",
      "metrics, mse: 0.8785576067340068, rmse: 0.9373140384812375, r2: -87.72886729391784\n",
      "metrics, mse: 0.8785576067340068, rmse: 0.9373140384812375, r2: -87.72886729391784\n",
      "metrics, mse: 0.8785576067340068, rmse: 0.9373140384812375, r2: -87.72886729391784\n",
      "metrics, mse: 0.8785576067340068, rmse: 0.9373140384812375, r2: -87.72886729391784\n",
      "metrics, mse: 0.8785576067340068, rmse: 0.9373140384812375, r2: -87.72886729391784\n",
      "metrics, mse: 0.8785576067340068, rmse: 0.9373140384812375, r2: -87.72886729391784\n",
      "metrics, mse: 0.8785576067340068, rmse: 0.9373140384812375, r2: -87.72886729391784\n",
      "metrics, mse: 0.8785576067340068, rmse: 0.9373140384812375, r2: -87.72886729391784\n",
      "metrics, mse: 0.8785576067340068, rmse: 0.9373140384812375, r2: -87.72886729391784\n",
      "metrics, mse: 0.8785576067340068, rmse: 0.9373140384812375, r2: -87.72886729391784\n",
      "metrics, mse: 0.8785576067340068, rmse: 0.9373140384812375, r2: -87.72886729391784\n",
      "metrics, mse: 0.8785576067340068, rmse: 0.9373140384812375, r2: -87.72886729391784\n",
      "metrics, mse: 0.8785576067340068, rmse: 0.9373140384812375, r2: -87.72886729391784\n",
      "metrics, mse: 0.8785576067340068, rmse: 0.9373140384812375, r2: -87.72886729391784\n",
      "metrics, mse: 0.8785576067340068, rmse: 0.9373140384812375, r2: -87.72886729391784\n",
      "metrics, mse: 0.8785576067340068, rmse: 0.9373140384812375, r2: -87.72886729391784\n",
      "metrics, mse: 0.8785576067340068, rmse: 0.9373140384812375, r2: -87.72886729391784\n",
      "metrics, mse: 0.8785576067340068, rmse: 0.9373140384812375, r2: -87.72886729391784\n",
      "metrics, mse: 0.8785576067340068, rmse: 0.9373140384812375, r2: -87.72886729391784\n",
      "[[0.0, {'mse': 0.00887307113577514, 'rmse': 0.0941969805024298, 'r2': 0.10387486800959611}]]\n"
     ]
    }
   ],
   "source": [
    "results = []\n",
    "for al in np.arange(0, 1, 0.01, dtype=float):\n",
    "  link_function = stm.genmod.families.links.Log()\n",
    "  gm_pn_model = stm.api.GLM(y_train, X_train_choice, family=stm.api.families.Gamma(link=link_function))\n",
    "  gm_pn_res = gm_pn_model.fit_regularized(method='elastic_net', alpha=al, opt_method='bfgs')\n",
    "  y_pred = gm_pn_res.predict(X_test_choice)\n",
    "  res = print_metrics(y_test, y_pred)\n",
    "  if res.get('r2') > 0:\n",
    "    results.append([al, res])\n",
    "print(results)"
   ]
  },
  {
   "cell_type": "markdown",
   "metadata": {},
   "source": [
    "Kết quả thu được r2 dương (mô hình có ý nghĩa) với chỉ hiệu chỉnh L2 ($\\alpha=0$).\n",
    "\n",
    "`{'mse': 0.00887307113577514, 'rmse': 0.0941969805024298, 'r2': 0.10387486800959611}`"
   ]
  },
  {
   "cell_type": "code",
   "execution_count": null,
   "metadata": {},
   "outputs": [],
   "source": []
  },
  {
   "cell_type": "code",
   "execution_count": 570,
   "metadata": {},
   "outputs": [
    {
     "name": "stdout",
     "output_type": "stream",
     "text": [
      "metrics, mse: 0.008810617366608622, rmse: 0.09386488889147326, r2: 0.11018231120274202\n"
     ]
    },
    {
     "data": {
      "text/plain": [
       "{'mse': 0.008810617366608622,\n",
       " 'rmse': 0.09386488889147326,\n",
       " 'r2': 0.11018231120274202}"
      ]
     },
     "execution_count": 570,
     "metadata": {},
     "output_type": "execute_result"
    }
   ],
   "source": [
    "y_pred = gm_res.predict(X_test_choice)\n",
    "print_metrics(y_test, y_pred)"
   ]
  },
  {
   "cell_type": "markdown",
   "metadata": {},
   "source": [
    "Các chỉ số có tốt hơn mô hình cũ với r2 tăng khoảng $23\\%$"
   ]
  },
  {
   "cell_type": "code",
   "execution_count": 571,
   "metadata": {},
   "outputs": [
    {
     "data": {
      "image/png": "[encoded data removed]",
      "text/plain": [
       "<Figure size 1000x500 with 2 Axes>"
      ]
     },
     "metadata": {},
     "output_type": "display_data"
    }
   ],
   "source": [
    "resid = gm_res.resid_deviance\n",
    "\n",
    "fig, ax = plt.subplots(1, 2, figsize=(10,5))\n",
    "\n",
    "ax[0].scatter(np.log(gm_res.mu), resid)\n",
    "ax[0].set_title('Residual Dependence Plot')\n",
    "ax[0].set_ylabel('Deviance Residuals')\n",
    "ax[0].set_xlabel('Fitted values')\n",
    "\n",
    "ax[1].scatter(X_train['educ_center'], resid)\n",
    "ax[1].set_title('Residual Dependence Plot')\n",
    "ax[1].set_ylabel('Deviance Residuals')\n",
    "ax[1].set_xlabel('educ')\n",
    "plt.show()"
   ]
  },
  {
   "cell_type": "markdown",
   "metadata": {},
   "source": [
    "Phân bố của phần dư tương đối ngẫu nhiên qua trục 0.\n",
    "\n",
    "Ta tiếp tục kiểm tra phân phối chuẩn của phần dư bằng biểu đồ  `QQplot`"
   ]
  },
  {
   "cell_type": "code",
   "execution_count": 572,
   "metadata": {},
   "outputs": [
    {
     "data": {
      "image/png": "[encoded data removed]",
      "text/plain": [
       "<Figure size 640x480 with 1 Axes>"
      ]
     },
     "execution_count": 572,
     "metadata": {},
     "output_type": "execute_result"
    },
    {
     "data": {
      "image/png": "[encoded data removed]",
      "text/plain": [
       "<Figure size 640x480 with 1 Axes>"
      ]
     },
     "metadata": {},
     "output_type": "display_data"
    }
   ],
   "source": [
    "from statsmodels import graphics\n",
    "graphics.gofplots.qqplot(resid, line='r')"
   ]
  },
  {
   "cell_type": "markdown",
   "metadata": {},
   "source": [
    "Biểu đồ qqplot cho thấy phần dư chuẩn hóa khá khớp với phân phối chuẩn.\n",
    "\n",
    "Như vậy, mô hình là hợp lý với dữ liệu."
   ]
  },
  {
   "cell_type": "markdown",
   "metadata": {},
   "source": [
    "**Các điểm Infuence**\n",
    "Trong phần này, chúng ta thử đi tìm các điểm dữ liệu outlier và đánh giá xem chúng có ảnh hưởng như thế nào đến mô hình\n",
    "\n",
    "Các điểm influence là các điểm không tuân theo xu hướng chung của các điểm khác trong tập dữ liệu (outlier) và ảnh hưởng nghiêm trọng đến mô hình. Nó là các điểm có phần dư lớn và giá trị đòn bẩy (leverage) lớn.\n",
    "\n",
    "Vì các điểm này không thể hiện xu hướng chung của dữ liệu, nó gây nhiễu cho mô hình. Mục tiêu của ta làm tìm các điểm này và loại nó khỏi dữ liệu train, sau đó fit lại để có mô hình tốt hơn.\n",
    "\n",
    "Các điểm Influence được đánh giá qua giá trị Cook's distance. Ta lấy thử ra 10 điểm có Cook's distance lớn nhất."
   ]
  },
  {
   "cell_type": "code",
   "execution_count": 573,
   "metadata": {},
   "outputs": [
    {
     "data": {
      "text/html": [
       "<div>\n",
       "<style scoped>\n",
       "    .dataframe tbody tr th:only-of-type {\n",
       "        vertical-align: middle;\n",
       "    }\n",
       "\n",
       "    .dataframe tbody tr th {\n",
       "        vertical-align: top;\n",
       "    }\n",
       "\n",
       "    .dataframe thead th {\n",
       "        text-align: right;\n",
       "    }\n",
       "</style>\n",
       "<table border=\"1\" class=\"dataframe\">\n",
       "  <thead>\n",
       "    <tr style=\"text-align: right;\">\n",
       "      <th></th>\n",
       "      <th>cooks_d</th>\n",
       "      <th>standard_resid</th>\n",
       "      <th>hat_diag</th>\n",
       "      <th>dffits_internal</th>\n",
       "    </tr>\n",
       "  </thead>\n",
       "  <tbody>\n",
       "    <tr>\n",
       "      <th>862</th>\n",
       "      <td>4.035186</td>\n",
       "      <td>6.799746</td>\n",
       "      <td>0.439918</td>\n",
       "      <td>6.026332</td>\n",
       "    </tr>\n",
       "    <tr>\n",
       "      <th>742</th>\n",
       "      <td>2.945102</td>\n",
       "      <td>12.047691</td>\n",
       "      <td>0.154416</td>\n",
       "      <td>5.148390</td>\n",
       "    </tr>\n",
       "    <tr>\n",
       "      <th>1356</th>\n",
       "      <td>2.848822</td>\n",
       "      <td>12.694681</td>\n",
       "      <td>0.137260</td>\n",
       "      <td>5.063536</td>\n",
       "    </tr>\n",
       "    <tr>\n",
       "      <th>149</th>\n",
       "      <td>1.765642</td>\n",
       "      <td>7.247217</td>\n",
       "      <td>0.232277</td>\n",
       "      <td>3.986324</td>\n",
       "    </tr>\n",
       "    <tr>\n",
       "      <th>1352</th>\n",
       "      <td>1.648737</td>\n",
       "      <td>5.623158</td>\n",
       "      <td>0.319395</td>\n",
       "      <td>3.852095</td>\n",
       "    </tr>\n",
       "    <tr>\n",
       "      <th>1232</th>\n",
       "      <td>1.101235</td>\n",
       "      <td>10.531285</td>\n",
       "      <td>0.082033</td>\n",
       "      <td>3.148193</td>\n",
       "    </tr>\n",
       "    <tr>\n",
       "      <th>553</th>\n",
       "      <td>1.092000</td>\n",
       "      <td>8.180793</td>\n",
       "      <td>0.128046</td>\n",
       "      <td>3.134964</td>\n",
       "    </tr>\n",
       "    <tr>\n",
       "      <th>1357</th>\n",
       "      <td>0.467614</td>\n",
       "      <td>3.351582</td>\n",
       "      <td>0.272544</td>\n",
       "      <td>2.051470</td>\n",
       "    </tr>\n",
       "    <tr>\n",
       "      <th>1393</th>\n",
       "      <td>0.464466</td>\n",
       "      <td>4.638673</td>\n",
       "      <td>0.162669</td>\n",
       "      <td>2.044552</td>\n",
       "    </tr>\n",
       "    <tr>\n",
       "      <th>1313</th>\n",
       "      <td>0.455841</td>\n",
       "      <td>5.782726</td>\n",
       "      <td>0.109278</td>\n",
       "      <td>2.025481</td>\n",
       "    </tr>\n",
       "  </tbody>\n",
       "</table>\n",
       "</div>"
      ],
      "text/plain": [
       "       cooks_d  standard_resid  hat_diag  dffits_internal\n",
       "862   4.035186        6.799746  0.439918         6.026332\n",
       "742   2.945102       12.047691  0.154416         5.148390\n",
       "1356  2.848822       12.694681  0.137260         5.063536\n",
       "149   1.765642        7.247217  0.232277         3.986324\n",
       "1352  1.648737        5.623158  0.319395         3.852095\n",
       "1232  1.101235       10.531285  0.082033         3.148193\n",
       "553   1.092000        8.180793  0.128046         3.134964\n",
       "1357  0.467614        3.351582  0.272544         2.051470\n",
       "1393  0.464466        4.638673  0.162669         2.044552\n",
       "1313  0.455841        5.782726  0.109278         2.025481"
      ]
     },
     "execution_count": 573,
     "metadata": {},
     "output_type": "execute_result"
    }
   ],
   "source": [
    "infl = gm_res.get_influence()\n",
    "\n",
    "summ_df = infl.summary_frame()\n",
    "\n",
    "outlier_df = summ_df[[\"cooks_d\", \"standard_resid\", \"hat_diag\", \"dffits_internal\"]].sort_values(\"cooks_d\", ascending=False)[:10]\n",
    "outlier_df"
   ]
  },
  {
   "cell_type": "code",
   "execution_count": 574,
   "metadata": {},
   "outputs": [],
   "source": [
    "outlier = outlier_df.index.values.tolist()\n",
    "# X_train.loc[outlier]"
   ]
  },
  {
   "cell_type": "code",
   "execution_count": 575,
   "metadata": {},
   "outputs": [
    {
     "data": {
      "image/png": "[encoded data removed]",
      "text/plain": [
       "<Figure size 640x480 with 1 Axes>"
      ]
     },
     "metadata": {},
     "output_type": "display_data"
    }
   ],
   "source": [
    "fig = infl.plot_influence()\n",
    "fig.tight_layout(pad=1.0)"
   ]
  },
  {
   "cell_type": "markdown",
   "metadata": {},
   "source": [
    "Ta loại bỏ các quan sát có Cook's lớn nhất này và fit lại mô hình, quan sát lại các thông tin đánh giá về residual và phân phối của nó"
   ]
  },
  {
   "cell_type": "code",
   "execution_count": 576,
   "metadata": {},
   "outputs": [],
   "source": [
    "X_train_outlier = X_train.index.isin(outlier)\n",
    "X_train_dr = X_train[~X_train_outlier]\n",
    "y_train_dr = y_train[~X_train_outlier]"
   ]
  },
  {
   "cell_type": "code",
   "execution_count": 577,
   "metadata": {},
   "outputs": [
    {
     "data": {
      "text/plain": [
       "(1309, 28)"
      ]
     },
     "execution_count": 577,
     "metadata": {},
     "output_type": "execute_result"
    }
   ],
   "source": [
    "X_train_dr.shape"
   ]
  },
  {
   "cell_type": "code",
   "execution_count": 578,
   "metadata": {},
   "outputs": [
    {
     "data": {
      "text/html": [
       "<table class=\"simpletable\">\n",
       "<caption>Generalized Linear Model Regression Results</caption>\n",
       "<tr>\n",
       "  <th>Dep. Variable:</th>         <td>noise</td>      <th>  No. Observations:  </th>  <td>  1309</td> \n",
       "</tr>\n",
       "<tr>\n",
       "  <th>Model:</th>                  <td>GLM</td>       <th>  Df Residuals:      </th>  <td>  1300</td> \n",
       "</tr>\n",
       "<tr>\n",
       "  <th>Model Family:</th>          <td>Gamma</td>      <th>  Df Model:          </th>  <td>     8</td> \n",
       "</tr>\n",
       "<tr>\n",
       "  <th>Link Function:</th>          <td>Log</td>       <th>  Scale:             </th> <td>  2.2591</td>\n",
       "</tr>\n",
       "<tr>\n",
       "  <th>Method:</th>                <td>lbfgs</td>      <th>  Log-Likelihood:    </th> <td>  2546.2</td>\n",
       "</tr>\n",
       "<tr>\n",
       "  <th>Date:</th>            <td>Tue, 15 Aug 2023</td> <th>  Deviance:          </th> <td>  2608.1</td>\n",
       "</tr>\n",
       "<tr>\n",
       "  <th>Time:</th>                <td>11:50:42</td>     <th>  Pearson chi2:      </th> <td>2.94e+03</td>\n",
       "</tr>\n",
       "<tr>\n",
       "  <th>No. Iterations:</th>         <td>14</td>        <th>  Pseudo R-squ. (CS):</th>  <td>0.1568</td> \n",
       "</tr>\n",
       "<tr>\n",
       "  <th>Covariance Type:</th>     <td>nonrobust</td>    <th>                     </th>     <td> </td>   \n",
       "</tr>\n",
       "</table>\n",
       "<table class=\"simpletable\">\n",
       "<tr>\n",
       "              <td></td>                <th>coef</th>     <th>std err</th>      <th>z</th>      <th>P>|z|</th>  <th>[0.025</th>    <th>0.975]</th>  \n",
       "</tr>\n",
       "<tr>\n",
       "  <th>educ_center</th>              <td>    2.0816</td> <td>    0.291</td> <td>    7.145</td> <td> 0.000</td> <td>    1.511</td> <td>    2.653</td>\n",
       "</tr>\n",
       "<tr>\n",
       "  <th>wrkstat_Keeping_house</th>    <td>   -5.0616</td> <td>    0.232</td> <td>  -21.793</td> <td> 0.000</td> <td>   -5.517</td> <td>   -4.606</td>\n",
       "</tr>\n",
       "<tr>\n",
       "  <th>wrkstat_Other</th>            <td>   -5.4834</td> <td>    0.375</td> <td>  -14.620</td> <td> 0.000</td> <td>   -6.219</td> <td>   -4.748</td>\n",
       "</tr>\n",
       "<tr>\n",
       "  <th>wrkstat_Retired</th>          <td>   -4.8993</td> <td>    0.221</td> <td>  -22.165</td> <td> 0.000</td> <td>   -5.333</td> <td>   -4.466</td>\n",
       "</tr>\n",
       "<tr>\n",
       "  <th>wrkstat_School</th>           <td>   -4.8171</td> <td>    0.304</td> <td>  -15.866</td> <td> 0.000</td> <td>   -5.412</td> <td>   -4.222</td>\n",
       "</tr>\n",
       "<tr>\n",
       "  <th>wrkstat_Temp_not_working</th> <td>   -4.6850</td> <td>    0.356</td> <td>  -13.142</td> <td> 0.000</td> <td>   -5.384</td> <td>   -3.986</td>\n",
       "</tr>\n",
       "<tr>\n",
       "  <th>wrkstat_Unempl,_laid_off</th> <td>   -4.5441</td> <td>    0.279</td> <td>  -16.286</td> <td> 0.000</td> <td>   -5.091</td> <td>   -3.997</td>\n",
       "</tr>\n",
       "<tr>\n",
       "  <th>wrkstat_Working_fulltime</th> <td>   -3.7716</td> <td>    0.208</td> <td>  -18.139</td> <td> 0.000</td> <td>   -4.179</td> <td>   -3.364</td>\n",
       "</tr>\n",
       "<tr>\n",
       "  <th>wrkstat_Working_parttime</th> <td>   -4.5276</td> <td>    0.222</td> <td>  -20.370</td> <td> 0.000</td> <td>   -4.963</td> <td>   -4.092</td>\n",
       "</tr>\n",
       "</table>"
      ],
      "text/latex": [
       "\\begin{center}\n",
       "\\begin{tabular}{lclc}\n",
       "\\toprule\n",
       "\\textbf{Dep. Variable:}              &      noise       & \\textbf{  No. Observations:  } &     1309    \\\\\n",
       "\\textbf{Model:}                      &       GLM        & \\textbf{  Df Residuals:      } &     1300    \\\\\n",
       "\\textbf{Model Family:}               &      Gamma       & \\textbf{  Df Model:          } &        8    \\\\\n",
       "\\textbf{Link Function:}              &       Log        & \\textbf{  Scale:             } &    2.2591   \\\\\n",
       "\\textbf{Method:}                     &      lbfgs       & \\textbf{  Log-Likelihood:    } &    2546.2   \\\\\n",
       "\\textbf{Date:}                       & Tue, 15 Aug 2023 & \\textbf{  Deviance:          } &    2608.1   \\\\\n",
       "\\textbf{Time:}                       &     11:50:42     & \\textbf{  Pearson chi2:      } &  2.94e+03   \\\\\n",
       "\\textbf{No. Iterations:}             &        14        & \\textbf{  Pseudo R-squ. (CS):} &   0.1568    \\\\\n",
       "\\textbf{Covariance Type:}            &    nonrobust     & \\textbf{                     } &             \\\\\n",
       "\\bottomrule\n",
       "\\end{tabular}\n",
       "\\begin{tabular}{lcccccc}\n",
       "                                     & \\textbf{coef} & \\textbf{std err} & \\textbf{z} & \\textbf{P$> |$z$|$} & \\textbf{[0.025} & \\textbf{0.975]}  \\\\\n",
       "\\midrule\n",
       "\\textbf{educ\\_center}                &       2.0816  &        0.291     &     7.145  &         0.000        &        1.511    &        2.653     \\\\\n",
       "\\textbf{wrkstat\\_Keeping\\_house}     &      -5.0616  &        0.232     &   -21.793  &         0.000        &       -5.517    &       -4.606     \\\\\n",
       "\\textbf{wrkstat\\_Other}              &      -5.4834  &        0.375     &   -14.620  &         0.000        &       -6.219    &       -4.748     \\\\\n",
       "\\textbf{wrkstat\\_Retired}            &      -4.8993  &        0.221     &   -22.165  &         0.000        &       -5.333    &       -4.466     \\\\\n",
       "\\textbf{wrkstat\\_School}             &      -4.8171  &        0.304     &   -15.866  &         0.000        &       -5.412    &       -4.222     \\\\\n",
       "\\textbf{wrkstat\\_Temp\\_not\\_working} &      -4.6850  &        0.356     &   -13.142  &         0.000        &       -5.384    &       -3.986     \\\\\n",
       "\\textbf{wrkstat\\_Unempl,\\_laid\\_off} &      -4.5441  &        0.279     &   -16.286  &         0.000        &       -5.091    &       -3.997     \\\\\n",
       "\\textbf{wrkstat\\_Working\\_fulltime}  &      -3.7716  &        0.208     &   -18.139  &         0.000        &       -4.179    &       -3.364     \\\\\n",
       "\\textbf{wrkstat\\_Working\\_parttime}  &      -4.5276  &        0.222     &   -20.370  &         0.000        &       -4.963    &       -4.092     \\\\\n",
       "\\bottomrule\n",
       "\\end{tabular}\n",
       "%\\caption{Generalized Linear Model Regression Results}\n",
       "\\end{center}"
      ],
      "text/plain": [
       "<class 'statsmodels.iolib.summary.Summary'>\n",
       "\"\"\"\n",
       "                 Generalized Linear Model Regression Results                  \n",
       "==============================================================================\n",
       "Dep. Variable:                  noise   No. Observations:                 1309\n",
       "Model:                            GLM   Df Residuals:                     1300\n",
       "Model Family:                   Gamma   Df Model:                            8\n",
       "Link Function:                    Log   Scale:                          2.2591\n",
       "Method:                         lbfgs   Log-Likelihood:                 2546.2\n",
       "Date:                Tue, 15 Aug 2023   Deviance:                       2608.1\n",
       "Time:                        11:50:42   Pearson chi2:                 2.94e+03\n",
       "No. Iterations:                    14   Pseudo R-squ. (CS):             0.1568\n",
       "Covariance Type:            nonrobust                                         \n",
       "============================================================================================\n",
       "                               coef    std err          z      P>|z|      [0.025      0.975]\n",
       "--------------------------------------------------------------------------------------------\n",
       "educ_center                  2.0816      0.291      7.145      0.000       1.511       2.653\n",
       "wrkstat_Keeping_house       -5.0616      0.232    -21.793      0.000      -5.517      -4.606\n",
       "wrkstat_Other               -5.4834      0.375    -14.620      0.000      -6.219      -4.748\n",
       "wrkstat_Retired             -4.8993      0.221    -22.165      0.000      -5.333      -4.466\n",
       "wrkstat_School              -4.8171      0.304    -15.866      0.000      -5.412      -4.222\n",
       "wrkstat_Temp_not_working    -4.6850      0.356    -13.142      0.000      -5.384      -3.986\n",
       "wrkstat_Unempl,_laid_off    -4.5441      0.279    -16.286      0.000      -5.091      -3.997\n",
       "wrkstat_Working_fulltime    -3.7716      0.208    -18.139      0.000      -4.179      -3.364\n",
       "wrkstat_Working_parttime    -4.5276      0.222    -20.370      0.000      -4.963      -4.092\n",
       "============================================================================================\n",
       "\"\"\""
      ]
     },
     "execution_count": 578,
     "metadata": {},
     "output_type": "execute_result"
    }
   ],
   "source": [
    "choices = ['educ_center', 'wrkstat_Keeping_house', 'wrkstat_Other', 'wrkstat_Retired', 'wrkstat_School', 'wrkstat_Temp_not_working', 'wrkstat_Unempl,_laid_off', 'wrkstat_Working_fulltime', 'wrkstat_Working_parttime']\n",
    "X_train_dr_choice = X_train_dr[X_train_dr.columns.intersection(choices)]\n",
    "X_test_dr_choice = X_test[X_test.columns.intersection(choices)]\n",
    "\n",
    "link_function = stm.genmod.families.links.Log()\n",
    "gm_ol_model = stm.api.GLM(y_train_dr, X_train_dr_choice, family=stm.api.families.Gamma(link=link_function))\n",
    "gm_ol_res = gm_ol_model.fit(method='lbfgs')\n",
    "gm_ol_res.summary()"
   ]
  },
  {
   "cell_type": "code",
   "execution_count": 579,
   "metadata": {},
   "outputs": [
    {
     "name": "stdout",
     "output_type": "stream",
     "text": [
      "metrics, mse: 0.008855304985080597, rmse: 0.09410263006462995, r2: 0.10566913900015762\n"
     ]
    },
    {
     "data": {
      "text/plain": [
       "{'mse': 0.008855304985080597,\n",
       " 'rmse': 0.09410263006462995,\n",
       " 'r2': 0.10566913900015762}"
      ]
     },
     "execution_count": 579,
     "metadata": {},
     "output_type": "execute_result"
    }
   ],
   "source": [
    "y_pred = gm_ol_res.predict(X_test_choice)\n",
    "print_metrics(y_test, y_pred)"
   ]
  },
  {
   "cell_type": "markdown",
   "metadata": {},
   "source": [
    "Kết quả không khác biệt nhiều, tác động của outlier ở đây không đáng kể lắm"
   ]
  },
  {
   "cell_type": "markdown",
   "metadata": {},
   "source": [
    "### Mô hình GAM"
   ]
  },
  {
   "cell_type": "markdown",
   "metadata": {},
   "source": [
    "Mô hình hồi quy cộng tính tổng quát (GAM - Generalized Additive Models) là trường hợp tổng quát hơn của GLM. GAM cố gắng mô hình hóa cả tác động của các biến độc lập mà có quan hệ phi tuyến với biến phụ thuộc.\n",
    "\n",
    "Công thức tổng quát của GAM:\n",
    "\n",
    "$g(\\mu) =  \\sum_{k} \\alpha_k X_k + \\sum_{j} s_j(Z_j)$\n",
    "\n",
    "Trong đó:\n",
    "\n",
    "- $\\mu=E(Y)$ với $Y$ là biến phụ thuộc có phân phối họ mũ\n",
    "- $X_k$ là các biến độc lập có tác động tuyến tính đến biến phụ thuộc, các hệ số $\\alpha_k$ chưa biết.\n",
    "- $Z_j$ là các biến độc lập có tác động phi tuyến đến biến phụ thuộc, $s_j(.)$ là hàm trơn (spline)\n",
    "- $g(.)$ là link function\n",
    "\n",
    "GAM được ước lượng bằng phương pháp hợp lý cực đại có phạt, trong đó các hàm trơn được ước lượng qua các spline và nút.\n",
    "\n",
    "Đầu tiên ta thử fit mô hình với tất cả các biến mà GLM đã chọn ở trên. Các tham số của GAM cần chọn:\n",
    "- degree: bậc của hàm trong 1 đoạn spline\n",
    "- df (degree of freedom): số bậc tự do của spline\n",
    "- alpha: hệ số phạt"
   ]
  },
  {
   "cell_type": "markdown",
   "metadata": {},
   "source": [
    "### Mô hình GLM với penalty"
   ]
  },
  {
   "cell_type": "markdown",
   "metadata": {},
   "source": [
    "### Mô hình GLM với Bayes"
   ]
  },
  {
   "cell_type": "markdown",
   "metadata": {
    "collapsed": false
   },
   "source": [
    "Định nghĩa function huấn luyện và đánh giá mô hình"
   ]
  },
  {
   "cell_type": "code",
   "execution_count": 580,
   "metadata": {
    "ExecuteTime": {
     "end_time": "2023-08-14T14:26:06.547429875Z",
     "start_time": "2023-08-14T14:26:06.393283551Z"
    },
    "collapsed": false
   },
   "outputs": [],
   "source": [
    "def final_model(X_train, y_train, X_test, y_test):\n",
    "    X_train[\"email_time_center\"] = pd.Series(y_train)\n",
    "    X_test[\"email_time_center\"] = pd.Series(y_test)\n",
    "    model = bmb.Model(\n",
    "        \"\"\"email_time_center ~ educ_center + wrkstat_Working_fulltime\"\"\",\n",
    "        X_train, dropna=True, family=\"gamma\", link=\"log\")\n",
    "    print(model)\n",
    "\n",
    "    _, ax = plt.subplots(1, 1, sharex=True, sharey=True, figsize=(6, 6))\n",
    "    ax.set_xlim(xmin=0, xmax=1)\n",
    "    ax.set_ylim(ymin=0, ymax=1)\n",
    "    \n",
    "    results = model.fit(draws=1000, chains=2, random_seed=0)\n",
    "    print(az.summary(results))\n",
    "\n",
    "    # Diagnostics\n",
    "    model.predict(results, data=X_test, kind=\"pps\")\n",
    "    az.plot_ppc(results, ax=ax)\n",
    "    \n",
    "    # predict\n",
    "    model.predict(results, data=X_test, kind=\"mean\")\n",
    "    print(results.posterior)\n",
    "    y_predict = np.array(results.posterior.email_time_center_mean[0, 0, :])\n",
    "    print(y_predict.shape)\n",
    "    \n",
    "    mse = mean_squared_error(y_test, y_predict)\n",
    "    rmse = mean_squared_error(y_test, y_predict, squared=False)\n",
    "    r2 = r2_score(y_test, y_predict)\n",
    "    print(f\"Test MSE: {mse}\")\n",
    "    print(f\"Test RMSE: {rmse}\")\n",
    "    print(f'Test R2 score: {r2}')"
   ]
  },
  {
   "cell_type": "code",
   "execution_count": 581,
   "metadata": {
    "ExecuteTime": {
     "end_time": "2023-08-14T14:26:14.602506328Z",
     "start_time": "2023-08-14T14:26:06.393462863Z"
    },
    "collapsed": false
   },
   "outputs": [
    {
     "name": "stdout",
     "output_type": "stream",
     "text": [
      "Index(['educ_center',\n",
      "       'harass5_Does_not_apply_(i_do_not_have_a_job/superior/co-worker)',\n",
      "       'harass5_No', 'harass5_Yes', 'polviews_Conservative',\n",
      "       'polviews_Extremely_liberal', 'polviews_Extrmly_conservative',\n",
      "       'polviews_Liberal', 'polviews_Moderate',\n",
      "       'polviews_Slghtly_conservative', 'polviews_Slightly_liberal',\n",
      "       'advfront_Agree', 'advfront_Disagree', 'advfront_Dont_know',\n",
      "       'advfront_Strongly_agree', 'advfront_Strongly_disagree', 'snapchat_No',\n",
      "       'snapchat_Yes', 'instagrm_No', 'instagrm_Yes', 'wrkstat_Keeping_house',\n",
      "       'wrkstat_Other', 'wrkstat_Retired', 'wrkstat_School',\n",
      "       'wrkstat_Temp_not_working', 'wrkstat_Unempl,_laid_off',\n",
      "       'wrkstat_Working_fulltime', 'wrkstat_Working_parttime'],\n",
      "      dtype='object')\n",
      "       Formula: email_time_center ~ educ_center + wrkstat_Working_fulltime\n",
      "        Family: gamma\n",
      "          Link: mu = log\n",
      "  Observations: 1319\n",
      "        Priors: \n",
      "    target = mu\n",
      "        Common-level effects\n",
      "            Intercept ~ Normal(mu: 0.0, sigma: 11.3625)\n",
      "            educ_center ~ Normal(mu: 0.0, sigma: 16.1277)\n",
      "            wrkstat_Working_fulltime ~ Normal(mu: 0.0, sigma: 5.0001)\n",
      "        \n",
      "        Auxiliary parameters\n",
      "            alpha ~ HalfCauchy(beta: 1.0)\n"
     ]
    },
    {
     "name": "stderr",
     "output_type": "stream",
     "text": [
      "Auto-assigning NUTS sampler...\n",
      "Initializing NUTS using jitter+adapt_diag...\n",
      "Multiprocess sampling (2 chains in 4 jobs)\n",
      "NUTS: [email_time_center_alpha, Intercept, educ_center, wrkstat_Working_fulltime]\n"
     ]
    },
    {
     "data": {
      "text/html": [
       "\n",
       "<style>\n",
       "    /* Turns off some styling */\n",
       "    progress {\n",
       "        /* gets rid of default border in Firefox and Opera. */\n",
       "        border: none;\n",
       "        /* Needs to be in here for Safari polyfill so background images work as expected. */\n",
       "        background-size: auto;\n",
       "    }\n",
       "    progress:not([value]), progress:not([value])::-webkit-progress-bar {\n",
       "        background: repeating-linear-gradient(45deg, #7e7e7e, #7e7e7e 10px, #5c5c5c 10px, #5c5c5c 20px);\n",
       "    }\n",
       "    .progress-bar-interrupted, .progress-bar-interrupted::-webkit-progress-bar {\n",
       "        background: #F44336;\n",
       "    }\n",
       "</style>\n"
      ],
      "text/plain": [
       "<IPython.core.display.HTML object>"
      ]
     },
     "metadata": {},
     "output_type": "display_data"
    },
    {
     "data": {
      "text/html": [
       "\n",
       "    <div>\n",
       "      <progress value='4000' class='' max='4000' style='width:300px; height:20px; vertical-align: middle;'></progress>\n",
       "      100.00% [4000/4000 00:01&lt;00:00 Sampling 2 chains, 0 divergences]\n",
       "    </div>\n",
       "    "
      ],
      "text/plain": [
       "<IPython.core.display.HTML object>"
      ]
     },
     "metadata": {},
     "output_type": "display_data"
    },
    {
     "name": "stderr",
     "output_type": "stream",
     "text": [
      "Sampling 2 chains for 1_000 tune and 1_000 draw iterations (2_000 + 2_000 draws total) took 2 seconds.\n",
      "We recommend running at least 4 chains for robust computation of convergence diagnostics\n"
     ]
    },
    {
     "name": "stdout",
     "output_type": "stream",
     "text": [
      "                           mean     sd  hdi_3%  hdi_97%  mcse_mean  mcse_sd   \n",
      "Intercept                -4.184  0.160  -4.465   -3.879      0.003    0.002  \\\n",
      "educ_center               1.534  0.237   1.118    2.020      0.004    0.003   \n",
      "wrkstat_Working_fulltime  0.792  0.076   0.652    0.938      0.001    0.001   \n",
      "email_time_center_alpha   0.567  0.019   0.532    0.602      0.000    0.000   \n",
      "\n",
      "                          ess_bulk  ess_tail  r_hat  \n",
      "Intercept                   3910.0    1791.0    1.0  \n",
      "educ_center                 3551.0    1868.0    1.0  \n",
      "wrkstat_Working_fulltime    3439.0    1644.0    1.0  \n",
      "email_time_center_alpha     3181.0    1494.0    1.0  \n",
      "<xarray.Dataset>\n",
      "Dimensions:                   (chain: 2, draw: 1000, email_time_center_obs: 330)\n",
      "Coordinates:\n",
      "  * chain                     (chain) int64 0 1\n",
      "  * draw                      (draw) int64 0 1 2 3 4 5 ... 995 996 997 998 999\n",
      "  * email_time_center_obs     (email_time_center_obs) int64 0 1 2 ... 328 329\n",
      "Data variables:\n",
      "    Intercept                 (chain, draw) float64 -4.085 -4.049 ... -4.09\n",
      "    educ_center               (chain, draw) float64 1.435 1.346 ... 1.616 1.255\n",
      "    wrkstat_Working_fulltime  (chain, draw) float64 0.7468 0.8603 ... 0.9201\n",
      "    email_time_center_alpha   (chain, draw) float64 0.5801 0.5599 ... 0.6085\n",
      "    email_time_center_mean    (chain, draw, email_time_center_obs) float64 0....\n",
      "Attributes:\n",
      "    created_at:                  2023-08-15T04:50:46.024837\n",
      "    arviz_version:               0.15.1\n",
      "    inference_library:           pymc\n",
      "    inference_library_version:   5.6.1\n",
      "    sampling_time:               1.742635726928711\n",
      "    tuning_steps:                1000\n",
      "    modeling_interface:          bambi\n",
      "    modeling_interface_version:  0.12.0\n",
      "(330,)\n",
      "Test MSE: 0.008768820576340097\n",
      "Test RMSE: 0.0936419808437439\n",
      "Test R2 score: 0.11440352769284112\n"
     ]
    },
    {
     "data": {
      "image/png": "[encoded data removed]",
      "text/plain": [
       "<Figure size 600x600 with 1 Axes>"
      ]
     },
     "metadata": {},
     "output_type": "display_data"
    }
   ],
   "source": [
    "noise = 0.001\n",
    "X_bglm = pd.read_csv(\"data/preprocessing/X.csv\")\n",
    "y_bglm = pd.read_csv(\"data/preprocessing/y.csv\")[\"email_time_center\"].apply(lambda x: x+noise)\n",
    "f = lambda x: re.sub(' ','_', x, flags = re.IGNORECASE)\n",
    "X_bglm.rename(columns = f, inplace = True)\n",
    "print(X.columns)\n",
    "X_train_bglm, X_test_bglm, y_train_bglm, y_test_bglm = train_test_split(X_bglm, y_bglm, test_size=0.2, random_state=0)\n",
    "final_model(X_train_bglm, y_train_bglm, X_test_bglm, y_test_bglm)"
   ]
  },
  {
   "cell_type": "markdown",
   "metadata": {},
   "source": [
    "### Mô hình Random forest"
   ]
  },
  {
   "cell_type": "markdown",
   "metadata": {},
   "source": [
    "Ta thực hiện các công việc sau:\n",
    "- Đọc các tập dữ liệu, sử dụng thư viện Pandas\n",
    "- Chia tập dữ liệu ban đầu thành các tập train, validation và test.\n",
    "- Thực hiện việc xây dựng mô hình RandomForest trên tập train và tính toán feature importance trên tập validation để tìm ra các thuộc tính có ảnh hưởng đến mô hình.\n",
    "- Vẽ biểu đồ từ giá trị feature importance."
   ]
  },
  {
   "cell_type": "code",
   "execution_count": 582,
   "metadata": {},
   "outputs": [
    {
     "name": "stdout",
     "output_type": "stream",
     "text": [
      "educ_center                                                        0\n",
      "harass5_Does_not_apply_(i_do_not_have_a_job/superior/co-worker)    0\n",
      "harass5_No                                                         0\n",
      "harass5_Yes                                                        0\n",
      "polviews_Conservative                                              0\n",
      "polviews_Extremely_liberal                                         0\n",
      "polviews_Extrmly_conservative                                      0\n",
      "polviews_Liberal                                                   0\n",
      "polviews_Moderate                                                  0\n",
      "polviews_Slghtly_conservative                                      0\n",
      "polviews_Slightly_liberal                                          0\n",
      "advfront_Agree                                                     0\n",
      "advfront_Disagree                                                  0\n",
      "advfront_Dont_know                                                 0\n",
      "advfront_Strongly_agree                                            0\n",
      "advfront_Strongly_disagree                                         0\n",
      "snapchat_No                                                        0\n",
      "snapchat_Yes                                                       0\n",
      "instagrm_No                                                        0\n",
      "instagrm_Yes                                                       0\n",
      "wrkstat_Keeping_house                                              0\n",
      "wrkstat_Other                                                      0\n",
      "wrkstat_Retired                                                    0\n",
      "wrkstat_School                                                     0\n",
      "wrkstat_Temp_not_working                                           0\n",
      "wrkstat_Unempl,_laid_off                                           0\n",
      "wrkstat_Working_fulltime                                           0\n",
      "wrkstat_Working_parttime                                           0\n",
      "dtype: int64\n"
     ]
    },
    {
     "name": "stderr",
     "output_type": "stream",
     "text": [
      "/tmp/ipykernel_84079/157651705.py:28: UserWarning: Tight layout not applied. The bottom and top margins cannot be made large enough to accommodate all axes decorations.\n",
      "  fig.tight_layout()\n"
     ]
    },
    {
     "data": {
      "image/png": "[encoded data removed]",
      "text/plain": [
       "<Figure size 640x480 with 1 Axes>"
      ]
     },
     "metadata": {},
     "output_type": "display_data"
    }
   ],
   "source": [
    "from sklearn.ensemble import RandomForestRegressor, RandomForestClassifier\n",
    "from sklearn.inspection import permutation_importance\n",
    "\n",
    "X = pd.read_csv(\"data/preprocessing/X.csv\")\n",
    "y = pd.read_csv(\"data/preprocessing/y.csv\")[\"email_time_center\"]\n",
    "X_train, X_test, y_train, y_test = train_test_split(X, y, random_state=0)\n",
    "X_train_2, X_val, y_train_2, y_val = train_test_split(X_train, y_train, test_size=0.2, random_state=0)\n",
    "print(X_train.isna().sum())\n",
    "\n",
    "result_df = pd.DataFrame()\n",
    "\n",
    "feature_names = list(X_train.columns)\n",
    "forest = RandomForestRegressor(random_state=0)\n",
    "forest.fit(X_train_2, y_train_2)\n",
    "\n",
    "result = permutation_importance(\n",
    "    forest, X_val, y_val, n_repeats=10, random_state=0, n_jobs=2,\n",
    "    scoring=make_scorer(mean_squared_error, greater_is_better=False)\n",
    ")\n",
    "\n",
    "forest_importances = pd.Series(result.importances_mean, index=feature_names)\n",
    "\n",
    "# Vẽ biểu đồ với cột tìm được.\n",
    "fig, ax = plt.subplots()\n",
    "forest_importances.plot.bar(ax=ax)\n",
    "ax.set_title(\"Feature importances using permutation on full model\")\n",
    "ax.set_ylabel(\"Mean accuracy decrease\")\n",
    "fig.tight_layout()\n",
    "plt.show()"
   ]
  },
  {
   "cell_type": "markdown",
   "metadata": {},
   "source": [
    "Qua đây, chúng ta tìm được các feature dưới đây có ảnh hưởng đến mô hình.\n",
    "\n",
    "- wrkstat_Working_fulltime\n",
    "- educ_center\n",
    "- harass5_Yes\n",
    "- polviews_Slghtly_conservative\n",
    "- advfront_Agree\n",
    "\n",
    "Tiếp theo, chúng ta xây dựng lại mô hình RandomForest, chỉ sử dụng các feature này và đi tìm tham số tối ưu cho mô hình. Các tham số cần tối ưu đó là:\n",
    "\n",
    "- n_estimators: Số cây được xây dựng để tạo ra mô hình RandomForest.\n",
    "- max_depth: Chiều cao tối đa của các cây trong mô hình."
   ]
  },
  {
   "cell_type": "code",
   "execution_count": 583,
   "metadata": {},
   "outputs": [
    {
     "name": "stdout",
     "output_type": "stream",
     "text": [
      "Feature: ['wrkstat_Working_fulltime']\n",
      "Best params: {'max_depth': 2, 'n_estimators': 512}\n",
      "Best score: -0.01275428876173823\n",
      "Feature: ['wrkstat_Working_fulltime', 'educ_center']\n",
      "Best params: {'max_depth': 2, 'n_estimators': 128}\n",
      "Best score: -0.012419484421017094\n",
      "Feature: ['wrkstat_Working_fulltime', 'educ_center', 'harass5_Yes']\n",
      "Best params: {'max_depth': 2, 'n_estimators': 512}\n",
      "Best score: -0.012489327269838405\n",
      "Feature: ['wrkstat_Working_fulltime', 'educ_center', 'harass5_Yes', 'polviews_Slghtly_conservative']\n",
      "Best params: {'max_depth': 2, 'n_estimators': 128}\n",
      "Best score: -0.012472512060321411\n"
     ]
    }
   ],
   "source": [
    "# Thực hiện tìm tham số phù hợp.\n",
    "# Thử xây dựng mô hình RandomForest với 5 feature có ảnh hưởng đến mô hình.\n",
    "def tune_hyperparams(X_train, y_train, seed: int):\n",
    "    distributions = dict(\n",
    "        n_estimators=[128, 256, 512],\n",
    "        max_depth=[2, 3, 4, 5],\n",
    "    )\n",
    "    forest = RandomForestRegressor(random_state=seed)\n",
    "    clf = GridSearchCV(forest, distributions, \n",
    "                       scoring=make_scorer(mean_squared_error, greater_is_better=False))\n",
    "    search = clf.fit(X_train, y_train)\n",
    "    print(f\"Best params: {search.best_params_}\")\n",
    "    print(f\"Best score: {search.best_score_}\")\n",
    "    return search\n",
    "\n",
    "top_feature_choice = [\n",
    "    \"wrkstat_Working_fulltime\",\n",
    "    \"educ_center\",\n",
    "    \"harass5_Yes\",\n",
    "    \"polviews_Slghtly_conservative\",\n",
    "    \"advfront_Agree\"\n",
    "]\n",
    "\n",
    "\n",
    "for i in range(1, len(top_feature_choice)):\n",
    "    X_top_feature = X[top_feature_choice[:i]]\n",
    "    X_train, X_test, y_train, y_test = train_test_split(X_top_feature, y, test_size=0.2, random_state=0)\n",
    "    print(f\"Feature: {top_feature_choice[:i]}\")\n",
    "    tune_hyperparams(X_train, y_train, i)\n",
    "\n",
    "# Nhận xét: Chọn 2 feature đầu là hợp lý nhất."
   ]
  },
  {
   "cell_type": "markdown",
   "metadata": {},
   "source": [
    "Với kết quả thu được ở trên, chúng ta thấy rằng mô hình tốt nhất sẽ bao gồm các thuộc tính: \"wrkstat_Working fulltime\" và \"educ_center\", với các tham số tương ứng là: max_depth = 2, n_estimators = 512\n",
    "\n",
    "Cuối cùng, chúng ta xây dựng mô hình dựa trên các feature tốt nhất và các tham số tốt nhất tương ứng, sau đó thực hiện việc tính MSE và RMSE trên tập test."
   ]
  },
  {
   "cell_type": "code",
   "execution_count": 584,
   "metadata": {},
   "outputs": [
    {
     "name": "stdout",
     "output_type": "stream",
     "text": [
      "Feature: ['wrkstat_Working_fulltime', 'educ_center']\n",
      "Test MSE: 0.008696734590677574\n",
      "Test RMSE: 0.09325628445674626\n",
      "Test R2 score: 0.12168376498926448\n"
     ]
    }
   ],
   "source": [
    "y_pred = None\n",
    "\n",
    "# Build mô hình cuối cùng, test và in kết quả.\n",
    "def final_model(X_train, y_train, X_test, y_test, seed: int):\n",
    "    global y_pred\n",
    "    forest = RandomForestRegressor(random_state=seed, max_depth=2, n_estimators=512)\n",
    "    forest.fit(X_train, y_train)\n",
    "    y_pred = forest.predict(X_test)\n",
    "    mse = mean_squared_error(y_test, y_pred)\n",
    "    rmse = mean_squared_error(y_test, y_pred, squared=False)\n",
    "    r2 = r2_score(y_test, y_pred)\n",
    "    print(f\"Test MSE: {mse}\")\n",
    "    print(f\"Test RMSE: {rmse}\")\n",
    "    print(f'Test R2 score: {r2}')\n",
    "\n",
    "feature_choice = [\n",
    "    'wrkstat_Working_fulltime', 'educ_center'\n",
    "]\n",
    "X = X[feature_choice]\n",
    "X_train, X_test, y_train, y_test = train_test_split(X, y, test_size=0.2, random_state=0)\n",
    "print(f\"Feature: {feature_choice}\")\n",
    "final_model(X_train, y_train, X_test, y_test, 0)"
   ]
  },
  {
   "cell_type": "markdown",
   "metadata": {},
   "source": [
    "### Mô hình Deep Learning \n",
    "Phần này sử dụng một mạng neural network đơn giản để fit mô hình. "
   ]
  },
  {
   "cell_type": "code",
   "execution_count": 585,
   "metadata": {
    "ExecuteTime": {
     "end_time": "2023-08-14T14:26:14.606011656Z",
     "start_time": "2023-08-14T14:26:14.601720616Z"
    },
    "collapsed": false
   },
   "outputs": [
    {
     "data": {
      "text/plain": [
       "True"
      ]
     },
     "execution_count": 585,
     "metadata": {},
     "output_type": "execute_result"
    }
   ],
   "source": [
    "torch.cuda.is_available()"
   ]
  },
  {
   "cell_type": "code",
   "execution_count": 586,
   "metadata": {},
   "outputs": [],
   "source": [
    "X = pd.read_csv(\"data/preprocessing/X.csv\")\n",
    "y = pd.read_csv(\"data/preprocessing/y.csv\")\n",
    "X_train, X_test, y_train, y_test = train_test_split(X, y, test_size=0.2, random_state=0)"
   ]
  },
  {
   "cell_type": "code",
   "execution_count": 587,
   "metadata": {},
   "outputs": [
    {
     "data": {
      "text/plain": [
       "(1319, 28)"
      ]
     },
     "execution_count": 587,
     "metadata": {},
     "output_type": "execute_result"
    }
   ],
   "source": [
    "X_train.shape"
   ]
  },
  {
   "cell_type": "markdown",
   "metadata": {
    "collapsed": false
   },
   "source": [
    "Định nghĩa mô hình và thuật toán tối ưu. \n",
    "Mạng gồm 2 hidden layers.\n",
    "Loss function sử dụng là hàm Mean Square Error.\n",
    "Thuật toán tối ưu là thuật toán Adam với learning rate 0.0001"
   ]
  },
  {
   "cell_type": "code",
   "execution_count": 588,
   "metadata": {
    "ExecuteTime": {
     "end_time": "2023-08-14T14:26:14.659218156Z",
     "start_time": "2023-08-14T14:26:14.604430344Z"
    },
    "collapsed": false
   },
   "outputs": [],
   "source": [
    "model = nn.Sequential(\n",
    "  nn.Linear(28, 64),\n",
    "  nn.ReLU(),\n",
    "  nn.Linear(64, 32),\n",
    "  nn.Tanh(),\n",
    "  nn.Linear(32, 1)\n",
    ")\n",
    "\n",
    "loss_fn = nn.MSELoss()\n",
    "optimizer = optim.Adam(model.parameters(), lr=0.0001)"
   ]
  },
  {
   "cell_type": "markdown",
   "metadata": {
    "collapsed": false
   },
   "source": [
    "Đưa dữ liệu vào vRAM của GPU"
   ]
  },
  {
   "cell_type": "code",
   "execution_count": 589,
   "metadata": {
    "ExecuteTime": {
     "end_time": "2023-08-14T14:26:14.667910090Z",
     "start_time": "2023-08-14T14:26:14.634088658Z"
    },
    "collapsed": false
   },
   "outputs": [],
   "source": [
    "X_gpu_train = torch.tensor(X_train.to_numpy(), dtype=torch.float32)\n",
    "y_gpu_train = torch.tensor(y_train.to_numpy(), dtype=torch.float32).reshape(-1, 1)\n",
    "X_gpu_test = torch.tensor(X_test.to_numpy(), dtype=torch.float32)\n",
    "y_gpu_test = torch.tensor(y_test.to_numpy(), dtype=torch.float32).reshape(-1, 1)"
   ]
  },
  {
   "cell_type": "markdown",
   "metadata": {
    "collapsed": false
   },
   "source": [
    "Các tham số cơ bản"
   ]
  },
  {
   "cell_type": "code",
   "execution_count": 590,
   "metadata": {
    "ExecuteTime": {
     "end_time": "2023-08-14T14:26:14.669366447Z",
     "start_time": "2023-08-14T14:26:14.650591119Z"
    },
    "collapsed": false
   },
   "outputs": [],
   "source": [
    "# training parameters\n",
    "n_epochs = 100   # number of epochs to run\n",
    "batch_size = 10  # size of each batch\n",
    "batch_start = torch.arange(0, len(X_train), batch_size)\n",
    "\n",
    "# Hold the best model\n",
    "best_mse = np.inf   # init to infinity\n",
    "best_weights = None\n",
    "history = []\n",
    "early_stopping_epoches = 10"
   ]
  },
  {
   "cell_type": "markdown",
   "metadata": {
    "collapsed": false
   },
   "source": [
    "Huấn luyện mô hình"
   ]
  },
  {
   "cell_type": "code",
   "execution_count": 591,
   "metadata": {
    "ExecuteTime": {
     "end_time": "2023-08-14T14:26:15.786034668Z",
     "start_time": "2023-08-14T14:26:14.660317425Z"
    },
    "collapsed": false
   },
   "outputs": [
    {
     "name": "stdout",
     "output_type": "stream",
     "text": [
      "process epoch: 0\n",
      "complete epoch 0 with mse 0.010104459710419178\n",
      "process epoch: 1\n",
      "complete epoch 1 with mse 0.00977515708655119\n",
      "process epoch: 2\n",
      "complete epoch 2 with mse 0.009659906849265099\n",
      "process epoch: 3\n",
      "complete epoch 3 with mse 0.009592954069375992\n",
      "process epoch: 4\n",
      "complete epoch 4 with mse 0.009544343687593937\n",
      "process epoch: 5\n",
      "complete epoch 5 with mse 0.00950789637863636\n",
      "process epoch: 6\n",
      "complete epoch 6 with mse 0.009480822831392288\n",
      "process epoch: 7\n",
      "complete epoch 7 with mse 0.009459072723984718\n",
      "process epoch: 8\n",
      "complete epoch 8 with mse 0.00944084208458662\n",
      "process epoch: 9\n",
      "complete epoch 9 with mse 0.009424598887562752\n",
      "process epoch: 10\n",
      "complete epoch 10 with mse 0.009413220919668674\n",
      "process epoch: 11\n",
      "complete epoch 11 with mse 0.009400839917361736\n",
      "process epoch: 12\n",
      "complete epoch 12 with mse 0.00939226895570755\n",
      "process epoch: 13\n",
      "complete epoch 13 with mse 0.009387008845806122\n",
      "process epoch: 14\n"
     ]
    },
    {
     "name": "stdout",
     "output_type": "stream",
     "text": [
      "complete epoch 14 with mse 0.009379570372402668\n",
      "process epoch: 15\n",
      "complete epoch 15 with mse 0.009376920759677887\n",
      "process epoch: 16\n",
      "complete epoch 16 with mse 0.009376402013003826\n",
      "process epoch: 17\n",
      "complete epoch 17 with mse 0.009375561028718948\n",
      "process epoch: 18\n",
      "complete epoch 18 with mse 0.009377719834446907\n",
      "process epoch: 19\n",
      "complete epoch 19 with mse 0.009381615556776524\n",
      "process epoch: 20\n",
      "complete epoch 20 with mse 0.009382104501128197\n",
      "process epoch: 21\n",
      "complete epoch 21 with mse 0.009387146681547165\n",
      "process epoch: 22\n",
      "complete epoch 22 with mse 0.00939152855426073\n",
      "process epoch: 23\n",
      "complete epoch 23 with mse 0.009396055713295937\n",
      "process epoch: 24\n",
      "complete epoch 24 with mse 0.009401404298841953\n",
      "process epoch: 25\n",
      "complete epoch 25 with mse 0.009409423917531967\n",
      "process epoch: 26\n",
      "complete epoch 26 with mse 0.009416298940777779\n",
      "process epoch: 27\n",
      "complete epoch 27 with mse 0.009421231225132942\n",
      "process epoch: 28\n",
      "complete epoch 28 with mse 0.009431798942387104\n",
      "early stopping\n"
     ]
    }
   ],
   "source": [
    "# training loop\n",
    "early = 0\n",
    "for epoch in range(n_epochs):\n",
    "    print(f'process epoch: {epoch}')\n",
    "    model.train()\n",
    "    with tqdm.tqdm(batch_start, unit=\"batch\", mininterval=0, disable=True) as bar:\n",
    "        bar.set_description(f\"Epoch {epoch}\")\n",
    "        for start in bar:\n",
    "            # take a batch\n",
    "            X_batch = X_gpu_train[start:start+batch_size]\n",
    "            y_batch = y_gpu_train[start:start+batch_size]\n",
    "            # forward pass\n",
    "            y_pred = model(X_batch)\n",
    "            loss = loss_fn(y_pred, y_batch)\n",
    "            # backward pass\n",
    "            optimizer.zero_grad()\n",
    "            loss.backward()\n",
    "            # update weights\n",
    "            optimizer.step()\n",
    "            # print progress\n",
    "            bar.set_postfix(mse=float(loss))\n",
    "    # evaluate accuracy at end of each epoch\n",
    "    model.eval()\n",
    "    y_pred = model(X_gpu_test)\n",
    "    mse = loss_fn(y_pred, y_gpu_test)\n",
    "    mse = float(mse)\n",
    "    history.append(mse)\n",
    "    \n",
    "    print(f'complete epoch {epoch} with mse {mse}')\n",
    "    if mse > best_mse:\n",
    "        early += 1\n",
    "        if early > early_stopping_epoches:\n",
    "            print(f'early stopping')\n",
    "            break\n",
    "    \n",
    "    if mse < best_mse:\n",
    "        best_mse = mse\n",
    "        best_weights = copy.deepcopy(model.state_dict())"
   ]
  },
  {
   "cell_type": "markdown",
   "metadata": {
    "collapsed": false
   },
   "source": [
    "Vẽ đồ thị loss function theo epoch"
   ]
  },
  {
   "cell_type": "code",
   "execution_count": 592,
   "metadata": {
    "ExecuteTime": {
     "end_time": "2023-08-14T14:26:15.860013367Z",
     "start_time": "2023-08-14T14:26:15.784782536Z"
    },
    "collapsed": false
   },
   "outputs": [
    {
     "data": {
      "image/png": "[encoded data removed]",
      "text/plain": [
       "<Figure size 640x480 with 1 Axes>"
      ]
     },
     "metadata": {},
     "output_type": "display_data"
    }
   ],
   "source": [
    "# restore model and return best accuracy\n",
    "model.load_state_dict(best_weights)\n",
    "plt.xlabel('epoch')\n",
    "plt.ylabel('loss')\n",
    "plt.title('loss by epoch')\n",
    "plt.plot(history)\n",
    "plt.show()"
   ]
  },
  {
   "cell_type": "markdown",
   "metadata": {
    "collapsed": false
   },
   "source": [
    "In ra các độ đo"
   ]
  },
  {
   "cell_type": "code",
   "execution_count": 593,
   "metadata": {
    "ExecuteTime": {
     "end_time": "2023-08-14T14:26:15.867431121Z",
     "start_time": "2023-08-14T14:26:15.860152339Z"
    },
    "collapsed": false
   },
   "outputs": [
    {
     "name": "stdout",
     "output_type": "stream",
     "text": [
      "MSE: 0.009375561028718948\n",
      "RMSE: 0.09682747721672058\n",
      "R2: 0.053126564656964415\n"
     ]
    }
   ],
   "source": [
    "y_pred = model(X_gpu_test)\n",
    "y_pred_df = pd.DataFrame(y_pred.detach().numpy())\n",
    "y_test_df = pd.DataFrame(y_gpu_test.detach().numpy())\n",
    "\n",
    "mse = mean_squared_error(y_test_df, y_pred_df)\n",
    "r2 = r2_score(y_test_df, y_pred_df)\n",
    "\n",
    "print(f'MSE: {mse}')\n",
    "print(f'RMSE: {np.sqrt(mse)}')\n",
    "print(f'R2: {r2}')"
   ]
  },
  {
   "cell_type": "code",
   "execution_count": 594,
   "metadata": {},
   "outputs": [
    {
     "data": {
      "text/plain": [
       "17967658749121671186"
      ]
     },
     "execution_count": 594,
     "metadata": {},
     "output_type": "execute_result"
    }
   ],
   "source": [
    "torch.seed()"
   ]
  }
 ],
 "metadata": {
  "kernelspec": {
   "display_name": "Python 3 (ipykernel)",
   "language": "python",
   "name": "python3"
  },
  "language_info": {
   "codemirror_mode": {
    "name": "ipython",
    "version": 3
   },
   "file_extension": ".py",
   "mimetype": "text/x-python",
   "name": "python",
   "nbconvert_exporter": "python",
   "pygments_lexer": "ipython3",
   "version": "3.10.8"
  },
  "orig_nbformat": 4
 },
 "nbformat": 4,
 "nbformat_minor": 2
}
